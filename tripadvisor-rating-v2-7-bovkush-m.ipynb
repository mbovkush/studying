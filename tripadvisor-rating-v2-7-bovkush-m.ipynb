{
 "cells": [
  {
   "cell_type": "markdown",
   "metadata": {},
   "source": [
    "# Predict TripAdvisor Rating\n",
    "## В этом соревновании нам предстоит предсказать рейтинг ресторана в TripAdvisor\n"
   ]
  },
  {
   "cell_type": "markdown",
   "metadata": {},
   "source": [
    "Входные данные представляют собой таблицу, состоящую из 10 столбцов:\n",
    "* City: Город \n",
    "* Cuisine Style: Кухня\n",
    "* Ranking: Ранг ресторана относительно других ресторанов в этом городе\n",
    "* Price Range: Цены в ресторане в 3 категориях\n",
    "* Number of Reviews: Количество отзывов\n",
    "* Reviews: 2 последних отзыва и даты этих отзывов\n",
    "* URL_TA: страница ресторана на 'www.tripadvisor.com' \n",
    "* ID_TA: ID ресторана в TripAdvisor\n",
    "* Rating: Рейтинг ресторана"
   ]
  },
  {
   "cell_type": "markdown",
   "metadata": {},
   "source": [
    "# import"
   ]
  },
  {
   "cell_type": "code",
   "execution_count": 1,
   "metadata": {
    "_cell_guid": "b1076dfc-b9ad-4769-8c92-a6c4dae69d19",
    "_uuid": "8f2839f25d086af736a60e9eeb907d3b93b6e0e5"
   },
   "outputs": [
    {
     "name": "stdout",
     "output_type": "stream",
     "text": [
      "/kaggle/input/sf-dst-restaurant-rating/sample_submission.csv\n",
      "/kaggle/input/sf-dst-restaurant-rating/main_task.csv\n",
      "/kaggle/input/sf-dst-restaurant-rating/kaggle_task.csv\n"
     ]
    }
   ],
   "source": [
    "# This Python 3 environment comes with many helpful analytics libraries installed\n",
    "# It is defined by the kaggle/python docker image: https://github.com/kaggle/docker-python\n",
    "# For example, here's several helpful packages to load in \n",
    "\n",
    "import numpy as np # linear algebra\n",
    "import pandas as pd # data processing, CSV file I/O (e.g. pd.read_csv)\n",
    "\n",
    "import matplotlib.pyplot as plt\n",
    "import seaborn as sns \n",
    "%matplotlib inline\n",
    "\n",
    "# Загружаем специальный удобный инструмент для разделения датасета:\n",
    "from sklearn.model_selection import train_test_split\n",
    "\n",
    "from datetime import datetime\n",
    "import re\n",
    "\n",
    "# Input data files are available in the \"../input/\" directory.\n",
    "# For example, running this (by clicking run or pressing Shift+Enter) will list all files under the input directory\n",
    "\n",
    "import os\n",
    "for dirname, _, filenames in os.walk('/kaggle/input'):\n",
    "    for filename in filenames:\n",
    "        print(os.path.join(dirname, filename))\n",
    "\n",
    "# Any results you write to the current directory are saved as output."
   ]
  },
  {
   "cell_type": "code",
   "execution_count": 2,
   "metadata": {},
   "outputs": [],
   "source": [
    "# всегда фиксируйте RANDOM_SEED, чтобы ваши эксперименты были воспроизводимы!\n",
    "RANDOM_SEED = 42"
   ]
  },
  {
   "cell_type": "code",
   "execution_count": 3,
   "metadata": {},
   "outputs": [],
   "source": [
    "# зафиксируем версию пакетов, чтобы эксперименты были воспроизводимы:\n",
    "!pip freeze > requirements.txt"
   ]
  },
  {
   "cell_type": "markdown",
   "metadata": {},
   "source": [
    "# DATA"
   ]
  },
  {
   "cell_type": "code",
   "execution_count": 4,
   "metadata": {
    "_cell_guid": "79c7e3d0-c299-4dcb-8224-4455121ee9b0",
    "_uuid": "d629ff2d2480ee46fbb7e2d37f6b5fab8052498a"
   },
   "outputs": [],
   "source": [
    "DATA_DIR = '/kaggle/input/sf-dst-restaurant-rating/'\n",
    "df_train = pd.read_csv(DATA_DIR+'/main_task.csv')\n",
    "df_test = pd.read_csv(DATA_DIR+'kaggle_task.csv')\n",
    "sample_submission = pd.read_csv(DATA_DIR+'/sample_submission.csv')"
   ]
  },
  {
   "cell_type": "code",
   "execution_count": 5,
   "metadata": {},
   "outputs": [
    {
     "name": "stdout",
     "output_type": "stream",
     "text": [
      "<class 'pandas.core.frame.DataFrame'>\n",
      "RangeIndex: 40000 entries, 0 to 39999\n",
      "Data columns (total 10 columns):\n",
      "Restaurant_id        40000 non-null object\n",
      "City                 40000 non-null object\n",
      "Cuisine Style        30717 non-null object\n",
      "Ranking              40000 non-null float64\n",
      "Rating               40000 non-null float64\n",
      "Price Range          26114 non-null object\n",
      "Number of Reviews    37457 non-null float64\n",
      "Reviews              40000 non-null object\n",
      "URL_TA               40000 non-null object\n",
      "ID_TA                40000 non-null object\n",
      "dtypes: float64(3), object(7)\n",
      "memory usage: 3.1+ MB\n"
     ]
    }
   ],
   "source": [
    "df_train.info()"
   ]
  },
  {
   "cell_type": "code",
   "execution_count": 6,
   "metadata": {},
   "outputs": [
    {
     "data": {
      "text/html": [
       "<div>\n",
       "<style scoped>\n",
       "    .dataframe tbody tr th:only-of-type {\n",
       "        vertical-align: middle;\n",
       "    }\n",
       "\n",
       "    .dataframe tbody tr th {\n",
       "        vertical-align: top;\n",
       "    }\n",
       "\n",
       "    .dataframe thead th {\n",
       "        text-align: right;\n",
       "    }\n",
       "</style>\n",
       "<table border=\"1\" class=\"dataframe\">\n",
       "  <thead>\n",
       "    <tr style=\"text-align: right;\">\n",
       "      <th></th>\n",
       "      <th>Restaurant_id</th>\n",
       "      <th>City</th>\n",
       "      <th>Cuisine Style</th>\n",
       "      <th>Ranking</th>\n",
       "      <th>Rating</th>\n",
       "      <th>Price Range</th>\n",
       "      <th>Number of Reviews</th>\n",
       "      <th>Reviews</th>\n",
       "      <th>URL_TA</th>\n",
       "      <th>ID_TA</th>\n",
       "    </tr>\n",
       "  </thead>\n",
       "  <tbody>\n",
       "    <tr>\n",
       "      <th>0</th>\n",
       "      <td>id_5569</td>\n",
       "      <td>Paris</td>\n",
       "      <td>['European', 'French', 'International']</td>\n",
       "      <td>5570.0</td>\n",
       "      <td>3.5</td>\n",
       "      <td>$$ - $$$</td>\n",
       "      <td>194.0</td>\n",
       "      <td>[['Good food at your doorstep', 'A good hotel ...</td>\n",
       "      <td>/Restaurant_Review-g187147-d1912643-Reviews-R_...</td>\n",
       "      <td>d1912643</td>\n",
       "    </tr>\n",
       "    <tr>\n",
       "      <th>1</th>\n",
       "      <td>id_1535</td>\n",
       "      <td>Stockholm</td>\n",
       "      <td>NaN</td>\n",
       "      <td>1537.0</td>\n",
       "      <td>4.0</td>\n",
       "      <td>NaN</td>\n",
       "      <td>10.0</td>\n",
       "      <td>[['Unique cuisine', 'Delicious Nepalese food']...</td>\n",
       "      <td>/Restaurant_Review-g189852-d7992032-Reviews-Bu...</td>\n",
       "      <td>d7992032</td>\n",
       "    </tr>\n",
       "    <tr>\n",
       "      <th>2</th>\n",
       "      <td>id_352</td>\n",
       "      <td>London</td>\n",
       "      <td>['Japanese', 'Sushi', 'Asian', 'Grill', 'Veget...</td>\n",
       "      <td>353.0</td>\n",
       "      <td>4.5</td>\n",
       "      <td>$$$$</td>\n",
       "      <td>688.0</td>\n",
       "      <td>[['Catch up with friends', 'Not exceptional'],...</td>\n",
       "      <td>/Restaurant_Review-g186338-d8632781-Reviews-RO...</td>\n",
       "      <td>d8632781</td>\n",
       "    </tr>\n",
       "    <tr>\n",
       "      <th>3</th>\n",
       "      <td>id_3456</td>\n",
       "      <td>Berlin</td>\n",
       "      <td>NaN</td>\n",
       "      <td>3458.0</td>\n",
       "      <td>5.0</td>\n",
       "      <td>NaN</td>\n",
       "      <td>3.0</td>\n",
       "      <td>[[], []]</td>\n",
       "      <td>/Restaurant_Review-g187323-d1358776-Reviews-Es...</td>\n",
       "      <td>d1358776</td>\n",
       "    </tr>\n",
       "    <tr>\n",
       "      <th>4</th>\n",
       "      <td>id_615</td>\n",
       "      <td>Munich</td>\n",
       "      <td>['German', 'Central European', 'Vegetarian Fri...</td>\n",
       "      <td>621.0</td>\n",
       "      <td>4.0</td>\n",
       "      <td>$$ - $$$</td>\n",
       "      <td>84.0</td>\n",
       "      <td>[['Best place to try a Bavarian food', 'Nice b...</td>\n",
       "      <td>/Restaurant_Review-g187309-d6864963-Reviews-Au...</td>\n",
       "      <td>d6864963</td>\n",
       "    </tr>\n",
       "  </tbody>\n",
       "</table>\n",
       "</div>"
      ],
      "text/plain": [
       "  Restaurant_id       City                                      Cuisine Style  \\\n",
       "0       id_5569      Paris            ['European', 'French', 'International']   \n",
       "1       id_1535  Stockholm                                                NaN   \n",
       "2        id_352     London  ['Japanese', 'Sushi', 'Asian', 'Grill', 'Veget...   \n",
       "3       id_3456     Berlin                                                NaN   \n",
       "4        id_615     Munich  ['German', 'Central European', 'Vegetarian Fri...   \n",
       "\n",
       "   Ranking  Rating Price Range  Number of Reviews  \\\n",
       "0   5570.0     3.5    $$ - $$$              194.0   \n",
       "1   1537.0     4.0         NaN               10.0   \n",
       "2    353.0     4.5        $$$$              688.0   \n",
       "3   3458.0     5.0         NaN                3.0   \n",
       "4    621.0     4.0    $$ - $$$               84.0   \n",
       "\n",
       "                                             Reviews  \\\n",
       "0  [['Good food at your doorstep', 'A good hotel ...   \n",
       "1  [['Unique cuisine', 'Delicious Nepalese food']...   \n",
       "2  [['Catch up with friends', 'Not exceptional'],...   \n",
       "3                                           [[], []]   \n",
       "4  [['Best place to try a Bavarian food', 'Nice b...   \n",
       "\n",
       "                                              URL_TA     ID_TA  \n",
       "0  /Restaurant_Review-g187147-d1912643-Reviews-R_...  d1912643  \n",
       "1  /Restaurant_Review-g189852-d7992032-Reviews-Bu...  d7992032  \n",
       "2  /Restaurant_Review-g186338-d8632781-Reviews-RO...  d8632781  \n",
       "3  /Restaurant_Review-g187323-d1358776-Reviews-Es...  d1358776  \n",
       "4  /Restaurant_Review-g187309-d6864963-Reviews-Au...  d6864963  "
      ]
     },
     "execution_count": 6,
     "metadata": {},
     "output_type": "execute_result"
    }
   ],
   "source": [
    "df_train.head(5)"
   ]
  },
  {
   "cell_type": "code",
   "execution_count": 7,
   "metadata": {},
   "outputs": [
    {
     "name": "stdout",
     "output_type": "stream",
     "text": [
      "<class 'pandas.core.frame.DataFrame'>\n",
      "RangeIndex: 10000 entries, 0 to 9999\n",
      "Data columns (total 9 columns):\n",
      "Restaurant_id        10000 non-null object\n",
      "City                 10000 non-null object\n",
      "Cuisine Style        7693 non-null object\n",
      "Ranking              10000 non-null float64\n",
      "Price Range          6525 non-null object\n",
      "Number of Reviews    9343 non-null float64\n",
      "Reviews              9998 non-null object\n",
      "URL_TA               10000 non-null object\n",
      "ID_TA                10000 non-null object\n",
      "dtypes: float64(2), object(7)\n",
      "memory usage: 703.2+ KB\n"
     ]
    }
   ],
   "source": [
    "df_test.info()"
   ]
  },
  {
   "cell_type": "code",
   "execution_count": 8,
   "metadata": {},
   "outputs": [
    {
     "data": {
      "text/html": [
       "<div>\n",
       "<style scoped>\n",
       "    .dataframe tbody tr th:only-of-type {\n",
       "        vertical-align: middle;\n",
       "    }\n",
       "\n",
       "    .dataframe tbody tr th {\n",
       "        vertical-align: top;\n",
       "    }\n",
       "\n",
       "    .dataframe thead th {\n",
       "        text-align: right;\n",
       "    }\n",
       "</style>\n",
       "<table border=\"1\" class=\"dataframe\">\n",
       "  <thead>\n",
       "    <tr style=\"text-align: right;\">\n",
       "      <th></th>\n",
       "      <th>Restaurant_id</th>\n",
       "      <th>City</th>\n",
       "      <th>Cuisine Style</th>\n",
       "      <th>Ranking</th>\n",
       "      <th>Price Range</th>\n",
       "      <th>Number of Reviews</th>\n",
       "      <th>Reviews</th>\n",
       "      <th>URL_TA</th>\n",
       "      <th>ID_TA</th>\n",
       "    </tr>\n",
       "  </thead>\n",
       "  <tbody>\n",
       "    <tr>\n",
       "      <th>0</th>\n",
       "      <td>id_0</td>\n",
       "      <td>Paris</td>\n",
       "      <td>['Bar', 'Pub']</td>\n",
       "      <td>12963.0</td>\n",
       "      <td>$$ - $$$</td>\n",
       "      <td>4.0</td>\n",
       "      <td>[[], []]</td>\n",
       "      <td>/Restaurant_Review-g187147-d10746918-Reviews-L...</td>\n",
       "      <td>d10746918</td>\n",
       "    </tr>\n",
       "    <tr>\n",
       "      <th>1</th>\n",
       "      <td>id_1</td>\n",
       "      <td>Helsinki</td>\n",
       "      <td>['European', 'Scandinavian', 'Gluten Free Opti...</td>\n",
       "      <td>106.0</td>\n",
       "      <td>$$ - $$$</td>\n",
       "      <td>97.0</td>\n",
       "      <td>[['Very good reviews!', 'Fine dining in Hakani...</td>\n",
       "      <td>/Restaurant_Review-g189934-d6674944-Reviews-Ra...</td>\n",
       "      <td>d6674944</td>\n",
       "    </tr>\n",
       "    <tr>\n",
       "      <th>2</th>\n",
       "      <td>id_2</td>\n",
       "      <td>Edinburgh</td>\n",
       "      <td>['Vegetarian Friendly']</td>\n",
       "      <td>810.0</td>\n",
       "      <td>$$ - $$$</td>\n",
       "      <td>28.0</td>\n",
       "      <td>[['Better than the Links', 'Ivy Black'], ['12/...</td>\n",
       "      <td>/Restaurant_Review-g186525-d13129638-Reviews-B...</td>\n",
       "      <td>d13129638</td>\n",
       "    </tr>\n",
       "    <tr>\n",
       "      <th>3</th>\n",
       "      <td>id_3</td>\n",
       "      <td>London</td>\n",
       "      <td>['Italian', 'Mediterranean', 'European', 'Vege...</td>\n",
       "      <td>1669.0</td>\n",
       "      <td>$$$$</td>\n",
       "      <td>202.0</td>\n",
       "      <td>[['Most exquisite', 'Delicious and authentic']...</td>\n",
       "      <td>/Restaurant_Review-g186338-d680417-Reviews-Qui...</td>\n",
       "      <td>d680417</td>\n",
       "    </tr>\n",
       "    <tr>\n",
       "      <th>4</th>\n",
       "      <td>id_4</td>\n",
       "      <td>Bratislava</td>\n",
       "      <td>['Italian', 'Mediterranean', 'European', 'Seaf...</td>\n",
       "      <td>37.0</td>\n",
       "      <td>$$$$</td>\n",
       "      <td>162.0</td>\n",
       "      <td>[['Always the best in bratislava', 'Very good ...</td>\n",
       "      <td>/Restaurant_Review-g274924-d1112354-Reviews-Ma...</td>\n",
       "      <td>d1112354</td>\n",
       "    </tr>\n",
       "  </tbody>\n",
       "</table>\n",
       "</div>"
      ],
      "text/plain": [
       "  Restaurant_id        City  \\\n",
       "0          id_0       Paris   \n",
       "1          id_1    Helsinki   \n",
       "2          id_2   Edinburgh   \n",
       "3          id_3      London   \n",
       "4          id_4  Bratislava   \n",
       "\n",
       "                                       Cuisine Style  Ranking Price Range  \\\n",
       "0                                     ['Bar', 'Pub']  12963.0    $$ - $$$   \n",
       "1  ['European', 'Scandinavian', 'Gluten Free Opti...    106.0    $$ - $$$   \n",
       "2                            ['Vegetarian Friendly']    810.0    $$ - $$$   \n",
       "3  ['Italian', 'Mediterranean', 'European', 'Vege...   1669.0        $$$$   \n",
       "4  ['Italian', 'Mediterranean', 'European', 'Seaf...     37.0        $$$$   \n",
       "\n",
       "   Number of Reviews                                            Reviews  \\\n",
       "0                4.0                                           [[], []]   \n",
       "1               97.0  [['Very good reviews!', 'Fine dining in Hakani...   \n",
       "2               28.0  [['Better than the Links', 'Ivy Black'], ['12/...   \n",
       "3              202.0  [['Most exquisite', 'Delicious and authentic']...   \n",
       "4              162.0  [['Always the best in bratislava', 'Very good ...   \n",
       "\n",
       "                                              URL_TA      ID_TA  \n",
       "0  /Restaurant_Review-g187147-d10746918-Reviews-L...  d10746918  \n",
       "1  /Restaurant_Review-g189934-d6674944-Reviews-Ra...   d6674944  \n",
       "2  /Restaurant_Review-g186525-d13129638-Reviews-B...  d13129638  \n",
       "3  /Restaurant_Review-g186338-d680417-Reviews-Qui...    d680417  \n",
       "4  /Restaurant_Review-g274924-d1112354-Reviews-Ma...   d1112354  "
      ]
     },
     "execution_count": 8,
     "metadata": {},
     "output_type": "execute_result"
    }
   ],
   "source": [
    "df_test.head(5)"
   ]
  },
  {
   "cell_type": "code",
   "execution_count": 9,
   "metadata": {},
   "outputs": [
    {
     "data": {
      "text/html": [
       "<div>\n",
       "<style scoped>\n",
       "    .dataframe tbody tr th:only-of-type {\n",
       "        vertical-align: middle;\n",
       "    }\n",
       "\n",
       "    .dataframe tbody tr th {\n",
       "        vertical-align: top;\n",
       "    }\n",
       "\n",
       "    .dataframe thead th {\n",
       "        text-align: right;\n",
       "    }\n",
       "</style>\n",
       "<table border=\"1\" class=\"dataframe\">\n",
       "  <thead>\n",
       "    <tr style=\"text-align: right;\">\n",
       "      <th></th>\n",
       "      <th>Restaurant_id</th>\n",
       "      <th>Rating</th>\n",
       "    </tr>\n",
       "  </thead>\n",
       "  <tbody>\n",
       "    <tr>\n",
       "      <th>0</th>\n",
       "      <td>id_0</td>\n",
       "      <td>2.0</td>\n",
       "    </tr>\n",
       "    <tr>\n",
       "      <th>1</th>\n",
       "      <td>id_1</td>\n",
       "      <td>2.5</td>\n",
       "    </tr>\n",
       "    <tr>\n",
       "      <th>2</th>\n",
       "      <td>id_2</td>\n",
       "      <td>4.0</td>\n",
       "    </tr>\n",
       "    <tr>\n",
       "      <th>3</th>\n",
       "      <td>id_3</td>\n",
       "      <td>1.0</td>\n",
       "    </tr>\n",
       "    <tr>\n",
       "      <th>4</th>\n",
       "      <td>id_4</td>\n",
       "      <td>4.0</td>\n",
       "    </tr>\n",
       "  </tbody>\n",
       "</table>\n",
       "</div>"
      ],
      "text/plain": [
       "  Restaurant_id  Rating\n",
       "0          id_0     2.0\n",
       "1          id_1     2.5\n",
       "2          id_2     4.0\n",
       "3          id_3     1.0\n",
       "4          id_4     4.0"
      ]
     },
     "execution_count": 9,
     "metadata": {},
     "output_type": "execute_result"
    }
   ],
   "source": [
    "sample_submission.head(5)"
   ]
  },
  {
   "cell_type": "code",
   "execution_count": 10,
   "metadata": {},
   "outputs": [
    {
     "name": "stdout",
     "output_type": "stream",
     "text": [
      "<class 'pandas.core.frame.DataFrame'>\n",
      "RangeIndex: 10000 entries, 0 to 9999\n",
      "Data columns (total 2 columns):\n",
      "Restaurant_id    10000 non-null object\n",
      "Rating           10000 non-null float64\n",
      "dtypes: float64(1), object(1)\n",
      "memory usage: 156.4+ KB\n"
     ]
    }
   ],
   "source": [
    "sample_submission.info()"
   ]
  },
  {
   "cell_type": "code",
   "execution_count": 11,
   "metadata": {},
   "outputs": [],
   "source": [
    "# ВАЖНО! дря корректной обработки признаков объединяем трейн и тест в один датасет\n",
    "df_train['sample'] = 1 # помечаем где у нас трейн\n",
    "df_test['sample'] = 0 # помечаем где у нас тест\n",
    "df_test['Rating'] = 0 # в тесте у нас нет значения Rating, мы его должны предсказать, по этому пока просто заполняем нулями\n",
    "\n",
    "data = df_test.append(df_train, sort=False).reset_index(drop=True) # объединяем"
   ]
  },
  {
   "cell_type": "code",
   "execution_count": 12,
   "metadata": {},
   "outputs": [
    {
     "name": "stdout",
     "output_type": "stream",
     "text": [
      "<class 'pandas.core.frame.DataFrame'>\n",
      "RangeIndex: 50000 entries, 0 to 49999\n",
      "Data columns (total 11 columns):\n",
      "Restaurant_id        50000 non-null object\n",
      "City                 50000 non-null object\n",
      "Cuisine Style        38410 non-null object\n",
      "Ranking              50000 non-null float64\n",
      "Price Range          32639 non-null object\n",
      "Number of Reviews    46800 non-null float64\n",
      "Reviews              49998 non-null object\n",
      "URL_TA               50000 non-null object\n",
      "ID_TA                50000 non-null object\n",
      "sample               50000 non-null int64\n",
      "Rating               50000 non-null float64\n",
      "dtypes: float64(3), int64(1), object(7)\n",
      "memory usage: 4.2+ MB\n"
     ]
    }
   ],
   "source": [
    "data.info()"
   ]
  },
  {
   "cell_type": "code",
   "execution_count": 13,
   "metadata": {},
   "outputs": [
    {
     "data": {
      "text/html": [
       "<div>\n",
       "<style scoped>\n",
       "    .dataframe tbody tr th:only-of-type {\n",
       "        vertical-align: middle;\n",
       "    }\n",
       "\n",
       "    .dataframe tbody tr th {\n",
       "        vertical-align: top;\n",
       "    }\n",
       "\n",
       "    .dataframe thead th {\n",
       "        text-align: right;\n",
       "    }\n",
       "</style>\n",
       "<table border=\"1\" class=\"dataframe\">\n",
       "  <thead>\n",
       "    <tr style=\"text-align: right;\">\n",
       "      <th></th>\n",
       "      <th>Restaurant_id</th>\n",
       "      <th>City</th>\n",
       "      <th>Cuisine Style</th>\n",
       "      <th>Ranking</th>\n",
       "      <th>Price Range</th>\n",
       "      <th>Number of Reviews</th>\n",
       "      <th>Reviews</th>\n",
       "      <th>URL_TA</th>\n",
       "      <th>ID_TA</th>\n",
       "      <th>sample</th>\n",
       "      <th>Rating</th>\n",
       "    </tr>\n",
       "  </thead>\n",
       "  <tbody>\n",
       "    <tr>\n",
       "      <th>19455</th>\n",
       "      <td>id_345</td>\n",
       "      <td>Lyon</td>\n",
       "      <td>['French', 'Bar', 'European']</td>\n",
       "      <td>346.0</td>\n",
       "      <td>$$ - $$$</td>\n",
       "      <td>442.0</td>\n",
       "      <td>[['Nice quick meal', 'You can do much better i...</td>\n",
       "      <td>/Restaurant_Review-g187265-d3854375-Reviews-Br...</td>\n",
       "      <td>d3854375</td>\n",
       "      <td>1</td>\n",
       "      <td>3.5</td>\n",
       "    </tr>\n",
       "    <tr>\n",
       "      <th>4917</th>\n",
       "      <td>id_4917</td>\n",
       "      <td>Vienna</td>\n",
       "      <td>['Cafe']</td>\n",
       "      <td>3002.0</td>\n",
       "      <td>$$ - $$$</td>\n",
       "      <td>6.0</td>\n",
       "      <td>[[], []]</td>\n",
       "      <td>/Restaurant_Review-g190454-d4706369-Reviews-Al...</td>\n",
       "      <td>d4706369</td>\n",
       "      <td>0</td>\n",
       "      <td>0.0</td>\n",
       "    </tr>\n",
       "    <tr>\n",
       "      <th>44356</th>\n",
       "      <td>id_4343</td>\n",
       "      <td>Rome</td>\n",
       "      <td>NaN</td>\n",
       "      <td>4344.0</td>\n",
       "      <td>NaN</td>\n",
       "      <td>17.0</td>\n",
       "      <td>[[], []]</td>\n",
       "      <td>/Restaurant_Review-g187791-d12067859-Reviews-N...</td>\n",
       "      <td>d12067859</td>\n",
       "      <td>1</td>\n",
       "      <td>4.0</td>\n",
       "    </tr>\n",
       "    <tr>\n",
       "      <th>18705</th>\n",
       "      <td>id_1930</td>\n",
       "      <td>Dublin</td>\n",
       "      <td>['Mexican', 'American', 'European', 'Spanish',...</td>\n",
       "      <td>1937.0</td>\n",
       "      <td>$$ - $$$</td>\n",
       "      <td>NaN</td>\n",
       "      <td>[['Bottled cocktails?'], ['12/03/2017']]</td>\n",
       "      <td>/Restaurant_Review-g186605-d13124268-Reviews-S...</td>\n",
       "      <td>d13124268</td>\n",
       "      <td>1</td>\n",
       "      <td>2.0</td>\n",
       "    </tr>\n",
       "    <tr>\n",
       "      <th>12238</th>\n",
       "      <td>id_150</td>\n",
       "      <td>Paris</td>\n",
       "      <td>['Italian', 'Pizza', 'European', 'Vegetarian F...</td>\n",
       "      <td>151.0</td>\n",
       "      <td>$$ - $$$</td>\n",
       "      <td>418.0</td>\n",
       "      <td>[['Amazing', 'Great Italian Restarant'], ['01/...</td>\n",
       "      <td>/Restaurant_Review-g187147-d3784592-Reviews-Pi...</td>\n",
       "      <td>d3784592</td>\n",
       "      <td>1</td>\n",
       "      <td>4.5</td>\n",
       "    </tr>\n",
       "  </tbody>\n",
       "</table>\n",
       "</div>"
      ],
      "text/plain": [
       "      Restaurant_id    City  \\\n",
       "19455        id_345    Lyon   \n",
       "4917        id_4917  Vienna   \n",
       "44356       id_4343    Rome   \n",
       "18705       id_1930  Dublin   \n",
       "12238        id_150   Paris   \n",
       "\n",
       "                                           Cuisine Style  Ranking Price Range  \\\n",
       "19455                      ['French', 'Bar', 'European']    346.0    $$ - $$$   \n",
       "4917                                            ['Cafe']   3002.0    $$ - $$$   \n",
       "44356                                                NaN   4344.0         NaN   \n",
       "18705  ['Mexican', 'American', 'European', 'Spanish',...   1937.0    $$ - $$$   \n",
       "12238  ['Italian', 'Pizza', 'European', 'Vegetarian F...    151.0    $$ - $$$   \n",
       "\n",
       "       Number of Reviews                                            Reviews  \\\n",
       "19455              442.0  [['Nice quick meal', 'You can do much better i...   \n",
       "4917                 6.0                                           [[], []]   \n",
       "44356               17.0                                           [[], []]   \n",
       "18705                NaN           [['Bottled cocktails?'], ['12/03/2017']]   \n",
       "12238              418.0  [['Amazing', 'Great Italian Restarant'], ['01/...   \n",
       "\n",
       "                                                  URL_TA      ID_TA  sample  \\\n",
       "19455  /Restaurant_Review-g187265-d3854375-Reviews-Br...   d3854375       1   \n",
       "4917   /Restaurant_Review-g190454-d4706369-Reviews-Al...   d4706369       0   \n",
       "44356  /Restaurant_Review-g187791-d12067859-Reviews-N...  d12067859       1   \n",
       "18705  /Restaurant_Review-g186605-d13124268-Reviews-S...  d13124268       1   \n",
       "12238  /Restaurant_Review-g187147-d3784592-Reviews-Pi...   d3784592       1   \n",
       "\n",
       "       Rating  \n",
       "19455     3.5  \n",
       "4917      0.0  \n",
       "44356     4.0  \n",
       "18705     2.0  \n",
       "12238     4.5  "
      ]
     },
     "execution_count": 13,
     "metadata": {},
     "output_type": "execute_result"
    }
   ],
   "source": [
    "data.sample(5)"
   ]
  },
  {
   "cell_type": "code",
   "execution_count": 14,
   "metadata": {},
   "outputs": [
    {
     "data": {
      "text/plain": [
       "\"[['Very good reviews!', 'Fine dining in Hakaniemi'], ['12/05/2017', '10/29/2017']]\""
      ]
     },
     "execution_count": 14,
     "metadata": {},
     "output_type": "execute_result"
    }
   ],
   "source": [
    "data.Reviews[1]"
   ]
  },
  {
   "cell_type": "markdown",
   "metadata": {},
   "source": [
    "Как видим, большинство признаков у нас требует очистки и предварительной обработки."
   ]
  },
  {
   "cell_type": "markdown",
   "metadata": {},
   "source": [
    "# Cleaning and Prepping Data\n",
    "Обычно данные содержат в себе кучу мусора, который необходимо почистить, для того чтобы привести их в приемлемый формат. Чистка данных — это необходимый этап решения почти любой реальной задачи.   \n",
    "![](https://analyticsindiamag.com/wp-content/uploads/2018/01/data-cleaning.png)"
   ]
  },
  {
   "cell_type": "markdown",
   "metadata": {},
   "source": [
    "## 1. Обработка NAN \n",
    "У наличия пропусков могут быть разные причины, но пропуски нужно либо заполнить, либо исключить из набора полностью. Но с пропусками нужно быть внимательным, **даже отсутствие информации может быть важным признаком!**   \n",
    "По этому перед обработкой NAN лучше вынести информацию о наличии пропуска как отдельный признак "
   ]
  },
  {
   "cell_type": "markdown",
   "metadata": {},
   "source": [
    "Пропуски содержатся в следующих столбцах:\n",
    "* Cuisine Style\n",
    "* Price Range\n",
    "* Number of Reviews\n",
    "* Reviews"
   ]
  },
  {
   "cell_type": "markdown",
   "metadata": {},
   "source": [
    "#### Number of Reviews"
   ]
  },
  {
   "cell_type": "markdown",
   "metadata": {},
   "source": [
    "Числовой признак"
   ]
  },
  {
   "cell_type": "code",
   "execution_count": 15,
   "metadata": {},
   "outputs": [],
   "source": [
    "data['Number of Reviews NA'] = data['Number of Reviews'].apply(lambda x: 1 if pd.isna(x) else 0)\n",
    "# заменим NaN для пропусков в 'Number of Reviews' на 0 как наиболее логичное значение \n",
    "# для пропуска в данном случае\n",
    "data['Number of Reviews'].fillna(0, inplace=True)"
   ]
  },
  {
   "cell_type": "markdown",
   "metadata": {},
   "source": [
    "Проверено, что заполенение пустых значений медианой ухудшает MAE"
   ]
  },
  {
   "cell_type": "code",
   "execution_count": 16,
   "metadata": {},
   "outputs": [
    {
     "data": {
      "text/html": [
       "<div>\n",
       "<style scoped>\n",
       "    .dataframe tbody tr th:only-of-type {\n",
       "        vertical-align: middle;\n",
       "    }\n",
       "\n",
       "    .dataframe tbody tr th {\n",
       "        vertical-align: top;\n",
       "    }\n",
       "\n",
       "    .dataframe thead th {\n",
       "        text-align: right;\n",
       "    }\n",
       "</style>\n",
       "<table border=\"1\" class=\"dataframe\">\n",
       "  <thead>\n",
       "    <tr style=\"text-align: right;\">\n",
       "      <th></th>\n",
       "      <th>Number of Reviews</th>\n",
       "      <th>Number of Reviews NA</th>\n",
       "    </tr>\n",
       "  </thead>\n",
       "  <tbody>\n",
       "    <tr>\n",
       "      <th>11903</th>\n",
       "      <td>0.0</td>\n",
       "      <td>1</td>\n",
       "    </tr>\n",
       "    <tr>\n",
       "      <th>24431</th>\n",
       "      <td>54.0</td>\n",
       "      <td>0</td>\n",
       "    </tr>\n",
       "    <tr>\n",
       "      <th>6641</th>\n",
       "      <td>83.0</td>\n",
       "      <td>0</td>\n",
       "    </tr>\n",
       "    <tr>\n",
       "      <th>23722</th>\n",
       "      <td>16.0</td>\n",
       "      <td>0</td>\n",
       "    </tr>\n",
       "    <tr>\n",
       "      <th>44488</th>\n",
       "      <td>80.0</td>\n",
       "      <td>0</td>\n",
       "    </tr>\n",
       "  </tbody>\n",
       "</table>\n",
       "</div>"
      ],
      "text/plain": [
       "       Number of Reviews  Number of Reviews NA\n",
       "11903                0.0                     1\n",
       "24431               54.0                     0\n",
       "6641                83.0                     0\n",
       "23722               16.0                     0\n",
       "44488               80.0                     0"
      ]
     },
     "metadata": {},
     "output_type": "display_data"
    },
    {
     "name": "stdout",
     "output_type": "stream",
     "text": [
      "<class 'pandas.core.frame.DataFrame'>\n",
      "RangeIndex: 50000 entries, 0 to 49999\n",
      "Data columns (total 2 columns):\n",
      "Number of Reviews       50000 non-null float64\n",
      "Number of Reviews NA    50000 non-null int64\n",
      "dtypes: float64(1), int64(1)\n",
      "memory usage: 781.4 KB\n"
     ]
    },
    {
     "data": {
      "text/plain": [
       "None"
      ]
     },
     "metadata": {},
     "output_type": "display_data"
    }
   ],
   "source": [
    "display(data.loc[:, ['Number of Reviews', 'Number of Reviews NA']].sample(5))\n",
    "display(data.loc[:, ['Number of Reviews', 'Number of Reviews NA']].info())"
   ]
  },
  {
   "cell_type": "markdown",
   "metadata": {},
   "source": [
    "#### Price Range"
   ]
  },
  {
   "cell_type": "markdown",
   "metadata": {},
   "source": [
    "Ординальный признак, будем переводить в числовой вид."
   ]
  },
  {
   "cell_type": "code",
   "execution_count": 17,
   "metadata": {},
   "outputs": [],
   "source": [
    "data['Price Range NA'] = data['Price Range'].apply(lambda x: 1 if pd.isna(x) else 0)"
   ]
  },
  {
   "cell_type": "code",
   "execution_count": 18,
   "metadata": {},
   "outputs": [
    {
     "data": {
      "text/plain": [
       "$$ - $$$    23041\n",
       "$            7816\n",
       "$$$$         1782\n",
       "Name: Price Range, dtype: int64"
      ]
     },
     "metadata": {},
     "output_type": "display_data"
    },
    {
     "name": "stdout",
     "output_type": "stream",
     "text": [
      "price_range mode: $$ - $$$\n"
     ]
    }
   ],
   "source": [
    "# признак содержит ординальные данные определяющие ценовую категорию\n",
    "# ресторана, для заполнения выберем наболее распространенную категорию\n",
    "# - среднюю\n",
    "display(data['Price Range'].value_counts())\n",
    "print('price_range mode:', data['Price Range'].mode()[0])"
   ]
  },
  {
   "cell_type": "code",
   "execution_count": 19,
   "metadata": {},
   "outputs": [],
   "source": [
    "data['Price Range'].fillna(data['Price Range'].mode()[0], inplace=True)"
   ]
  },
  {
   "cell_type": "code",
   "execution_count": 20,
   "metadata": {},
   "outputs": [
    {
     "data": {
      "text/html": [
       "<div>\n",
       "<style scoped>\n",
       "    .dataframe tbody tr th:only-of-type {\n",
       "        vertical-align: middle;\n",
       "    }\n",
       "\n",
       "    .dataframe tbody tr th {\n",
       "        vertical-align: top;\n",
       "    }\n",
       "\n",
       "    .dataframe thead th {\n",
       "        text-align: right;\n",
       "    }\n",
       "</style>\n",
       "<table border=\"1\" class=\"dataframe\">\n",
       "  <thead>\n",
       "    <tr style=\"text-align: right;\">\n",
       "      <th></th>\n",
       "      <th>Price Range</th>\n",
       "      <th>Price Range NA</th>\n",
       "    </tr>\n",
       "  </thead>\n",
       "  <tbody>\n",
       "    <tr>\n",
       "      <th>40219</th>\n",
       "      <td>$$ - $$$</td>\n",
       "      <td>1</td>\n",
       "    </tr>\n",
       "    <tr>\n",
       "      <th>46544</th>\n",
       "      <td>$$ - $$$</td>\n",
       "      <td>1</td>\n",
       "    </tr>\n",
       "    <tr>\n",
       "      <th>16323</th>\n",
       "      <td>$$ - $$$</td>\n",
       "      <td>1</td>\n",
       "    </tr>\n",
       "    <tr>\n",
       "      <th>19408</th>\n",
       "      <td>$$ - $$$</td>\n",
       "      <td>1</td>\n",
       "    </tr>\n",
       "    <tr>\n",
       "      <th>6359</th>\n",
       "      <td>$$$$</td>\n",
       "      <td>0</td>\n",
       "    </tr>\n",
       "  </tbody>\n",
       "</table>\n",
       "</div>"
      ],
      "text/plain": [
       "      Price Range  Price Range NA\n",
       "40219    $$ - $$$               1\n",
       "46544    $$ - $$$               1\n",
       "16323    $$ - $$$               1\n",
       "19408    $$ - $$$               1\n",
       "6359         $$$$               0"
      ]
     },
     "metadata": {},
     "output_type": "display_data"
    },
    {
     "name": "stdout",
     "output_type": "stream",
     "text": [
      "<class 'pandas.core.frame.DataFrame'>\n",
      "RangeIndex: 50000 entries, 0 to 49999\n",
      "Data columns (total 2 columns):\n",
      "Price Range       50000 non-null object\n",
      "Price Range NA    50000 non-null int64\n",
      "dtypes: int64(1), object(1)\n",
      "memory usage: 781.4+ KB\n"
     ]
    },
    {
     "data": {
      "text/plain": [
       "None"
      ]
     },
     "metadata": {},
     "output_type": "display_data"
    }
   ],
   "source": [
    "display(data.loc[:, ['Price Range', 'Price Range NA']].sample(5))\n",
    "display(data.loc[:, ['Price Range', 'Price Range NA']].info())"
   ]
  },
  {
   "cell_type": "markdown",
   "metadata": {},
   "source": [
    "#### Cuisine Style"
   ]
  },
  {
   "cell_type": "markdown",
   "metadata": {},
   "source": [
    "Категориальный признак"
   ]
  },
  {
   "cell_type": "code",
   "execution_count": 21,
   "metadata": {},
   "outputs": [],
   "source": [
    "data['Cuisine Style NA'] = data['Cuisine Style'].apply(lambda x: 1 if pd.isna(x) else 0)"
   ]
  },
  {
   "cell_type": "code",
   "execution_count": 22,
   "metadata": {},
   "outputs": [
    {
     "data": {
      "text/plain": [
       "0    38410\n",
       "1    11590\n",
       "Name: Cuisine Style NA, dtype: int64"
      ]
     },
     "execution_count": 22,
     "metadata": {},
     "output_type": "execute_result"
    }
   ],
   "source": [
    "data['Cuisine Style NA'].value_counts()\n",
    "# Заполним пропуски в cuisine во время обработки значений позже.."
   ]
  },
  {
   "cell_type": "markdown",
   "metadata": {},
   "source": [
    "#### Reviews"
   ]
  },
  {
   "cell_type": "code",
   "execution_count": 23,
   "metadata": {},
   "outputs": [],
   "source": [
    "data['Reviews NA'] = data['Reviews'].apply(lambda x: 1 if pd.isna(x) else 0)"
   ]
  },
  {
   "cell_type": "code",
   "execution_count": 24,
   "metadata": {},
   "outputs": [
    {
     "data": {
      "text/plain": [
       "0    49998\n",
       "1        2\n",
       "Name: Reviews NA, dtype: int64"
      ]
     },
     "execution_count": 24,
     "metadata": {},
     "output_type": "execute_result"
    }
   ],
   "source": [
    "data['Reviews NA'].value_counts()\n",
    "# Заполним пропуски в reviews во время обработки значений позже"
   ]
  },
  {
   "cell_type": "markdown",
   "metadata": {},
   "source": [
    "### 2. Обработка признаков и добавление новых\n",
    "Для начала посмотрим какие признаки у нас могут быть категориальными."
   ]
  },
  {
   "cell_type": "code",
   "execution_count": 25,
   "metadata": {},
   "outputs": [
    {
     "data": {
      "text/plain": [
       "Restaurant_id           13094\n",
       "City                       31\n",
       "Cuisine Style           10732\n",
       "Ranking                 12975\n",
       "Price Range                 3\n",
       "Number of Reviews        1574\n",
       "Reviews                 41858\n",
       "URL_TA                  49963\n",
       "ID_TA                   49963\n",
       "sample                      2\n",
       "Rating                     10\n",
       "Number of Reviews NA        2\n",
       "Price Range NA              2\n",
       "Cuisine Style NA            2\n",
       "Reviews NA                  2\n",
       "dtype: int64"
      ]
     },
     "execution_count": 25,
     "metadata": {},
     "output_type": "execute_result"
    }
   ],
   "source": [
    "data.nunique(dropna=False)"
   ]
  },
  {
   "cell_type": "markdown",
   "metadata": {},
   "source": [
    "Какие признаки можно считать категориальными?\n",
    "* Restaurant_id\n",
    "* City\n",
    "* Cuisine Style\n",
    "* URL_TA\n",
    "* ID_TA\n",
    "\n",
    "Как работать с колонками URL_TA и ID_TA, я определить затрудняюсь, поэтому в итоговую модель они включены не будут.    "
   ]
  },
  {
   "cell_type": "markdown",
   "metadata": {},
   "source": [
    "#### Restaurant_id "
   ]
  },
  {
   "cell_type": "markdown",
   "metadata": {},
   "source": [
    "Во вводном разборе было акцентировано внимание на том, что с данным признаком надо разобраться. Посмотрим, уникальны ли айди."
   ]
  },
  {
   "cell_type": "code",
   "execution_count": 26,
   "metadata": {},
   "outputs": [
    {
     "data": {
      "text/plain": [
       "id_227      19\n",
       "id_436      19\n",
       "id_871      19\n",
       "id_633      19\n",
       "id_344      18\n",
       "            ..\n",
       "id_11880     1\n",
       "id_12851     1\n",
       "id_8782      1\n",
       "id_12869     1\n",
       "id_14212     1\n",
       "Name: Restaurant_id, Length: 13094, dtype: int64"
      ]
     },
     "execution_count": 26,
     "metadata": {},
     "output_type": "execute_result"
    }
   ],
   "source": [
    "data['Restaurant_id'].value_counts()"
   ]
  },
  {
   "cell_type": "markdown",
   "metadata": {},
   "source": [
    "Мы видим, что имеются повторы, значит это не айди конкретного ресторана. Возможно, это сеть. Но я не знаю, как нам можно воспользоваться этой ситуацией для анализа рейтинга."
   ]
  },
  {
   "cell_type": "markdown",
   "metadata": {},
   "source": [
    "#### ID_TA"
   ]
  },
  {
   "cell_type": "code",
   "execution_count": 27,
   "metadata": {},
   "outputs": [
    {
     "data": {
      "text/plain": [
       "d11698990    2\n",
       "d5618007     2\n",
       "d7342803     2\n",
       "d987900      2\n",
       "d2669414     2\n",
       "            ..\n",
       "d8000931     1\n",
       "d11767612    1\n",
       "d8468646     1\n",
       "d4154169     1\n",
       "d5577909     1\n",
       "Name: ID_TA, Length: 49963, dtype: int64"
      ]
     },
     "execution_count": 27,
     "metadata": {},
     "output_type": "execute_result"
    }
   ],
   "source": [
    "data['ID_TA'].value_counts()\n",
    "# В данном случае просто покажем, что признак не уникальный"
   ]
  },
  {
   "cell_type": "markdown",
   "metadata": {},
   "source": [
    "#### URL_TA"
   ]
  },
  {
   "cell_type": "code",
   "execution_count": 28,
   "metadata": {},
   "outputs": [
    {
     "data": {
      "text/plain": [
       "/Restaurant_Review-g187514-d12488993-Reviews-Kathmandu_Tandoori_House_Nepali_Indian_Cuisine-Madrid.html    2\n",
       "/Restaurant_Review-g187514-d3685055-Reviews-Shukran-Madrid.html                                            2\n",
       "/Restaurant_Review-g187514-d8753348-Reviews-Tropecientos-Madrid.html                                       2\n",
       "/Restaurant_Review-g274856-d10316215-Reviews-Basico_Pizza-Warsaw_Mazovia_Province_Central_Poland.html      2\n",
       "/Restaurant_Review-g187514-d2360290-Reviews-Lounge_Yi-Madrid.html                                          2\n",
       "                                                                                                          ..\n",
       "/Restaurant_Review-g1136497-d10785924-Reviews-Tapassoif-Woluwe_St_Pierre_Brussels.html                     1\n",
       "/Restaurant_Review-g188644-d2573292-Reviews-La_Favorita-Brussels.html                                      1\n",
       "/Restaurant_Review-g187147-d7306119-Reviews-Les_Douceurs_de_Port_Royal-Paris_Ile_de_France.html            1\n",
       "/Restaurant_Review-g186338-d1017384-Reviews-Mangal_Ocakbasi_Restaurant-London_England.html                 1\n",
       "/Restaurant_Review-g188590-d4173529-Reviews-Bakers_Roasters-Amsterdam_North_Holland_Province.html          1\n",
       "Name: URL_TA, Length: 49963, dtype: int64"
      ]
     },
     "execution_count": 28,
     "metadata": {},
     "output_type": "execute_result"
    }
   ],
   "source": [
    "data['URL_TA'].value_counts()\n",
    "# Так же увидели, что признак не уникальный"
   ]
  },
  {
   "cell_type": "markdown",
   "metadata": {},
   "source": [
    "#### City"
   ]
  },
  {
   "cell_type": "code",
   "execution_count": 29,
   "metadata": {},
   "outputs": [],
   "source": [
    "# для One-Hot Encoding в pandas есть готовая функция - get_dummies. Особенно радует параметр dummy_na\n",
    "# Сохраним названия городов - возможно, используем позже (get_dummies это делать, похоже, не умеет)\n",
    "data['City_name'] = data['City']\n",
    "data = pd.get_dummies(data, columns=['City'], dummy_na=False)"
   ]
  },
  {
   "cell_type": "code",
   "execution_count": 30,
   "metadata": {},
   "outputs": [
    {
     "data": {
      "text/html": [
       "<div>\n",
       "<style scoped>\n",
       "    .dataframe tbody tr th:only-of-type {\n",
       "        vertical-align: middle;\n",
       "    }\n",
       "\n",
       "    .dataframe tbody tr th {\n",
       "        vertical-align: top;\n",
       "    }\n",
       "\n",
       "    .dataframe thead th {\n",
       "        text-align: right;\n",
       "    }\n",
       "</style>\n",
       "<table border=\"1\" class=\"dataframe\">\n",
       "  <thead>\n",
       "    <tr style=\"text-align: right;\">\n",
       "      <th></th>\n",
       "      <th>Restaurant_id</th>\n",
       "      <th>Cuisine Style</th>\n",
       "      <th>Ranking</th>\n",
       "      <th>Price Range</th>\n",
       "      <th>Number of Reviews</th>\n",
       "      <th>Reviews</th>\n",
       "      <th>URL_TA</th>\n",
       "      <th>ID_TA</th>\n",
       "      <th>sample</th>\n",
       "      <th>Rating</th>\n",
       "      <th>...</th>\n",
       "      <th>City_Munich</th>\n",
       "      <th>City_Oporto</th>\n",
       "      <th>City_Oslo</th>\n",
       "      <th>City_Paris</th>\n",
       "      <th>City_Prague</th>\n",
       "      <th>City_Rome</th>\n",
       "      <th>City_Stockholm</th>\n",
       "      <th>City_Vienna</th>\n",
       "      <th>City_Warsaw</th>\n",
       "      <th>City_Zurich</th>\n",
       "    </tr>\n",
       "  </thead>\n",
       "  <tbody>\n",
       "    <tr>\n",
       "      <th>0</th>\n",
       "      <td>id_0</td>\n",
       "      <td>['Bar', 'Pub']</td>\n",
       "      <td>12963.0</td>\n",
       "      <td>$$ - $$$</td>\n",
       "      <td>4.0</td>\n",
       "      <td>[[], []]</td>\n",
       "      <td>/Restaurant_Review-g187147-d10746918-Reviews-L...</td>\n",
       "      <td>d10746918</td>\n",
       "      <td>0</td>\n",
       "      <td>0.0</td>\n",
       "      <td>...</td>\n",
       "      <td>0</td>\n",
       "      <td>0</td>\n",
       "      <td>0</td>\n",
       "      <td>1</td>\n",
       "      <td>0</td>\n",
       "      <td>0</td>\n",
       "      <td>0</td>\n",
       "      <td>0</td>\n",
       "      <td>0</td>\n",
       "      <td>0</td>\n",
       "    </tr>\n",
       "    <tr>\n",
       "      <th>1</th>\n",
       "      <td>id_1</td>\n",
       "      <td>['European', 'Scandinavian', 'Gluten Free Opti...</td>\n",
       "      <td>106.0</td>\n",
       "      <td>$$ - $$$</td>\n",
       "      <td>97.0</td>\n",
       "      <td>[['Very good reviews!', 'Fine dining in Hakani...</td>\n",
       "      <td>/Restaurant_Review-g189934-d6674944-Reviews-Ra...</td>\n",
       "      <td>d6674944</td>\n",
       "      <td>0</td>\n",
       "      <td>0.0</td>\n",
       "      <td>...</td>\n",
       "      <td>0</td>\n",
       "      <td>0</td>\n",
       "      <td>0</td>\n",
       "      <td>0</td>\n",
       "      <td>0</td>\n",
       "      <td>0</td>\n",
       "      <td>0</td>\n",
       "      <td>0</td>\n",
       "      <td>0</td>\n",
       "      <td>0</td>\n",
       "    </tr>\n",
       "    <tr>\n",
       "      <th>2</th>\n",
       "      <td>id_2</td>\n",
       "      <td>['Vegetarian Friendly']</td>\n",
       "      <td>810.0</td>\n",
       "      <td>$$ - $$$</td>\n",
       "      <td>28.0</td>\n",
       "      <td>[['Better than the Links', 'Ivy Black'], ['12/...</td>\n",
       "      <td>/Restaurant_Review-g186525-d13129638-Reviews-B...</td>\n",
       "      <td>d13129638</td>\n",
       "      <td>0</td>\n",
       "      <td>0.0</td>\n",
       "      <td>...</td>\n",
       "      <td>0</td>\n",
       "      <td>0</td>\n",
       "      <td>0</td>\n",
       "      <td>0</td>\n",
       "      <td>0</td>\n",
       "      <td>0</td>\n",
       "      <td>0</td>\n",
       "      <td>0</td>\n",
       "      <td>0</td>\n",
       "      <td>0</td>\n",
       "    </tr>\n",
       "    <tr>\n",
       "      <th>3</th>\n",
       "      <td>id_3</td>\n",
       "      <td>['Italian', 'Mediterranean', 'European', 'Vege...</td>\n",
       "      <td>1669.0</td>\n",
       "      <td>$$$$</td>\n",
       "      <td>202.0</td>\n",
       "      <td>[['Most exquisite', 'Delicious and authentic']...</td>\n",
       "      <td>/Restaurant_Review-g186338-d680417-Reviews-Qui...</td>\n",
       "      <td>d680417</td>\n",
       "      <td>0</td>\n",
       "      <td>0.0</td>\n",
       "      <td>...</td>\n",
       "      <td>0</td>\n",
       "      <td>0</td>\n",
       "      <td>0</td>\n",
       "      <td>0</td>\n",
       "      <td>0</td>\n",
       "      <td>0</td>\n",
       "      <td>0</td>\n",
       "      <td>0</td>\n",
       "      <td>0</td>\n",
       "      <td>0</td>\n",
       "    </tr>\n",
       "    <tr>\n",
       "      <th>4</th>\n",
       "      <td>id_4</td>\n",
       "      <td>['Italian', 'Mediterranean', 'European', 'Seaf...</td>\n",
       "      <td>37.0</td>\n",
       "      <td>$$$$</td>\n",
       "      <td>162.0</td>\n",
       "      <td>[['Always the best in bratislava', 'Very good ...</td>\n",
       "      <td>/Restaurant_Review-g274924-d1112354-Reviews-Ma...</td>\n",
       "      <td>d1112354</td>\n",
       "      <td>0</td>\n",
       "      <td>0.0</td>\n",
       "      <td>...</td>\n",
       "      <td>0</td>\n",
       "      <td>0</td>\n",
       "      <td>0</td>\n",
       "      <td>0</td>\n",
       "      <td>0</td>\n",
       "      <td>0</td>\n",
       "      <td>0</td>\n",
       "      <td>0</td>\n",
       "      <td>0</td>\n",
       "      <td>0</td>\n",
       "    </tr>\n",
       "  </tbody>\n",
       "</table>\n",
       "<p>5 rows × 46 columns</p>\n",
       "</div>"
      ],
      "text/plain": [
       "  Restaurant_id                                      Cuisine Style  Ranking  \\\n",
       "0          id_0                                     ['Bar', 'Pub']  12963.0   \n",
       "1          id_1  ['European', 'Scandinavian', 'Gluten Free Opti...    106.0   \n",
       "2          id_2                            ['Vegetarian Friendly']    810.0   \n",
       "3          id_3  ['Italian', 'Mediterranean', 'European', 'Vege...   1669.0   \n",
       "4          id_4  ['Italian', 'Mediterranean', 'European', 'Seaf...     37.0   \n",
       "\n",
       "  Price Range  Number of Reviews  \\\n",
       "0    $$ - $$$                4.0   \n",
       "1    $$ - $$$               97.0   \n",
       "2    $$ - $$$               28.0   \n",
       "3        $$$$              202.0   \n",
       "4        $$$$              162.0   \n",
       "\n",
       "                                             Reviews  \\\n",
       "0                                           [[], []]   \n",
       "1  [['Very good reviews!', 'Fine dining in Hakani...   \n",
       "2  [['Better than the Links', 'Ivy Black'], ['12/...   \n",
       "3  [['Most exquisite', 'Delicious and authentic']...   \n",
       "4  [['Always the best in bratislava', 'Very good ...   \n",
       "\n",
       "                                              URL_TA      ID_TA  sample  \\\n",
       "0  /Restaurant_Review-g187147-d10746918-Reviews-L...  d10746918       0   \n",
       "1  /Restaurant_Review-g189934-d6674944-Reviews-Ra...   d6674944       0   \n",
       "2  /Restaurant_Review-g186525-d13129638-Reviews-B...  d13129638       0   \n",
       "3  /Restaurant_Review-g186338-d680417-Reviews-Qui...    d680417       0   \n",
       "4  /Restaurant_Review-g274924-d1112354-Reviews-Ma...   d1112354       0   \n",
       "\n",
       "   Rating  ...  City_Munich  City_Oporto  City_Oslo  City_Paris City_Prague  \\\n",
       "0     0.0  ...            0            0          0           1           0   \n",
       "1     0.0  ...            0            0          0           0           0   \n",
       "2     0.0  ...            0            0          0           0           0   \n",
       "3     0.0  ...            0            0          0           0           0   \n",
       "4     0.0  ...            0            0          0           0           0   \n",
       "\n",
       "   City_Rome  City_Stockholm  City_Vienna  City_Warsaw  City_Zurich  \n",
       "0          0               0            0            0            0  \n",
       "1          0               0            0            0            0  \n",
       "2          0               0            0            0            0  \n",
       "3          0               0            0            0            0  \n",
       "4          0               0            0            0            0  \n",
       "\n",
       "[5 rows x 46 columns]"
      ]
     },
     "execution_count": 30,
     "metadata": {},
     "output_type": "execute_result"
    }
   ],
   "source": [
    "data.head(5)"
   ]
  },
  {
   "cell_type": "code",
   "execution_count": 31,
   "metadata": {},
   "outputs": [
    {
     "data": {
      "text/html": [
       "<div>\n",
       "<style scoped>\n",
       "    .dataframe tbody tr th:only-of-type {\n",
       "        vertical-align: middle;\n",
       "    }\n",
       "\n",
       "    .dataframe tbody tr th {\n",
       "        vertical-align: top;\n",
       "    }\n",
       "\n",
       "    .dataframe thead th {\n",
       "        text-align: right;\n",
       "    }\n",
       "</style>\n",
       "<table border=\"1\" class=\"dataframe\">\n",
       "  <thead>\n",
       "    <tr style=\"text-align: right;\">\n",
       "      <th></th>\n",
       "      <th>Restaurant_id</th>\n",
       "      <th>Cuisine Style</th>\n",
       "      <th>Ranking</th>\n",
       "      <th>Price Range</th>\n",
       "      <th>Number of Reviews</th>\n",
       "      <th>Reviews</th>\n",
       "      <th>URL_TA</th>\n",
       "      <th>ID_TA</th>\n",
       "      <th>sample</th>\n",
       "      <th>Rating</th>\n",
       "      <th>...</th>\n",
       "      <th>City_Munich</th>\n",
       "      <th>City_Oporto</th>\n",
       "      <th>City_Oslo</th>\n",
       "      <th>City_Paris</th>\n",
       "      <th>City_Prague</th>\n",
       "      <th>City_Rome</th>\n",
       "      <th>City_Stockholm</th>\n",
       "      <th>City_Vienna</th>\n",
       "      <th>City_Warsaw</th>\n",
       "      <th>City_Zurich</th>\n",
       "    </tr>\n",
       "  </thead>\n",
       "  <tbody>\n",
       "    <tr>\n",
       "      <th>7338</th>\n",
       "      <td>id_7338</td>\n",
       "      <td>NaN</td>\n",
       "      <td>8703.0</td>\n",
       "      <td>$$ - $$$</td>\n",
       "      <td>8.0</td>\n",
       "      <td>[['Great little Cafe', 'Mini break to London']...</td>\n",
       "      <td>/Restaurant_Review-g186338-d10643035-Reviews-G...</td>\n",
       "      <td>d10643035</td>\n",
       "      <td>0</td>\n",
       "      <td>0.0</td>\n",
       "      <td>...</td>\n",
       "      <td>0</td>\n",
       "      <td>0</td>\n",
       "      <td>0</td>\n",
       "      <td>0</td>\n",
       "      <td>0</td>\n",
       "      <td>0</td>\n",
       "      <td>0</td>\n",
       "      <td>0</td>\n",
       "      <td>0</td>\n",
       "      <td>0</td>\n",
       "    </tr>\n",
       "    <tr>\n",
       "      <th>46925</th>\n",
       "      <td>id_1376</td>\n",
       "      <td>NaN</td>\n",
       "      <td>1378.0</td>\n",
       "      <td>$$ - $$$</td>\n",
       "      <td>2.0</td>\n",
       "      <td>[['Best little secret on the block.'], ['09/27...</td>\n",
       "      <td>/Restaurant_Review-g806262-d11538820-Reviews-F...</td>\n",
       "      <td>d11538820</td>\n",
       "      <td>1</td>\n",
       "      <td>4.5</td>\n",
       "      <td>...</td>\n",
       "      <td>0</td>\n",
       "      <td>0</td>\n",
       "      <td>0</td>\n",
       "      <td>0</td>\n",
       "      <td>0</td>\n",
       "      <td>0</td>\n",
       "      <td>0</td>\n",
       "      <td>0</td>\n",
       "      <td>0</td>\n",
       "      <td>0</td>\n",
       "    </tr>\n",
       "    <tr>\n",
       "      <th>5785</th>\n",
       "      <td>id_5785</td>\n",
       "      <td>['Italian', 'Pizza', 'Seafood', 'Mediterranean...</td>\n",
       "      <td>2166.0</td>\n",
       "      <td>$$ - $$$</td>\n",
       "      <td>138.0</td>\n",
       "      <td>[['Consistently enjoyable', 'Mediocre'], ['07/...</td>\n",
       "      <td>/Restaurant_Review-g187849-d1626299-Reviews-Ve...</td>\n",
       "      <td>d1626299</td>\n",
       "      <td>0</td>\n",
       "      <td>0.0</td>\n",
       "      <td>...</td>\n",
       "      <td>0</td>\n",
       "      <td>0</td>\n",
       "      <td>0</td>\n",
       "      <td>0</td>\n",
       "      <td>0</td>\n",
       "      <td>0</td>\n",
       "      <td>0</td>\n",
       "      <td>0</td>\n",
       "      <td>0</td>\n",
       "      <td>0</td>\n",
       "    </tr>\n",
       "    <tr>\n",
       "      <th>6879</th>\n",
       "      <td>id_6879</td>\n",
       "      <td>NaN</td>\n",
       "      <td>9765.0</td>\n",
       "      <td>$$ - $$$</td>\n",
       "      <td>47.0</td>\n",
       "      <td>[['Great food', 'Reasonable but nothing specia...</td>\n",
       "      <td>/Restaurant_Review-g187147-d10681483-Reviews-T...</td>\n",
       "      <td>d10681483</td>\n",
       "      <td>0</td>\n",
       "      <td>0.0</td>\n",
       "      <td>...</td>\n",
       "      <td>0</td>\n",
       "      <td>0</td>\n",
       "      <td>0</td>\n",
       "      <td>1</td>\n",
       "      <td>0</td>\n",
       "      <td>0</td>\n",
       "      <td>0</td>\n",
       "      <td>0</td>\n",
       "      <td>0</td>\n",
       "      <td>0</td>\n",
       "    </tr>\n",
       "    <tr>\n",
       "      <th>13520</th>\n",
       "      <td>id_1534</td>\n",
       "      <td>['Lebanese', 'Mediterranean', 'Middle Eastern'...</td>\n",
       "      <td>1535.0</td>\n",
       "      <td>$</td>\n",
       "      <td>36.0</td>\n",
       "      <td>[['Really good expensive falafel', 'nice menu ...</td>\n",
       "      <td>/Restaurant_Review-g188644-d6509351-Reviews-Ch...</td>\n",
       "      <td>d6509351</td>\n",
       "      <td>1</td>\n",
       "      <td>4.0</td>\n",
       "      <td>...</td>\n",
       "      <td>0</td>\n",
       "      <td>0</td>\n",
       "      <td>0</td>\n",
       "      <td>0</td>\n",
       "      <td>0</td>\n",
       "      <td>0</td>\n",
       "      <td>0</td>\n",
       "      <td>0</td>\n",
       "      <td>0</td>\n",
       "      <td>0</td>\n",
       "    </tr>\n",
       "  </tbody>\n",
       "</table>\n",
       "<p>5 rows × 46 columns</p>\n",
       "</div>"
      ],
      "text/plain": [
       "      Restaurant_id                                      Cuisine Style  \\\n",
       "7338        id_7338                                                NaN   \n",
       "46925       id_1376                                                NaN   \n",
       "5785        id_5785  ['Italian', 'Pizza', 'Seafood', 'Mediterranean...   \n",
       "6879        id_6879                                                NaN   \n",
       "13520       id_1534  ['Lebanese', 'Mediterranean', 'Middle Eastern'...   \n",
       "\n",
       "       Ranking Price Range  Number of Reviews  \\\n",
       "7338    8703.0    $$ - $$$                8.0   \n",
       "46925   1378.0    $$ - $$$                2.0   \n",
       "5785    2166.0    $$ - $$$              138.0   \n",
       "6879    9765.0    $$ - $$$               47.0   \n",
       "13520   1535.0           $               36.0   \n",
       "\n",
       "                                                 Reviews  \\\n",
       "7338   [['Great little Cafe', 'Mini break to London']...   \n",
       "46925  [['Best little secret on the block.'], ['09/27...   \n",
       "5785   [['Consistently enjoyable', 'Mediocre'], ['07/...   \n",
       "6879   [['Great food', 'Reasonable but nothing specia...   \n",
       "13520  [['Really good expensive falafel', 'nice menu ...   \n",
       "\n",
       "                                                  URL_TA      ID_TA  sample  \\\n",
       "7338   /Restaurant_Review-g186338-d10643035-Reviews-G...  d10643035       0   \n",
       "46925  /Restaurant_Review-g806262-d11538820-Reviews-F...  d11538820       1   \n",
       "5785   /Restaurant_Review-g187849-d1626299-Reviews-Ve...   d1626299       0   \n",
       "6879   /Restaurant_Review-g187147-d10681483-Reviews-T...  d10681483       0   \n",
       "13520  /Restaurant_Review-g188644-d6509351-Reviews-Ch...   d6509351       1   \n",
       "\n",
       "       Rating  ...  City_Munich  City_Oporto  City_Oslo  City_Paris  \\\n",
       "7338      0.0  ...            0            0          0           0   \n",
       "46925     4.5  ...            0            0          0           0   \n",
       "5785      0.0  ...            0            0          0           0   \n",
       "6879      0.0  ...            0            0          0           1   \n",
       "13520     4.0  ...            0            0          0           0   \n",
       "\n",
       "      City_Prague  City_Rome  City_Stockholm  City_Vienna  City_Warsaw  \\\n",
       "7338            0          0               0            0            0   \n",
       "46925           0          0               0            0            0   \n",
       "5785            0          0               0            0            0   \n",
       "6879            0          0               0            0            0   \n",
       "13520           0          0               0            0            0   \n",
       "\n",
       "       City_Zurich  \n",
       "7338             0  \n",
       "46925            0  \n",
       "5785             0  \n",
       "6879             0  \n",
       "13520            0  \n",
       "\n",
       "[5 rows x 46 columns]"
      ]
     },
     "execution_count": 31,
     "metadata": {},
     "output_type": "execute_result"
    }
   ],
   "source": [
    "data.sample(5)"
   ]
  },
  {
   "cell_type": "markdown",
   "metadata": {},
   "source": [
    "#### Price Range"
   ]
  },
  {
   "cell_type": "code",
   "execution_count": 32,
   "metadata": {},
   "outputs": [
    {
     "data": {
      "text/plain": [
       "$$ - $$$    40402\n",
       "$            7816\n",
       "$$$$         1782\n",
       "Name: Price Range, dtype: int64"
      ]
     },
     "execution_count": 32,
     "metadata": {},
     "output_type": "execute_result"
    }
   ],
   "source": [
    "data['Price Range'].value_counts()"
   ]
  },
  {
   "cell_type": "markdown",
   "metadata": {},
   "source": [
    "По описанию 'Price Range' - это ценовой диапазон ресторана.  \n",
    "Это ординальный признак, т.к. значения можно выстроить по возрастанию. Поэтому заменим обозначения цены соответственно на 1, 2 и 3."
   ]
  },
  {
   "cell_type": "code",
   "execution_count": 33,
   "metadata": {},
   "outputs": [],
   "source": [
    "def price_range_to_num(val):\n",
    "    '''\n",
    "    Конвертирует строковое значение ценового диапазона на\n",
    "    числовое, e.g.:\n",
    "    $:                   1 \n",
    "    $$-$$$:              2\n",
    "    в остальных случаях: 3\n",
    "    Returns:\n",
    "        Числовое значение соответствующее ценовому диапазону\n",
    "    '''\n",
    "    if val == '$':        \n",
    "        return 1\n",
    "    elif val == '$$ - $$$':\n",
    "        return 2\n",
    "    elif val == '$$$$':\n",
    "        return 3\n",
    "    else:\n",
    "        val\n",
    "    \n",
    "    \n",
    "data['Price Range'] = data['Price Range'].apply(price_range_to_num)"
   ]
  },
  {
   "cell_type": "code",
   "execution_count": 34,
   "metadata": {},
   "outputs": [
    {
     "data": {
      "text/plain": [
       "2    40402\n",
       "1     7816\n",
       "3     1782\n",
       "Name: Price Range, dtype: int64"
      ]
     },
     "execution_count": 34,
     "metadata": {},
     "output_type": "execute_result"
    }
   ],
   "source": [
    "data['Price Range'].value_counts()"
   ]
  },
  {
   "cell_type": "markdown",
   "metadata": {},
   "source": [
    "> Для некоторых алгоритмов МЛ даже для не категориальных признаков можно применить One-Hot Encoding, и это может улучшить качество модели. Пробуйте разные подходы к кодированию признака - никто не знает заранее, что может взлететь."
   ]
  },
  {
   "cell_type": "markdown",
   "metadata": {},
   "source": [
    "Создание dummy-переменных для Price Range не улучшило модель"
   ]
  },
  {
   "cell_type": "markdown",
   "metadata": {},
   "source": [
    "#### Reviews\n",
    "Данный признак содержит сложное значение (list of lists) как строку содержащую два последних ревью и даты их опубликования."
   ]
  },
  {
   "cell_type": "code",
   "execution_count": 35,
   "metadata": {},
   "outputs": [
    {
     "data": {
      "text/plain": [
       "\"[['Very good reviews!', 'Fine dining in Hakaniemi'], ['12/05/2017', '10/29/2017']]\""
      ]
     },
     "execution_count": 35,
     "metadata": {},
     "output_type": "execute_result"
    }
   ],
   "source": [
    "data['Reviews'][1]"
   ]
  },
  {
   "cell_type": "code",
   "execution_count": 36,
   "metadata": {},
   "outputs": [
    {
     "data": {
      "text/plain": [
       "2"
      ]
     },
     "execution_count": 36,
     "metadata": {},
     "output_type": "execute_result"
    }
   ],
   "source": [
    "# сначала пропущенные значения\n",
    "sum(data['Reviews'].isna())"
   ]
  },
  {
   "cell_type": "code",
   "execution_count": 37,
   "metadata": {},
   "outputs": [],
   "source": [
    "data['Reviews'].fillna('[[], []]', inplace=True)"
   ]
  },
  {
   "cell_type": "markdown",
   "metadata": {},
   "source": [
    "Оценивать тональность отзывов в данной работе я не буду, так как еще не умею."
   ]
  },
  {
   "cell_type": "markdown",
   "metadata": {},
   "source": [
    "На основе дат добавим признаки количества дней между двумя послденими ревью и количество дней с момента последнего ревью"
   ]
  },
  {
   "cell_type": "markdown",
   "metadata": {},
   "source": [
    "Для того, чтобы вытащить даты, применим регулярное выражение для поиска паттерна даты, а затем используем функцию to_datetime. Проверено, конструкция datetime.strptime(item, '%m/%d/%Y') не обрабатывает одну дату с измененным форматом, поэтому используем to_datetime."
   ]
  },
  {
   "cell_type": "code",
   "execution_count": 38,
   "metadata": {},
   "outputs": [
    {
     "data": {
      "text/html": [
       "<div>\n",
       "<style scoped>\n",
       "    .dataframe tbody tr th:only-of-type {\n",
       "        vertical-align: middle;\n",
       "    }\n",
       "\n",
       "    .dataframe tbody tr th {\n",
       "        vertical-align: top;\n",
       "    }\n",
       "\n",
       "    .dataframe thead th {\n",
       "        text-align: right;\n",
       "    }\n",
       "</style>\n",
       "<table border=\"1\" class=\"dataframe\">\n",
       "  <thead>\n",
       "    <tr style=\"text-align: right;\">\n",
       "      <th></th>\n",
       "      <th>date1</th>\n",
       "      <th>date2</th>\n",
       "    </tr>\n",
       "  </thead>\n",
       "  <tbody>\n",
       "    <tr>\n",
       "      <th>4700</th>\n",
       "      <td>2016-11-14</td>\n",
       "      <td>2016-10-01</td>\n",
       "    </tr>\n",
       "    <tr>\n",
       "      <th>4386</th>\n",
       "      <td>2017-11-23</td>\n",
       "      <td>2017-10-23</td>\n",
       "    </tr>\n",
       "    <tr>\n",
       "      <th>49081</th>\n",
       "      <td>2017-12-21</td>\n",
       "      <td>2017-12-10</td>\n",
       "    </tr>\n",
       "    <tr>\n",
       "      <th>45860</th>\n",
       "      <td>2017-11-05</td>\n",
       "      <td>2017-03-02</td>\n",
       "    </tr>\n",
       "    <tr>\n",
       "      <th>10433</th>\n",
       "      <td>2017-12-02</td>\n",
       "      <td>2016-09-12</td>\n",
       "    </tr>\n",
       "  </tbody>\n",
       "</table>\n",
       "</div>"
      ],
      "text/plain": [
       "           date1      date2\n",
       "4700  2016-11-14 2016-10-01\n",
       "4386  2017-11-23 2017-10-23\n",
       "49081 2017-12-21 2017-12-10\n",
       "45860 2017-11-05 2017-03-02\n",
       "10433 2017-12-02 2016-09-12"
      ]
     },
     "metadata": {},
     "output_type": "display_data"
    }
   ],
   "source": [
    "# паттерн для поиска дат\n",
    "pattern = re.compile('\\'\\d+\\/\\d+\\/\\d+\\'')\n",
    "dates = data['Reviews'].apply(pattern.findall)\n",
    "# врeменные признаки\n",
    "data['date1'] = pd.to_datetime(dates.apply(lambda x: x[0] if len(x) > 0 else None))\n",
    "data['date2'] = pd.to_datetime(dates.apply(lambda x: x[1] if len(x) > 1 else None))\n",
    "\n",
    "display(data.loc[:, ['date1', 'date2']].sample(5))"
   ]
  },
  {
   "cell_type": "markdown",
   "metadata": {},
   "source": [
    "#### reviews_day_delta & reviews_days_since"
   ]
  },
  {
   "cell_type": "code",
   "execution_count": 39,
   "metadata": {},
   "outputs": [],
   "source": [
    "def days_since_last_review(r):\n",
    "    '''\n",
    "    Считает количество дней с последней даты ревью данной записи\n",
    "    датасета. Учитывает отсутствие одной из дат и пропуск (возвращает\n",
    "    0 в последнем случае)\n",
    "    '''\n",
    "    datetime_now = datetime.now();\n",
    "    if pd.notna(r.date1) and pd.notna(r.date2):\n",
    "        if r.date1 > r.date2:\n",
    "            return (datetime_now - r.date1).days\n",
    "        else:\n",
    "            return (datetime_now - r.date2).days\n",
    "    else:\n",
    "        if pd.notna(r.date1):\n",
    "            return (datetime_now - r.date1).days\n",
    "        if pd.notna(r.date2):\n",
    "            return (datetime_now - r.date2).days        \n",
    "    return 0 \n",
    "\n",
    "\n",
    "def reviews_days_delta(r):\n",
    "    '''\n",
    "    Возвращает количество дней между двумя датами ревью в данной записи\n",
    "    датасета. Учитывает отсутствие (одной из) дат - возвращает 0 в данном\n",
    "    случае.\n",
    "    '''\n",
    "    if pd.notna(r.date1) and pd.notna(r.date2):\n",
    "        return abs((r.date1 - r.date2).days)\n",
    "    else:\n",
    "        return 0\n",
    "\n",
    "# новые признаки на основе дат последних ревью: количество дней между\n",
    "# двумя последними ревью и количество дней со времени последнего ревью\n",
    "data['Reviews Days Delta'] = data.apply(lambda row: reviews_days_delta(row), axis=1)\n",
    "data['Reviews Days Since'] = data.apply(lambda row: days_since_last_review(row), axis=1)\n",
    "# удаляем временные признаки\n",
    "data.drop(['date1', 'date2'], inplace=True, axis=1)"
   ]
  },
  {
   "cell_type": "code",
   "execution_count": 40,
   "metadata": {},
   "outputs": [
    {
     "data": {
      "text/html": [
       "<div>\n",
       "<style scoped>\n",
       "    .dataframe tbody tr th:only-of-type {\n",
       "        vertical-align: middle;\n",
       "    }\n",
       "\n",
       "    .dataframe tbody tr th {\n",
       "        vertical-align: top;\n",
       "    }\n",
       "\n",
       "    .dataframe thead th {\n",
       "        text-align: right;\n",
       "    }\n",
       "</style>\n",
       "<table border=\"1\" class=\"dataframe\">\n",
       "  <thead>\n",
       "    <tr style=\"text-align: right;\">\n",
       "      <th></th>\n",
       "      <th>Restaurant_id</th>\n",
       "      <th>Cuisine Style</th>\n",
       "      <th>Ranking</th>\n",
       "      <th>Price Range</th>\n",
       "      <th>Number of Reviews</th>\n",
       "      <th>Reviews</th>\n",
       "      <th>URL_TA</th>\n",
       "      <th>ID_TA</th>\n",
       "      <th>sample</th>\n",
       "      <th>Rating</th>\n",
       "      <th>...</th>\n",
       "      <th>City_Oslo</th>\n",
       "      <th>City_Paris</th>\n",
       "      <th>City_Prague</th>\n",
       "      <th>City_Rome</th>\n",
       "      <th>City_Stockholm</th>\n",
       "      <th>City_Vienna</th>\n",
       "      <th>City_Warsaw</th>\n",
       "      <th>City_Zurich</th>\n",
       "      <th>Reviews Days Delta</th>\n",
       "      <th>Reviews Days Since</th>\n",
       "    </tr>\n",
       "  </thead>\n",
       "  <tbody>\n",
       "    <tr>\n",
       "      <th>42538</th>\n",
       "      <td>id_1940</td>\n",
       "      <td>NaN</td>\n",
       "      <td>1945.0</td>\n",
       "      <td>2</td>\n",
       "      <td>22.0</td>\n",
       "      <td>[['Lunch at IJ-front', 'Nice location'], ['08/...</td>\n",
       "      <td>/Restaurant_Review-g188590-d1232088-Reviews-Ko...</td>\n",
       "      <td>d1232088</td>\n",
       "      <td>1</td>\n",
       "      <td>4.0</td>\n",
       "      <td>...</td>\n",
       "      <td>0</td>\n",
       "      <td>0</td>\n",
       "      <td>0</td>\n",
       "      <td>0</td>\n",
       "      <td>0</td>\n",
       "      <td>0</td>\n",
       "      <td>0</td>\n",
       "      <td>0</td>\n",
       "      <td>59</td>\n",
       "      <td>1290</td>\n",
       "    </tr>\n",
       "    <tr>\n",
       "      <th>12910</th>\n",
       "      <td>id_3886</td>\n",
       "      <td>NaN</td>\n",
       "      <td>3887.0</td>\n",
       "      <td>2</td>\n",
       "      <td>6.0</td>\n",
       "      <td>[['locl restaurant', 'A hidden heaven in the h...</td>\n",
       "      <td>/Restaurant_Review-g187497-d986345-Reviews-Res...</td>\n",
       "      <td>d986345</td>\n",
       "      <td>1</td>\n",
       "      <td>4.5</td>\n",
       "      <td>...</td>\n",
       "      <td>0</td>\n",
       "      <td>0</td>\n",
       "      <td>0</td>\n",
       "      <td>0</td>\n",
       "      <td>0</td>\n",
       "      <td>0</td>\n",
       "      <td>0</td>\n",
       "      <td>0</td>\n",
       "      <td>1960</td>\n",
       "      <td>1242</td>\n",
       "    </tr>\n",
       "    <tr>\n",
       "      <th>47425</th>\n",
       "      <td>id_5303</td>\n",
       "      <td>NaN</td>\n",
       "      <td>5305.0</td>\n",
       "      <td>2</td>\n",
       "      <td>3.0</td>\n",
       "      <td>[['Nice cafe'], ['06/19/2016']]</td>\n",
       "      <td>/Restaurant_Review-g187323-d1341006-Reviews-Ba...</td>\n",
       "      <td>d1341006</td>\n",
       "      <td>1</td>\n",
       "      <td>4.0</td>\n",
       "      <td>...</td>\n",
       "      <td>0</td>\n",
       "      <td>0</td>\n",
       "      <td>0</td>\n",
       "      <td>0</td>\n",
       "      <td>0</td>\n",
       "      <td>0</td>\n",
       "      <td>0</td>\n",
       "      <td>0</td>\n",
       "      <td>0</td>\n",
       "      <td>1773</td>\n",
       "    </tr>\n",
       "    <tr>\n",
       "      <th>27002</th>\n",
       "      <td>id_5252</td>\n",
       "      <td>['Seafood', 'French']</td>\n",
       "      <td>5253.0</td>\n",
       "      <td>3</td>\n",
       "      <td>106.0</td>\n",
       "      <td>[['Good but there is a comfortable room for i....</td>\n",
       "      <td>/Restaurant_Review-g187147-d4271843-Reviews-A_...</td>\n",
       "      <td>d4271843</td>\n",
       "      <td>1</td>\n",
       "      <td>3.5</td>\n",
       "      <td>...</td>\n",
       "      <td>0</td>\n",
       "      <td>1</td>\n",
       "      <td>0</td>\n",
       "      <td>0</td>\n",
       "      <td>0</td>\n",
       "      <td>0</td>\n",
       "      <td>0</td>\n",
       "      <td>0</td>\n",
       "      <td>22</td>\n",
       "      <td>1497</td>\n",
       "    </tr>\n",
       "    <tr>\n",
       "      <th>16928</th>\n",
       "      <td>id_4939</td>\n",
       "      <td>['Mediterranean', 'Turkish', 'Barbecue', 'Midd...</td>\n",
       "      <td>4948.0</td>\n",
       "      <td>2</td>\n",
       "      <td>79.0</td>\n",
       "      <td>[['One of best Turkish restaurants that I lov....</td>\n",
       "      <td>/Restaurant_Review-g186338-d1062182-Reviews-19...</td>\n",
       "      <td>d1062182</td>\n",
       "      <td>1</td>\n",
       "      <td>4.5</td>\n",
       "      <td>...</td>\n",
       "      <td>0</td>\n",
       "      <td>0</td>\n",
       "      <td>0</td>\n",
       "      <td>0</td>\n",
       "      <td>0</td>\n",
       "      <td>0</td>\n",
       "      <td>0</td>\n",
       "      <td>0</td>\n",
       "      <td>52</td>\n",
       "      <td>1287</td>\n",
       "    </tr>\n",
       "  </tbody>\n",
       "</table>\n",
       "<p>5 rows × 48 columns</p>\n",
       "</div>"
      ],
      "text/plain": [
       "      Restaurant_id                                      Cuisine Style  \\\n",
       "42538       id_1940                                                NaN   \n",
       "12910       id_3886                                                NaN   \n",
       "47425       id_5303                                                NaN   \n",
       "27002       id_5252                              ['Seafood', 'French']   \n",
       "16928       id_4939  ['Mediterranean', 'Turkish', 'Barbecue', 'Midd...   \n",
       "\n",
       "       Ranking  Price Range  Number of Reviews  \\\n",
       "42538   1945.0            2               22.0   \n",
       "12910   3887.0            2                6.0   \n",
       "47425   5305.0            2                3.0   \n",
       "27002   5253.0            3              106.0   \n",
       "16928   4948.0            2               79.0   \n",
       "\n",
       "                                                 Reviews  \\\n",
       "42538  [['Lunch at IJ-front', 'Nice location'], ['08/...   \n",
       "12910  [['locl restaurant', 'A hidden heaven in the h...   \n",
       "47425                    [['Nice cafe'], ['06/19/2016']]   \n",
       "27002  [['Good but there is a comfortable room for i....   \n",
       "16928  [['One of best Turkish restaurants that I lov....   \n",
       "\n",
       "                                                  URL_TA     ID_TA  sample  \\\n",
       "42538  /Restaurant_Review-g188590-d1232088-Reviews-Ko...  d1232088       1   \n",
       "12910  /Restaurant_Review-g187497-d986345-Reviews-Res...   d986345       1   \n",
       "47425  /Restaurant_Review-g187323-d1341006-Reviews-Ba...  d1341006       1   \n",
       "27002  /Restaurant_Review-g187147-d4271843-Reviews-A_...  d4271843       1   \n",
       "16928  /Restaurant_Review-g186338-d1062182-Reviews-19...  d1062182       1   \n",
       "\n",
       "       Rating  ...  City_Oslo  City_Paris  City_Prague  City_Rome  \\\n",
       "42538     4.0  ...          0           0            0          0   \n",
       "12910     4.5  ...          0           0            0          0   \n",
       "47425     4.0  ...          0           0            0          0   \n",
       "27002     3.5  ...          0           1            0          0   \n",
       "16928     4.5  ...          0           0            0          0   \n",
       "\n",
       "      City_Stockholm  City_Vienna  City_Warsaw  City_Zurich  \\\n",
       "42538              0            0            0            0   \n",
       "12910              0            0            0            0   \n",
       "47425              0            0            0            0   \n",
       "27002              0            0            0            0   \n",
       "16928              0            0            0            0   \n",
       "\n",
       "       Reviews Days Delta  Reviews Days Since  \n",
       "42538                  59                1290  \n",
       "12910                1960                1242  \n",
       "47425                   0                1773  \n",
       "27002                  22                1497  \n",
       "16928                  52                1287  \n",
       "\n",
       "[5 rows x 48 columns]"
      ]
     },
     "metadata": {},
     "output_type": "display_data"
    }
   ],
   "source": [
    "display(data.sample(5))"
   ]
  },
  {
   "cell_type": "markdown",
   "metadata": {},
   "source": [
    "#### Ranking\n",
    "ranking, возможно, полезнее рассматривать в контексте населения города и количества ресторанов в городе - создим новые признаки для этого.\n",
    "\n",
    "#### Ranking To Rest Num & Ranking To Population"
   ]
  },
  {
   "cell_type": "code",
   "execution_count": 41,
   "metadata": {},
   "outputs": [
    {
     "data": {
      "text/html": [
       "<div>\n",
       "<style scoped>\n",
       "    .dataframe tbody tr th:only-of-type {\n",
       "        vertical-align: middle;\n",
       "    }\n",
       "\n",
       "    .dataframe tbody tr th {\n",
       "        vertical-align: top;\n",
       "    }\n",
       "\n",
       "    .dataframe thead th {\n",
       "        text-align: right;\n",
       "    }\n",
       "</style>\n",
       "<table border=\"1\" class=\"dataframe\">\n",
       "  <thead>\n",
       "    <tr style=\"text-align: right;\">\n",
       "      <th></th>\n",
       "      <th>Restaurant_id</th>\n",
       "      <th>Cuisine Style</th>\n",
       "      <th>Ranking</th>\n",
       "      <th>Price Range</th>\n",
       "      <th>Number of Reviews</th>\n",
       "      <th>Reviews</th>\n",
       "      <th>URL_TA</th>\n",
       "      <th>ID_TA</th>\n",
       "      <th>sample</th>\n",
       "      <th>Rating</th>\n",
       "      <th>...</th>\n",
       "      <th>City_Prague</th>\n",
       "      <th>City_Rome</th>\n",
       "      <th>City_Stockholm</th>\n",
       "      <th>City_Vienna</th>\n",
       "      <th>City_Warsaw</th>\n",
       "      <th>City_Zurich</th>\n",
       "      <th>Reviews Days Delta</th>\n",
       "      <th>Reviews Days Since</th>\n",
       "      <th>Ranking To Rest Num</th>\n",
       "      <th>Ranking To Population</th>\n",
       "    </tr>\n",
       "  </thead>\n",
       "  <tbody>\n",
       "    <tr>\n",
       "      <th>32738</th>\n",
       "      <td>id_8828</td>\n",
       "      <td>NaN</td>\n",
       "      <td>8830.0</td>\n",
       "      <td>2</td>\n",
       "      <td>2.0</td>\n",
       "      <td>[[], []]</td>\n",
       "      <td>/Restaurant_Review-g187147-d1035196-Reviews-La...</td>\n",
       "      <td>d1035196</td>\n",
       "      <td>1</td>\n",
       "      <td>4.5</td>\n",
       "      <td>...</td>\n",
       "      <td>0</td>\n",
       "      <td>0</td>\n",
       "      <td>0</td>\n",
       "      <td>0</td>\n",
       "      <td>0</td>\n",
       "      <td>0</td>\n",
       "      <td>0</td>\n",
       "      <td>0</td>\n",
       "      <td>1.445645</td>\n",
       "      <td>0.677979</td>\n",
       "    </tr>\n",
       "    <tr>\n",
       "      <th>37197</th>\n",
       "      <td>id_891</td>\n",
       "      <td>['Mediterranean', 'European', 'Spanish', 'Vege...</td>\n",
       "      <td>892.0</td>\n",
       "      <td>2</td>\n",
       "      <td>284.0</td>\n",
       "      <td>[['Tomato bread', 'Great place!'], ['09/23/201...</td>\n",
       "      <td>/Restaurant_Review-g187497-d7132762-Reviews-Re...</td>\n",
       "      <td>d7132762</td>\n",
       "      <td>1</td>\n",
       "      <td>4.0</td>\n",
       "      <td>...</td>\n",
       "      <td>0</td>\n",
       "      <td>0</td>\n",
       "      <td>0</td>\n",
       "      <td>0</td>\n",
       "      <td>0</td>\n",
       "      <td>0</td>\n",
       "      <td>51</td>\n",
       "      <td>1312</td>\n",
       "      <td>0.262739</td>\n",
       "      <td>0.162952</td>\n",
       "    </tr>\n",
       "    <tr>\n",
       "      <th>10377</th>\n",
       "      <td>id_4294</td>\n",
       "      <td>['French', 'European']</td>\n",
       "      <td>4295.0</td>\n",
       "      <td>2</td>\n",
       "      <td>69.0</td>\n",
       "      <td>[['Perfect for a simple lunch', 'Delicious'], ...</td>\n",
       "      <td>/Restaurant_Review-g187147-d798936-Reviews-Le_...</td>\n",
       "      <td>d798936</td>\n",
       "      <td>1</td>\n",
       "      <td>4.0</td>\n",
       "      <td>...</td>\n",
       "      <td>0</td>\n",
       "      <td>0</td>\n",
       "      <td>0</td>\n",
       "      <td>0</td>\n",
       "      <td>0</td>\n",
       "      <td>0</td>\n",
       "      <td>169</td>\n",
       "      <td>1209</td>\n",
       "      <td>0.703176</td>\n",
       "      <td>0.329776</td>\n",
       "    </tr>\n",
       "    <tr>\n",
       "      <th>42047</th>\n",
       "      <td>id_935</td>\n",
       "      <td>['Steakhouse', 'Mediterranean', 'European', 'S...</td>\n",
       "      <td>936.0</td>\n",
       "      <td>2</td>\n",
       "      <td>275.0</td>\n",
       "      <td>[['Really nice \"barrio\" restaurant. Spanish......</td>\n",
       "      <td>/Restaurant_Review-g187514-d2706270-Reviews-Ca...</td>\n",
       "      <td>d2706270</td>\n",
       "      <td>1</td>\n",
       "      <td>4.0</td>\n",
       "      <td>...</td>\n",
       "      <td>0</td>\n",
       "      <td>0</td>\n",
       "      <td>0</td>\n",
       "      <td>0</td>\n",
       "      <td>0</td>\n",
       "      <td>0</td>\n",
       "      <td>71</td>\n",
       "      <td>1325</td>\n",
       "      <td>0.245476</td>\n",
       "      <td>0.137829</td>\n",
       "    </tr>\n",
       "    <tr>\n",
       "      <th>20590</th>\n",
       "      <td>id_4717</td>\n",
       "      <td>NaN</td>\n",
       "      <td>4718.0</td>\n",
       "      <td>2</td>\n",
       "      <td>3.0</td>\n",
       "      <td>[[], []]</td>\n",
       "      <td>/Restaurant_Review-g187497-d9994264-Reviews-Bo...</td>\n",
       "      <td>d9994264</td>\n",
       "      <td>1</td>\n",
       "      <td>4.5</td>\n",
       "      <td>...</td>\n",
       "      <td>0</td>\n",
       "      <td>0</td>\n",
       "      <td>0</td>\n",
       "      <td>0</td>\n",
       "      <td>0</td>\n",
       "      <td>0</td>\n",
       "      <td>0</td>\n",
       "      <td>0</td>\n",
       "      <td>1.389691</td>\n",
       "      <td>0.861893</td>\n",
       "    </tr>\n",
       "  </tbody>\n",
       "</table>\n",
       "<p>5 rows × 50 columns</p>\n",
       "</div>"
      ],
      "text/plain": [
       "      Restaurant_id                                      Cuisine Style  \\\n",
       "32738       id_8828                                                NaN   \n",
       "37197        id_891  ['Mediterranean', 'European', 'Spanish', 'Vege...   \n",
       "10377       id_4294                             ['French', 'European']   \n",
       "42047        id_935  ['Steakhouse', 'Mediterranean', 'European', 'S...   \n",
       "20590       id_4717                                                NaN   \n",
       "\n",
       "       Ranking  Price Range  Number of Reviews  \\\n",
       "32738   8830.0            2                2.0   \n",
       "37197    892.0            2              284.0   \n",
       "10377   4295.0            2               69.0   \n",
       "42047    936.0            2              275.0   \n",
       "20590   4718.0            2                3.0   \n",
       "\n",
       "                                                 Reviews  \\\n",
       "32738                                           [[], []]   \n",
       "37197  [['Tomato bread', 'Great place!'], ['09/23/201...   \n",
       "10377  [['Perfect for a simple lunch', 'Delicious'], ...   \n",
       "42047  [['Really nice \"barrio\" restaurant. Spanish......   \n",
       "20590                                           [[], []]   \n",
       "\n",
       "                                                  URL_TA     ID_TA  sample  \\\n",
       "32738  /Restaurant_Review-g187147-d1035196-Reviews-La...  d1035196       1   \n",
       "37197  /Restaurant_Review-g187497-d7132762-Reviews-Re...  d7132762       1   \n",
       "10377  /Restaurant_Review-g187147-d798936-Reviews-Le_...   d798936       1   \n",
       "42047  /Restaurant_Review-g187514-d2706270-Reviews-Ca...  d2706270       1   \n",
       "20590  /Restaurant_Review-g187497-d9994264-Reviews-Bo...  d9994264       1   \n",
       "\n",
       "       Rating  ...  City_Prague  City_Rome  City_Stockholm  City_Vienna  \\\n",
       "32738     4.5  ...            0          0               0            0   \n",
       "37197     4.0  ...            0          0               0            0   \n",
       "10377     4.0  ...            0          0               0            0   \n",
       "42047     4.0  ...            0          0               0            0   \n",
       "20590     4.5  ...            0          0               0            0   \n",
       "\n",
       "      City_Warsaw  City_Zurich  Reviews Days Delta  Reviews Days Since  \\\n",
       "32738           0            0                   0                   0   \n",
       "37197           0            0                  51                1312   \n",
       "10377           0            0                 169                1209   \n",
       "42047           0            0                  71                1325   \n",
       "20590           0            0                   0                   0   \n",
       "\n",
       "       Ranking To Rest Num  Ranking To Population  \n",
       "32738             1.445645               0.677979  \n",
       "37197             0.262739               0.162952  \n",
       "10377             0.703176               0.329776  \n",
       "42047             0.245476               0.137829  \n",
       "20590             1.389691               0.861893  \n",
       "\n",
       "[5 rows x 50 columns]"
      ]
     },
     "execution_count": 41,
     "metadata": {},
     "output_type": "execute_result"
    }
   ],
   "source": [
    "#население территории города (metro area) - источник: wiki\n",
    "city_population = {'Paris':13024, 'Stockholm':2391, 'London':14257, \n",
    "                   'Berlin':6144, 'Munich':5991, 'Oporto':1721,\n",
    "                   'Milan':4336, 'Bratislava':659, 'Vienna':2600, \n",
    "                   'Rome':4342, 'Barcelona':5474, 'Madrid':6791,\n",
    "                   'Dublin':1417, 'Brussels':2500, 'Zurich':415, \n",
    "                   'Warsaw':3100, 'Budapest':3011, 'Copenhagen':2057,\n",
    "                   'Amsterdam':2480, 'Lyon':2323, 'Hamburg':5107, \n",
    "                   'Lisbon':2827, 'Prague':2677, 'Oslo':1588,\n",
    "                   'Helsinki':1525, 'Edinburgh':901, 'Geneva':201, \n",
    "                   'Ljubljana':537, 'Athens':2928,'Luxembourg':633, \n",
    "                   'Krakow':1752}\n",
    "\n",
    "#количество ресторанов в городе - источник: датасет\n",
    "rest_per_city = data.City_name.value_counts().to_dict()\n",
    "\n",
    "data['Ranking To Rest Num'] = data.apply(lambda r: (r['Ranking'] / rest_per_city[r.City_name]), axis=1)\n",
    "data['Ranking To Population'] = data.apply(lambda r: (r['Ranking'] / city_population[r.City_name]), axis=1)\n",
    "data.sample(5)"
   ]
  },
  {
   "cell_type": "markdown",
   "metadata": {},
   "source": [
    "#### Number Of Reviews\n",
    "Так же добавим признак выражающий отношение количества ревью к населению (интересно было бы учесть поток туристов, наверное, тоже)"
   ]
  },
  {
   "cell_type": "code",
   "execution_count": 42,
   "metadata": {},
   "outputs": [],
   "source": [
    "data['Reviews Num To Population'] = data.apply(lambda r: (r['Number of Reviews'] / city_population[r.City_name]), axis=1)"
   ]
  },
  {
   "cell_type": "markdown",
   "metadata": {},
   "source": [
    "#### Population\n",
    "Почему бы не добавить и население города как признак"
   ]
  },
  {
   "cell_type": "code",
   "execution_count": 43,
   "metadata": {},
   "outputs": [],
   "source": [
    "data['Population'] = data.City_name.apply(lambda x: (city_population[x]))"
   ]
  },
  {
   "cell_type": "markdown",
   "metadata": {},
   "source": [
    "#### Cuisine Style\n",
    "Содержит строки, состоящие из списка cuisine style. Необходимо решить, что делать с пропущенными значениями и представить данные в формате доступном для ML.\n",
    "Dummy'фикация cuisine не дала значительного улучшения MAE, как и другие попытки. Решено оставить данный признак."
   ]
  },
  {
   "cell_type": "code",
   "execution_count": 44,
   "metadata": {},
   "outputs": [],
   "source": [
    "# Заменим пропуски на Unknown\n",
    "data['Cuisine Style'].fillna('Unknown', inplace=True)"
   ]
  },
  {
   "cell_type": "code",
   "execution_count": 45,
   "metadata": {},
   "outputs": [],
   "source": [
    "# Выполним преобразование данных в колонке. Нам нужно получить список кухонь для каждого ресторана,\n",
    "# чтобы посчитать их количество\n",
    "data['Cuisine Style'] = data['Cuisine Style'].apply(lambda x: x.replace('[',''))\n",
    "data['Cuisine Style'] = data['Cuisine Style'].apply(lambda x: x.replace(']',''))\n",
    "data['Cuisine Style'] = data['Cuisine Style'].apply(lambda x: x.replace(' ',''))\n",
    "data['Cuisines List'] = data['Cuisine Style'].apply(lambda x: x.split(','))"
   ]
  },
  {
   "cell_type": "code",
   "execution_count": 46,
   "metadata": {},
   "outputs": [],
   "source": [
    "# Создадим признак, содержащий количество кухонь, представленных в ресторане\n",
    "data['Cuisines Number'] = data['Cuisines List'].apply(lambda x: len(x))"
   ]
  },
  {
   "cell_type": "markdown",
   "metadata": {},
   "source": [
    "#### Restaurant_id"
   ]
  },
  {
   "cell_type": "code",
   "execution_count": 47,
   "metadata": {},
   "outputs": [
    {
     "data": {
      "text/plain": [
       "id_227      19\n",
       "id_436      19\n",
       "id_871      19\n",
       "id_633      19\n",
       "id_344      18\n",
       "            ..\n",
       "id_11880     1\n",
       "id_12851     1\n",
       "id_8782      1\n",
       "id_12869     1\n",
       "id_14212     1\n",
       "Name: Restaurant_id, Length: 13094, dtype: int64"
      ]
     },
     "execution_count": 47,
     "metadata": {},
     "output_type": "execute_result"
    }
   ],
   "source": [
    "# Проверим уникальность значений в колонке\n",
    "data['Restaurant_id'].value_counts()"
   ]
  },
  {
   "cell_type": "markdown",
   "metadata": {},
   "source": [
    "Некоторые значения не уникальны, возможно, это сеть ресторанов, но у меня нет идей по преобразованию в категориальный признак"
   ]
  },
  {
   "cell_type": "markdown",
   "metadata": {},
   "source": [
    "#### Reviews per City"
   ]
  },
  {
   "cell_type": "code",
   "execution_count": 48,
   "metadata": {},
   "outputs": [],
   "source": [
    "# Создадим признак с количеством отзывов на городов\n",
    "reviews_per_city = data.groupby('City_name')['Number of Reviews'].mean()\n",
    "data['Reviews per City'] = data['City_name'].apply(lambda x: reviews_per_city[x])"
   ]
  },
  {
   "cell_type": "code",
   "execution_count": 49,
   "metadata": {},
   "outputs": [
    {
     "data": {
      "text/plain": [
       "0        111.464800\n",
       "1         62.128421\n",
       "2        231.010738\n",
       "3        129.816488\n",
       "4         43.873684\n",
       "            ...    \n",
       "49995    160.115071\n",
       "49996    111.464800\n",
       "49997     69.301065\n",
       "49998     60.147027\n",
       "49999    160.115071\n",
       "Name: Reviews per City, Length: 50000, dtype: float64"
      ]
     },
     "execution_count": 49,
     "metadata": {},
     "output_type": "execute_result"
    }
   ],
   "source": [
    "data['Reviews per City']"
   ]
  },
  {
   "cell_type": "markdown",
   "metadata": {},
   "source": [
    "#### Ranking per City"
   ]
  },
  {
   "cell_type": "code",
   "execution_count": 50,
   "metadata": {},
   "outputs": [],
   "source": [
    "# Создадим признак со средним рангом по городам\n",
    "ranking_per_city = data.groupby('City_name')['Ranking'].mean()\n",
    "data['Ranking per City'] = data['City_name'].apply(lambda x: ranking_per_city[x])"
   ]
  },
  {
   "cell_type": "code",
   "execution_count": 51,
   "metadata": {},
   "outputs": [
    {
     "data": {
      "text/plain": [
       "0        6938.557138\n",
       "1         564.231579\n",
       "2         885.130201\n",
       "3        8169.707354\n",
       "4         462.428947\n",
       "            ...     \n",
       "49995    3106.027840\n",
       "49996    6938.557138\n",
       "49997    1237.482091\n",
       "49998    1055.193514\n",
       "49999    3106.027840\n",
       "Name: Ranking per City, Length: 50000, dtype: float64"
      ]
     },
     "execution_count": 51,
     "metadata": {},
     "output_type": "execute_result"
    }
   ],
   "source": [
    "data['Ranking per City']"
   ]
  },
  {
   "cell_type": "markdown",
   "metadata": {},
   "source": [
    "Данный признак не улучшил оценку, в итоговой модели его не будет"
   ]
  },
  {
   "cell_type": "markdown",
   "metadata": {},
   "source": [
    "#### Purchasing Power Index"
   ]
  },
  {
   "cell_type": "code",
   "execution_count": 52,
   "metadata": {},
   "outputs": [],
   "source": [
    "# Создадим признак на основе рейтинга 2018 года\n",
    "purchasing_power_index = {\n",
    "        'London' : 24,\n",
    "        'Paris' : 22,\n",
    "        'Madrid' : 23,\n",
    "        'Barcelona' : 30,\n",
    "        'Berlin' : 8,\n",
    "        'Milan' : 40,\n",
    "        'Rome' : 37,\n",
    "        'Prague' : 31,\n",
    "        'Lisbon' : 48,\n",
    "        'Vienna' : 21,\n",
    "        'Amsterdam' : 19,\n",
    "        'Brussels' : 15,\n",
    "        'Hamburg' : 7,\n",
    "        'Munich' : 6,\n",
    "        'Lyon' : 70,\n",
    "        'Stockholm' : 13,\n",
    "        'Budapest' : 51,\n",
    "        'Warsaw' : 29,\n",
    "        'Dublin' : 27,\n",
    "        'Copenhagen' : 10,\n",
    "        'Athens' : 53,\n",
    "        'Edinburgh' : 16, \n",
    "        'Zurich' : 2,\n",
    "        'Oporto' : 42,\n",
    "        'Geneva' : 3, \n",
    "        'Krakow' : 36, \n",
    "        'Oslo' : 17, \n",
    "        'Helsinki' : 9,\n",
    "        'Bratislava' : 39,\n",
    "        'Luxembourg' : 4,\n",
    "        'Ljubljana' : 32\n",
    "    }\n",
    "data['Purchasing Power'] = data['City_name'].apply(lambda x: purchasing_power_index[x])"
   ]
  },
  {
   "cell_type": "code",
   "execution_count": 53,
   "metadata": {},
   "outputs": [
    {
     "data": {
      "text/plain": [
       "0        22\n",
       "1         9\n",
       "2        16\n",
       "3        24\n",
       "4        39\n",
       "         ..\n",
       "49995    40\n",
       "49996    22\n",
       "49997    13\n",
       "49998    29\n",
       "49999    40\n",
       "Name: Purchasing Power, Length: 50000, dtype: int64"
      ]
     },
     "execution_count": 53,
     "metadata": {},
     "output_type": "execute_result"
    }
   ],
   "source": [
    "data['Purchasing Power']"
   ]
  },
  {
   "cell_type": "markdown",
   "metadata": {},
   "source": [
    "#### Is Capital"
   ]
  },
  {
   "cell_type": "code",
   "execution_count": 54,
   "metadata": {},
   "outputs": [],
   "source": [
    "# Создадим признак, означающий, является ли город столицей\n",
    "    is_capital_dict = {\n",
    "        'Paris': 1,\n",
    "        'Stockholm': 1,\n",
    "        'London': 1,\n",
    "        'Berlin': 1,\n",
    "        'Munich': 0,\n",
    "        'Oporto': 0,\n",
    "        'Milan': 0,\n",
    "        'Bratislava': 1,\n",
    "        'Vienna': 1,\n",
    "        'Rome': 1,\n",
    "        'Barcelona': 0,\n",
    "        'Madrid': 1,\n",
    "        'Dublin': 1,\n",
    "        'Brussels': 1,\n",
    "        'Zurich': 0,\n",
    "        'Warsaw': 1,\n",
    "        'Budapest': 1,\n",
    "        'Copenhagen': 1,\n",
    "        'Amsterdam': 1,\n",
    "        'Lyon': 0,\n",
    "        'Hamburg': 0,\n",
    "        'Lisbon': 1,\n",
    "        'Prague': 1,\n",
    "        'Oslo': 1,\n",
    "        'Helsinki': 1,\n",
    "        'Edinburgh': 1,\n",
    "        'Geneva': 0,\n",
    "        'Ljubljana': 1,\n",
    "        'Athens': 1,\n",
    "        'Luxembourg': 1,\n",
    "        'Krakow': 0\n",
    "    }\n",
    "\n",
    "    data['Is Capital'] = data['City_name'].apply(lambda x: is_capital_dict[x])"
   ]
  },
  {
   "cell_type": "code",
   "execution_count": 55,
   "metadata": {},
   "outputs": [
    {
     "data": {
      "text/html": [
       "<div>\n",
       "<style scoped>\n",
       "    .dataframe tbody tr th:only-of-type {\n",
       "        vertical-align: middle;\n",
       "    }\n",
       "\n",
       "    .dataframe tbody tr th {\n",
       "        vertical-align: top;\n",
       "    }\n",
       "\n",
       "    .dataframe thead th {\n",
       "        text-align: right;\n",
       "    }\n",
       "</style>\n",
       "<table border=\"1\" class=\"dataframe\">\n",
       "  <thead>\n",
       "    <tr style=\"text-align: right;\">\n",
       "      <th></th>\n",
       "      <th>City_name</th>\n",
       "      <th>Is Capital</th>\n",
       "    </tr>\n",
       "  </thead>\n",
       "  <tbody>\n",
       "    <tr>\n",
       "      <th>0</th>\n",
       "      <td>Paris</td>\n",
       "      <td>1</td>\n",
       "    </tr>\n",
       "    <tr>\n",
       "      <th>1</th>\n",
       "      <td>Helsinki</td>\n",
       "      <td>1</td>\n",
       "    </tr>\n",
       "    <tr>\n",
       "      <th>2</th>\n",
       "      <td>Edinburgh</td>\n",
       "      <td>1</td>\n",
       "    </tr>\n",
       "    <tr>\n",
       "      <th>3</th>\n",
       "      <td>London</td>\n",
       "      <td>1</td>\n",
       "    </tr>\n",
       "    <tr>\n",
       "      <th>4</th>\n",
       "      <td>Bratislava</td>\n",
       "      <td>1</td>\n",
       "    </tr>\n",
       "    <tr>\n",
       "      <th>...</th>\n",
       "      <td>...</td>\n",
       "      <td>...</td>\n",
       "    </tr>\n",
       "    <tr>\n",
       "      <th>49995</th>\n",
       "      <td>Milan</td>\n",
       "      <td>0</td>\n",
       "    </tr>\n",
       "    <tr>\n",
       "      <th>49996</th>\n",
       "      <td>Paris</td>\n",
       "      <td>1</td>\n",
       "    </tr>\n",
       "    <tr>\n",
       "      <th>49997</th>\n",
       "      <td>Stockholm</td>\n",
       "      <td>1</td>\n",
       "    </tr>\n",
       "    <tr>\n",
       "      <th>49998</th>\n",
       "      <td>Warsaw</td>\n",
       "      <td>1</td>\n",
       "    </tr>\n",
       "    <tr>\n",
       "      <th>49999</th>\n",
       "      <td>Milan</td>\n",
       "      <td>0</td>\n",
       "    </tr>\n",
       "  </tbody>\n",
       "</table>\n",
       "<p>50000 rows × 2 columns</p>\n",
       "</div>"
      ],
      "text/plain": [
       "        City_name  Is Capital\n",
       "0           Paris           1\n",
       "1        Helsinki           1\n",
       "2       Edinburgh           1\n",
       "3          London           1\n",
       "4      Bratislava           1\n",
       "...           ...         ...\n",
       "49995       Milan           0\n",
       "49996       Paris           1\n",
       "49997   Stockholm           1\n",
       "49998      Warsaw           1\n",
       "49999       Milan           0\n",
       "\n",
       "[50000 rows x 2 columns]"
      ]
     },
     "execution_count": 55,
     "metadata": {},
     "output_type": "execute_result"
    }
   ],
   "source": [
    "data[['City_name', 'Is Capital']]"
   ]
  },
  {
   "cell_type": "markdown",
   "metadata": {},
   "source": [
    "# EDA "
   ]
  },
  {
   "cell_type": "markdown",
   "metadata": {},
   "source": [
    "### Посмотрим распределение признака"
   ]
  },
  {
   "cell_type": "code",
   "execution_count": 56,
   "metadata": {},
   "outputs": [
    {
     "data": {
      "text/plain": [
       "<matplotlib.axes._subplots.AxesSubplot at 0x7fe478694d68>"
      ]
     },
     "execution_count": 56,
     "metadata": {},
     "output_type": "execute_result"
    },
    {
     "data": {
      "image/png": "[encoded data removed]",
      "text/plain": [
       "<Figure size 720x504 with 1 Axes>"
      ]
     },
     "metadata": {
      "needs_background": "light"
     },
     "output_type": "display_data"
    }
   ],
   "source": [
    "plt.rcParams['figure.figsize'] = (10,7)\n",
    "df_train['Ranking'].hist(bins=100)"
   ]
  },
  {
   "cell_type": "markdown",
   "metadata": {},
   "source": [
    "У нас много ресторанов, которые не дотягивают и до 2500 места в своем городе, а что там по городам?"
   ]
  },
  {
   "cell_type": "code",
   "execution_count": 57,
   "metadata": {},
   "outputs": [
    {
     "data": {
      "text/plain": [
       "<matplotlib.axes._subplots.AxesSubplot at 0x7fe4635c3048>"
      ]
     },
     "execution_count": 57,
     "metadata": {},
     "output_type": "execute_result"
    },
    {
     "data": {
      "image/png": "[encoded data removed]",
      "text/plain": [
       "<Figure size 720x504 with 1 Axes>"
      ]
     },
     "metadata": {
      "needs_background": "light"
     },
     "output_type": "display_data"
    }
   ],
   "source": [
    "df_train['City'].value_counts(ascending=True).plot(kind='barh')"
   ]
  },
  {
   "cell_type": "markdown",
   "metadata": {},
   "source": [
    "А кто-то говорил, что французы любят поесть=) Посмотрим, как изменится распределение в большом городе:"
   ]
  },
  {
   "cell_type": "code",
   "execution_count": 58,
   "metadata": {},
   "outputs": [
    {
     "data": {
      "text/plain": [
       "<matplotlib.axes._subplots.AxesSubplot at 0x7fe4634b69b0>"
      ]
     },
     "execution_count": 58,
     "metadata": {},
     "output_type": "execute_result"
    },
    {
     "data": {
      "image/png": "[encoded data removed]",
      "text/plain": [
       "<Figure size 720x504 with 1 Axes>"
      ]
     },
     "metadata": {
      "needs_background": "light"
     },
     "output_type": "display_data"
    }
   ],
   "source": [
    "df_train['Ranking'][df_train['City'] =='London'].hist(bins=100)"
   ]
  },
  {
   "cell_type": "code",
   "execution_count": 59,
   "metadata": {},
   "outputs": [
    {
     "data": {
      "image/png": "[encoded data removed]",
      "text/plain": [
       "<Figure size 720x504 with 1 Axes>"
      ]
     },
     "metadata": {
      "needs_background": "light"
     },
     "output_type": "display_data"
    }
   ],
   "source": [
    "# посмотрим на топ 10 городов\n",
    "for x in (df_train['City'].value_counts())[0:10].index:\n",
    "    df_train['Ranking'][df_train['City'] == x].hist(bins=100)\n",
    "plt.show()"
   ]
  },
  {
   "cell_type": "markdown",
   "metadata": {},
   "source": [
    "Получается, что Ranking имеет нормальное распределение, просто в больших городах больше ресторанов, из-за мы этого имеем смещение.\n"
   ]
  },
  {
   "cell_type": "markdown",
   "metadata": {},
   "source": [
    "### Посмотрим распределение целевой переменной"
   ]
  },
  {
   "cell_type": "code",
   "execution_count": 60,
   "metadata": {},
   "outputs": [
    {
     "data": {
      "text/plain": [
       "<matplotlib.axes._subplots.AxesSubplot at 0x7fe462a1ac50>"
      ]
     },
     "execution_count": 60,
     "metadata": {},
     "output_type": "execute_result"
    },
    {
     "data": {
      "image/png": "[encoded data removed]",
      "text/plain": [
       "<Figure size 720x504 with 1 Axes>"
      ]
     },
     "metadata": {
      "needs_background": "light"
     },
     "output_type": "display_data"
    }
   ],
   "source": [
    "df_train['Rating'].value_counts(ascending=True).plot(kind='barh')"
   ]
  },
  {
   "cell_type": "markdown",
   "metadata": {},
   "source": [
    "Наибольшее количество ресторанов имеют рейтинг 4."
   ]
  },
  {
   "cell_type": "code",
   "execution_count": 61,
   "metadata": {},
   "outputs": [
    {
     "data": {
      "image/png": "[encoded data removed]",
      "text/plain": [
       "<Figure size 1080x720 with 1 Axes>"
      ]
     },
     "metadata": {
      "needs_background": "light"
     },
     "output_type": "display_data"
    }
   ],
   "source": [
    "# Построим боксплоты для рейтинга\n",
    "fig, ax = plt.subplots(figsize = (15, 10))\n",
    "\n",
    "sns.boxplot(x = 'City', y = 'Rating',data=df_train)\n",
    "\n",
    "plt.xticks(rotation=45)\n",
    "ax.set_title('Boxplot for City')\n",
    "\n",
    "plt.show()"
   ]
  },
  {
   "cell_type": "markdown",
   "metadata": {},
   "source": [
    "Рестораны Милана заметно отличаются распределением оценок. Если посмотреть данные по ресторанам, имеющим пустые отзывы и максимальный балл, появляется мысль о том, что рейтинги могут быть ненастоящие."
   ]
  },
  {
   "cell_type": "code",
   "execution_count": 62,
   "metadata": {},
   "outputs": [
    {
     "data": {
      "text/html": [
       "<div>\n",
       "<style scoped>\n",
       "    .dataframe tbody tr th:only-of-type {\n",
       "        vertical-align: middle;\n",
       "    }\n",
       "\n",
       "    .dataframe tbody tr th {\n",
       "        vertical-align: top;\n",
       "    }\n",
       "\n",
       "    .dataframe thead th {\n",
       "        text-align: right;\n",
       "    }\n",
       "</style>\n",
       "<table border=\"1\" class=\"dataframe\">\n",
       "  <thead>\n",
       "    <tr style=\"text-align: right;\">\n",
       "      <th></th>\n",
       "      <th>Restaurant_id</th>\n",
       "      <th>City</th>\n",
       "      <th>Cuisine Style</th>\n",
       "      <th>Ranking</th>\n",
       "      <th>Rating</th>\n",
       "      <th>Price Range</th>\n",
       "      <th>Number of Reviews</th>\n",
       "      <th>Reviews</th>\n",
       "      <th>URL_TA</th>\n",
       "      <th>ID_TA</th>\n",
       "      <th>sample</th>\n",
       "    </tr>\n",
       "  </thead>\n",
       "  <tbody>\n",
       "    <tr>\n",
       "      <th>879</th>\n",
       "      <td>id_2711</td>\n",
       "      <td>Milan</td>\n",
       "      <td>['Italian', 'Bar', 'Pub']</td>\n",
       "      <td>2713.0</td>\n",
       "      <td>5.0</td>\n",
       "      <td>$</td>\n",
       "      <td>6.0</td>\n",
       "      <td>[[], []]</td>\n",
       "      <td>/Restaurant_Review-g187849-d12078773-Reviews-K...</td>\n",
       "      <td>d12078773</td>\n",
       "      <td>1</td>\n",
       "    </tr>\n",
       "    <tr>\n",
       "      <th>2722</th>\n",
       "      <td>id_3389</td>\n",
       "      <td>Milan</td>\n",
       "      <td>['Italian']</td>\n",
       "      <td>3391.0</td>\n",
       "      <td>5.0</td>\n",
       "      <td>NaN</td>\n",
       "      <td>2.0</td>\n",
       "      <td>[[], []]</td>\n",
       "      <td>/Restaurant_Review-g187849-d4409952-Reviews-Ba...</td>\n",
       "      <td>d4409952</td>\n",
       "      <td>1</td>\n",
       "    </tr>\n",
       "    <tr>\n",
       "      <th>3008</th>\n",
       "      <td>id_3100</td>\n",
       "      <td>Milan</td>\n",
       "      <td>['Italian']</td>\n",
       "      <td>3102.0</td>\n",
       "      <td>5.0</td>\n",
       "      <td>$</td>\n",
       "      <td>4.0</td>\n",
       "      <td>[[], []]</td>\n",
       "      <td>/Restaurant_Review-g187849-d11964352-Reviews-B...</td>\n",
       "      <td>d11964352</td>\n",
       "      <td>1</td>\n",
       "    </tr>\n",
       "    <tr>\n",
       "      <th>3481</th>\n",
       "      <td>id_1712</td>\n",
       "      <td>Milan</td>\n",
       "      <td>['Italian', 'Mediterranean']</td>\n",
       "      <td>1714.0</td>\n",
       "      <td>5.0</td>\n",
       "      <td>$</td>\n",
       "      <td>12.0</td>\n",
       "      <td>[[], []]</td>\n",
       "      <td>/Restaurant_Review-g187849-d12972191-Reviews-F...</td>\n",
       "      <td>d12972191</td>\n",
       "      <td>1</td>\n",
       "    </tr>\n",
       "    <tr>\n",
       "      <th>4194</th>\n",
       "      <td>id_3455</td>\n",
       "      <td>Milan</td>\n",
       "      <td>NaN</td>\n",
       "      <td>3457.0</td>\n",
       "      <td>5.0</td>\n",
       "      <td>NaN</td>\n",
       "      <td>NaN</td>\n",
       "      <td>[[], []]</td>\n",
       "      <td>/Restaurant_Review-g187849-d10045197-Reviews-L...</td>\n",
       "      <td>d10045197</td>\n",
       "      <td>1</td>\n",
       "    </tr>\n",
       "    <tr>\n",
       "      <th>...</th>\n",
       "      <td>...</td>\n",
       "      <td>...</td>\n",
       "      <td>...</td>\n",
       "      <td>...</td>\n",
       "      <td>...</td>\n",
       "      <td>...</td>\n",
       "      <td>...</td>\n",
       "      <td>...</td>\n",
       "      <td>...</td>\n",
       "      <td>...</td>\n",
       "      <td>...</td>\n",
       "    </tr>\n",
       "    <tr>\n",
       "      <th>36124</th>\n",
       "      <td>id_2716</td>\n",
       "      <td>Milan</td>\n",
       "      <td>['Italian', 'International', 'Vegan Options']</td>\n",
       "      <td>2718.0</td>\n",
       "      <td>5.0</td>\n",
       "      <td>$$ - $$$</td>\n",
       "      <td>5.0</td>\n",
       "      <td>[[], []]</td>\n",
       "      <td>/Restaurant_Review-g187849-d10816049-Reviews-I...</td>\n",
       "      <td>d10816049</td>\n",
       "      <td>1</td>\n",
       "    </tr>\n",
       "    <tr>\n",
       "      <th>36157</th>\n",
       "      <td>id_3071</td>\n",
       "      <td>Milan</td>\n",
       "      <td>['Bar', 'Pizza', 'Pub']</td>\n",
       "      <td>3073.0</td>\n",
       "      <td>5.0</td>\n",
       "      <td>$</td>\n",
       "      <td>10.0</td>\n",
       "      <td>[[], []]</td>\n",
       "      <td>/Restaurant_Review-g187849-d9748695-Reviews-Ha...</td>\n",
       "      <td>d9748695</td>\n",
       "      <td>1</td>\n",
       "    </tr>\n",
       "    <tr>\n",
       "      <th>37003</th>\n",
       "      <td>id_3074</td>\n",
       "      <td>Milan</td>\n",
       "      <td>NaN</td>\n",
       "      <td>3076.0</td>\n",
       "      <td>5.0</td>\n",
       "      <td>NaN</td>\n",
       "      <td>9.0</td>\n",
       "      <td>[[], []]</td>\n",
       "      <td>/Restaurant_Review-g187849-d5813931-Reviews-Sa...</td>\n",
       "      <td>d5813931</td>\n",
       "      <td>1</td>\n",
       "    </tr>\n",
       "    <tr>\n",
       "      <th>37900</th>\n",
       "      <td>id_3580</td>\n",
       "      <td>Milan</td>\n",
       "      <td>['Belgian', 'Dutch', 'Fast Food', 'European', ...</td>\n",
       "      <td>3582.0</td>\n",
       "      <td>5.0</td>\n",
       "      <td>$</td>\n",
       "      <td>4.0</td>\n",
       "      <td>[[], []]</td>\n",
       "      <td>/Restaurant_Review-g187849-d10637942-Reviews-P...</td>\n",
       "      <td>d10637942</td>\n",
       "      <td>1</td>\n",
       "    </tr>\n",
       "    <tr>\n",
       "      <th>38930</th>\n",
       "      <td>id_3396</td>\n",
       "      <td>Milan</td>\n",
       "      <td>NaN</td>\n",
       "      <td>3398.0</td>\n",
       "      <td>5.0</td>\n",
       "      <td>NaN</td>\n",
       "      <td>NaN</td>\n",
       "      <td>[[], []]</td>\n",
       "      <td>/Restaurant_Review-g187849-d12431270-Reviews-F...</td>\n",
       "      <td>d12431270</td>\n",
       "      <td>1</td>\n",
       "    </tr>\n",
       "  </tbody>\n",
       "</table>\n",
       "<p>78 rows × 11 columns</p>\n",
       "</div>"
      ],
      "text/plain": [
       "      Restaurant_id   City                                      Cuisine Style  \\\n",
       "879         id_2711  Milan                          ['Italian', 'Bar', 'Pub']   \n",
       "2722        id_3389  Milan                                        ['Italian']   \n",
       "3008        id_3100  Milan                                        ['Italian']   \n",
       "3481        id_1712  Milan                       ['Italian', 'Mediterranean']   \n",
       "4194        id_3455  Milan                                                NaN   \n",
       "...             ...    ...                                                ...   \n",
       "36124       id_2716  Milan      ['Italian', 'International', 'Vegan Options']   \n",
       "36157       id_3071  Milan                            ['Bar', 'Pizza', 'Pub']   \n",
       "37003       id_3074  Milan                                                NaN   \n",
       "37900       id_3580  Milan  ['Belgian', 'Dutch', 'Fast Food', 'European', ...   \n",
       "38930       id_3396  Milan                                                NaN   \n",
       "\n",
       "       Ranking  Rating Price Range  Number of Reviews   Reviews  \\\n",
       "879     2713.0     5.0           $                6.0  [[], []]   \n",
       "2722    3391.0     5.0         NaN                2.0  [[], []]   \n",
       "3008    3102.0     5.0           $                4.0  [[], []]   \n",
       "3481    1714.0     5.0           $               12.0  [[], []]   \n",
       "4194    3457.0     5.0         NaN                NaN  [[], []]   \n",
       "...        ...     ...         ...                ...       ...   \n",
       "36124   2718.0     5.0    $$ - $$$                5.0  [[], []]   \n",
       "36157   3073.0     5.0           $               10.0  [[], []]   \n",
       "37003   3076.0     5.0         NaN                9.0  [[], []]   \n",
       "37900   3582.0     5.0           $                4.0  [[], []]   \n",
       "38930   3398.0     5.0         NaN                NaN  [[], []]   \n",
       "\n",
       "                                                  URL_TA      ID_TA  sample  \n",
       "879    /Restaurant_Review-g187849-d12078773-Reviews-K...  d12078773       1  \n",
       "2722   /Restaurant_Review-g187849-d4409952-Reviews-Ba...   d4409952       1  \n",
       "3008   /Restaurant_Review-g187849-d11964352-Reviews-B...  d11964352       1  \n",
       "3481   /Restaurant_Review-g187849-d12972191-Reviews-F...  d12972191       1  \n",
       "4194   /Restaurant_Review-g187849-d10045197-Reviews-L...  d10045197       1  \n",
       "...                                                  ...        ...     ...  \n",
       "36124  /Restaurant_Review-g187849-d10816049-Reviews-I...  d10816049       1  \n",
       "36157  /Restaurant_Review-g187849-d9748695-Reviews-Ha...   d9748695       1  \n",
       "37003  /Restaurant_Review-g187849-d5813931-Reviews-Sa...   d5813931       1  \n",
       "37900  /Restaurant_Review-g187849-d10637942-Reviews-P...  d10637942       1  \n",
       "38930  /Restaurant_Review-g187849-d12431270-Reviews-F...  d12431270       1  \n",
       "\n",
       "[78 rows x 11 columns]"
      ]
     },
     "execution_count": 62,
     "metadata": {},
     "output_type": "execute_result"
    }
   ],
   "source": [
    "df_train[(df_train['City'] == 'Milan') & (df_train['Rating'] == 5) & \n",
    "         (df_train['Reviews'] == '[[], []]')]"
   ]
  },
  {
   "cell_type": "markdown",
   "metadata": {},
   "source": [
    "### Посмотрим распределение целевой переменной относительно признака"
   ]
  },
  {
   "cell_type": "code",
   "execution_count": 63,
   "metadata": {},
   "outputs": [
    {
     "data": {
      "text/plain": [
       "<matplotlib.axes._subplots.AxesSubplot at 0x7fe46081e7b8>"
      ]
     },
     "execution_count": 63,
     "metadata": {},
     "output_type": "execute_result"
    },
    {
     "data": {
      "image/png": "[encoded data removed]",
      "text/plain": [
       "<Figure size 720x504 with 1 Axes>"
      ]
     },
     "metadata": {
      "needs_background": "light"
     },
     "output_type": "display_data"
    }
   ],
   "source": [
    "df_train['Ranking'][df_train['Rating'] == 5].hist(bins=100)"
   ]
  },
  {
   "cell_type": "code",
   "execution_count": 64,
   "metadata": {},
   "outputs": [
    {
     "data": {
      "text/plain": [
       "<matplotlib.axes._subplots.AxesSubplot at 0x7fe4604b4898>"
      ]
     },
     "execution_count": 64,
     "metadata": {},
     "output_type": "execute_result"
    },
    {
     "data": {
      "image/png": "[encoded data removed]",
      "text/plain": [
       "<Figure size 720x504 with 1 Axes>"
      ]
     },
     "metadata": {
      "needs_background": "light"
     },
     "output_type": "display_data"
    }
   ],
   "source": [
    "df_train['Ranking'][df_train['Rating'] < 4].hist(bins=100)"
   ]
  },
  {
   "cell_type": "markdown",
   "metadata": {},
   "source": [
    "### Посмотрим зависимость ранга от количества отзывов"
   ]
  },
  {
   "cell_type": "code",
   "execution_count": 65,
   "metadata": {},
   "outputs": [
    {
     "data": {
      "text/plain": [
       "Text(0, 0.5, 'Ранг ресторана')"
      ]
     },
     "execution_count": 65,
     "metadata": {},
     "output_type": "execute_result"
    },
    {
     "data": {
      "image/png": "[encoded data removed]",
      "text/plain": [
       "<Figure size 720x504 with 1 Axes>"
      ]
     },
     "metadata": {
      "needs_background": "light"
     },
     "output_type": "display_data"
    }
   ],
   "source": [
    "fig = plt.figure()\n",
    "axes = fig.add_axes([0, 0, 1, 1])\n",
    "axes.scatter(x = df_train['Number of Reviews'], y = df_train['Ranking'], marker = '.')\n",
    "axes.set_title('Зависимость ранга от количества отзывов')\n",
    "axes.set_xlabel('Количество отзывов')\n",
    "axes.set_ylabel('Ранг ресторана')"
   ]
  },
  {
   "cell_type": "markdown",
   "metadata": {},
   "source": [
    "### И один из моих любимых - [корреляция признаков](https://ru.wikipedia.org/wiki/Корреляция)\n",
    "На этом графике уже сейчас вы сможете заметить, как признаки связаны между собой и с целевой переменной."
   ]
  },
  {
   "cell_type": "code",
   "execution_count": 66,
   "metadata": {},
   "outputs": [
    {
     "data": {
      "text/plain": [
       "<matplotlib.axes._subplots.AxesSubplot at 0x7fe4602d3a20>"
      ]
     },
     "execution_count": 66,
     "metadata": {},
     "output_type": "execute_result"
    },
    {
     "data": {
      "image/png": "[encoded data removed]",
      "text/plain": [
       "<Figure size 1080x720 with 2 Axes>"
      ]
     },
     "metadata": {
      "needs_background": "light"
     },
     "output_type": "display_data"
    }
   ],
   "source": [
    "plt.rcParams['figure.figsize'] = (15,10)\n",
    "sns.heatmap(data.drop(['sample'], axis=1).corr(), cmap='coolwarm')"
   ]
  },
  {
   "cell_type": "markdown",
   "metadata": {},
   "source": [
    "# Data Preprocessing\n",
    "Теперь, для удобства и воспроизводимости кода, завернем всю обработку в одну большую функцию."
   ]
  },
  {
   "cell_type": "code",
   "execution_count": 67,
   "metadata": {},
   "outputs": [
    {
     "name": "stdout",
     "output_type": "stream",
     "text": [
      "<class 'pandas.core.frame.DataFrame'>\n",
      "RangeIndex: 50000 entries, 0 to 49999\n",
      "Data columns (total 11 columns):\n",
      "Restaurant_id        50000 non-null object\n",
      "City                 50000 non-null object\n",
      "Cuisine Style        38410 non-null object\n",
      "Ranking              50000 non-null float64\n",
      "Price Range          32639 non-null object\n",
      "Number of Reviews    46800 non-null float64\n",
      "Reviews              49998 non-null object\n",
      "URL_TA               50000 non-null object\n",
      "ID_TA                50000 non-null object\n",
      "sample               50000 non-null int64\n",
      "Rating               50000 non-null float64\n",
      "dtypes: float64(3), int64(1), object(7)\n",
      "memory usage: 4.2+ MB\n"
     ]
    }
   ],
   "source": [
    "# на всякий случай, заново подгружаем данные\n",
    "df_train = pd.read_csv(DATA_DIR+'/main_task.csv')\n",
    "df_test = pd.read_csv(DATA_DIR+'/kaggle_task.csv')\n",
    "df_train['sample'] = 1 # помечаем где у нас трейн\n",
    "df_test['sample'] = 0 # помечаем где у нас тест\n",
    "df_test['Rating'] = 0 # в тесте у нас нет значения Rating, мы его должны предсказать, по этому пока просто заполняем нулями\n",
    "\n",
    "data = df_test.append(df_train, sort=False).reset_index(drop=True) # объединяем\n",
    "data.info()"
   ]
  },
  {
   "cell_type": "code",
   "execution_count": 68,
   "metadata": {},
   "outputs": [],
   "source": [
    "def preproc_data(df_input):\n",
    "    '''includes several functions to pre-process the predictor data.'''\n",
    "    \n",
    "    df_output = df_input.copy()\n",
    "    \n",
    "    # ################### 1. Предобработка ############################################################## \n",
    "    # убираем не нужные для модели признаки\n",
    "    df_output.drop(['Restaurant_id','ID_TA',], axis = 1, inplace=True)\n",
    "    \n",
    "    # ################### 2. NAN ############################################################## \n",
    "    # Далее заполняем пропуски, вы можете попробовать заполнением средним или средним по городу и тд...\n",
    "    df_output['Number of Reviews NA'] = df_output['Number of Reviews'].apply(lambda x: 1 if pd.isna(x) else 0)\n",
    "    # заменим NaN для пропусков в 'Number of Reviews' на 0 как наиболее логичное значение \n",
    "    # для пропуска в данном случае\n",
    "    df_output['Number of Reviews'].fillna(0, inplace=True)  \n",
    "    # df_output['Number of Reviews'].fillna(df_output['Number of Reviews'].median(), inplace=True)  \n",
    "    \n",
    "    df_output['Price Range NA'] = df_output['Price Range'].apply(lambda x: 1 if pd.isna(x) else 0)\n",
    "    # признак содержит ординальные данные определяющие ценовую категорию ресторана, для \n",
    "    # заполнения выберем наболее распространенную категорию - среднюю\n",
    "    df_output['Price Range'].fillna(df_output['Price Range'].mode()[0], inplace=True)\n",
    "    \n",
    "    df_output['Cuisine Style NA'] = df_output['Cuisine Style'].apply(lambda x: 1 if pd.isna(x) else 0)\n",
    "    # Заполним пропуски в cuisine во время обработки значений позже..\n",
    "    df_output['Cuisine Style'].fillna('Unknown', inplace=True)\n",
    "   \n",
    "    # Выполним преобразование данных в колонке. Нам нужно получить список кухонь для каждого ресторана,\n",
    "    # чтобы посчитать их количество\n",
    "    df_output['Cuisine Style'] = df_output['Cuisine Style'].apply(lambda x: x.replace('[',''))\n",
    "    df_output['Cuisine Style'] = df_output['Cuisine Style'].apply(lambda x: x.replace(']',''))\n",
    "    df_output['Cuisine Style'] = df_output['Cuisine Style'].apply(lambda x: x.replace(' ',''))\n",
    "    df_output['Cuisines List'] = df_output['Cuisine Style'].apply(lambda x: x.split(','))\n",
    "    # Создадим признак, содержащий количество кухонь, представленных в ресторане\n",
    "    df_output['Cuisines Number'] = df_output['Cuisines List'].apply(lambda x: len(x))\n",
    "    \n",
    "    df_output['Reviews NA'] = df_output['Reviews'].apply(lambda x: 1 if pd.isna(x) else 0)\n",
    "    df_output['Reviews'].fillna('[[], []]', inplace=True)\n",
    "    \n",
    "    \n",
    "    # ################### 3. Encoding ############################################################## \n",
    "    # для One-Hot Encoding в pandas есть готовая функция - get_dummies. Особенно радует параметр dummy_na\n",
    "    # Сохраним названия городов - возможно, используем позже (get_dummies это делать, похоже, не умеет)\n",
    "    df_output['City_name'] = df_output['City']\n",
    "    df_output = pd.get_dummies(df_output, columns=['City'], dummy_na=False)\n",
    "    \n",
    "    def price_range_to_num(val):\n",
    "        '''\n",
    "        Конвертирует строковое значение ценового диапазона на\n",
    "        числовое, e.g.:\n",
    "        $:                   1 \n",
    "        $$-$$$:              2\n",
    "        в остальных случаях: 3\n",
    "        Returns:\n",
    "            Числовое значение соответствующее ценовому диапазону\n",
    "        '''\n",
    "        if val == '$':        \n",
    "            return 1\n",
    "        elif val == '$$ - $$$':\n",
    "            return 2\n",
    "        elif val == '$$$$':\n",
    "            return 3\n",
    "        else:\n",
    "            val\n",
    "        \n",
    "    df_output['Price Range'] = df_output['Price Range'].apply(price_range_to_num)\n",
    "    # df_output = pd.get_dummies(df_output, columns=['Price Range'], dummy_na=False)\n",
    "    \n",
    "    # ################### 4. Feature Engineering ####################################################\n",
    "    # тут ваш код не генерацию новых фитчей\n",
    "    # ....\n",
    "    # паттерн для поиска дат\n",
    "    pattern = re.compile('\\'\\d+\\/\\d+\\/\\d+\\'')\n",
    "    dates = df_output['Reviews'].apply(pattern.findall)\n",
    "    # врeменные признаки\n",
    "    df_output['date1'] = pd.to_datetime(dates.apply(lambda x: x[0] if len(x) > 0 else None))\n",
    "    df_output['date2'] = pd.to_datetime(dates.apply(lambda x: x[1] if len(x) > 1 else None))\n",
    "    \n",
    "    def days_since_last_review(r):\n",
    "        '''\n",
    "        Считает количество дней с последней даты ревью данной записи\n",
    "        датасета. Учитывает отсутствие одной из дат и пропуск (возвращает\n",
    "        0 в последнем случае)\n",
    "        '''\n",
    "        datetime_now = datetime.now();\n",
    "        if pd.notna(r.date1) and pd.notna(r.date2):\n",
    "            if r.date1 > r.date2:\n",
    "                return (datetime_now - r.date1).days\n",
    "            else:\n",
    "                return (datetime_now - r.date2).days\n",
    "        else:\n",
    "            if pd.notna(r.date1):\n",
    "                return (datetime_now - r.date1).days\n",
    "            if pd.notna(r.date2):\n",
    "                return (datetime_now - r.date2).days        \n",
    "        return 0 \n",
    "\n",
    "\n",
    "    def reviews_days_delta(r):\n",
    "        '''\n",
    "        Возвращает количество дней между двумя датами ревью в данной записи\n",
    "        датасета. Учитывает отсутствие (одной из) дат - возвращает 0 в данном\n",
    "        случае.\n",
    "        '''\n",
    "        if pd.notna(r.date1) and pd.notna(r.date2):\n",
    "            return abs((r.date1 - r.date2).days)\n",
    "        else:\n",
    "            return 0\n",
    "    \n",
    "    df_output['Reviews Days Delta'] = df_output.apply(lambda row: reviews_days_delta(row), axis=1)\n",
    "    df_output['Reviews Days Since'] = df_output.apply(lambda row: days_since_last_review(row), axis=1)\n",
    "    # удаляем временные признаки\n",
    "    df_output.drop(['date1', 'date2'], inplace=True, axis=1)\n",
    "    \n",
    "    #население территории города (metro area) - источник: wiki\n",
    "    city_population = {'Paris':13024, 'Stockholm':2391, 'London':14257, \n",
    "                       'Berlin':6144, 'Munich':5991, 'Oporto':1721,\n",
    "                       'Milan':4336, 'Bratislava':659, 'Vienna':2600, \n",
    "                       'Rome':4342, 'Barcelona':5474, 'Madrid':6791,\n",
    "                       'Dublin':1417, 'Brussels':2500, 'Zurich':415, \n",
    "                       'Warsaw':3100, 'Budapest':3011, 'Copenhagen':2057,\n",
    "                       'Amsterdam':2480, 'Lyon':2323, 'Hamburg':5107, \n",
    "                       'Lisbon':2827, 'Prague':2677, 'Oslo':1588,\n",
    "                       'Helsinki':1525, 'Edinburgh':901, 'Geneva':201, \n",
    "                       'Ljubljana':537, 'Athens':2928,'Luxembourg':633, \n",
    "                       'Krakow':1752}\n",
    "    \n",
    "    # количество ресторанов в городе - источник: датасет\n",
    "    rest_per_city = df_output.City_name.value_counts().to_dict()\n",
    "    \n",
    "    df_output['Ranking To Rest Num'] = df_output.apply(lambda r: (r['Ranking'] / rest_per_city[r.City_name]), axis=1)\n",
    "    df_output['Ranking To Population'] = df_output.apply(lambda r: (r['Ranking'] / city_population[r.City_name]), axis=1) \n",
    "    df_output['Reviews Num To Population'] = df_output.apply(lambda r: (r['Number of Reviews'] / city_population[r.City_name]), axis=1)\n",
    "    df_output['Population'] = df_output.City_name.apply(lambda x: (city_population[x]))\n",
    "    # df_output['Rest per city'] = df_output.apply(lambda x: rest_per_city[x.City_name], axis = 1)\n",
    "    \n",
    "    # Создадим признак с количеством отзывов на город\n",
    "    reviews_per_city = df_output.groupby('City_name')['Number of Reviews'].mean()\n",
    "    df_output['Reviews per City'] = df_output['City_name'].apply(lambda x: reviews_per_city[x])\n",
    "    \n",
    "    # Создадим признак со средним рангом по городам\n",
    "    # ranking_per_city = df_output.groupby('City_name')['Ranking'].mean()\n",
    "    # df_output['Ranking per City'] = df_output['City_name'].apply(lambda x: ranking_per_city[x])\n",
    " \n",
    "    # Создадим признак Purchasing Power Index на основе рейтинга 2018 года\n",
    "    purchasing_power_index = {\n",
    "            'London' : 24,\n",
    "            'Paris' : 22,\n",
    "            'Madrid' : 23,\n",
    "            'Barcelona' : 30,\n",
    "            'Berlin' : 8,\n",
    "            'Milan' : 40,\n",
    "            'Rome' : 37,\n",
    "            'Prague' : 31,\n",
    "            'Lisbon' : 48,\n",
    "            'Vienna' : 21,\n",
    "            'Amsterdam' : 19,\n",
    "            'Brussels' : 15,\n",
    "            'Hamburg' : 7,\n",
    "            'Munich' : 6,\n",
    "            'Lyon' : 70,\n",
    "            'Stockholm' : 13,\n",
    "            'Budapest' : 51,\n",
    "            'Warsaw' : 29,\n",
    "            'Dublin' : 27,\n",
    "            'Copenhagen' : 10,\n",
    "            'Athens' : 53,\n",
    "            'Edinburgh' : 16, \n",
    "            'Zurich' : 2,\n",
    "            'Oporto' : 42,\n",
    "            'Geneva' : 3, \n",
    "            'Krakow' : 36, \n",
    "            'Oslo' : 17, \n",
    "            'Helsinki' : 9,\n",
    "            'Bratislava' : 39,\n",
    "            'Luxembourg' : 4,\n",
    "            'Ljubljana' : 32\n",
    "        }\n",
    "    df_output['Purchasing Power'] = df_output['City_name'].apply(lambda x: purchasing_power_index[x])\n",
    "    \n",
    "    # Создадим признак IsCapital\n",
    "    is_capital_dict = {\n",
    "        'Paris': 1,\n",
    "        'Stockholm': 1,\n",
    "        'London': 1,\n",
    "        'Berlin': 1,\n",
    "        'Munich': 0,\n",
    "        'Oporto': 0,\n",
    "        'Milan': 0,\n",
    "        'Bratislava': 1,\n",
    "        'Vienna': 1,\n",
    "        'Rome': 1,\n",
    "        'Barcelona': 0,\n",
    "        'Madrid': 1,\n",
    "        'Dublin': 1,\n",
    "        'Brussels': 1,\n",
    "        'Zurich': 0,\n",
    "        'Warsaw': 1,\n",
    "        'Budapest': 1,\n",
    "        'Copenhagen': 1,\n",
    "        'Amsterdam': 1,\n",
    "        'Lyon': 0,\n",
    "        'Hamburg': 0,\n",
    "        'Lisbon': 1,\n",
    "        'Prague': 1,\n",
    "        'Oslo': 1,\n",
    "        'Helsinki': 1,\n",
    "        'Edinburgh': 1,\n",
    "        'Geneva': 0,\n",
    "        'Ljubljana': 1,\n",
    "        'Athens': 1,\n",
    "        'Luxembourg': 1,\n",
    "        'Krakow': 0\n",
    "    }\n",
    "\n",
    "    df_output['Is Capital'] = df_output['City_name'].apply(lambda x: is_capital_dict[x])\n",
    "    \n",
    "    # ################### 5. Clean #################################################### \n",
    "    # убираем признаки которые еще не успели обработать, \n",
    "    # модель на признаках с dtypes \"object\" обучаться не будет, просто выберим их и удалим\n",
    "    object_columns = [s for s in df_output.columns if df_output[s].dtypes == 'object']\n",
    "    df_output.drop(object_columns, axis = 1, inplace=True)\n",
    "    \n",
    "    return df_output"
   ]
  },
  {
   "cell_type": "markdown",
   "metadata": {},
   "source": [
    "#### Запускаем и проверяем что получилось"
   ]
  },
  {
   "cell_type": "code",
   "execution_count": 69,
   "metadata": {},
   "outputs": [
    {
     "data": {
      "text/html": [
       "<div>\n",
       "<style scoped>\n",
       "    .dataframe tbody tr th:only-of-type {\n",
       "        vertical-align: middle;\n",
       "    }\n",
       "\n",
       "    .dataframe tbody tr th {\n",
       "        vertical-align: top;\n",
       "    }\n",
       "\n",
       "    .dataframe thead th {\n",
       "        text-align: right;\n",
       "    }\n",
       "</style>\n",
       "<table border=\"1\" class=\"dataframe\">\n",
       "  <thead>\n",
       "    <tr style=\"text-align: right;\">\n",
       "      <th></th>\n",
       "      <th>Ranking</th>\n",
       "      <th>Price Range</th>\n",
       "      <th>Number of Reviews</th>\n",
       "      <th>sample</th>\n",
       "      <th>Rating</th>\n",
       "      <th>Number of Reviews NA</th>\n",
       "      <th>Price Range NA</th>\n",
       "      <th>Cuisine Style NA</th>\n",
       "      <th>Cuisines Number</th>\n",
       "      <th>Reviews NA</th>\n",
       "      <th>...</th>\n",
       "      <th>City_Zurich</th>\n",
       "      <th>Reviews Days Delta</th>\n",
       "      <th>Reviews Days Since</th>\n",
       "      <th>Ranking To Rest Num</th>\n",
       "      <th>Ranking To Population</th>\n",
       "      <th>Reviews Num To Population</th>\n",
       "      <th>Population</th>\n",
       "      <th>Reviews per City</th>\n",
       "      <th>Purchasing Power</th>\n",
       "      <th>Is Capital</th>\n",
       "    </tr>\n",
       "  </thead>\n",
       "  <tbody>\n",
       "    <tr>\n",
       "      <th>14890</th>\n",
       "      <td>1781.0</td>\n",
       "      <td>1</td>\n",
       "      <td>5.0</td>\n",
       "      <td>1</td>\n",
       "      <td>4.0</td>\n",
       "      <td>0</td>\n",
       "      <td>0</td>\n",
       "      <td>0</td>\n",
       "      <td>1</td>\n",
       "      <td>0</td>\n",
       "      <td>...</td>\n",
       "      <td>0</td>\n",
       "      <td>147</td>\n",
       "      <td>1492</td>\n",
       "      <td>2.130383</td>\n",
       "      <td>1.256881</td>\n",
       "      <td>0.003529</td>\n",
       "      <td>1417</td>\n",
       "      <td>146.894737</td>\n",
       "      <td>27</td>\n",
       "      <td>1</td>\n",
       "    </tr>\n",
       "    <tr>\n",
       "      <th>8358</th>\n",
       "      <td>1717.0</td>\n",
       "      <td>2</td>\n",
       "      <td>92.0</td>\n",
       "      <td>0</td>\n",
       "      <td>0.0</td>\n",
       "      <td>0</td>\n",
       "      <td>0</td>\n",
       "      <td>0</td>\n",
       "      <td>2</td>\n",
       "      <td>0</td>\n",
       "      <td>...</td>\n",
       "      <td>0</td>\n",
       "      <td>241</td>\n",
       "      <td>1214</td>\n",
       "      <td>1.499563</td>\n",
       "      <td>0.286597</td>\n",
       "      <td>0.015356</td>\n",
       "      <td>5991</td>\n",
       "      <td>71.952838</td>\n",
       "      <td>6</td>\n",
       "      <td>0</td>\n",
       "    </tr>\n",
       "    <tr>\n",
       "      <th>49165</th>\n",
       "      <td>507.0</td>\n",
       "      <td>2</td>\n",
       "      <td>472.0</td>\n",
       "      <td>1</td>\n",
       "      <td>4.5</td>\n",
       "      <td>0</td>\n",
       "      <td>0</td>\n",
       "      <td>0</td>\n",
       "      <td>5</td>\n",
       "      <td>0</td>\n",
       "      <td>...</td>\n",
       "      <td>0</td>\n",
       "      <td>30</td>\n",
       "      <td>1218</td>\n",
       "      <td>0.083006</td>\n",
       "      <td>0.038928</td>\n",
       "      <td>0.036241</td>\n",
       "      <td>13024</td>\n",
       "      <td>111.464800</td>\n",
       "      <td>22</td>\n",
       "      <td>1</td>\n",
       "    </tr>\n",
       "    <tr>\n",
       "      <th>34555</th>\n",
       "      <td>590.0</td>\n",
       "      <td>2</td>\n",
       "      <td>0.0</td>\n",
       "      <td>1</td>\n",
       "      <td>4.0</td>\n",
       "      <td>1</td>\n",
       "      <td>1</td>\n",
       "      <td>1</td>\n",
       "      <td>1</td>\n",
       "      <td>0</td>\n",
       "      <td>...</td>\n",
       "      <td>0</td>\n",
       "      <td>0</td>\n",
       "      <td>0</td>\n",
       "      <td>1.552632</td>\n",
       "      <td>0.895296</td>\n",
       "      <td>0.000000</td>\n",
       "      <td>659</td>\n",
       "      <td>43.873684</td>\n",
       "      <td>39</td>\n",
       "      <td>1</td>\n",
       "    </tr>\n",
       "    <tr>\n",
       "      <th>44086</th>\n",
       "      <td>2346.0</td>\n",
       "      <td>2</td>\n",
       "      <td>34.0</td>\n",
       "      <td>1</td>\n",
       "      <td>3.5</td>\n",
       "      <td>0</td>\n",
       "      <td>0</td>\n",
       "      <td>0</td>\n",
       "      <td>5</td>\n",
       "      <td>0</td>\n",
       "      <td>...</td>\n",
       "      <td>0</td>\n",
       "      <td>14</td>\n",
       "      <td>1356</td>\n",
       "      <td>1.291850</td>\n",
       "      <td>0.876354</td>\n",
       "      <td>0.012701</td>\n",
       "      <td>2677</td>\n",
       "      <td>110.063326</td>\n",
       "      <td>31</td>\n",
       "      <td>1</td>\n",
       "    </tr>\n",
       "    <tr>\n",
       "      <th>30424</th>\n",
       "      <td>2470.0</td>\n",
       "      <td>2</td>\n",
       "      <td>7.0</td>\n",
       "      <td>1</td>\n",
       "      <td>3.5</td>\n",
       "      <td>0</td>\n",
       "      <td>1</td>\n",
       "      <td>1</td>\n",
       "      <td>1</td>\n",
       "      <td>0</td>\n",
       "      <td>...</td>\n",
       "      <td>0</td>\n",
       "      <td>0</td>\n",
       "      <td>0</td>\n",
       "      <td>2.157205</td>\n",
       "      <td>0.412285</td>\n",
       "      <td>0.001168</td>\n",
       "      <td>5991</td>\n",
       "      <td>71.952838</td>\n",
       "      <td>6</td>\n",
       "      <td>0</td>\n",
       "    </tr>\n",
       "    <tr>\n",
       "      <th>11603</th>\n",
       "      <td>2613.0</td>\n",
       "      <td>2</td>\n",
       "      <td>14.0</td>\n",
       "      <td>1</td>\n",
       "      <td>2.0</td>\n",
       "      <td>0</td>\n",
       "      <td>1</td>\n",
       "      <td>1</td>\n",
       "      <td>1</td>\n",
       "      <td>0</td>\n",
       "      <td>...</td>\n",
       "      <td>0</td>\n",
       "      <td>0</td>\n",
       "      <td>1745</td>\n",
       "      <td>2.320604</td>\n",
       "      <td>1.124839</td>\n",
       "      <td>0.006027</td>\n",
       "      <td>2323</td>\n",
       "      <td>83.438721</td>\n",
       "      <td>70</td>\n",
       "      <td>0</td>\n",
       "    </tr>\n",
       "    <tr>\n",
       "      <th>47002</th>\n",
       "      <td>4838.0</td>\n",
       "      <td>2</td>\n",
       "      <td>61.0</td>\n",
       "      <td>1</td>\n",
       "      <td>4.0</td>\n",
       "      <td>0</td>\n",
       "      <td>0</td>\n",
       "      <td>0</td>\n",
       "      <td>1</td>\n",
       "      <td>0</td>\n",
       "      <td>...</td>\n",
       "      <td>0</td>\n",
       "      <td>233</td>\n",
       "      <td>1314</td>\n",
       "      <td>0.672598</td>\n",
       "      <td>0.339342</td>\n",
       "      <td>0.004279</td>\n",
       "      <td>14257</td>\n",
       "      <td>129.816488</td>\n",
       "      <td>24</td>\n",
       "      <td>1</td>\n",
       "    </tr>\n",
       "    <tr>\n",
       "      <th>9796</th>\n",
       "      <td>1825.0</td>\n",
       "      <td>3</td>\n",
       "      <td>4.0</td>\n",
       "      <td>0</td>\n",
       "      <td>0.0</td>\n",
       "      <td>0</td>\n",
       "      <td>0</td>\n",
       "      <td>0</td>\n",
       "      <td>1</td>\n",
       "      <td>0</td>\n",
       "      <td>...</td>\n",
       "      <td>0</td>\n",
       "      <td>2138</td>\n",
       "      <td>2656</td>\n",
       "      <td>1.620782</td>\n",
       "      <td>0.785622</td>\n",
       "      <td>0.001722</td>\n",
       "      <td>2323</td>\n",
       "      <td>83.438721</td>\n",
       "      <td>70</td>\n",
       "      <td>0</td>\n",
       "    </tr>\n",
       "    <tr>\n",
       "      <th>4068</th>\n",
       "      <td>1815.0</td>\n",
       "      <td>2</td>\n",
       "      <td>0.0</td>\n",
       "      <td>0</td>\n",
       "      <td>0.0</td>\n",
       "      <td>1</td>\n",
       "      <td>1</td>\n",
       "      <td>1</td>\n",
       "      <td>1</td>\n",
       "      <td>0</td>\n",
       "      <td>...</td>\n",
       "      <td>0</td>\n",
       "      <td>0</td>\n",
       "      <td>2414</td>\n",
       "      <td>1.257796</td>\n",
       "      <td>0.698077</td>\n",
       "      <td>0.000000</td>\n",
       "      <td>2600</td>\n",
       "      <td>73.949411</td>\n",
       "      <td>21</td>\n",
       "      <td>1</td>\n",
       "    </tr>\n",
       "  </tbody>\n",
       "</table>\n",
       "<p>10 rows × 50 columns</p>\n",
       "</div>"
      ],
      "text/plain": [
       "       Ranking  Price Range  Number of Reviews  sample  Rating  \\\n",
       "14890   1781.0            1                5.0       1     4.0   \n",
       "8358    1717.0            2               92.0       0     0.0   \n",
       "49165    507.0            2              472.0       1     4.5   \n",
       "34555    590.0            2                0.0       1     4.0   \n",
       "44086   2346.0            2               34.0       1     3.5   \n",
       "30424   2470.0            2                7.0       1     3.5   \n",
       "11603   2613.0            2               14.0       1     2.0   \n",
       "47002   4838.0            2               61.0       1     4.0   \n",
       "9796    1825.0            3                4.0       0     0.0   \n",
       "4068    1815.0            2                0.0       0     0.0   \n",
       "\n",
       "       Number of Reviews NA  Price Range NA  Cuisine Style NA  \\\n",
       "14890                     0               0                 0   \n",
       "8358                      0               0                 0   \n",
       "49165                     0               0                 0   \n",
       "34555                     1               1                 1   \n",
       "44086                     0               0                 0   \n",
       "30424                     0               1                 1   \n",
       "11603                     0               1                 1   \n",
       "47002                     0               0                 0   \n",
       "9796                      0               0                 0   \n",
       "4068                      1               1                 1   \n",
       "\n",
       "       Cuisines Number  Reviews NA  ...  City_Zurich  Reviews Days Delta  \\\n",
       "14890                1           0  ...            0                 147   \n",
       "8358                 2           0  ...            0                 241   \n",
       "49165                5           0  ...            0                  30   \n",
       "34555                1           0  ...            0                   0   \n",
       "44086                5           0  ...            0                  14   \n",
       "30424                1           0  ...            0                   0   \n",
       "11603                1           0  ...            0                   0   \n",
       "47002                1           0  ...            0                 233   \n",
       "9796                 1           0  ...            0                2138   \n",
       "4068                 1           0  ...            0                   0   \n",
       "\n",
       "       Reviews Days Since  Ranking To Rest Num  Ranking To Population  \\\n",
       "14890                1492             2.130383               1.256881   \n",
       "8358                 1214             1.499563               0.286597   \n",
       "49165                1218             0.083006               0.038928   \n",
       "34555                   0             1.552632               0.895296   \n",
       "44086                1356             1.291850               0.876354   \n",
       "30424                   0             2.157205               0.412285   \n",
       "11603                1745             2.320604               1.124839   \n",
       "47002                1314             0.672598               0.339342   \n",
       "9796                 2656             1.620782               0.785622   \n",
       "4068                 2414             1.257796               0.698077   \n",
       "\n",
       "       Reviews Num To Population  Population  Reviews per City  \\\n",
       "14890                   0.003529        1417        146.894737   \n",
       "8358                    0.015356        5991         71.952838   \n",
       "49165                   0.036241       13024        111.464800   \n",
       "34555                   0.000000         659         43.873684   \n",
       "44086                   0.012701        2677        110.063326   \n",
       "30424                   0.001168        5991         71.952838   \n",
       "11603                   0.006027        2323         83.438721   \n",
       "47002                   0.004279       14257        129.816488   \n",
       "9796                    0.001722        2323         83.438721   \n",
       "4068                    0.000000        2600         73.949411   \n",
       "\n",
       "       Purchasing Power  Is Capital  \n",
       "14890                27           1  \n",
       "8358                  6           0  \n",
       "49165                22           1  \n",
       "34555                39           1  \n",
       "44086                31           1  \n",
       "30424                 6           0  \n",
       "11603                70           0  \n",
       "47002                24           1  \n",
       "9796                 70           0  \n",
       "4068                 21           1  \n",
       "\n",
       "[10 rows x 50 columns]"
      ]
     },
     "execution_count": 69,
     "metadata": {},
     "output_type": "execute_result"
    }
   ],
   "source": [
    "df_preproc = preproc_data(data)\n",
    "df_preproc.sample(10)"
   ]
  },
  {
   "cell_type": "code",
   "execution_count": 70,
   "metadata": {},
   "outputs": [
    {
     "name": "stdout",
     "output_type": "stream",
     "text": [
      "<class 'pandas.core.frame.DataFrame'>\n",
      "RangeIndex: 50000 entries, 0 to 49999\n",
      "Data columns (total 50 columns):\n",
      "Ranking                      50000 non-null float64\n",
      "Price Range                  50000 non-null int64\n",
      "Number of Reviews            50000 non-null float64\n",
      "sample                       50000 non-null int64\n",
      "Rating                       50000 non-null float64\n",
      "Number of Reviews NA         50000 non-null int64\n",
      "Price Range NA               50000 non-null int64\n",
      "Cuisine Style NA             50000 non-null int64\n",
      "Cuisines Number              50000 non-null int64\n",
      "Reviews NA                   50000 non-null int64\n",
      "City_Amsterdam               50000 non-null uint8\n",
      "City_Athens                  50000 non-null uint8\n",
      "City_Barcelona               50000 non-null uint8\n",
      "City_Berlin                  50000 non-null uint8\n",
      "City_Bratislava              50000 non-null uint8\n",
      "City_Brussels                50000 non-null uint8\n",
      "City_Budapest                50000 non-null uint8\n",
      "City_Copenhagen              50000 non-null uint8\n",
      "City_Dublin                  50000 non-null uint8\n",
      "City_Edinburgh               50000 non-null uint8\n",
      "City_Geneva                  50000 non-null uint8\n",
      "City_Hamburg                 50000 non-null uint8\n",
      "City_Helsinki                50000 non-null uint8\n",
      "City_Krakow                  50000 non-null uint8\n",
      "City_Lisbon                  50000 non-null uint8\n",
      "City_Ljubljana               50000 non-null uint8\n",
      "City_London                  50000 non-null uint8\n",
      "City_Luxembourg              50000 non-null uint8\n",
      "City_Lyon                    50000 non-null uint8\n",
      "City_Madrid                  50000 non-null uint8\n",
      "City_Milan                   50000 non-null uint8\n",
      "City_Munich                  50000 non-null uint8\n",
      "City_Oporto                  50000 non-null uint8\n",
      "City_Oslo                    50000 non-null uint8\n",
      "City_Paris                   50000 non-null uint8\n",
      "City_Prague                  50000 non-null uint8\n",
      "City_Rome                    50000 non-null uint8\n",
      "City_Stockholm               50000 non-null uint8\n",
      "City_Vienna                  50000 non-null uint8\n",
      "City_Warsaw                  50000 non-null uint8\n",
      "City_Zurich                  50000 non-null uint8\n",
      "Reviews Days Delta           50000 non-null int64\n",
      "Reviews Days Since           50000 non-null int64\n",
      "Ranking To Rest Num          50000 non-null float64\n",
      "Ranking To Population        50000 non-null float64\n",
      "Reviews Num To Population    50000 non-null float64\n",
      "Population                   50000 non-null int64\n",
      "Reviews per City             50000 non-null float64\n",
      "Purchasing Power             50000 non-null int64\n",
      "Is Capital                   50000 non-null int64\n",
      "dtypes: float64(7), int64(12), uint8(31)\n",
      "memory usage: 8.7 MB\n"
     ]
    }
   ],
   "source": [
    "df_preproc.info()"
   ]
  },
  {
   "cell_type": "code",
   "execution_count": 71,
   "metadata": {},
   "outputs": [],
   "source": [
    "# Теперь выделим тестовую часть\n",
    "train_data = df_preproc.query('sample == 1').drop(['sample'], axis=1)\n",
    "test_data = df_preproc.query('sample == 0').drop(['sample'], axis=1)\n",
    "\n",
    "y = train_data.Rating.values            # наш таргет\n",
    "X = train_data.drop(['Rating'], axis=1)"
   ]
  },
  {
   "cell_type": "markdown",
   "metadata": {},
   "source": [
    "**Перед тем как отправлять наши данные на обучение, разделим данные на еще один тест и трейн, для валидации. \n",
    "Это поможет нам проверить, как хорошо наша модель работает, до отправки submissiona на kaggle.**"
   ]
  },
  {
   "cell_type": "code",
   "execution_count": 72,
   "metadata": {},
   "outputs": [],
   "source": [
    "# Воспользуемся специальной функцие train_test_split для разбивки тестовых данных\n",
    "# выделим 20% данных на валидацию (параметр test_size)\n",
    "X_train, X_test, y_train, y_test = train_test_split(X, y, test_size=0.2, random_state=RANDOM_SEED)"
   ]
  },
  {
   "cell_type": "code",
   "execution_count": 73,
   "metadata": {},
   "outputs": [
    {
     "data": {
      "text/plain": [
       "((10000, 49), (40000, 49), (40000, 48), (32000, 48), (8000, 48))"
      ]
     },
     "execution_count": 73,
     "metadata": {},
     "output_type": "execute_result"
    }
   ],
   "source": [
    "# проверяем\n",
    "test_data.shape, train_data.shape, X.shape, X_train.shape, X_test.shape"
   ]
  },
  {
   "cell_type": "markdown",
   "metadata": {},
   "source": [
    "# Model \n",
    "Сам ML"
   ]
  },
  {
   "cell_type": "code",
   "execution_count": 74,
   "metadata": {},
   "outputs": [],
   "source": [
    "# Импортируем необходимые библиотеки:\n",
    "from sklearn.ensemble import RandomForestRegressor # инструмент для создания и обучения модели\n",
    "from sklearn import metrics # инструменты для оценки точности модели"
   ]
  },
  {
   "cell_type": "code",
   "execution_count": 75,
   "metadata": {},
   "outputs": [],
   "source": [
    "# Создаём модель (НАСТРОЙКИ НЕ ТРОГАЕМ)\n",
    "model = RandomForestRegressor(n_estimators=100, verbose=1, n_jobs=-1, random_state=RANDOM_SEED)"
   ]
  },
  {
   "cell_type": "code",
   "execution_count": 76,
   "metadata": {},
   "outputs": [
    {
     "name": "stderr",
     "output_type": "stream",
     "text": [
      "[Parallel(n_jobs=-1)]: Using backend ThreadingBackend with 4 concurrent workers.\n",
      "[Parallel(n_jobs=-1)]: Done  42 tasks      | elapsed:    5.1s\n",
      "[Parallel(n_jobs=-1)]: Done 100 out of 100 | elapsed:   11.7s finished\n",
      "[Parallel(n_jobs=4)]: Using backend ThreadingBackend with 4 concurrent workers.\n",
      "[Parallel(n_jobs=4)]: Done  42 tasks      | elapsed:    0.0s\n",
      "[Parallel(n_jobs=4)]: Done 100 out of 100 | elapsed:    0.1s finished\n"
     ]
    }
   ],
   "source": [
    "# Обучаем модель на тестовом наборе данных\n",
    "model.fit(X_train, y_train)\n",
    "\n",
    "# Используем обученную модель для предсказания рейтинга ресторанов в тестовой выборке.\n",
    "# Предсказанные значения записываем в переменную y_pred\n",
    "y_pred = model.predict(X_test)"
   ]
  },
  {
   "cell_type": "code",
   "execution_count": 77,
   "metadata": {},
   "outputs": [
    {
     "name": "stdout",
     "output_type": "stream",
     "text": [
      "MAE: 0.19908999999999996\n"
     ]
    }
   ],
   "source": [
    "# Сравниваем предсказанные значения (y_pred) с реальными (y_test), и смотрим насколько они в среднем отличаются\n",
    "# Метрика называется Mean Absolute Error (MAE) и показывает среднее отклонение предсказанных значений от фактических.\n",
    "print('MAE:', metrics.mean_absolute_error(y_test, y_pred))"
   ]
  },
  {
   "cell_type": "code",
   "execution_count": 78,
   "metadata": {},
   "outputs": [
    {
     "data": {
      "text/plain": [
       "<matplotlib.axes._subplots.AxesSubplot at 0x7fe4632caa20>"
      ]
     },
     "execution_count": 78,
     "metadata": {},
     "output_type": "execute_result"
    },
    {
     "data": {
      "image/png": "[encoded data removed]",
      "text/plain": [
       "<Figure size 720x720 with 1 Axes>"
      ]
     },
     "metadata": {
      "needs_background": "light"
     },
     "output_type": "display_data"
    }
   ],
   "source": [
    "# в RandomForestRegressor есть возможность вывести самые важные признаки для модели\n",
    "plt.rcParams['figure.figsize'] = (10,10)\n",
    "feat_importances = pd.Series(model.feature_importances_, index=X.columns)\n",
    "feat_importances.nlargest(15).plot(kind='barh')"
   ]
  },
  {
   "cell_type": "markdown",
   "metadata": {},
   "source": []
  },
  {
   "cell_type": "markdown",
   "metadata": {},
   "source": [
    "# Submission\n",
    "Если все устраевает - готовим Submission на кагл"
   ]
  },
  {
   "cell_type": "code",
   "execution_count": 79,
   "metadata": {},
   "outputs": [
    {
     "data": {
      "text/html": [
       "<div>\n",
       "<style scoped>\n",
       "    .dataframe tbody tr th:only-of-type {\n",
       "        vertical-align: middle;\n",
       "    }\n",
       "\n",
       "    .dataframe tbody tr th {\n",
       "        vertical-align: top;\n",
       "    }\n",
       "\n",
       "    .dataframe thead th {\n",
       "        text-align: right;\n",
       "    }\n",
       "</style>\n",
       "<table border=\"1\" class=\"dataframe\">\n",
       "  <thead>\n",
       "    <tr style=\"text-align: right;\">\n",
       "      <th></th>\n",
       "      <th>Ranking</th>\n",
       "      <th>Price Range</th>\n",
       "      <th>Number of Reviews</th>\n",
       "      <th>Rating</th>\n",
       "      <th>Number of Reviews NA</th>\n",
       "      <th>Price Range NA</th>\n",
       "      <th>Cuisine Style NA</th>\n",
       "      <th>Cuisines Number</th>\n",
       "      <th>Reviews NA</th>\n",
       "      <th>City_Amsterdam</th>\n",
       "      <th>...</th>\n",
       "      <th>City_Zurich</th>\n",
       "      <th>Reviews Days Delta</th>\n",
       "      <th>Reviews Days Since</th>\n",
       "      <th>Ranking To Rest Num</th>\n",
       "      <th>Ranking To Population</th>\n",
       "      <th>Reviews Num To Population</th>\n",
       "      <th>Population</th>\n",
       "      <th>Reviews per City</th>\n",
       "      <th>Purchasing Power</th>\n",
       "      <th>Is Capital</th>\n",
       "    </tr>\n",
       "  </thead>\n",
       "  <tbody>\n",
       "    <tr>\n",
       "      <th>6528</th>\n",
       "      <td>3579.0</td>\n",
       "      <td>2</td>\n",
       "      <td>52.0</td>\n",
       "      <td>0.0</td>\n",
       "      <td>0</td>\n",
       "      <td>0</td>\n",
       "      <td>0</td>\n",
       "      <td>2</td>\n",
       "      <td>0</td>\n",
       "      <td>0</td>\n",
       "      <td>...</td>\n",
       "      <td>0</td>\n",
       "      <td>154</td>\n",
       "      <td>1765</td>\n",
       "      <td>0.585953</td>\n",
       "      <td>0.274800</td>\n",
       "      <td>0.003993</td>\n",
       "      <td>13024</td>\n",
       "      <td>111.464800</td>\n",
       "      <td>22</td>\n",
       "      <td>1</td>\n",
       "    </tr>\n",
       "    <tr>\n",
       "      <th>5085</th>\n",
       "      <td>2393.0</td>\n",
       "      <td>2</td>\n",
       "      <td>21.0</td>\n",
       "      <td>0.0</td>\n",
       "      <td>0</td>\n",
       "      <td>1</td>\n",
       "      <td>1</td>\n",
       "      <td>1</td>\n",
       "      <td>0</td>\n",
       "      <td>0</td>\n",
       "      <td>...</td>\n",
       "      <td>0</td>\n",
       "      <td>3</td>\n",
       "      <td>1281</td>\n",
       "      <td>2.343781</td>\n",
       "      <td>0.794753</td>\n",
       "      <td>0.006974</td>\n",
       "      <td>3011</td>\n",
       "      <td>145.314398</td>\n",
       "      <td>51</td>\n",
       "      <td>1</td>\n",
       "    </tr>\n",
       "    <tr>\n",
       "      <th>4702</th>\n",
       "      <td>2842.0</td>\n",
       "      <td>2</td>\n",
       "      <td>114.0</td>\n",
       "      <td>0.0</td>\n",
       "      <td>0</td>\n",
       "      <td>0</td>\n",
       "      <td>0</td>\n",
       "      <td>3</td>\n",
       "      <td>0</td>\n",
       "      <td>0</td>\n",
       "      <td>...</td>\n",
       "      <td>0</td>\n",
       "      <td>94</td>\n",
       "      <td>1266</td>\n",
       "      <td>2.162861</td>\n",
       "      <td>1.136800</td>\n",
       "      <td>0.045600</td>\n",
       "      <td>2500</td>\n",
       "      <td>86.724505</td>\n",
       "      <td>15</td>\n",
       "      <td>1</td>\n",
       "    </tr>\n",
       "    <tr>\n",
       "      <th>2781</th>\n",
       "      <td>773.0</td>\n",
       "      <td>2</td>\n",
       "      <td>4.0</td>\n",
       "      <td>0.0</td>\n",
       "      <td>0</td>\n",
       "      <td>1</td>\n",
       "      <td>0</td>\n",
       "      <td>1</td>\n",
       "      <td>0</td>\n",
       "      <td>0</td>\n",
       "      <td>...</td>\n",
       "      <td>0</td>\n",
       "      <td>577</td>\n",
       "      <td>2154</td>\n",
       "      <td>1.627368</td>\n",
       "      <td>0.506885</td>\n",
       "      <td>0.002623</td>\n",
       "      <td>1525</td>\n",
       "      <td>62.128421</td>\n",
       "      <td>9</td>\n",
       "      <td>1</td>\n",
       "    </tr>\n",
       "    <tr>\n",
       "      <th>9834</th>\n",
       "      <td>871.0</td>\n",
       "      <td>2</td>\n",
       "      <td>24.0</td>\n",
       "      <td>0.0</td>\n",
       "      <td>0</td>\n",
       "      <td>0</td>\n",
       "      <td>0</td>\n",
       "      <td>3</td>\n",
       "      <td>0</td>\n",
       "      <td>0</td>\n",
       "      <td>...</td>\n",
       "      <td>0</td>\n",
       "      <td>38</td>\n",
       "      <td>1209</td>\n",
       "      <td>0.479626</td>\n",
       "      <td>0.325364</td>\n",
       "      <td>0.008965</td>\n",
       "      <td>2677</td>\n",
       "      <td>110.063326</td>\n",
       "      <td>31</td>\n",
       "      <td>1</td>\n",
       "    </tr>\n",
       "    <tr>\n",
       "      <th>1513</th>\n",
       "      <td>2698.0</td>\n",
       "      <td>2</td>\n",
       "      <td>2.0</td>\n",
       "      <td>0.0</td>\n",
       "      <td>0</td>\n",
       "      <td>1</td>\n",
       "      <td>1</td>\n",
       "      <td>1</td>\n",
       "      <td>0</td>\n",
       "      <td>0</td>\n",
       "      <td>...</td>\n",
       "      <td>0</td>\n",
       "      <td>0</td>\n",
       "      <td>1420</td>\n",
       "      <td>2.274874</td>\n",
       "      <td>0.528294</td>\n",
       "      <td>0.000392</td>\n",
       "      <td>5107</td>\n",
       "      <td>41.191400</td>\n",
       "      <td>7</td>\n",
       "      <td>0</td>\n",
       "    </tr>\n",
       "    <tr>\n",
       "      <th>5533</th>\n",
       "      <td>10969.0</td>\n",
       "      <td>2</td>\n",
       "      <td>4.0</td>\n",
       "      <td>0.0</td>\n",
       "      <td>0</td>\n",
       "      <td>1</td>\n",
       "      <td>1</td>\n",
       "      <td>1</td>\n",
       "      <td>0</td>\n",
       "      <td>0</td>\n",
       "      <td>...</td>\n",
       "      <td>0</td>\n",
       "      <td>0</td>\n",
       "      <td>0</td>\n",
       "      <td>1.795842</td>\n",
       "      <td>0.842214</td>\n",
       "      <td>0.000307</td>\n",
       "      <td>13024</td>\n",
       "      <td>111.464800</td>\n",
       "      <td>22</td>\n",
       "      <td>1</td>\n",
       "    </tr>\n",
       "    <tr>\n",
       "      <th>4433</th>\n",
       "      <td>64.0</td>\n",
       "      <td>1</td>\n",
       "      <td>78.0</td>\n",
       "      <td>0.0</td>\n",
       "      <td>0</td>\n",
       "      <td>0</td>\n",
       "      <td>0</td>\n",
       "      <td>5</td>\n",
       "      <td>0</td>\n",
       "      <td>0</td>\n",
       "      <td>...</td>\n",
       "      <td>0</td>\n",
       "      <td>14</td>\n",
       "      <td>1282</td>\n",
       "      <td>0.288288</td>\n",
       "      <td>0.119181</td>\n",
       "      <td>0.145251</td>\n",
       "      <td>537</td>\n",
       "      <td>82.292793</td>\n",
       "      <td>32</td>\n",
       "      <td>1</td>\n",
       "    </tr>\n",
       "    <tr>\n",
       "      <th>3416</th>\n",
       "      <td>1525.0</td>\n",
       "      <td>2</td>\n",
       "      <td>10.0</td>\n",
       "      <td>0.0</td>\n",
       "      <td>0</td>\n",
       "      <td>1</td>\n",
       "      <td>1</td>\n",
       "      <td>1</td>\n",
       "      <td>0</td>\n",
       "      <td>0</td>\n",
       "      <td>...</td>\n",
       "      <td>0</td>\n",
       "      <td>22</td>\n",
       "      <td>1705</td>\n",
       "      <td>2.046980</td>\n",
       "      <td>1.692564</td>\n",
       "      <td>0.011099</td>\n",
       "      <td>901</td>\n",
       "      <td>231.010738</td>\n",
       "      <td>16</td>\n",
       "      <td>1</td>\n",
       "    </tr>\n",
       "    <tr>\n",
       "      <th>5584</th>\n",
       "      <td>534.0</td>\n",
       "      <td>2</td>\n",
       "      <td>16.0</td>\n",
       "      <td>0.0</td>\n",
       "      <td>0</td>\n",
       "      <td>0</td>\n",
       "      <td>0</td>\n",
       "      <td>1</td>\n",
       "      <td>0</td>\n",
       "      <td>0</td>\n",
       "      <td>...</td>\n",
       "      <td>0</td>\n",
       "      <td>370</td>\n",
       "      <td>1231</td>\n",
       "      <td>1.094262</td>\n",
       "      <td>0.336272</td>\n",
       "      <td>0.010076</td>\n",
       "      <td>1588</td>\n",
       "      <td>95.495902</td>\n",
       "      <td>17</td>\n",
       "      <td>1</td>\n",
       "    </tr>\n",
       "  </tbody>\n",
       "</table>\n",
       "<p>10 rows × 49 columns</p>\n",
       "</div>"
      ],
      "text/plain": [
       "      Ranking  Price Range  Number of Reviews  Rating  Number of Reviews NA  \\\n",
       "6528   3579.0            2               52.0     0.0                     0   \n",
       "5085   2393.0            2               21.0     0.0                     0   \n",
       "4702   2842.0            2              114.0     0.0                     0   \n",
       "2781    773.0            2                4.0     0.0                     0   \n",
       "9834    871.0            2               24.0     0.0                     0   \n",
       "1513   2698.0            2                2.0     0.0                     0   \n",
       "5533  10969.0            2                4.0     0.0                     0   \n",
       "4433     64.0            1               78.0     0.0                     0   \n",
       "3416   1525.0            2               10.0     0.0                     0   \n",
       "5584    534.0            2               16.0     0.0                     0   \n",
       "\n",
       "      Price Range NA  Cuisine Style NA  Cuisines Number  Reviews NA  \\\n",
       "6528               0                 0                2           0   \n",
       "5085               1                 1                1           0   \n",
       "4702               0                 0                3           0   \n",
       "2781               1                 0                1           0   \n",
       "9834               0                 0                3           0   \n",
       "1513               1                 1                1           0   \n",
       "5533               1                 1                1           0   \n",
       "4433               0                 0                5           0   \n",
       "3416               1                 1                1           0   \n",
       "5584               0                 0                1           0   \n",
       "\n",
       "      City_Amsterdam  ...  City_Zurich  Reviews Days Delta  \\\n",
       "6528               0  ...            0                 154   \n",
       "5085               0  ...            0                   3   \n",
       "4702               0  ...            0                  94   \n",
       "2781               0  ...            0                 577   \n",
       "9834               0  ...            0                  38   \n",
       "1513               0  ...            0                   0   \n",
       "5533               0  ...            0                   0   \n",
       "4433               0  ...            0                  14   \n",
       "3416               0  ...            0                  22   \n",
       "5584               0  ...            0                 370   \n",
       "\n",
       "      Reviews Days Since  Ranking To Rest Num  Ranking To Population  \\\n",
       "6528                1765             0.585953               0.274800   \n",
       "5085                1281             2.343781               0.794753   \n",
       "4702                1266             2.162861               1.136800   \n",
       "2781                2154             1.627368               0.506885   \n",
       "9834                1209             0.479626               0.325364   \n",
       "1513                1420             2.274874               0.528294   \n",
       "5533                   0             1.795842               0.842214   \n",
       "4433                1282             0.288288               0.119181   \n",
       "3416                1705             2.046980               1.692564   \n",
       "5584                1231             1.094262               0.336272   \n",
       "\n",
       "      Reviews Num To Population  Population  Reviews per City  \\\n",
       "6528                   0.003993       13024        111.464800   \n",
       "5085                   0.006974        3011        145.314398   \n",
       "4702                   0.045600        2500         86.724505   \n",
       "2781                   0.002623        1525         62.128421   \n",
       "9834                   0.008965        2677        110.063326   \n",
       "1513                   0.000392        5107         41.191400   \n",
       "5533                   0.000307       13024        111.464800   \n",
       "4433                   0.145251         537         82.292793   \n",
       "3416                   0.011099         901        231.010738   \n",
       "5584                   0.010076        1588         95.495902   \n",
       "\n",
       "      Purchasing Power  Is Capital  \n",
       "6528                22           1  \n",
       "5085                51           1  \n",
       "4702                15           1  \n",
       "2781                 9           1  \n",
       "9834                31           1  \n",
       "1513                 7           0  \n",
       "5533                22           1  \n",
       "4433                32           1  \n",
       "3416                16           1  \n",
       "5584                17           1  \n",
       "\n",
       "[10 rows x 49 columns]"
      ]
     },
     "execution_count": 79,
     "metadata": {},
     "output_type": "execute_result"
    }
   ],
   "source": [
    "test_data.sample(10)"
   ]
  },
  {
   "cell_type": "code",
   "execution_count": 80,
   "metadata": {},
   "outputs": [],
   "source": [
    "test_data = test_data.drop(['Rating'], axis=1)"
   ]
  },
  {
   "cell_type": "code",
   "execution_count": 81,
   "metadata": {},
   "outputs": [
    {
     "data": {
      "text/html": [
       "<div>\n",
       "<style scoped>\n",
       "    .dataframe tbody tr th:only-of-type {\n",
       "        vertical-align: middle;\n",
       "    }\n",
       "\n",
       "    .dataframe tbody tr th {\n",
       "        vertical-align: top;\n",
       "    }\n",
       "\n",
       "    .dataframe thead th {\n",
       "        text-align: right;\n",
       "    }\n",
       "</style>\n",
       "<table border=\"1\" class=\"dataframe\">\n",
       "  <thead>\n",
       "    <tr style=\"text-align: right;\">\n",
       "      <th></th>\n",
       "      <th>Restaurant_id</th>\n",
       "      <th>Rating</th>\n",
       "    </tr>\n",
       "  </thead>\n",
       "  <tbody>\n",
       "    <tr>\n",
       "      <th>0</th>\n",
       "      <td>id_0</td>\n",
       "      <td>2.0</td>\n",
       "    </tr>\n",
       "    <tr>\n",
       "      <th>1</th>\n",
       "      <td>id_1</td>\n",
       "      <td>2.5</td>\n",
       "    </tr>\n",
       "    <tr>\n",
       "      <th>2</th>\n",
       "      <td>id_2</td>\n",
       "      <td>4.0</td>\n",
       "    </tr>\n",
       "    <tr>\n",
       "      <th>3</th>\n",
       "      <td>id_3</td>\n",
       "      <td>1.0</td>\n",
       "    </tr>\n",
       "    <tr>\n",
       "      <th>4</th>\n",
       "      <td>id_4</td>\n",
       "      <td>4.0</td>\n",
       "    </tr>\n",
       "    <tr>\n",
       "      <th>...</th>\n",
       "      <td>...</td>\n",
       "      <td>...</td>\n",
       "    </tr>\n",
       "    <tr>\n",
       "      <th>9995</th>\n",
       "      <td>id_9995</td>\n",
       "      <td>3.0</td>\n",
       "    </tr>\n",
       "    <tr>\n",
       "      <th>9996</th>\n",
       "      <td>id_9996</td>\n",
       "      <td>1.5</td>\n",
       "    </tr>\n",
       "    <tr>\n",
       "      <th>9997</th>\n",
       "      <td>id_9997</td>\n",
       "      <td>4.5</td>\n",
       "    </tr>\n",
       "    <tr>\n",
       "      <th>9998</th>\n",
       "      <td>id_9998</td>\n",
       "      <td>1.0</td>\n",
       "    </tr>\n",
       "    <tr>\n",
       "      <th>9999</th>\n",
       "      <td>id_9999</td>\n",
       "      <td>2.5</td>\n",
       "    </tr>\n",
       "  </tbody>\n",
       "</table>\n",
       "<p>10000 rows × 2 columns</p>\n",
       "</div>"
      ],
      "text/plain": [
       "     Restaurant_id  Rating\n",
       "0             id_0     2.0\n",
       "1             id_1     2.5\n",
       "2             id_2     4.0\n",
       "3             id_3     1.0\n",
       "4             id_4     4.0\n",
       "...            ...     ...\n",
       "9995       id_9995     3.0\n",
       "9996       id_9996     1.5\n",
       "9997       id_9997     4.5\n",
       "9998       id_9998     1.0\n",
       "9999       id_9999     2.5\n",
       "\n",
       "[10000 rows x 2 columns]"
      ]
     },
     "execution_count": 81,
     "metadata": {},
     "output_type": "execute_result"
    }
   ],
   "source": [
    "sample_submission"
   ]
  },
  {
   "cell_type": "code",
   "execution_count": 82,
   "metadata": {},
   "outputs": [
    {
     "name": "stderr",
     "output_type": "stream",
     "text": [
      "[Parallel(n_jobs=4)]: Using backend ThreadingBackend with 4 concurrent workers.\n",
      "[Parallel(n_jobs=4)]: Done  42 tasks      | elapsed:    0.0s\n",
      "[Parallel(n_jobs=4)]: Done 100 out of 100 | elapsed:    0.1s finished\n"
     ]
    }
   ],
   "source": [
    "predict_submission = model.predict(test_data)"
   ]
  },
  {
   "cell_type": "code",
   "execution_count": 83,
   "metadata": {},
   "outputs": [
    {
     "data": {
      "text/plain": [
       "array([3.07 , 4.2  , 4.51 , ..., 3.005, 4.49 , 4.435])"
      ]
     },
     "execution_count": 83,
     "metadata": {},
     "output_type": "execute_result"
    }
   ],
   "source": [
    "predict_submission"
   ]
  },
  {
   "cell_type": "code",
   "execution_count": 84,
   "metadata": {},
   "outputs": [
    {
     "data": {
      "text/html": [
       "<div>\n",
       "<style scoped>\n",
       "    .dataframe tbody tr th:only-of-type {\n",
       "        vertical-align: middle;\n",
       "    }\n",
       "\n",
       "    .dataframe tbody tr th {\n",
       "        vertical-align: top;\n",
       "    }\n",
       "\n",
       "    .dataframe thead th {\n",
       "        text-align: right;\n",
       "    }\n",
       "</style>\n",
       "<table border=\"1\" class=\"dataframe\">\n",
       "  <thead>\n",
       "    <tr style=\"text-align: right;\">\n",
       "      <th></th>\n",
       "      <th>Restaurant_id</th>\n",
       "      <th>Rating</th>\n",
       "    </tr>\n",
       "  </thead>\n",
       "  <tbody>\n",
       "    <tr>\n",
       "      <th>0</th>\n",
       "      <td>id_0</td>\n",
       "      <td>3.070</td>\n",
       "    </tr>\n",
       "    <tr>\n",
       "      <th>1</th>\n",
       "      <td>id_1</td>\n",
       "      <td>4.200</td>\n",
       "    </tr>\n",
       "    <tr>\n",
       "      <th>2</th>\n",
       "      <td>id_2</td>\n",
       "      <td>4.510</td>\n",
       "    </tr>\n",
       "    <tr>\n",
       "      <th>3</th>\n",
       "      <td>id_3</td>\n",
       "      <td>4.310</td>\n",
       "    </tr>\n",
       "    <tr>\n",
       "      <th>4</th>\n",
       "      <td>id_4</td>\n",
       "      <td>4.490</td>\n",
       "    </tr>\n",
       "    <tr>\n",
       "      <th>5</th>\n",
       "      <td>id_5</td>\n",
       "      <td>4.445</td>\n",
       "    </tr>\n",
       "    <tr>\n",
       "      <th>6</th>\n",
       "      <td>id_6</td>\n",
       "      <td>3.025</td>\n",
       "    </tr>\n",
       "    <tr>\n",
       "      <th>7</th>\n",
       "      <td>id_7</td>\n",
       "      <td>2.275</td>\n",
       "    </tr>\n",
       "    <tr>\n",
       "      <th>8</th>\n",
       "      <td>id_8</td>\n",
       "      <td>4.085</td>\n",
       "    </tr>\n",
       "    <tr>\n",
       "      <th>9</th>\n",
       "      <td>id_9</td>\n",
       "      <td>4.595</td>\n",
       "    </tr>\n",
       "  </tbody>\n",
       "</table>\n",
       "</div>"
      ],
      "text/plain": [
       "  Restaurant_id  Rating\n",
       "0          id_0   3.070\n",
       "1          id_1   4.200\n",
       "2          id_2   4.510\n",
       "3          id_3   4.310\n",
       "4          id_4   4.490\n",
       "5          id_5   4.445\n",
       "6          id_6   3.025\n",
       "7          id_7   2.275\n",
       "8          id_8   4.085\n",
       "9          id_9   4.595"
      ]
     },
     "execution_count": 84,
     "metadata": {},
     "output_type": "execute_result"
    }
   ],
   "source": [
    "sample_submission['Rating'] = predict_submission\n",
    "sample_submission.to_csv('submission.csv', index=False)\n",
    "sample_submission.head(10)"
   ]
  },
  {
   "cell_type": "markdown",
   "metadata": {},
   "source": [
    "#### **Общие впечателения от работы.**\n",
    "В целом проект интересный, видно реальное применение DS. Но работа вызвала много затруднений вследствие того, что все в этом курсе я изучаю с нуля.\n",
    "\n",
    "Не хватает опыта именно в изобретении новых фич. Не совсем понятно, как к этому подходить. Возможно, у этого есть какие-то научные основы, хотелось бы что-то изучить дополнительно. \n",
    "\n",
    "Так же чувствую затруднения с выбором способа визуализации и трактовкой результатов. Опять же хотелось бы какие-то материалы на эту тему, чтобы стало понятнее, как с этим работать на практике. \n",
    "\n",
    "Результат MAE в рейтинговой таблице (0.20463) отличается от полученного в блокноте (0.19909).\n",
    "\n",
    "Интересно, есть ли в реальной практике какие-то правила или рекомендации относительно того, как глубоко надо закапываться в генерацию признаков, и есть ли минимальная приемлемая точность для того, чтобы считать задачу выполненной. "
   ]
  },
  {
   "cell_type": "code",
   "execution_count": null,
   "metadata": {},
   "outputs": [],
   "source": []
  }
 ],
 "metadata": {
  "kernelspec": {
   "display_name": "Python 3",
   "language": "python",
   "name": "python3"
  },
  "language_info": {
   "codemirror_mode": {
    "name": "ipython",
    "version": 3
   },
   "file_extension": ".py",
   "mimetype": "text/x-python",
   "name": "python",
   "nbconvert_exporter": "python",
   "pygments_lexer": "ipython3",
   "version": "3.8.3"
  }
 },
 "nbformat": 4,
 "nbformat_minor": 4
}
