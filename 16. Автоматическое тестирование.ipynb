{
 "cells": [
  {
   "cell_type": "markdown",
   "metadata": {},
   "source": [
    "16. Автоматическое тестирование.\n",
    "\n",
    "Автоматическое тестирование\n",
    "Сложности, которые могут возникнуть с ручным тестированием, может решить автоматическое тестирование. В разделе отладки мы говорили, что нужно анализировать поток данных: что поступает на вход и получается на выходе; на это и нацелены тесты функций.\n",
    "Воспользуемся библиотекой pytest, которая позволяет определять тесты и используется в крупных проектах. Документацию к библиотеке можно посмотреть здесь.\n",
    "https://docs.pytest.org/en/latest/ Запустилось три теста (collected 3 items), и все три корректно отработали (3 passed):"
   ]
  },
  {
   "cell_type": "code",
   "execution_count": 2,
   "metadata": {},
   "outputs": [],
   "source": [
    "## Ниже изложенное в 16 пункте юнита:\n",
    "\n",
    "# Чтобы написать тест, мы должны определить функцию, имя которой начинается на test_  \n",
    "# после этого мы используем ключевое слово assert, которое проверят, является ли истинным значение сразу за ним  \n",
    "def test_something():  \n",
    "    assert True  \n",
    "      \n",
    "def test_equal_string():  \n",
    "    greetings = \"Hello, \" +  \"world\"  \n",
    "    assert greetings == \"Hello, world\"  \n",
    "  \n",
    "def test_numbers():  \n",
    "    total = 73 + 42  \n",
    "    assert total == 115  \n",
    "# После этого мы запускаем код с помощью pytest из консоли  \n",
    "# >> pytest basic_test.py  \n",
    "# ============================= test session starts ==============================  \n",
    "# collected 3 items                                                                \n",
    "  \n",
    "# basic_test.py ...                                                        [100%]  \n",
    "  \n",
    "# =========================== 3 passed in 0.03 seconds ===========================  "
   ]
  },
  {
   "cell_type": "markdown",
   "metadata": {},
   "source": [
    "Далее устанавливаю pytest командой pip install -U pytest:\n",
    "\n",
    "Получаю:\n",
    "Requirement already up-to-date: pytest in /Users/AAB/opt/anaconda3/lib/python3.8/site-packages (6.2.5)\n",
    "Requirement already satisfied, skipping upgrade: iniconfig in /Users/AAB/opt/anaconda3/lib/python3.8/site-packages (from pytest) (1.1.1)\n",
    "Requirement already satisfied, skipping upgrade: toml in /Users/AAB/opt/anaconda3/lib/python3.8/site-packages (from pytest) (0.10.1)\n",
    "Requirement already satisfied, skipping upgrade: pluggy<2.0,>=0.12 in /Users/AAB/opt/anaconda3/lib/python3.8/site-packages (from pytest) (0.13.1)\n",
    "Requirement already satisfied, skipping upgrade: attrs>=19.2.0 in /Users/AAB/opt/anaconda3/lib/python3.8/site-packages (from pytest) (20.3.0)\n",
    "Requirement already satisfied, skipping upgrade: py>=1.8.2 in /Users/AAB/opt/anaconda3/lib/python3.8/site-packages (from pytest) (1.9.0)\n",
    "Requirement already satisfied, skipping upgrade: packaging in /Users/AAB/opt/anaconda3/lib/python3.8/site-packages (from pytest) (20.4)\n",
    "Requirement already satisfied, skipping upgrade: pyparsing>=2.0.2 in /Users/AAB/opt/anaconda3/lib/python3.8/site-packages (from packaging->pytest) (2.4.7)\n",
    "Requirement already satisfied, skipping upgrade: six in /Users/AAB/opt/anaconda3/lib/python3.8/site-packages (from packaging->pytest) (1.15.0)\n",
    "Note: you may need to restart the kernel to use updated packages.\n",
    "\n",
    "Навсякий случай перезагружаю kernel\n",
    "\n",
    "Далее в документации написано, что следующей командой  $ pytest --version необходимо проверить корректность установки и версию pytest:"
   ]
  },
  {
   "cell_type": "code",
   "execution_count": 3,
   "metadata": {},
   "outputs": [
    {
     "ename": "SyntaxError",
     "evalue": "invalid syntax (<ipython-input-3-1ebf581e4242>, line 1)",
     "output_type": "error",
     "traceback": [
      "\u001b[0;36m  File \u001b[0;32m\"<ipython-input-3-1ebf581e4242>\"\u001b[0;36m, line \u001b[0;32m1\u001b[0m\n\u001b[0;31m    $ pytest --version\u001b[0m\n\u001b[0m    ^\u001b[0m\n\u001b[0;31mSyntaxError\u001b[0m\u001b[0;31m:\u001b[0m invalid syntax\n"
     ]
    }
   ],
   "source": [
    "$ pytest --version # -> SyntaxError"
   ]
  },
  {
   "cell_type": "markdown",
   "metadata": {},
   "source": [
    "Из нашей переписки и документации выяснил, что необходимо создать текстовый файл с расширением py, например, назову его test_sample.py и скопирую в него три выше указанные функции:\n",
    "\n",
    "def test_something():  \n",
    "    assert True  \n",
    "      \n",
    "def test_equal_string():  \n",
    "    greetings = \"Hello, \" +  \"world\"  \n",
    "    assert greetings == \"Hello, world\"  \n",
    "  \n",
    "def test_numbers():  \n",
    "    total = 73 + 42  \n",
    "    assert total == 115  "
   ]
  },
  {
   "cell_type": "code",
   "execution_count": 4,
   "metadata": {},
   "outputs": [
    {
     "ename": "SyntaxError",
     "evalue": "invalid syntax (<ipython-input-4-8bac5865e7e2>, line 4)",
     "output_type": "error",
     "traceback": [
      "\u001b[0;36m  File \u001b[0;32m\"<ipython-input-4-8bac5865e7e2>\"\u001b[0;36m, line \u001b[0;32m4\u001b[0m\n\u001b[0;31m    pytest basic_test.py\u001b[0m\n\u001b[0m           ^\u001b[0m\n\u001b[0;31mSyntaxError\u001b[0m\u001b[0;31m:\u001b[0m invalid syntax\n"
     ]
    }
   ],
   "source": [
    "# После этого как указано выше: мы запускаем код с помощью pytest из консоли  \n",
    "# >> pytest basic_test.py  \n",
    "\n",
    "pytest basic_test.py"
   ]
  },
  {
   "cell_type": "code",
   "execution_count": 5,
   "metadata": {},
   "outputs": [
    {
     "name": "stdout",
     "output_type": "stream",
     "text": [
      "zsh:1: command not found: pytest\r\n"
     ]
    }
   ],
   "source": [
    "# Вами рекомендованную команду запускаю:\n",
    "\n",
    "!pytest"
   ]
  },
  {
   "cell_type": "code",
   "execution_count": 6,
   "metadata": {},
   "outputs": [
    {
     "name": "stdout",
     "output_type": "stream",
     "text": [
      "zsh:1: command not found: pytest\r\n"
     ]
    }
   ],
   "source": [
    "# Вами рекомендованная команда\n",
    "\n",
    "!pytest test_sample.py"
   ]
  },
  {
   "cell_type": "code",
   "execution_count": null,
   "metadata": {},
   "outputs": [],
   "source": []
  },
  {
   "cell_type": "code",
   "execution_count": null,
   "metadata": {},
   "outputs": [],
   "source": []
  },
  {
   "cell_type": "code",
   "execution_count": null,
   "metadata": {},
   "outputs": [],
   "source": []
  },
  {
   "cell_type": "code",
   "execution_count": null,
   "metadata": {},
   "outputs": [],
   "source": []
  },
  {
   "cell_type": "code",
   "execution_count": null,
   "metadata": {},
   "outputs": [],
   "source": []
  },
  {
   "cell_type": "code",
   "execution_count": null,
   "metadata": {},
   "outputs": [],
   "source": []
  }
 ],
 "metadata": {
  "kernelspec": {
   "display_name": "Python 3",
   "language": "python",
   "name": "python3"
  },
  "language_info": {
   "codemirror_mode": {
    "name": "ipython",
    "version": 3
   },
   "file_extension": ".py",
   "mimetype": "text/x-python",
   "name": "python",
   "nbconvert_exporter": "python",
   "pygments_lexer": "ipython3",
   "version": "3.8.3"
  }
 },
 "nbformat": 4,
 "nbformat_minor": 4
}
