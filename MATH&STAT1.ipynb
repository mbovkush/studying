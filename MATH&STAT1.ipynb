{
 "cells": [
  {
   "cell_type": "code",
   "execution_count": 1,
   "metadata": {},
   "outputs": [
    {
     "data": {
      "text/plain": [
       "array([33, 65, 50, 45])"
      ]
     },
     "execution_count": 1,
     "metadata": {},
     "output_type": "execute_result"
    }
   ],
   "source": [
    "import numpy as np\n",
    "s = np.array([33, 65, 50, 45])\n",
    "s"
   ]
  },
  {
   "cell_type": "code",
   "execution_count": 2,
   "metadata": {},
   "outputs": [
    {
     "data": {
      "text/plain": [
       "50"
      ]
     },
     "execution_count": 2,
     "metadata": {},
     "output_type": "execute_result"
    }
   ],
   "source": [
    "s[2]"
   ]
  },
  {
   "cell_type": "code",
   "execution_count": 3,
   "metadata": {},
   "outputs": [
    {
     "data": {
      "text/plain": [
       "4"
      ]
     },
     "execution_count": 3,
     "metadata": {},
     "output_type": "execute_result"
    }
   ],
   "source": [
    "len(s)"
   ]
  },
  {
   "cell_type": "code",
   "execution_count": 4,
   "metadata": {},
   "outputs": [],
   "source": [
    "apartment = np.array([59.50, 31.40, 19, 22, 60550, 2])"
   ]
  },
  {
   "cell_type": "code",
   "execution_count": 5,
   "metadata": {},
   "outputs": [
    {
     "ename": "NameError",
     "evalue": "name 'x' is not defined",
     "output_type": "error",
     "traceback": [
      "\u001b[0;31m---------------------------------------------------------------------------\u001b[0m",
      "\u001b[0;31mNameError\u001b[0m                                 Traceback (most recent call last)",
      "\u001b[0;32m<ipython-input-5-e7fac8a46ad2>\u001b[0m in \u001b[0;36m<module>\u001b[0;34m\u001b[0m\n\u001b[0;32m----> 1\u001b[0;31m \u001b[0mprint\u001b[0m\u001b[0;34m(\u001b[0m\u001b[0;34m\"ndim:\"\u001b[0m\u001b[0;34m,\u001b[0m \u001b[0mx\u001b[0m\u001b[0;34m.\u001b[0m\u001b[0mndim\u001b[0m\u001b[0;34m)\u001b[0m \u001b[0;31m# число осей (измерений) массива - n.dim: 1\u001b[0m\u001b[0;34m\u001b[0m\u001b[0;34m\u001b[0m\u001b[0m\n\u001b[0m\u001b[1;32m      2\u001b[0m \u001b[0mprint\u001b[0m\u001b[0;34m(\u001b[0m\u001b[0;34m\"shape:\"\u001b[0m\u001b[0;34m,\u001b[0m \u001b[0mx\u001b[0m\u001b[0;34m.\u001b[0m\u001b[0mshape\u001b[0m\u001b[0;34m)\u001b[0m \u001b[0;31m# размеры массива, для вектора определена только длина - shape: (6, )\u001b[0m\u001b[0;34m\u001b[0m\u001b[0;34m\u001b[0m\u001b[0m\n",
      "\u001b[0;31mNameError\u001b[0m: name 'x' is not defined"
     ]
    }
   ],
   "source": [
    "print(\"ndim:\", x.ndim) # число осей (измерений) массива - n.dim: 1\n",
    "print(\"shape:\", x.shape) # размеры массива, для вектора определена только длина - shape: (6, )"
   ]
  },
  {
   "cell_type": "code",
   "execution_count": 6,
   "metadata": {},
   "outputs": [],
   "source": [
    "# вычислим долю жилой площади в квартире\n",
    "share_living_space = apartment[1]/apartment[0]"
   ]
  },
  {
   "cell_type": "code",
   "execution_count": 7,
   "metadata": {},
   "outputs": [],
   "source": [
    "apartment = np.delete(apartment, [0, 1])"
   ]
  },
  {
   "cell_type": "code",
   "execution_count": 8,
   "metadata": {},
   "outputs": [],
   "source": [
    "apartment = np.append(apartment, share_living_space)"
   ]
  },
  {
   "cell_type": "code",
   "execution_count": 9,
   "metadata": {},
   "outputs": [
    {
     "data": {
      "text/plain": [
       "0.5277310924369748"
      ]
     },
     "execution_count": 9,
     "metadata": {},
     "output_type": "execute_result"
    }
   ],
   "source": [
    "share_living_space"
   ]
  },
  {
   "cell_type": "code",
   "execution_count": 11,
   "metadata": {},
   "outputs": [
    {
     "data": {
      "text/plain": [
       "(5,)"
      ]
     },
     "execution_count": 11,
     "metadata": {},
     "output_type": "execute_result"
    }
   ],
   "source": [
    "np.shape(apartment)"
   ]
  },
  {
   "cell_type": "code",
   "execution_count": 12,
   "metadata": {},
   "outputs": [
    {
     "data": {
      "text/plain": [
       "19.0"
      ]
     },
     "execution_count": 12,
     "metadata": {},
     "output_type": "execute_result"
    }
   ],
   "source": [
    "apartment[0]"
   ]
  },
  {
   "cell_type": "code",
   "execution_count": 13,
   "metadata": {},
   "outputs": [],
   "source": [
    "alex = np.array([120, 150, 90])\n",
    "wife = np.array([130, 130 ,130])\n",
    "mom = np.array([2, 3, 2.5])"
   ]
  },
  {
   "cell_type": "code",
   "execution_count": 14,
   "metadata": {},
   "outputs": [],
   "source": [
    "omega = 72"
   ]
  },
  {
   "cell_type": "code",
   "execution_count": 15,
   "metadata": {},
   "outputs": [
    {
     "data": {
      "text/plain": [
       "array([144., 216., 180.])"
      ]
     },
     "execution_count": 15,
     "metadata": {},
     "output_type": "execute_result"
    }
   ],
   "source": [
    "mom_rub = mom*omega\n",
    "mom_rub"
   ]
  },
  {
   "cell_type": "code",
   "execution_count": 16,
   "metadata": {},
   "outputs": [
    {
     "name": "stdout",
     "output_type": "stream",
     "text": [
      "[394. 496. 400.]\n"
     ]
    }
   ],
   "source": [
    "print(alex+wife+mom_rub)"
   ]
  },
  {
   "cell_type": "code",
   "execution_count": 17,
   "metadata": {},
   "outputs": [
    {
     "data": {
      "text/plain": [
       "array([7, 7])"
      ]
     },
     "execution_count": 17,
     "metadata": {},
     "output_type": "execute_result"
    }
   ],
   "source": [
    "x = np.array([4, 5])\n",
    "y = np.array([2, 1])\n",
    "z = np.array([1, 0])\n",
    "2*x -3*y + 5*z"
   ]
  },
  {
   "cell_type": "code",
   "execution_count": 22,
   "metadata": {},
   "outputs": [
    {
     "data": {
      "text/plain": [
       "array([-200, 1200,  200,  600])"
      ]
     },
     "execution_count": 22,
     "metadata": {},
     "output_type": "execute_result"
    }
   ],
   "source": [
    "made = np.array([3, 4, 5, 9])\n",
    "sold = np.array([1, 5, 3, 6])\n",
    "cost = 200\n",
    "price = 400\n",
    "price*sold - cost*made"
   ]
  },
  {
   "cell_type": "code",
   "execution_count": 24,
   "metadata": {},
   "outputs": [
    {
     "data": {
      "text/plain": [
       "7.28"
      ]
     },
     "execution_count": 24,
     "metadata": {},
     "output_type": "execute_result"
    }
   ],
   "source": [
    "x = np.array([4, 6, 1])\n",
    "round((np.dot(x, x))**(1/2), 2)"
   ]
  },
  {
   "cell_type": "code",
   "execution_count": 31,
   "metadata": {},
   "outputs": [
    {
     "data": {
      "text/html": [
       "<div>\n",
       "<style scoped>\n",
       "    .dataframe tbody tr th:only-of-type {\n",
       "        vertical-align: middle;\n",
       "    }\n",
       "\n",
       "    .dataframe tbody tr th {\n",
       "        vertical-align: top;\n",
       "    }\n",
       "\n",
       "    .dataframe thead th {\n",
       "        text-align: right;\n",
       "    }\n",
       "</style>\n",
       "<table border=\"1\" class=\"dataframe\">\n",
       "  <thead>\n",
       "    <tr style=\"text-align: right;\">\n",
       "      <th></th>\n",
       "      <th>1.Rent</th>\n",
       "      <th>2.Area</th>\n",
       "      <th>3.Rooms</th>\n",
       "      <th>4.Floor</th>\n",
       "      <th>5.Demo two weeks</th>\n",
       "      <th>6.Liv.Area</th>\n",
       "    </tr>\n",
       "  </thead>\n",
       "  <tbody>\n",
       "    <tr>\n",
       "      <th>0</th>\n",
       "      <td>65</td>\n",
       "      <td>50</td>\n",
       "      <td>3</td>\n",
       "      <td>5</td>\n",
       "      <td>8</td>\n",
       "      <td>37</td>\n",
       "    </tr>\n",
       "    <tr>\n",
       "      <th>1</th>\n",
       "      <td>70</td>\n",
       "      <td>52</td>\n",
       "      <td>2</td>\n",
       "      <td>12</td>\n",
       "      <td>4</td>\n",
       "      <td>40</td>\n",
       "    </tr>\n",
       "    <tr>\n",
       "      <th>2</th>\n",
       "      <td>120</td>\n",
       "      <td>80</td>\n",
       "      <td>1</td>\n",
       "      <td>10</td>\n",
       "      <td>5</td>\n",
       "      <td>65</td>\n",
       "    </tr>\n",
       "    <tr>\n",
       "      <th>3</th>\n",
       "      <td>35</td>\n",
       "      <td>33</td>\n",
       "      <td>1</td>\n",
       "      <td>3</td>\n",
       "      <td>10</td>\n",
       "      <td>20</td>\n",
       "    </tr>\n",
       "    <tr>\n",
       "      <th>4</th>\n",
       "      <td>40</td>\n",
       "      <td>33</td>\n",
       "      <td>1</td>\n",
       "      <td>6</td>\n",
       "      <td>20</td>\n",
       "      <td>16</td>\n",
       "    </tr>\n",
       "    <tr>\n",
       "      <th>5</th>\n",
       "      <td>50</td>\n",
       "      <td>44</td>\n",
       "      <td>2</td>\n",
       "      <td>13</td>\n",
       "      <td>12</td>\n",
       "      <td>35</td>\n",
       "    </tr>\n",
       "    <tr>\n",
       "      <th>6</th>\n",
       "      <td>100</td>\n",
       "      <td>80</td>\n",
       "      <td>4</td>\n",
       "      <td>8</td>\n",
       "      <td>5</td>\n",
       "      <td>60</td>\n",
       "    </tr>\n",
       "    <tr>\n",
       "      <th>7</th>\n",
       "      <td>90</td>\n",
       "      <td>65</td>\n",
       "      <td>3</td>\n",
       "      <td>21</td>\n",
       "      <td>1</td>\n",
       "      <td>50</td>\n",
       "    </tr>\n",
       "    <tr>\n",
       "      <th>8</th>\n",
       "      <td>85</td>\n",
       "      <td>65</td>\n",
       "      <td>2</td>\n",
       "      <td>5</td>\n",
       "      <td>10</td>\n",
       "      <td>40</td>\n",
       "    </tr>\n",
       "  </tbody>\n",
       "</table>\n",
       "</div>"
      ],
      "text/plain": [
       "   1.Rent  2.Area  3.Rooms  4.Floor  5.Demo two weeks  6.Liv.Area\n",
       "0      65      50        3        5                 8          37\n",
       "1      70      52        2       12                 4          40\n",
       "2     120      80        1       10                 5          65\n",
       "3      35      33        1        3                10          20\n",
       "4      40      33        1        6                20          16\n",
       "5      50      44        2       13                12          35\n",
       "6     100      80        4        8                 5          60\n",
       "7      90      65        3       21                 1          50\n",
       "8      85      65        2        5                10          40"
      ]
     },
     "execution_count": 31,
     "metadata": {},
     "output_type": "execute_result"
    }
   ],
   "source": [
    "import pandas as pd\n",
    "Hut_Paradise_DF = pd.DataFrame({'1.Rent': [65, 70, 120, 35, 40, 50, 100, 90, 85], \n",
    "                                '2.Area': [50, 52, 80, 33, 33, 44, 80, 65, 65], \n",
    "                                '3.Rooms':[3, 2, 1, 1, 1, 2, 4, 3, 2],\n",
    "                                '4.Floor':[5, 12, 10, 3, 6, 13, 8, 21, 5], \n",
    "                                '5.Demo two weeks':[8, 4, 5, 10, 20, 12, 5, 1, 10], \n",
    "                                '6.Liv.Area': [37, 40, 65, 20, 16, 35, 60, 50, 40]})\n",
    "Hut_Paradise_DF"
   ]
  },
  {
   "cell_type": "code",
   "execution_count": 27,
   "metadata": {},
   "outputs": [],
   "source": [
    "matrix_hut = Hut_Paradise_DF.values"
   ]
  },
  {
   "cell_type": "code",
   "execution_count": 28,
   "metadata": {},
   "outputs": [
    {
     "data": {
      "text/plain": [
       "array([[ 65,  50,   3,   5,   8,  37],\n",
       "       [ 70,  52,   2,  12,   4,  40],\n",
       "       [120,  80,   1,  10,   5,  65],\n",
       "       [ 35,  33,   1,   3,  10,  20],\n",
       "       [ 40,  33,   1,   6,  20,  16],\n",
       "       [ 50,  44,   2,  13,  12,  35],\n",
       "       [100,  80,   4,   8,   5,  60],\n",
       "       [ 90,  65,   3,  21,   1,  50],\n",
       "       [ 85,  65,   2,   5,  10,  40]])"
      ]
     },
     "execution_count": 28,
     "metadata": {},
     "output_type": "execute_result"
    }
   ],
   "source": [
    "matrix_hut"
   ]
  },
  {
   "cell_type": "code",
   "execution_count": 30,
   "metadata": {},
   "outputs": [
    {
     "data": {
      "text/plain": [
       "array([40, 33,  1,  6, 20, 16])"
      ]
     },
     "execution_count": 30,
     "metadata": {},
     "output_type": "execute_result"
    }
   ],
   "source": [
    "x = matrix_hut[4]\n",
    "x"
   ]
  },
  {
   "cell_type": "code",
   "execution_count": 32,
   "metadata": {},
   "outputs": [
    {
     "data": {
      "text/plain": [
       "array([ 5, 12, 10,  3,  6, 13,  8, 21,  5])"
      ]
     },
     "execution_count": 32,
     "metadata": {},
     "output_type": "execute_result"
    }
   ],
   "source": [
    "y=matrix_hut[:,3]\n",
    "y"
   ]
  },
  {
   "cell_type": "code",
   "execution_count": 35,
   "metadata": {},
   "outputs": [
    {
     "data": {
      "text/plain": [
       "10"
      ]
     },
     "execution_count": 35,
     "metadata": {},
     "output_type": "execute_result"
    }
   ],
   "source": [
    "y1=matrix_hut[2,3]\n",
    "y1"
   ]
  },
  {
   "cell_type": "code",
   "execution_count": 36,
   "metadata": {},
   "outputs": [
    {
     "data": {
      "text/plain": [
       "9"
      ]
     },
     "execution_count": 36,
     "metadata": {},
     "output_type": "execute_result"
    }
   ],
   "source": [
    "len(y)"
   ]
  },
  {
   "cell_type": "code",
   "execution_count": 37,
   "metadata": {},
   "outputs": [
    {
     "data": {
      "text/plain": [
       "array([13, 12, 15, 13, 17,  9, 20, 15, 25])"
      ]
     },
     "execution_count": 37,
     "metadata": {},
     "output_type": "execute_result"
    }
   ],
   "source": [
    "area = matrix_hut[:,1]\n",
    "l_area = matrix_hut[:, 5]\n",
    "non_live = area - l_area\n",
    "non_live"
   ]
  },
  {
   "cell_type": "code",
   "execution_count": 38,
   "metadata": {},
   "outputs": [],
   "source": [
    "rent = matrix_hut[:, 0]\n",
    "grivna = 0.4*rent"
   ]
  },
  {
   "cell_type": "code",
   "execution_count": 39,
   "metadata": {},
   "outputs": [
    {
     "data": {
      "text/plain": [
       "array([26., 28., 48., 14., 16., 20., 40., 36., 34.])"
      ]
     },
     "execution_count": 39,
     "metadata": {},
     "output_type": "execute_result"
    }
   ],
   "source": [
    "grivna"
   ]
  },
  {
   "cell_type": "code",
   "execution_count": 42,
   "metadata": {},
   "outputs": [
    {
     "data": {
      "text/plain": [
       "array([ 80,  80, 150, 150, 100, 480, 100,   8, 200])"
      ]
     },
     "execution_count": 42,
     "metadata": {},
     "output_type": "execute_result"
    }
   ],
   "source": [
    "view = np.array([10, 20, 30, 15, 5, 40, 20, 8, 20])\n",
    "demo = matrix_hut[:, 4]\n",
    "two_weeks = demo*view\n",
    "two_weeks"
   ]
  },
  {
   "cell_type": "code",
   "execution_count": 43,
   "metadata": {},
   "outputs": [
    {
     "data": {
      "text/plain": [
       "1348"
      ]
     },
     "execution_count": 43,
     "metadata": {},
     "output_type": "execute_result"
    }
   ],
   "source": [
    "np.sum(two_weeks)"
   ]
  },
  {
   "cell_type": "code",
   "execution_count": 44,
   "metadata": {},
   "outputs": [],
   "source": [
    "u=np.array([3,0,1,1,1])\n",
    "v=np.array([0,1,0,2,-2])\n",
    "w=np.array([1,-4,-1,0,-2])"
   ]
  },
  {
   "cell_type": "code",
   "execution_count": 46,
   "metadata": {},
   "outputs": [
    {
     "data": {
      "text/plain": [
       "array([-3, 14,  3,  4,  2])"
      ]
     },
     "execution_count": 46,
     "metadata": {},
     "output_type": "execute_result"
    }
   ],
   "source": [
    "q = 2*v - 3*w\n",
    "q"
   ]
  },
  {
   "cell_type": "code",
   "execution_count": 47,
   "metadata": {},
   "outputs": [
    {
     "data": {
      "text/plain": [
       "0"
      ]
     },
     "execution_count": 47,
     "metadata": {},
     "output_type": "execute_result"
    }
   ],
   "source": [
    "np.dot(u, q)"
   ]
  },
  {
   "cell_type": "code",
   "execution_count": 50,
   "metadata": {},
   "outputs": [
    {
     "name": "stdout",
     "output_type": "stream",
     "text": [
      "[0.8660254  0.         0.28867513 0.28867513 0.28867513]\n",
      "[ 0.          0.33333333  0.          0.66666667 -0.66666667]\n",
      "[ 0.21320072 -0.85280287 -0.21320072  0.         -0.42640143]\n"
     ]
    }
   ],
   "source": [
    "u_norm = u/np.linalg.norm(u)\n",
    "v_norm = v/np.linalg.norm(v)\n",
    "w_norm = w/np.linalg.norm(w)\n",
    "print(u_norm)\n",
    "print(v_norm)\n",
    "print(w_norm)"
   ]
  },
  {
   "cell_type": "code",
   "execution_count": 58,
   "metadata": {},
   "outputs": [],
   "source": [
    "import numpy as np\n",
    "\n",
    "Husband_Income = np.array([100,220,140])\n",
    "Wife_Income = np.array([150,200,130])\n",
    "Mother_In_Law_Income = np.array([90,80,100])\n",
    "\n",
    "Husband_Consumption = np.array([50,50,60])\n",
    "Wife_Consumption = np.array([100,80,140])\n",
    "Mother_In_Law_Consumption = np.array([100,20,140])"
   ]
  },
  {
   "cell_type": "code",
   "execution_count": 54,
   "metadata": {},
   "outputs": [],
   "source": [
    "Family_Income = np.array([Husband_Income, Wife_Income, Mother_In_Law_Income])"
   ]
  },
  {
   "cell_type": "code",
   "execution_count": 55,
   "metadata": {},
   "outputs": [
    {
     "data": {
      "text/plain": [
       "array([[100, 220, 140],\n",
       "       [150, 200, 130],\n",
       "       [ 90,  80, 100]])"
      ]
     },
     "execution_count": 55,
     "metadata": {},
     "output_type": "execute_result"
    }
   ],
   "source": [
    "Family_Income"
   ]
  },
  {
   "cell_type": "code",
   "execution_count": 65,
   "metadata": {},
   "outputs": [],
   "source": [
    "Inc = Family_Income.T"
   ]
  },
  {
   "cell_type": "code",
   "execution_count": 59,
   "metadata": {},
   "outputs": [],
   "source": [
    "Cons = np.array([Husband_Consumption, Wife_Consumption, Mother_In_Law_Consumption]).T"
   ]
  },
  {
   "cell_type": "code",
   "execution_count": 60,
   "metadata": {},
   "outputs": [
    {
     "data": {
      "text/plain": [
       "array([[ 50, 100, 100],\n",
       "       [ 50,  80,  20],\n",
       "       [ 60, 140, 140]])"
      ]
     },
     "execution_count": 60,
     "metadata": {},
     "output_type": "execute_result"
    }
   ],
   "source": [
    "Cons"
   ]
  },
  {
   "cell_type": "code",
   "execution_count": 61,
   "metadata": {},
   "outputs": [],
   "source": [
    "Tax = 0.13*Family_Income"
   ]
  },
  {
   "cell_type": "code",
   "execution_count": 62,
   "metadata": {},
   "outputs": [
    {
     "data": {
      "text/plain": [
       "array([[13. , 28.6, 18.2],\n",
       "       [19.5, 26. , 16.9],\n",
       "       [11.7, 10.4, 13. ]])"
      ]
     },
     "execution_count": 62,
     "metadata": {},
     "output_type": "execute_result"
    }
   ],
   "source": [
    "Tax"
   ]
  },
  {
   "cell_type": "code",
   "execution_count": 66,
   "metadata": {},
   "outputs": [
    {
     "name": "stdout",
     "output_type": "stream",
     "text": [
      "[ 87.  130.5  78.3]\n"
     ]
    }
   ],
   "source": [
    "Inc_Tax=Inc*(1-0.13)\n",
    "\n",
    "print(Inc_Tax[0])"
   ]
  },
  {
   "cell_type": "code",
   "execution_count": 67,
   "metadata": {},
   "outputs": [
    {
     "name": "stdout",
     "output_type": "stream",
     "text": [
      "[ 61.8 -26.9 -53. ]\n"
     ]
    }
   ],
   "source": [
    "P = Inc_Tax - Cons\n",
    "print(P[2])"
   ]
  },
  {
   "cell_type": "code",
   "execution_count": 68,
   "metadata": {},
   "outputs": [],
   "source": [
    "A = np.array([[5,-1,3,1,2], [-2,8,5,-1,1]])\n",
    "x = np.array([1,2,3,4,5])"
   ]
  },
  {
   "cell_type": "code",
   "execution_count": 71,
   "metadata": {},
   "outputs": [
    {
     "data": {
      "text/plain": [
       "array([[ 5, -1,  3,  1,  2],\n",
       "       [-2,  8,  5, -1,  1]])"
      ]
     },
     "execution_count": 71,
     "metadata": {},
     "output_type": "execute_result"
    }
   ],
   "source": [
    "A"
   ]
  },
  {
   "cell_type": "code",
   "execution_count": 72,
   "metadata": {},
   "outputs": [
    {
     "data": {
      "text/plain": [
       "array([1, 2, 3, 4, 5])"
      ]
     },
     "execution_count": 72,
     "metadata": {},
     "output_type": "execute_result"
    }
   ],
   "source": [
    "x"
   ]
  },
  {
   "cell_type": "code",
   "execution_count": 75,
   "metadata": {},
   "outputs": [
    {
     "data": {
      "text/plain": [
       "array([26, 30])"
      ]
     },
     "execution_count": 75,
     "metadata": {},
     "output_type": "execute_result"
    }
   ],
   "source": [
    "A@x"
   ]
  },
  {
   "cell_type": "code",
   "execution_count": 77,
   "metadata": {},
   "outputs": [],
   "source": [
    "A = np.array([[1,9,8,5], [3,6,3,2], [3,3,3,3], [0,2,5,9], [4,4,1,2]])\n",
    "B = np.array([[1,-1,0,1,1], [-2,0,2,-1,1]])"
   ]
  },
  {
   "cell_type": "code",
   "execution_count": 78,
   "metadata": {},
   "outputs": [
    {
     "data": {
      "text/plain": [
       "array([[1, 9, 8, 5],\n",
       "       [3, 6, 3, 2],\n",
       "       [3, 3, 3, 3],\n",
       "       [0, 2, 5, 9],\n",
       "       [4, 4, 1, 2]])"
      ]
     },
     "execution_count": 78,
     "metadata": {},
     "output_type": "execute_result"
    }
   ],
   "source": [
    "A"
   ]
  },
  {
   "cell_type": "code",
   "execution_count": 79,
   "metadata": {},
   "outputs": [
    {
     "data": {
      "text/plain": [
       "array([[ 1, -1,  0,  1,  1],\n",
       "       [-2,  0,  2, -1,  1]])"
      ]
     },
     "execution_count": 79,
     "metadata": {},
     "output_type": "execute_result"
    }
   ],
   "source": [
    "B"
   ]
  },
  {
   "cell_type": "code",
   "execution_count": 80,
   "metadata": {},
   "outputs": [
    {
     "data": {
      "text/plain": [
       "array([[  2,   9,  11,  14],\n",
       "       [  8, -10, -14, -11]])"
      ]
     },
     "execution_count": 80,
     "metadata": {},
     "output_type": "execute_result"
    }
   ],
   "source": [
    "np.dot(B,A)"
   ]
  },
  {
   "cell_type": "code",
   "execution_count": 81,
   "metadata": {},
   "outputs": [],
   "source": [
    "x = np.array([1,2,1,0,4])\n",
    "y = np.array([2,1,-1,1,0])\n",
    "z = np.array([-1,1,-1,0,0])"
   ]
  },
  {
   "cell_type": "code",
   "execution_count": 82,
   "metadata": {},
   "outputs": [],
   "source": [
    "A = np.array([x, y, z])"
   ]
  },
  {
   "cell_type": "code",
   "execution_count": 83,
   "metadata": {},
   "outputs": [
    {
     "data": {
      "text/plain": [
       "array([[22,  3,  0],\n",
       "       [ 3,  7,  0],\n",
       "       [ 0,  0,  3]])"
      ]
     },
     "execution_count": 83,
     "metadata": {},
     "output_type": "execute_result"
    }
   ],
   "source": [
    "A@A.T"
   ]
  },
  {
   "cell_type": "code",
   "execution_count": 84,
   "metadata": {},
   "outputs": [],
   "source": [
    "Count_DF = pd.DataFrame({'Женские стрижки': [10, 2, 12, 4, 6, 10, 22, 7], \n",
    "                                'Мужские стрижки': [5, 21, 12, 8, 25, 3, 1, 0], \n",
    "                                'Окрашивания':[12, 3, 0, 18, 27, 2, 4, 31],\n",
    "                              'Укладка':[15, 25, 30, 14, 25, 17, 25, 31],\n",
    "                                'Уход':[10, 6, 4, 5, 18, 12, 20, 28]\n",
    "                                }, \n",
    "                               index=['Аня', 'Борис', 'Вика', 'Галя', 'Дима', 'Егор', 'Женя','Юра'])\n",
    "Price_DF = pd.DataFrame({'Женские стрижки': [2, 1.8, 2, 1.8, 2.5, 5, 1.1, 4.5], \n",
    "                                'Мужские стрижки': [1.5, 2.5, 2, 1.2, 3.5, 5, 1, 4], \n",
    "                                'Окрашивания':[1, 1, 0, 2.8, 2, 3, 1.5, 2.5],\n",
    "                              'Укладка':[0.8, 1, 0.5, 0.8, 1, 2, 0.5, 1],\n",
    "                                'Уход':[1, 1, 2, 2, 1.5, 2.5, 1.7, 2] \n",
    "                                }, \n",
    "                               index=['Аня', 'Борис', 'Вика', 'Галя', 'Дима', 'Егор', 'Женя','Юра'])"
   ]
  },
  {
   "cell_type": "code",
   "execution_count": 89,
   "metadata": {},
   "outputs": [],
   "source": [
    "Count = Count_DF.values"
   ]
  },
  {
   "cell_type": "code",
   "execution_count": 87,
   "metadata": {},
   "outputs": [
    {
     "data": {
      "text/html": [
       "<div>\n",
       "<style scoped>\n",
       "    .dataframe tbody tr th:only-of-type {\n",
       "        vertical-align: middle;\n",
       "    }\n",
       "\n",
       "    .dataframe tbody tr th {\n",
       "        vertical-align: top;\n",
       "    }\n",
       "\n",
       "    .dataframe thead th {\n",
       "        text-align: right;\n",
       "    }\n",
       "</style>\n",
       "<table border=\"1\" class=\"dataframe\">\n",
       "  <thead>\n",
       "    <tr style=\"text-align: right;\">\n",
       "      <th></th>\n",
       "      <th>Женские стрижки</th>\n",
       "      <th>Мужские стрижки</th>\n",
       "      <th>Окрашивания</th>\n",
       "      <th>Укладка</th>\n",
       "      <th>Уход</th>\n",
       "    </tr>\n",
       "  </thead>\n",
       "  <tbody>\n",
       "    <tr>\n",
       "      <th>Аня</th>\n",
       "      <td>10</td>\n",
       "      <td>5</td>\n",
       "      <td>12</td>\n",
       "      <td>15</td>\n",
       "      <td>10</td>\n",
       "    </tr>\n",
       "    <tr>\n",
       "      <th>Борис</th>\n",
       "      <td>2</td>\n",
       "      <td>21</td>\n",
       "      <td>3</td>\n",
       "      <td>25</td>\n",
       "      <td>6</td>\n",
       "    </tr>\n",
       "    <tr>\n",
       "      <th>Вика</th>\n",
       "      <td>12</td>\n",
       "      <td>12</td>\n",
       "      <td>0</td>\n",
       "      <td>30</td>\n",
       "      <td>4</td>\n",
       "    </tr>\n",
       "    <tr>\n",
       "      <th>Галя</th>\n",
       "      <td>4</td>\n",
       "      <td>8</td>\n",
       "      <td>18</td>\n",
       "      <td>14</td>\n",
       "      <td>5</td>\n",
       "    </tr>\n",
       "    <tr>\n",
       "      <th>Дима</th>\n",
       "      <td>6</td>\n",
       "      <td>25</td>\n",
       "      <td>27</td>\n",
       "      <td>25</td>\n",
       "      <td>18</td>\n",
       "    </tr>\n",
       "    <tr>\n",
       "      <th>Егор</th>\n",
       "      <td>10</td>\n",
       "      <td>3</td>\n",
       "      <td>2</td>\n",
       "      <td>17</td>\n",
       "      <td>12</td>\n",
       "    </tr>\n",
       "    <tr>\n",
       "      <th>Женя</th>\n",
       "      <td>22</td>\n",
       "      <td>1</td>\n",
       "      <td>4</td>\n",
       "      <td>25</td>\n",
       "      <td>20</td>\n",
       "    </tr>\n",
       "    <tr>\n",
       "      <th>Юра</th>\n",
       "      <td>7</td>\n",
       "      <td>0</td>\n",
       "      <td>31</td>\n",
       "      <td>31</td>\n",
       "      <td>28</td>\n",
       "    </tr>\n",
       "  </tbody>\n",
       "</table>\n",
       "</div>"
      ],
      "text/plain": [
       "       Женские стрижки  Мужские стрижки  Окрашивания  Укладка  Уход\n",
       "Аня                 10                5           12       15    10\n",
       "Борис                2               21            3       25     6\n",
       "Вика                12               12            0       30     4\n",
       "Галя                 4                8           18       14     5\n",
       "Дима                 6               25           27       25    18\n",
       "Егор                10                3            2       17    12\n",
       "Женя                22                1            4       25    20\n",
       "Юра                  7                0           31       31    28"
      ]
     },
     "execution_count": 87,
     "metadata": {},
     "output_type": "execute_result"
    }
   ],
   "source": [
    "Count_DF"
   ]
  },
  {
   "cell_type": "code",
   "execution_count": 88,
   "metadata": {},
   "outputs": [
    {
     "data": {
      "text/html": [
       "<div>\n",
       "<style scoped>\n",
       "    .dataframe tbody tr th:only-of-type {\n",
       "        vertical-align: middle;\n",
       "    }\n",
       "\n",
       "    .dataframe tbody tr th {\n",
       "        vertical-align: top;\n",
       "    }\n",
       "\n",
       "    .dataframe thead th {\n",
       "        text-align: right;\n",
       "    }\n",
       "</style>\n",
       "<table border=\"1\" class=\"dataframe\">\n",
       "  <thead>\n",
       "    <tr style=\"text-align: right;\">\n",
       "      <th></th>\n",
       "      <th>Женские стрижки</th>\n",
       "      <th>Мужские стрижки</th>\n",
       "      <th>Окрашивания</th>\n",
       "      <th>Укладка</th>\n",
       "      <th>Уход</th>\n",
       "    </tr>\n",
       "  </thead>\n",
       "  <tbody>\n",
       "    <tr>\n",
       "      <th>Аня</th>\n",
       "      <td>2.0</td>\n",
       "      <td>1.5</td>\n",
       "      <td>1.0</td>\n",
       "      <td>0.8</td>\n",
       "      <td>1.0</td>\n",
       "    </tr>\n",
       "    <tr>\n",
       "      <th>Борис</th>\n",
       "      <td>1.8</td>\n",
       "      <td>2.5</td>\n",
       "      <td>1.0</td>\n",
       "      <td>1.0</td>\n",
       "      <td>1.0</td>\n",
       "    </tr>\n",
       "    <tr>\n",
       "      <th>Вика</th>\n",
       "      <td>2.0</td>\n",
       "      <td>2.0</td>\n",
       "      <td>0.0</td>\n",
       "      <td>0.5</td>\n",
       "      <td>2.0</td>\n",
       "    </tr>\n",
       "    <tr>\n",
       "      <th>Галя</th>\n",
       "      <td>1.8</td>\n",
       "      <td>1.2</td>\n",
       "      <td>2.8</td>\n",
       "      <td>0.8</td>\n",
       "      <td>2.0</td>\n",
       "    </tr>\n",
       "    <tr>\n",
       "      <th>Дима</th>\n",
       "      <td>2.5</td>\n",
       "      <td>3.5</td>\n",
       "      <td>2.0</td>\n",
       "      <td>1.0</td>\n",
       "      <td>1.5</td>\n",
       "    </tr>\n",
       "    <tr>\n",
       "      <th>Егор</th>\n",
       "      <td>5.0</td>\n",
       "      <td>5.0</td>\n",
       "      <td>3.0</td>\n",
       "      <td>2.0</td>\n",
       "      <td>2.5</td>\n",
       "    </tr>\n",
       "    <tr>\n",
       "      <th>Женя</th>\n",
       "      <td>1.1</td>\n",
       "      <td>1.0</td>\n",
       "      <td>1.5</td>\n",
       "      <td>0.5</td>\n",
       "      <td>1.7</td>\n",
       "    </tr>\n",
       "    <tr>\n",
       "      <th>Юра</th>\n",
       "      <td>4.5</td>\n",
       "      <td>4.0</td>\n",
       "      <td>2.5</td>\n",
       "      <td>1.0</td>\n",
       "      <td>2.0</td>\n",
       "    </tr>\n",
       "  </tbody>\n",
       "</table>\n",
       "</div>"
      ],
      "text/plain": [
       "       Женские стрижки  Мужские стрижки  Окрашивания  Укладка  Уход\n",
       "Аня                2.0              1.5          1.0      0.8   1.0\n",
       "Борис              1.8              2.5          1.0      1.0   1.0\n",
       "Вика               2.0              2.0          0.0      0.5   2.0\n",
       "Галя               1.8              1.2          2.8      0.8   2.0\n",
       "Дима               2.5              3.5          2.0      1.0   1.5\n",
       "Егор               5.0              5.0          3.0      2.0   2.5\n",
       "Женя               1.1              1.0          1.5      0.5   1.7\n",
       "Юра                4.5              4.0          2.5      1.0   2.0"
      ]
     },
     "execution_count": 88,
     "metadata": {},
     "output_type": "execute_result"
    }
   ],
   "source": [
    "Price_DF"
   ]
  },
  {
   "cell_type": "code",
   "execution_count": 90,
   "metadata": {},
   "outputs": [],
   "source": [
    "Price = Price_DF.values"
   ]
  },
  {
   "cell_type": "code",
   "execution_count": 91,
   "metadata": {},
   "outputs": [
    {
     "data": {
      "text/plain": [
       "array([[10,  5, 12, 15, 10],\n",
       "       [ 2, 21,  3, 25,  6],\n",
       "       [12, 12,  0, 30,  4],\n",
       "       [ 4,  8, 18, 14,  5],\n",
       "       [ 6, 25, 27, 25, 18],\n",
       "       [10,  3,  2, 17, 12],\n",
       "       [22,  1,  4, 25, 20],\n",
       "       [ 7,  0, 31, 31, 28]])"
      ]
     },
     "execution_count": 91,
     "metadata": {},
     "output_type": "execute_result"
    }
   ],
   "source": [
    "Count"
   ]
  },
  {
   "cell_type": "code",
   "execution_count": 92,
   "metadata": {},
   "outputs": [
    {
     "data": {
      "text/plain": [
       "array([[2. , 1.5, 1. , 0.8, 1. ],\n",
       "       [1.8, 2.5, 1. , 1. , 1. ],\n",
       "       [2. , 2. , 0. , 0.5, 2. ],\n",
       "       [1.8, 1.2, 2.8, 0.8, 2. ],\n",
       "       [2.5, 3.5, 2. , 1. , 1.5],\n",
       "       [5. , 5. , 3. , 2. , 2.5],\n",
       "       [1.1, 1. , 1.5, 0.5, 1.7],\n",
       "       [4.5, 4. , 2.5, 1. , 2. ]])"
      ]
     },
     "execution_count": 92,
     "metadata": {},
     "output_type": "execute_result"
    }
   ],
   "source": [
    "Price"
   ]
  },
  {
   "cell_type": "code",
   "execution_count": 95,
   "metadata": {},
   "outputs": [],
   "source": [
    "Boris = Count[1]*Price[1]"
   ]
  },
  {
   "cell_type": "code",
   "execution_count": 96,
   "metadata": {},
   "outputs": [
    {
     "data": {
      "text/plain": [
       "array([ 3.6, 52.5,  3. , 25. ,  6. ])"
      ]
     },
     "execution_count": 96,
     "metadata": {},
     "output_type": "execute_result"
    }
   ],
   "source": [
    "Boris"
   ]
  },
  {
   "cell_type": "code",
   "execution_count": 97,
   "metadata": {},
   "outputs": [],
   "source": [
    "com = np.array([0.2, 0.2, 0.3, 0.1, 0.1])"
   ]
  },
  {
   "cell_type": "code",
   "execution_count": 98,
   "metadata": {},
   "outputs": [],
   "source": [
    "Salon_inc = (Price*Count)@com"
   ]
  },
  {
   "cell_type": "code",
   "execution_count": 99,
   "metadata": {},
   "outputs": [
    {
     "data": {
      "text/plain": [
       "array([11.3 , 15.22, 11.9 , 20.6 , 41.9 , 21.2 , 11.49, 38.25])"
      ]
     },
     "execution_count": 99,
     "metadata": {},
     "output_type": "execute_result"
    }
   ],
   "source": [
    "Salon_inc"
   ]
  },
  {
   "cell_type": "code",
   "execution_count": 101,
   "metadata": {},
   "outputs": [],
   "source": [
    "Stylist_inc = (Price*Count)@(np.ones(5)-com)"
   ]
  },
  {
   "cell_type": "code",
   "execution_count": 102,
   "metadata": {},
   "outputs": [
    {
     "data": {
      "text/plain": [
       "array([ 50.2 ,  74.88,  59.1 ,  67.8 , 166.6 , 113.8 ,  66.21, 157.75])"
      ]
     },
     "execution_count": 102,
     "metadata": {},
     "output_type": "execute_result"
    }
   ],
   "source": [
    "Stylist_inc"
   ]
  },
  {
   "cell_type": "code",
   "execution_count": 103,
   "metadata": {},
   "outputs": [],
   "source": [
    "A = np.array([[8, 6, 11], [7, 5, 9],[6, 10, 6]])"
   ]
  },
  {
   "cell_type": "code",
   "execution_count": 104,
   "metadata": {},
   "outputs": [],
   "source": [
    "A=np.linalg.inv(A)"
   ]
  },
  {
   "cell_type": "code",
   "execution_count": 106,
   "metadata": {},
   "outputs": [
    {
     "data": {
      "text/plain": [
       "array([[-1.875  ,  2.3125 , -0.03125],\n",
       "       [ 0.375  , -0.5625 ,  0.15625],\n",
       "       [ 1.25   , -1.375  , -0.0625 ]])"
      ]
     },
     "execution_count": 106,
     "metadata": {},
     "output_type": "execute_result"
    }
   ],
   "source": [
    "A"
   ]
  },
  {
   "cell_type": "code",
   "execution_count": 107,
   "metadata": {},
   "outputs": [],
   "source": [
    "v1 = np.array([9, 10, 7, 7, 9])\n",
    "v2 = np.array([2, 0, 5, 1, 4])\n",
    "v3 = np.array([4, 0, 0, 4, 1])\n",
    "v4 = np.array([3, -4, 3, -1, -4])"
   ]
  },
  {
   "cell_type": "code",
   "execution_count": 108,
   "metadata": {},
   "outputs": [
    {
     "data": {
      "text/plain": [
       "array([[ 9, 10,  7,  7,  9],\n",
       "       [ 2,  0,  5,  1,  4],\n",
       "       [ 4,  0,  0,  4,  1],\n",
       "       [ 3, -4,  3, -1, -4]])"
      ]
     },
     "execution_count": 108,
     "metadata": {},
     "output_type": "execute_result"
    }
   ],
   "source": [
    "V = np.array([v1, v2, v3, v4])\n",
    "V"
   ]
  },
  {
   "cell_type": "code",
   "execution_count": 109,
   "metadata": {},
   "outputs": [
    {
     "data": {
      "text/plain": [
       "4"
      ]
     },
     "execution_count": 109,
     "metadata": {},
     "output_type": "execute_result"
    }
   ],
   "source": [
    "np.linalg.matrix_rank(V)"
   ]
  },
  {
   "cell_type": "code",
   "execution_count": 110,
   "metadata": {},
   "outputs": [
    {
     "data": {
      "text/plain": [
       "array([[360,  96,  73, -35],\n",
       "       [ 96,  46,  16,   4],\n",
       "       [ 73,  16,  33,   4],\n",
       "       [-35,   4,   4,  51]])"
      ]
     },
     "execution_count": 110,
     "metadata": {},
     "output_type": "execute_result"
    }
   ],
   "source": [
    "V@V.T"
   ]
  },
  {
   "cell_type": "code",
   "execution_count": 111,
   "metadata": {},
   "outputs": [
    {
     "data": {
      "text/plain": [
       "3716647.9999999995"
      ]
     },
     "execution_count": 111,
     "metadata": {},
     "output_type": "execute_result"
    }
   ],
   "source": [
    "np.linalg.det(V@V.T)"
   ]
  },
  {
   "cell_type": "code",
   "execution_count": 114,
   "metadata": {},
   "outputs": [
    {
     "data": {
      "text/plain": [
       "array([[ 0.01711488, -0.02798543, -0.02623063,  0.01599775],\n",
       "       [-0.02798543,  0.071967  ,  0.03031441, -0.02722776],\n",
       "       [-0.02623063,  0.03031441,  0.07683106, -0.02640498],\n",
       "       [ 0.01599775, -0.02722776, -0.02640498,  0.03479318]])"
      ]
     },
     "execution_count": 114,
     "metadata": {},
     "output_type": "execute_result"
    }
   ],
   "source": [
    "G = np.linalg.inv(V@V.T)\n",
    "G"
   ]
  },
  {
   "cell_type": "code",
   "execution_count": 115,
   "metadata": {},
   "outputs": [
    {
     "data": {
      "text/plain": [
       "-0.026"
      ]
     },
     "execution_count": 115,
     "metadata": {},
     "output_type": "execute_result"
    }
   ],
   "source": [
    "round(G[2, 0], 3)"
   ]
  },
  {
   "cell_type": "code",
   "execution_count": 116,
   "metadata": {},
   "outputs": [],
   "source": [
    "# Загрузка библиотек\n",
    "import numpy as np # для работы с массивами\n",
    "import pandas as pd # для работы DataFrame \n",
    "import seaborn as sns # библиотека для визуализации статистических данных\n",
    "import matplotlib.pyplot as plt # для построения графиков\n",
    "\n",
    "%matplotlib inline"
   ]
  },
  {
   "cell_type": "code",
   "execution_count": 117,
   "metadata": {},
   "outputs": [
    {
     "data": {
      "text/plain": [
       "500"
      ]
     },
     "execution_count": 117,
     "metadata": {},
     "output_type": "execute_result"
    }
   ],
   "source": [
    "# загружаем датасет\n",
    "Adm_DF = pd.read_csv('Admission_Predict_Ver1.1.csv')\n",
    "\n",
    "np.shape(Adm_DF)[0]"
   ]
  },
  {
   "cell_type": "code",
   "execution_count": 118,
   "metadata": {},
   "outputs": [
    {
     "data": {
      "text/html": [
       "<div>\n",
       "<style scoped>\n",
       "    .dataframe tbody tr th:only-of-type {\n",
       "        vertical-align: middle;\n",
       "    }\n",
       "\n",
       "    .dataframe tbody tr th {\n",
       "        vertical-align: top;\n",
       "    }\n",
       "\n",
       "    .dataframe thead th {\n",
       "        text-align: right;\n",
       "    }\n",
       "</style>\n",
       "<table border=\"1\" class=\"dataframe\">\n",
       "  <thead>\n",
       "    <tr style=\"text-align: right;\">\n",
       "      <th></th>\n",
       "      <th>Serial No.</th>\n",
       "      <th>GRE Score</th>\n",
       "      <th>TOEFL Score</th>\n",
       "      <th>University Rating</th>\n",
       "      <th>SOP</th>\n",
       "      <th>LOR</th>\n",
       "      <th>CGPA</th>\n",
       "      <th>Research</th>\n",
       "      <th>Chance of Admit</th>\n",
       "    </tr>\n",
       "  </thead>\n",
       "  <tbody>\n",
       "    <tr>\n",
       "      <th>0</th>\n",
       "      <td>1</td>\n",
       "      <td>337</td>\n",
       "      <td>118</td>\n",
       "      <td>4</td>\n",
       "      <td>4.5</td>\n",
       "      <td>4.5</td>\n",
       "      <td>9.65</td>\n",
       "      <td>1</td>\n",
       "      <td>0.92</td>\n",
       "    </tr>\n",
       "    <tr>\n",
       "      <th>1</th>\n",
       "      <td>2</td>\n",
       "      <td>324</td>\n",
       "      <td>107</td>\n",
       "      <td>4</td>\n",
       "      <td>4.0</td>\n",
       "      <td>4.5</td>\n",
       "      <td>8.87</td>\n",
       "      <td>1</td>\n",
       "      <td>0.76</td>\n",
       "    </tr>\n",
       "    <tr>\n",
       "      <th>2</th>\n",
       "      <td>3</td>\n",
       "      <td>316</td>\n",
       "      <td>104</td>\n",
       "      <td>3</td>\n",
       "      <td>3.0</td>\n",
       "      <td>3.5</td>\n",
       "      <td>8.00</td>\n",
       "      <td>1</td>\n",
       "      <td>0.72</td>\n",
       "    </tr>\n",
       "    <tr>\n",
       "      <th>3</th>\n",
       "      <td>4</td>\n",
       "      <td>322</td>\n",
       "      <td>110</td>\n",
       "      <td>3</td>\n",
       "      <td>3.5</td>\n",
       "      <td>2.5</td>\n",
       "      <td>8.67</td>\n",
       "      <td>1</td>\n",
       "      <td>0.80</td>\n",
       "    </tr>\n",
       "    <tr>\n",
       "      <th>4</th>\n",
       "      <td>5</td>\n",
       "      <td>314</td>\n",
       "      <td>103</td>\n",
       "      <td>2</td>\n",
       "      <td>2.0</td>\n",
       "      <td>3.0</td>\n",
       "      <td>8.21</td>\n",
       "      <td>0</td>\n",
       "      <td>0.65</td>\n",
       "    </tr>\n",
       "  </tbody>\n",
       "</table>\n",
       "</div>"
      ],
      "text/plain": [
       "   Serial No.  GRE Score  TOEFL Score  University Rating  SOP  LOR   CGPA  \\\n",
       "0           1        337          118                  4  4.5   4.5  9.65   \n",
       "1           2        324          107                  4  4.0   4.5  8.87   \n",
       "2           3        316          104                  3  3.0   3.5  8.00   \n",
       "3           4        322          110                  3  3.5   2.5  8.67   \n",
       "4           5        314          103                  2  2.0   3.0  8.21   \n",
       "\n",
       "   Research  Chance of Admit   \n",
       "0         1              0.92  \n",
       "1         1              0.76  \n",
       "2         1              0.72  \n",
       "3         1              0.80  \n",
       "4         0              0.65  "
      ]
     },
     "execution_count": 118,
     "metadata": {},
     "output_type": "execute_result"
    }
   ],
   "source": [
    "Adm_DF.head()"
   ]
  },
  {
   "cell_type": "code",
   "execution_count": 120,
   "metadata": {},
   "outputs": [
    {
     "data": {
      "text/html": [
       "<div>\n",
       "<style scoped>\n",
       "    .dataframe tbody tr th:only-of-type {\n",
       "        vertical-align: middle;\n",
       "    }\n",
       "\n",
       "    .dataframe tbody tr th {\n",
       "        vertical-align: top;\n",
       "    }\n",
       "\n",
       "    .dataframe thead th {\n",
       "        text-align: right;\n",
       "    }\n",
       "</style>\n",
       "<table border=\"1\" class=\"dataframe\">\n",
       "  <thead>\n",
       "    <tr style=\"text-align: right;\">\n",
       "      <th></th>\n",
       "      <th>GRE Score</th>\n",
       "      <th>TOEFL Score</th>\n",
       "      <th>University Rating</th>\n",
       "      <th>SOP</th>\n",
       "      <th>LOR</th>\n",
       "      <th>CGPA</th>\n",
       "      <th>Research</th>\n",
       "      <th>Chance of Admit</th>\n",
       "    </tr>\n",
       "  </thead>\n",
       "  <tbody>\n",
       "    <tr>\n",
       "      <th>0</th>\n",
       "      <td>337</td>\n",
       "      <td>118</td>\n",
       "      <td>4</td>\n",
       "      <td>4.5</td>\n",
       "      <td>4.5</td>\n",
       "      <td>9.65</td>\n",
       "      <td>1</td>\n",
       "      <td>0.92</td>\n",
       "    </tr>\n",
       "    <tr>\n",
       "      <th>1</th>\n",
       "      <td>324</td>\n",
       "      <td>107</td>\n",
       "      <td>4</td>\n",
       "      <td>4.0</td>\n",
       "      <td>4.5</td>\n",
       "      <td>8.87</td>\n",
       "      <td>1</td>\n",
       "      <td>0.76</td>\n",
       "    </tr>\n",
       "    <tr>\n",
       "      <th>2</th>\n",
       "      <td>316</td>\n",
       "      <td>104</td>\n",
       "      <td>3</td>\n",
       "      <td>3.0</td>\n",
       "      <td>3.5</td>\n",
       "      <td>8.00</td>\n",
       "      <td>1</td>\n",
       "      <td>0.72</td>\n",
       "    </tr>\n",
       "    <tr>\n",
       "      <th>3</th>\n",
       "      <td>322</td>\n",
       "      <td>110</td>\n",
       "      <td>3</td>\n",
       "      <td>3.5</td>\n",
       "      <td>2.5</td>\n",
       "      <td>8.67</td>\n",
       "      <td>1</td>\n",
       "      <td>0.80</td>\n",
       "    </tr>\n",
       "    <tr>\n",
       "      <th>4</th>\n",
       "      <td>314</td>\n",
       "      <td>103</td>\n",
       "      <td>2</td>\n",
       "      <td>2.0</td>\n",
       "      <td>3.0</td>\n",
       "      <td>8.21</td>\n",
       "      <td>0</td>\n",
       "      <td>0.65</td>\n",
       "    </tr>\n",
       "    <tr>\n",
       "      <th>...</th>\n",
       "      <td>...</td>\n",
       "      <td>...</td>\n",
       "      <td>...</td>\n",
       "      <td>...</td>\n",
       "      <td>...</td>\n",
       "      <td>...</td>\n",
       "      <td>...</td>\n",
       "      <td>...</td>\n",
       "    </tr>\n",
       "    <tr>\n",
       "      <th>495</th>\n",
       "      <td>332</td>\n",
       "      <td>108</td>\n",
       "      <td>5</td>\n",
       "      <td>4.5</td>\n",
       "      <td>4.0</td>\n",
       "      <td>9.02</td>\n",
       "      <td>1</td>\n",
       "      <td>0.87</td>\n",
       "    </tr>\n",
       "    <tr>\n",
       "      <th>496</th>\n",
       "      <td>337</td>\n",
       "      <td>117</td>\n",
       "      <td>5</td>\n",
       "      <td>5.0</td>\n",
       "      <td>5.0</td>\n",
       "      <td>9.87</td>\n",
       "      <td>1</td>\n",
       "      <td>0.96</td>\n",
       "    </tr>\n",
       "    <tr>\n",
       "      <th>497</th>\n",
       "      <td>330</td>\n",
       "      <td>120</td>\n",
       "      <td>5</td>\n",
       "      <td>4.5</td>\n",
       "      <td>5.0</td>\n",
       "      <td>9.56</td>\n",
       "      <td>1</td>\n",
       "      <td>0.93</td>\n",
       "    </tr>\n",
       "    <tr>\n",
       "      <th>498</th>\n",
       "      <td>312</td>\n",
       "      <td>103</td>\n",
       "      <td>4</td>\n",
       "      <td>4.0</td>\n",
       "      <td>5.0</td>\n",
       "      <td>8.43</td>\n",
       "      <td>0</td>\n",
       "      <td>0.73</td>\n",
       "    </tr>\n",
       "    <tr>\n",
       "      <th>499</th>\n",
       "      <td>327</td>\n",
       "      <td>113</td>\n",
       "      <td>4</td>\n",
       "      <td>4.5</td>\n",
       "      <td>4.5</td>\n",
       "      <td>9.04</td>\n",
       "      <td>0</td>\n",
       "      <td>0.84</td>\n",
       "    </tr>\n",
       "  </tbody>\n",
       "</table>\n",
       "<p>500 rows × 8 columns</p>\n",
       "</div>"
      ],
      "text/plain": [
       "     GRE Score  TOEFL Score  University Rating  SOP  LOR   CGPA  Research  \\\n",
       "0          337          118                  4  4.5   4.5  9.65         1   \n",
       "1          324          107                  4  4.0   4.5  8.87         1   \n",
       "2          316          104                  3  3.0   3.5  8.00         1   \n",
       "3          322          110                  3  3.5   2.5  8.67         1   \n",
       "4          314          103                  2  2.0   3.0  8.21         0   \n",
       "..         ...          ...                ...  ...   ...   ...       ...   \n",
       "495        332          108                  5  4.5   4.0  9.02         1   \n",
       "496        337          117                  5  5.0   5.0  9.87         1   \n",
       "497        330          120                  5  4.5   5.0  9.56         1   \n",
       "498        312          103                  4  4.0   5.0  8.43         0   \n",
       "499        327          113                  4  4.5   4.5  9.04         0   \n",
       "\n",
       "     Chance of Admit   \n",
       "0                0.92  \n",
       "1                0.76  \n",
       "2                0.72  \n",
       "3                0.80  \n",
       "4                0.65  \n",
       "..                ...  \n",
       "495              0.87  \n",
       "496              0.96  \n",
       "497              0.93  \n",
       "498              0.73  \n",
       "499              0.84  \n",
       "\n",
       "[500 rows x 8 columns]"
      ]
     },
     "execution_count": 120,
     "metadata": {},
     "output_type": "execute_result"
    }
   ],
   "source": [
    "Adm_DF1 = Adm_DF.drop(['Serial No.'], axis = 1)\n",
    "Adm_DF1"
   ]
  },
  {
   "cell_type": "code",
   "execution_count": 122,
   "metadata": {},
   "outputs": [
    {
     "data": {
      "text/html": [
       "<div>\n",
       "<style scoped>\n",
       "    .dataframe tbody tr th:only-of-type {\n",
       "        vertical-align: middle;\n",
       "    }\n",
       "\n",
       "    .dataframe tbody tr th {\n",
       "        vertical-align: top;\n",
       "    }\n",
       "\n",
       "    .dataframe thead th {\n",
       "        text-align: right;\n",
       "    }\n",
       "</style>\n",
       "<table border=\"1\" class=\"dataframe\">\n",
       "  <thead>\n",
       "    <tr style=\"text-align: right;\">\n",
       "      <th></th>\n",
       "      <th>GRE Score</th>\n",
       "      <th>TOEFL Score</th>\n",
       "      <th>University Rating</th>\n",
       "      <th>SOP</th>\n",
       "      <th>LOR</th>\n",
       "      <th>CGPA</th>\n",
       "      <th>Research</th>\n",
       "      <th>Chance of Admit</th>\n",
       "    </tr>\n",
       "  </thead>\n",
       "  <tbody>\n",
       "    <tr>\n",
       "      <th>GRE Score</th>\n",
       "      <td>1.000000</td>\n",
       "      <td>0.827200</td>\n",
       "      <td>0.635376</td>\n",
       "      <td>0.613498</td>\n",
       "      <td>0.524679</td>\n",
       "      <td>0.825878</td>\n",
       "      <td>0.563398</td>\n",
       "      <td>0.810351</td>\n",
       "    </tr>\n",
       "    <tr>\n",
       "      <th>TOEFL Score</th>\n",
       "      <td>0.827200</td>\n",
       "      <td>1.000000</td>\n",
       "      <td>0.649799</td>\n",
       "      <td>0.644410</td>\n",
       "      <td>0.541563</td>\n",
       "      <td>0.810574</td>\n",
       "      <td>0.467012</td>\n",
       "      <td>0.792228</td>\n",
       "    </tr>\n",
       "    <tr>\n",
       "      <th>University Rating</th>\n",
       "      <td>0.635376</td>\n",
       "      <td>0.649799</td>\n",
       "      <td>1.000000</td>\n",
       "      <td>0.728024</td>\n",
       "      <td>0.608651</td>\n",
       "      <td>0.705254</td>\n",
       "      <td>0.427047</td>\n",
       "      <td>0.690132</td>\n",
       "    </tr>\n",
       "    <tr>\n",
       "      <th>SOP</th>\n",
       "      <td>0.613498</td>\n",
       "      <td>0.644410</td>\n",
       "      <td>0.728024</td>\n",
       "      <td>1.000000</td>\n",
       "      <td>0.663707</td>\n",
       "      <td>0.712154</td>\n",
       "      <td>0.408116</td>\n",
       "      <td>0.684137</td>\n",
       "    </tr>\n",
       "    <tr>\n",
       "      <th>LOR</th>\n",
       "      <td>0.524679</td>\n",
       "      <td>0.541563</td>\n",
       "      <td>0.608651</td>\n",
       "      <td>0.663707</td>\n",
       "      <td>1.000000</td>\n",
       "      <td>0.637469</td>\n",
       "      <td>0.372526</td>\n",
       "      <td>0.645365</td>\n",
       "    </tr>\n",
       "    <tr>\n",
       "      <th>CGPA</th>\n",
       "      <td>0.825878</td>\n",
       "      <td>0.810574</td>\n",
       "      <td>0.705254</td>\n",
       "      <td>0.712154</td>\n",
       "      <td>0.637469</td>\n",
       "      <td>1.000000</td>\n",
       "      <td>0.501311</td>\n",
       "      <td>0.882413</td>\n",
       "    </tr>\n",
       "    <tr>\n",
       "      <th>Research</th>\n",
       "      <td>0.563398</td>\n",
       "      <td>0.467012</td>\n",
       "      <td>0.427047</td>\n",
       "      <td>0.408116</td>\n",
       "      <td>0.372526</td>\n",
       "      <td>0.501311</td>\n",
       "      <td>1.000000</td>\n",
       "      <td>0.545871</td>\n",
       "    </tr>\n",
       "    <tr>\n",
       "      <th>Chance of Admit</th>\n",
       "      <td>0.810351</td>\n",
       "      <td>0.792228</td>\n",
       "      <td>0.690132</td>\n",
       "      <td>0.684137</td>\n",
       "      <td>0.645365</td>\n",
       "      <td>0.882413</td>\n",
       "      <td>0.545871</td>\n",
       "      <td>1.000000</td>\n",
       "    </tr>\n",
       "  </tbody>\n",
       "</table>\n",
       "</div>"
      ],
      "text/plain": [
       "                   GRE Score  TOEFL Score  University Rating       SOP  \\\n",
       "GRE Score           1.000000     0.827200           0.635376  0.613498   \n",
       "TOEFL Score         0.827200     1.000000           0.649799  0.644410   \n",
       "University Rating   0.635376     0.649799           1.000000  0.728024   \n",
       "SOP                 0.613498     0.644410           0.728024  1.000000   \n",
       "LOR                 0.524679     0.541563           0.608651  0.663707   \n",
       "CGPA                0.825878     0.810574           0.705254  0.712154   \n",
       "Research            0.563398     0.467012           0.427047  0.408116   \n",
       "Chance of Admit     0.810351     0.792228           0.690132  0.684137   \n",
       "\n",
       "                       LOR       CGPA  Research  Chance of Admit   \n",
       "GRE Score          0.524679  0.825878  0.563398          0.810351  \n",
       "TOEFL Score        0.541563  0.810574  0.467012          0.792228  \n",
       "University Rating  0.608651  0.705254  0.427047          0.690132  \n",
       "SOP                0.663707  0.712154  0.408116          0.684137  \n",
       "LOR                1.000000  0.637469  0.372526          0.645365  \n",
       "CGPA               0.637469  1.000000  0.501311          0.882413  \n",
       "Research           0.372526  0.501311  1.000000          0.545871  \n",
       "Chance of Admit    0.645365  0.882413  0.545871          1.000000  "
      ]
     },
     "execution_count": 122,
     "metadata": {},
     "output_type": "execute_result"
    }
   ],
   "source": [
    "# полная матрица корреляций\n",
    "# используем метод Pandas corr()\n",
    "Corr_Adm = Adm_DF1.corr(method='pearson')\n",
    "Corr_Adm"
   ]
  },
  {
   "cell_type": "code",
   "execution_count": 123,
   "metadata": {},
   "outputs": [
    {
     "data": {
      "text/plain": [
       "<matplotlib.axes._subplots.AxesSubplot at 0x113293bb0>"
      ]
     },
     "execution_count": 123,
     "metadata": {},
     "output_type": "execute_result"
    },
    {
     "data": {
      "image/png": "[encoded data removed]",
      "text/plain": [
       "<Figure size 1152x432 with 2 Axes>"
      ]
     },
     "metadata": {
      "needs_background": "light"
     },
     "output_type": "display_data"
    }
   ],
   "source": [
    "# представим корреляционную матрицу в виде \"тепловой карты\" с помощью функции heatmap из библиотеки seaborn\n",
    "plt.figure(figsize=(16,6)) # размер графика\n",
    "sns.heatmap(data=Corr_Adm, annot=True)"
   ]
  },
  {
   "cell_type": "code",
   "execution_count": 125,
   "metadata": {},
   "outputs": [
    {
     "data": {
      "text/html": [
       "<div>\n",
       "<style scoped>\n",
       "    .dataframe tbody tr th:only-of-type {\n",
       "        vertical-align: middle;\n",
       "    }\n",
       "\n",
       "    .dataframe tbody tr th {\n",
       "        vertical-align: top;\n",
       "    }\n",
       "\n",
       "    .dataframe thead th {\n",
       "        text-align: right;\n",
       "    }\n",
       "</style>\n",
       "<table border=\"1\" class=\"dataframe\">\n",
       "  <thead>\n",
       "    <tr style=\"text-align: right;\">\n",
       "      <th></th>\n",
       "      <th>GRE Score</th>\n",
       "      <th>TOEFL Score</th>\n",
       "      <th>University Rating</th>\n",
       "      <th>SOP</th>\n",
       "      <th>LOR</th>\n",
       "      <th>CGPA</th>\n",
       "      <th>Research</th>\n",
       "      <th>Chance of Admit</th>\n",
       "    </tr>\n",
       "  </thead>\n",
       "  <tbody>\n",
       "    <tr>\n",
       "      <th>0</th>\n",
       "      <td>337</td>\n",
       "      <td>118</td>\n",
       "      <td>4</td>\n",
       "      <td>4.5</td>\n",
       "      <td>4.5</td>\n",
       "      <td>9.65</td>\n",
       "      <td>1</td>\n",
       "      <td>0.92</td>\n",
       "    </tr>\n",
       "    <tr>\n",
       "      <th>1</th>\n",
       "      <td>324</td>\n",
       "      <td>107</td>\n",
       "      <td>4</td>\n",
       "      <td>4.0</td>\n",
       "      <td>4.5</td>\n",
       "      <td>8.87</td>\n",
       "      <td>1</td>\n",
       "      <td>0.76</td>\n",
       "    </tr>\n",
       "    <tr>\n",
       "      <th>2</th>\n",
       "      <td>316</td>\n",
       "      <td>104</td>\n",
       "      <td>3</td>\n",
       "      <td>3.0</td>\n",
       "      <td>3.5</td>\n",
       "      <td>8.00</td>\n",
       "      <td>1</td>\n",
       "      <td>0.72</td>\n",
       "    </tr>\n",
       "    <tr>\n",
       "      <th>3</th>\n",
       "      <td>322</td>\n",
       "      <td>110</td>\n",
       "      <td>3</td>\n",
       "      <td>3.5</td>\n",
       "      <td>2.5</td>\n",
       "      <td>8.67</td>\n",
       "      <td>1</td>\n",
       "      <td>0.80</td>\n",
       "    </tr>\n",
       "    <tr>\n",
       "      <th>5</th>\n",
       "      <td>330</td>\n",
       "      <td>115</td>\n",
       "      <td>5</td>\n",
       "      <td>4.5</td>\n",
       "      <td>3.0</td>\n",
       "      <td>9.34</td>\n",
       "      <td>1</td>\n",
       "      <td>0.90</td>\n",
       "    </tr>\n",
       "    <tr>\n",
       "      <th>...</th>\n",
       "      <td>...</td>\n",
       "      <td>...</td>\n",
       "      <td>...</td>\n",
       "      <td>...</td>\n",
       "      <td>...</td>\n",
       "      <td>...</td>\n",
       "      <td>...</td>\n",
       "      <td>...</td>\n",
       "    </tr>\n",
       "    <tr>\n",
       "      <th>493</th>\n",
       "      <td>300</td>\n",
       "      <td>95</td>\n",
       "      <td>2</td>\n",
       "      <td>3.0</td>\n",
       "      <td>1.5</td>\n",
       "      <td>8.22</td>\n",
       "      <td>1</td>\n",
       "      <td>0.62</td>\n",
       "    </tr>\n",
       "    <tr>\n",
       "      <th>494</th>\n",
       "      <td>301</td>\n",
       "      <td>99</td>\n",
       "      <td>3</td>\n",
       "      <td>2.5</td>\n",
       "      <td>2.0</td>\n",
       "      <td>8.45</td>\n",
       "      <td>1</td>\n",
       "      <td>0.68</td>\n",
       "    </tr>\n",
       "    <tr>\n",
       "      <th>495</th>\n",
       "      <td>332</td>\n",
       "      <td>108</td>\n",
       "      <td>5</td>\n",
       "      <td>4.5</td>\n",
       "      <td>4.0</td>\n",
       "      <td>9.02</td>\n",
       "      <td>1</td>\n",
       "      <td>0.87</td>\n",
       "    </tr>\n",
       "    <tr>\n",
       "      <th>496</th>\n",
       "      <td>337</td>\n",
       "      <td>117</td>\n",
       "      <td>5</td>\n",
       "      <td>5.0</td>\n",
       "      <td>5.0</td>\n",
       "      <td>9.87</td>\n",
       "      <td>1</td>\n",
       "      <td>0.96</td>\n",
       "    </tr>\n",
       "    <tr>\n",
       "      <th>497</th>\n",
       "      <td>330</td>\n",
       "      <td>120</td>\n",
       "      <td>5</td>\n",
       "      <td>4.5</td>\n",
       "      <td>5.0</td>\n",
       "      <td>9.56</td>\n",
       "      <td>1</td>\n",
       "      <td>0.93</td>\n",
       "    </tr>\n",
       "  </tbody>\n",
       "</table>\n",
       "<p>280 rows × 8 columns</p>\n",
       "</div>"
      ],
      "text/plain": [
       "     GRE Score  TOEFL Score  University Rating  SOP  LOR   CGPA  Research  \\\n",
       "0          337          118                  4  4.5   4.5  9.65         1   \n",
       "1          324          107                  4  4.0   4.5  8.87         1   \n",
       "2          316          104                  3  3.0   3.5  8.00         1   \n",
       "3          322          110                  3  3.5   2.5  8.67         1   \n",
       "5          330          115                  5  4.5   3.0  9.34         1   \n",
       "..         ...          ...                ...  ...   ...   ...       ...   \n",
       "493        300           95                  2  3.0   1.5  8.22         1   \n",
       "494        301           99                  3  2.5   2.0  8.45         1   \n",
       "495        332          108                  5  4.5   4.0  9.02         1   \n",
       "496        337          117                  5  5.0   5.0  9.87         1   \n",
       "497        330          120                  5  4.5   5.0  9.56         1   \n",
       "\n",
       "     Chance of Admit   \n",
       "0                0.92  \n",
       "1                0.76  \n",
       "2                0.72  \n",
       "3                0.80  \n",
       "5                0.90  \n",
       "..                ...  \n",
       "493              0.62  \n",
       "494              0.68  \n",
       "495              0.87  \n",
       "496              0.96  \n",
       "497              0.93  \n",
       "\n",
       "[280 rows x 8 columns]"
      ]
     },
     "execution_count": 125,
     "metadata": {},
     "output_type": "execute_result"
    }
   ],
   "source": [
    "Adm_DF_R = Adm_DF1[Adm_DF['Research'] == 1]\n",
    "Adm_DF_R"
   ]
  },
  {
   "cell_type": "code",
   "execution_count": 126,
   "metadata": {},
   "outputs": [
    {
     "data": {
      "text/html": [
       "<div>\n",
       "<style scoped>\n",
       "    .dataframe tbody tr th:only-of-type {\n",
       "        vertical-align: middle;\n",
       "    }\n",
       "\n",
       "    .dataframe tbody tr th {\n",
       "        vertical-align: top;\n",
       "    }\n",
       "\n",
       "    .dataframe thead th {\n",
       "        text-align: right;\n",
       "    }\n",
       "</style>\n",
       "<table border=\"1\" class=\"dataframe\">\n",
       "  <thead>\n",
       "    <tr style=\"text-align: right;\">\n",
       "      <th></th>\n",
       "      <th>GRE Score</th>\n",
       "      <th>TOEFL Score</th>\n",
       "      <th>University Rating</th>\n",
       "      <th>SOP</th>\n",
       "      <th>LOR</th>\n",
       "      <th>CGPA</th>\n",
       "      <th>Research</th>\n",
       "      <th>Chance of Admit</th>\n",
       "    </tr>\n",
       "  </thead>\n",
       "  <tbody>\n",
       "    <tr>\n",
       "      <th>GRE Score</th>\n",
       "      <td>1.000000</td>\n",
       "      <td>0.824170</td>\n",
       "      <td>0.614739</td>\n",
       "      <td>0.613318</td>\n",
       "      <td>0.443374</td>\n",
       "      <td>0.806720</td>\n",
       "      <td>NaN</td>\n",
       "      <td>0.802439</td>\n",
       "    </tr>\n",
       "    <tr>\n",
       "      <th>TOEFL Score</th>\n",
       "      <td>0.824170</td>\n",
       "      <td>1.000000</td>\n",
       "      <td>0.602445</td>\n",
       "      <td>0.629436</td>\n",
       "      <td>0.436199</td>\n",
       "      <td>0.784173</td>\n",
       "      <td>NaN</td>\n",
       "      <td>0.787180</td>\n",
       "    </tr>\n",
       "    <tr>\n",
       "      <th>University Rating</th>\n",
       "      <td>0.614739</td>\n",
       "      <td>0.602445</td>\n",
       "      <td>1.000000</td>\n",
       "      <td>0.723126</td>\n",
       "      <td>0.573881</td>\n",
       "      <td>0.692237</td>\n",
       "      <td>NaN</td>\n",
       "      <td>0.713094</td>\n",
       "    </tr>\n",
       "    <tr>\n",
       "      <th>SOP</th>\n",
       "      <td>0.613318</td>\n",
       "      <td>0.629436</td>\n",
       "      <td>0.723126</td>\n",
       "      <td>1.000000</td>\n",
       "      <td>0.591858</td>\n",
       "      <td>0.717750</td>\n",
       "      <td>NaN</td>\n",
       "      <td>0.708238</td>\n",
       "    </tr>\n",
       "    <tr>\n",
       "      <th>LOR</th>\n",
       "      <td>0.443374</td>\n",
       "      <td>0.436199</td>\n",
       "      <td>0.573881</td>\n",
       "      <td>0.591858</td>\n",
       "      <td>1.000000</td>\n",
       "      <td>0.564794</td>\n",
       "      <td>NaN</td>\n",
       "      <td>0.588558</td>\n",
       "    </tr>\n",
       "    <tr>\n",
       "      <th>CGPA</th>\n",
       "      <td>0.806720</td>\n",
       "      <td>0.784173</td>\n",
       "      <td>0.692237</td>\n",
       "      <td>0.717750</td>\n",
       "      <td>0.564794</td>\n",
       "      <td>1.000000</td>\n",
       "      <td>NaN</td>\n",
       "      <td>0.892489</td>\n",
       "    </tr>\n",
       "    <tr>\n",
       "      <th>Research</th>\n",
       "      <td>NaN</td>\n",
       "      <td>NaN</td>\n",
       "      <td>NaN</td>\n",
       "      <td>NaN</td>\n",
       "      <td>NaN</td>\n",
       "      <td>NaN</td>\n",
       "      <td>NaN</td>\n",
       "      <td>NaN</td>\n",
       "    </tr>\n",
       "    <tr>\n",
       "      <th>Chance of Admit</th>\n",
       "      <td>0.802439</td>\n",
       "      <td>0.787180</td>\n",
       "      <td>0.713094</td>\n",
       "      <td>0.708238</td>\n",
       "      <td>0.588558</td>\n",
       "      <td>0.892489</td>\n",
       "      <td>NaN</td>\n",
       "      <td>1.000000</td>\n",
       "    </tr>\n",
       "  </tbody>\n",
       "</table>\n",
       "</div>"
      ],
      "text/plain": [
       "                   GRE Score  TOEFL Score  University Rating       SOP  \\\n",
       "GRE Score           1.000000     0.824170           0.614739  0.613318   \n",
       "TOEFL Score         0.824170     1.000000           0.602445  0.629436   \n",
       "University Rating   0.614739     0.602445           1.000000  0.723126   \n",
       "SOP                 0.613318     0.629436           0.723126  1.000000   \n",
       "LOR                 0.443374     0.436199           0.573881  0.591858   \n",
       "CGPA                0.806720     0.784173           0.692237  0.717750   \n",
       "Research                 NaN          NaN                NaN       NaN   \n",
       "Chance of Admit     0.802439     0.787180           0.713094  0.708238   \n",
       "\n",
       "                       LOR       CGPA  Research  Chance of Admit   \n",
       "GRE Score          0.443374  0.806720       NaN          0.802439  \n",
       "TOEFL Score        0.436199  0.784173       NaN          0.787180  \n",
       "University Rating  0.573881  0.692237       NaN          0.713094  \n",
       "SOP                0.591858  0.717750       NaN          0.708238  \n",
       "LOR                1.000000  0.564794       NaN          0.588558  \n",
       "CGPA               0.564794  1.000000       NaN          0.892489  \n",
       "Research                NaN       NaN       NaN               NaN  \n",
       "Chance of Admit    0.588558  0.892489       NaN          1.000000  "
      ]
     },
     "execution_count": 126,
     "metadata": {},
     "output_type": "execute_result"
    }
   ],
   "source": [
    "Corr_Res = Adm_DF_R.corr(method='pearson')\n",
    "Corr_Res"
   ]
  },
  {
   "cell_type": "code",
   "execution_count": 127,
   "metadata": {},
   "outputs": [
    {
     "data": {
      "text/plain": [
       "<matplotlib.axes._subplots.AxesSubplot at 0x116c747c0>"
      ]
     },
     "execution_count": 127,
     "metadata": {},
     "output_type": "execute_result"
    },
    {
     "data": {
      "image/png": "[encoded data removed]",
      "text/plain": [
       "<Figure size 1152x432 with 2 Axes>"
      ]
     },
     "metadata": {
      "needs_background": "light"
     },
     "output_type": "display_data"
    }
   ],
   "source": [
    "# представим корреляционную матрицу в виде \"тепловой карты\" с помощью функции heatmap из библиотеки seaborn\n",
    "plt.figure(figsize=(16,6)) # размер графика\n",
    "sns.heatmap(data=Corr_Res, annot=True)"
   ]
  },
  {
   "cell_type": "code",
   "execution_count": 128,
   "metadata": {},
   "outputs": [
    {
     "data": {
      "text/html": [
       "<div>\n",
       "<style scoped>\n",
       "    .dataframe tbody tr th:only-of-type {\n",
       "        vertical-align: middle;\n",
       "    }\n",
       "\n",
       "    .dataframe tbody tr th {\n",
       "        vertical-align: top;\n",
       "    }\n",
       "\n",
       "    .dataframe thead th {\n",
       "        text-align: right;\n",
       "    }\n",
       "</style>\n",
       "<table border=\"1\" class=\"dataframe\">\n",
       "  <thead>\n",
       "    <tr style=\"text-align: right;\">\n",
       "      <th></th>\n",
       "      <th>GRE Score</th>\n",
       "      <th>TOEFL Score</th>\n",
       "      <th>University Rating</th>\n",
       "      <th>SOP</th>\n",
       "      <th>LOR</th>\n",
       "      <th>CGPA</th>\n",
       "      <th>Research</th>\n",
       "      <th>Chance of Admit</th>\n",
       "    </tr>\n",
       "  </thead>\n",
       "  <tbody>\n",
       "    <tr>\n",
       "      <th>4</th>\n",
       "      <td>314</td>\n",
       "      <td>103</td>\n",
       "      <td>2</td>\n",
       "      <td>2.0</td>\n",
       "      <td>3.0</td>\n",
       "      <td>8.21</td>\n",
       "      <td>0</td>\n",
       "      <td>0.65</td>\n",
       "    </tr>\n",
       "    <tr>\n",
       "      <th>7</th>\n",
       "      <td>308</td>\n",
       "      <td>101</td>\n",
       "      <td>2</td>\n",
       "      <td>3.0</td>\n",
       "      <td>4.0</td>\n",
       "      <td>7.90</td>\n",
       "      <td>0</td>\n",
       "      <td>0.68</td>\n",
       "    </tr>\n",
       "    <tr>\n",
       "      <th>8</th>\n",
       "      <td>302</td>\n",
       "      <td>102</td>\n",
       "      <td>1</td>\n",
       "      <td>2.0</td>\n",
       "      <td>1.5</td>\n",
       "      <td>8.00</td>\n",
       "      <td>0</td>\n",
       "      <td>0.50</td>\n",
       "    </tr>\n",
       "    <tr>\n",
       "      <th>9</th>\n",
       "      <td>323</td>\n",
       "      <td>108</td>\n",
       "      <td>3</td>\n",
       "      <td>3.5</td>\n",
       "      <td>3.0</td>\n",
       "      <td>8.60</td>\n",
       "      <td>0</td>\n",
       "      <td>0.45</td>\n",
       "    </tr>\n",
       "    <tr>\n",
       "      <th>15</th>\n",
       "      <td>314</td>\n",
       "      <td>105</td>\n",
       "      <td>3</td>\n",
       "      <td>3.5</td>\n",
       "      <td>2.5</td>\n",
       "      <td>8.30</td>\n",
       "      <td>0</td>\n",
       "      <td>0.54</td>\n",
       "    </tr>\n",
       "    <tr>\n",
       "      <th>...</th>\n",
       "      <td>...</td>\n",
       "      <td>...</td>\n",
       "      <td>...</td>\n",
       "      <td>...</td>\n",
       "      <td>...</td>\n",
       "      <td>...</td>\n",
       "      <td>...</td>\n",
       "      <td>...</td>\n",
       "    </tr>\n",
       "    <tr>\n",
       "      <th>487</th>\n",
       "      <td>327</td>\n",
       "      <td>115</td>\n",
       "      <td>4</td>\n",
       "      <td>3.5</td>\n",
       "      <td>4.0</td>\n",
       "      <td>9.14</td>\n",
       "      <td>0</td>\n",
       "      <td>0.79</td>\n",
       "    </tr>\n",
       "    <tr>\n",
       "      <th>489</th>\n",
       "      <td>302</td>\n",
       "      <td>110</td>\n",
       "      <td>3</td>\n",
       "      <td>4.0</td>\n",
       "      <td>4.5</td>\n",
       "      <td>8.50</td>\n",
       "      <td>0</td>\n",
       "      <td>0.65</td>\n",
       "    </tr>\n",
       "    <tr>\n",
       "      <th>491</th>\n",
       "      <td>297</td>\n",
       "      <td>99</td>\n",
       "      <td>4</td>\n",
       "      <td>3.0</td>\n",
       "      <td>3.5</td>\n",
       "      <td>7.81</td>\n",
       "      <td>0</td>\n",
       "      <td>0.54</td>\n",
       "    </tr>\n",
       "    <tr>\n",
       "      <th>498</th>\n",
       "      <td>312</td>\n",
       "      <td>103</td>\n",
       "      <td>4</td>\n",
       "      <td>4.0</td>\n",
       "      <td>5.0</td>\n",
       "      <td>8.43</td>\n",
       "      <td>0</td>\n",
       "      <td>0.73</td>\n",
       "    </tr>\n",
       "    <tr>\n",
       "      <th>499</th>\n",
       "      <td>327</td>\n",
       "      <td>113</td>\n",
       "      <td>4</td>\n",
       "      <td>4.5</td>\n",
       "      <td>4.5</td>\n",
       "      <td>9.04</td>\n",
       "      <td>0</td>\n",
       "      <td>0.84</td>\n",
       "    </tr>\n",
       "  </tbody>\n",
       "</table>\n",
       "<p>220 rows × 8 columns</p>\n",
       "</div>"
      ],
      "text/plain": [
       "     GRE Score  TOEFL Score  University Rating  SOP  LOR   CGPA  Research  \\\n",
       "4          314          103                  2  2.0   3.0  8.21         0   \n",
       "7          308          101                  2  3.0   4.0  7.90         0   \n",
       "8          302          102                  1  2.0   1.5  8.00         0   \n",
       "9          323          108                  3  3.5   3.0  8.60         0   \n",
       "15         314          105                  3  3.5   2.5  8.30         0   \n",
       "..         ...          ...                ...  ...   ...   ...       ...   \n",
       "487        327          115                  4  3.5   4.0  9.14         0   \n",
       "489        302          110                  3  4.0   4.5  8.50         0   \n",
       "491        297           99                  4  3.0   3.5  7.81         0   \n",
       "498        312          103                  4  4.0   5.0  8.43         0   \n",
       "499        327          113                  4  4.5   4.5  9.04         0   \n",
       "\n",
       "     Chance of Admit   \n",
       "4                0.65  \n",
       "7                0.68  \n",
       "8                0.50  \n",
       "9                0.45  \n",
       "15               0.54  \n",
       "..                ...  \n",
       "487              0.79  \n",
       "489              0.65  \n",
       "491              0.54  \n",
       "498              0.73  \n",
       "499              0.84  \n",
       "\n",
       "[220 rows x 8 columns]"
      ]
     },
     "execution_count": 128,
     "metadata": {},
     "output_type": "execute_result"
    }
   ],
   "source": [
    "Adm_DF_R_None = Adm_DF1[Adm_DF['Research'] == 0]\n",
    "Adm_DF_R_None"
   ]
  },
  {
   "cell_type": "code",
   "execution_count": 129,
   "metadata": {},
   "outputs": [
    {
     "data": {
      "text/html": [
       "<div>\n",
       "<style scoped>\n",
       "    .dataframe tbody tr th:only-of-type {\n",
       "        vertical-align: middle;\n",
       "    }\n",
       "\n",
       "    .dataframe tbody tr th {\n",
       "        vertical-align: top;\n",
       "    }\n",
       "\n",
       "    .dataframe thead th {\n",
       "        text-align: right;\n",
       "    }\n",
       "</style>\n",
       "<table border=\"1\" class=\"dataframe\">\n",
       "  <thead>\n",
       "    <tr style=\"text-align: right;\">\n",
       "      <th></th>\n",
       "      <th>GRE Score</th>\n",
       "      <th>TOEFL Score</th>\n",
       "      <th>University Rating</th>\n",
       "      <th>SOP</th>\n",
       "      <th>LOR</th>\n",
       "      <th>CGPA</th>\n",
       "      <th>Research</th>\n",
       "      <th>Chance of Admit</th>\n",
       "    </tr>\n",
       "  </thead>\n",
       "  <tbody>\n",
       "    <tr>\n",
       "      <th>GRE Score</th>\n",
       "      <td>1.000000</td>\n",
       "      <td>0.680668</td>\n",
       "      <td>0.384715</td>\n",
       "      <td>0.371424</td>\n",
       "      <td>0.365864</td>\n",
       "      <td>0.678476</td>\n",
       "      <td>NaN</td>\n",
       "      <td>0.603827</td>\n",
       "    </tr>\n",
       "    <tr>\n",
       "      <th>TOEFL Score</th>\n",
       "      <td>0.680668</td>\n",
       "      <td>1.000000</td>\n",
       "      <td>0.495748</td>\n",
       "      <td>0.476563</td>\n",
       "      <td>0.470956</td>\n",
       "      <td>0.696774</td>\n",
       "      <td>NaN</td>\n",
       "      <td>0.622458</td>\n",
       "    </tr>\n",
       "    <tr>\n",
       "      <th>University Rating</th>\n",
       "      <td>0.384715</td>\n",
       "      <td>0.495748</td>\n",
       "      <td>1.000000</td>\n",
       "      <td>0.607496</td>\n",
       "      <td>0.484262</td>\n",
       "      <td>0.516427</td>\n",
       "      <td>NaN</td>\n",
       "      <td>0.428580</td>\n",
       "    </tr>\n",
       "    <tr>\n",
       "      <th>SOP</th>\n",
       "      <td>0.371424</td>\n",
       "      <td>0.476563</td>\n",
       "      <td>0.607496</td>\n",
       "      <td>1.000000</td>\n",
       "      <td>0.618680</td>\n",
       "      <td>0.547098</td>\n",
       "      <td>NaN</td>\n",
       "      <td>0.470188</td>\n",
       "    </tr>\n",
       "    <tr>\n",
       "      <th>LOR</th>\n",
       "      <td>0.365864</td>\n",
       "      <td>0.470956</td>\n",
       "      <td>0.484262</td>\n",
       "      <td>0.618680</td>\n",
       "      <td>1.000000</td>\n",
       "      <td>0.562517</td>\n",
       "      <td>NaN</td>\n",
       "      <td>0.542528</td>\n",
       "    </tr>\n",
       "    <tr>\n",
       "      <th>CGPA</th>\n",
       "      <td>0.678476</td>\n",
       "      <td>0.696774</td>\n",
       "      <td>0.516427</td>\n",
       "      <td>0.547098</td>\n",
       "      <td>0.562517</td>\n",
       "      <td>1.000000</td>\n",
       "      <td>NaN</td>\n",
       "      <td>0.752714</td>\n",
       "    </tr>\n",
       "    <tr>\n",
       "      <th>Research</th>\n",
       "      <td>NaN</td>\n",
       "      <td>NaN</td>\n",
       "      <td>NaN</td>\n",
       "      <td>NaN</td>\n",
       "      <td>NaN</td>\n",
       "      <td>NaN</td>\n",
       "      <td>NaN</td>\n",
       "      <td>NaN</td>\n",
       "    </tr>\n",
       "    <tr>\n",
       "      <th>Chance of Admit</th>\n",
       "      <td>0.603827</td>\n",
       "      <td>0.622458</td>\n",
       "      <td>0.428580</td>\n",
       "      <td>0.470188</td>\n",
       "      <td>0.542528</td>\n",
       "      <td>0.752714</td>\n",
       "      <td>NaN</td>\n",
       "      <td>1.000000</td>\n",
       "    </tr>\n",
       "  </tbody>\n",
       "</table>\n",
       "</div>"
      ],
      "text/plain": [
       "                   GRE Score  TOEFL Score  University Rating       SOP  \\\n",
       "GRE Score           1.000000     0.680668           0.384715  0.371424   \n",
       "TOEFL Score         0.680668     1.000000           0.495748  0.476563   \n",
       "University Rating   0.384715     0.495748           1.000000  0.607496   \n",
       "SOP                 0.371424     0.476563           0.607496  1.000000   \n",
       "LOR                 0.365864     0.470956           0.484262  0.618680   \n",
       "CGPA                0.678476     0.696774           0.516427  0.547098   \n",
       "Research                 NaN          NaN                NaN       NaN   \n",
       "Chance of Admit     0.603827     0.622458           0.428580  0.470188   \n",
       "\n",
       "                       LOR       CGPA  Research  Chance of Admit   \n",
       "GRE Score          0.365864  0.678476       NaN          0.603827  \n",
       "TOEFL Score        0.470956  0.696774       NaN          0.622458  \n",
       "University Rating  0.484262  0.516427       NaN          0.428580  \n",
       "SOP                0.618680  0.547098       NaN          0.470188  \n",
       "LOR                1.000000  0.562517       NaN          0.542528  \n",
       "CGPA               0.562517  1.000000       NaN          0.752714  \n",
       "Research                NaN       NaN       NaN               NaN  \n",
       "Chance of Admit    0.542528  0.752714       NaN          1.000000  "
      ]
     },
     "execution_count": 129,
     "metadata": {},
     "output_type": "execute_result"
    }
   ],
   "source": [
    "Corr_RNone = Adm_DF_R_None.corr(method='pearson')\n",
    "Corr_RNone"
   ]
  },
  {
   "cell_type": "code",
   "execution_count": 130,
   "metadata": {},
   "outputs": [
    {
     "data": {
      "text/plain": [
       "<matplotlib.axes._subplots.AxesSubplot at 0x116f4db50>"
      ]
     },
     "execution_count": 130,
     "metadata": {},
     "output_type": "execute_result"
    },
    {
     "data": {
      "image/png": "[encoded data removed]",
      "text/plain": [
       "<Figure size 1152x432 with 2 Axes>"
      ]
     },
     "metadata": {
      "needs_background": "light"
     },
     "output_type": "display_data"
    }
   ],
   "source": [
    "plt.figure(figsize=(16,6)) # размер графика\n",
    "sns.heatmap(data=Corr_RNone, annot=True)"
   ]
  },
  {
   "cell_type": "code",
   "execution_count": 133,
   "metadata": {},
   "outputs": [
    {
     "data": {
      "text/html": [
       "<div>\n",
       "<style scoped>\n",
       "    .dataframe tbody tr th:only-of-type {\n",
       "        vertical-align: middle;\n",
       "    }\n",
       "\n",
       "    .dataframe tbody tr th {\n",
       "        vertical-align: top;\n",
       "    }\n",
       "\n",
       "    .dataframe thead th {\n",
       "        text-align: right;\n",
       "    }\n",
       "</style>\n",
       "<table border=\"1\" class=\"dataframe\">\n",
       "  <thead>\n",
       "    <tr style=\"text-align: right;\">\n",
       "      <th></th>\n",
       "      <th>TOEFL Score</th>\n",
       "      <th>CGPA</th>\n",
       "    </tr>\n",
       "  </thead>\n",
       "  <tbody>\n",
       "    <tr>\n",
       "      <th>4</th>\n",
       "      <td>103</td>\n",
       "      <td>8.21</td>\n",
       "    </tr>\n",
       "    <tr>\n",
       "      <th>7</th>\n",
       "      <td>101</td>\n",
       "      <td>7.90</td>\n",
       "    </tr>\n",
       "    <tr>\n",
       "      <th>8</th>\n",
       "      <td>102</td>\n",
       "      <td>8.00</td>\n",
       "    </tr>\n",
       "    <tr>\n",
       "      <th>9</th>\n",
       "      <td>108</td>\n",
       "      <td>8.60</td>\n",
       "    </tr>\n",
       "    <tr>\n",
       "      <th>15</th>\n",
       "      <td>105</td>\n",
       "      <td>8.30</td>\n",
       "    </tr>\n",
       "  </tbody>\n",
       "</table>\n",
       "</div>"
      ],
      "text/plain": [
       "    TOEFL Score  CGPA\n",
       "4           103  8.21\n",
       "7           101  7.90\n",
       "8           102  8.00\n",
       "9           108  8.60\n",
       "15          105  8.30"
      ]
     },
     "execution_count": 133,
     "metadata": {},
     "output_type": "execute_result"
    }
   ],
   "source": [
    "Data = Adm_DF_R_None[['TOEFL Score', 'CGPA']]\n",
    "Data.head()"
   ]
  },
  {
   "cell_type": "code",
   "execution_count": 134,
   "metadata": {},
   "outputs": [
    {
     "data": {
      "text/plain": [
       "(220, 2)"
      ]
     },
     "execution_count": 134,
     "metadata": {},
     "output_type": "execute_result"
    }
   ],
   "source": [
    "np.shape(Data)"
   ]
  },
  {
   "cell_type": "code",
   "execution_count": 135,
   "metadata": {},
   "outputs": [
    {
     "data": {
      "text/plain": [
       "array([[  1.  , 103.  ,   8.21],\n",
       "       [  1.  , 101.  ,   7.9 ],\n",
       "       [  1.  , 102.  ,   8.  ],\n",
       "       [  1.  , 108.  ,   8.6 ],\n",
       "       [  1.  , 105.  ,   8.3 ],\n",
       "       [  1.  , 107.  ,   8.7 ],\n",
       "       [  1.  , 110.  ,   8.8 ],\n",
       "       [  1.  , 102.  ,   8.5 ],\n",
       "       [  1.  , 114.  ,   8.4 ],\n",
       "       [  1.  , 109.  ,   8.8 ],\n",
       "       [  1.  ,  93.  ,   7.2 ],\n",
       "       [  1.  ,  99.  ,   7.3 ],\n",
       "       [  1.  , 106.  ,   8.4 ],\n",
       "       [  1.  , 105.  ,   7.8 ],\n",
       "       [  1.  , 105.  ,   7.5 ],\n",
       "       [  1.  , 108.  ,   7.7 ],\n",
       "       [  1.  , 117.  ,   9.1 ],\n",
       "       [  1.  , 119.  ,   9.7 ],\n",
       "       [  1.  , 110.  ,   8.  ],\n",
       "       [  1.  , 103.  ,   7.7 ],\n",
       "       [  1.  , 102.  ,   7.4 ],\n",
       "       [  1.  ,  99.  ,   7.6 ],\n",
       "       [  1.  , 104.  ,   8.3 ],\n",
       "       [  1.  , 100.  ,   8.1 ],\n",
       "       [  1.  , 101.  ,   8.2 ],\n",
       "       [  1.  , 111.  ,   8.7 ],\n",
       "       [  1.  , 112.  ,   8.92],\n",
       "       [  1.  , 114.  ,   9.02],\n",
       "       [  1.  , 106.  ,   8.9 ],\n",
       "       [  1.  ,  99.  ,   8.22],\n",
       "       [  1.  ,  93.  ,   7.36],\n",
       "       [  1.  , 103.  ,   8.66],\n",
       "       [  1.  , 106.  ,   8.42],\n",
       "       [  1.  , 107.  ,   8.28],\n",
       "       [  1.  , 108.  ,   8.14],\n",
       "       [  1.  ,  97.  ,   7.66],\n",
       "       [  1.  ,  98.  ,   8.03],\n",
       "       [  1.  ,  99.  ,   7.66],\n",
       "       [  1.  , 100.  ,   7.84],\n",
       "       [  1.  , 100.  ,   8.  ],\n",
       "       [  1.  , 105.  ,   8.12],\n",
       "       [  1.  , 106.  ,   8.25],\n",
       "       [  1.  , 104.  ,   8.47],\n",
       "       [  1.  , 103.  ,   8.64],\n",
       "       [  1.  , 108.  ,   8.48],\n",
       "       [  1.  , 110.  ,   8.56],\n",
       "       [  1.  , 102.  ,   8.62],\n",
       "       [  1.  , 104.  ,   7.46],\n",
       "       [  1.  ,  99.  ,   7.28],\n",
       "       [  1.  , 106.  ,   8.36],\n",
       "       [  1.  , 108.  ,   8.22],\n",
       "       [  1.  , 106.  ,   8.47],\n",
       "       [  1.  , 105.  ,   8.65],\n",
       "       [  1.  , 105.  ,   8.56],\n",
       "       [  1.  , 112.  ,   8.78],\n",
       "       [  1.  , 103.  ,   8.45],\n",
       "       [  1.  , 109.  ,   9.12],\n",
       "       [  1.  , 105.  ,   8.48],\n",
       "       [  1.  , 105.  ,   8.75],\n",
       "       [  1.  , 108.  ,   8.89],\n",
       "       [  1.  , 109.  ,   8.69],\n",
       "       [  1.  , 105.  ,   8.34],\n",
       "       [  1.  , 104.  ,   8.26],\n",
       "       [  1.  , 106.  ,   8.14],\n",
       "       [  1.  , 100.  ,   7.9 ],\n",
       "       [  1.  , 103.  ,   7.86],\n",
       "       [  1.  ,  99.  ,   7.46],\n",
       "       [  1.  , 109.  ,   8.5 ],\n",
       "       [  1.  , 105.  ,   8.56],\n",
       "       [  1.  , 110.  ,   8.97],\n",
       "       [  1.  , 102.  ,   8.33],\n",
       "       [  1.  , 102.  ,   8.27],\n",
       "       [  1.  ,  99.  ,   7.98],\n",
       "       [  1.  , 110.  ,   9.04],\n",
       "       [  1.  , 108.  ,   8.12],\n",
       "       [  1.  , 102.  ,   8.27],\n",
       "       [  1.  , 104.  ,   8.16],\n",
       "       [  1.  , 107.  ,   8.42],\n",
       "       [  1.  , 100.  ,   7.88],\n",
       "       [  1.  , 110.  ,   8.8 ],\n",
       "       [  1.  , 106.  ,   8.32],\n",
       "       [  1.  , 109.  ,   8.76],\n",
       "       [  1.  , 105.  ,   8.26],\n",
       "       [  1.  , 106.  ,   8.33],\n",
       "       [  1.  , 104.  ,   8.43],\n",
       "       [  1.  , 107.  ,   8.69],\n",
       "       [  1.  , 105.  ,   8.54],\n",
       "       [  1.  ,  99.  ,   7.65],\n",
       "       [  1.  ,  99.  ,   7.89],\n",
       "       [  1.  , 106.  ,   8.16],\n",
       "       [  1.  , 104.  ,   8.42],\n",
       "       [  1.  , 103.  ,   8.75],\n",
       "       [  1.  , 110.  ,   8.56],\n",
       "       [  1.  , 113.  ,   8.79],\n",
       "       [  1.  , 109.  ,   8.45],\n",
       "       [  1.  , 105.  ,   8.23],\n",
       "       [  1.  ,  99.  ,   8.03],\n",
       "       [  1.  , 110.  ,   8.45],\n",
       "       [  1.  , 110.  ,   8.53],\n",
       "       [  1.  , 112.  ,   8.67],\n",
       "       [  1.  , 104.  ,   8.65],\n",
       "       [  1.  , 107.  ,   8.27],\n",
       "       [  1.  , 100.  ,   8.07],\n",
       "       [  1.  , 104.  ,   8.37],\n",
       "       [  1.  , 100.  ,   7.89],\n",
       "       [  1.  , 101.  ,   7.68],\n",
       "       [  1.  , 103.  ,   8.15],\n",
       "       [  1.  , 107.  ,   8.56],\n",
       "       [  1.  , 105.  ,   8.73],\n",
       "       [  1.  , 104.  ,   8.48],\n",
       "       [  1.  ,  99.  ,   9.  ],\n",
       "       [  1.  , 114.  ,   9.12],\n",
       "       [  1.  , 110.  ,   8.37],\n",
       "       [  1.  ,  99.  ,   8.56],\n",
       "       [  1.  , 104.  ,   8.09],\n",
       "       [  1.  , 102.  ,   8.68],\n",
       "       [  1.  , 105.  ,   8.45],\n",
       "       [  1.  , 113.  ,   9.14],\n",
       "       [  1.  , 108.  ,   8.34],\n",
       "       [  1.  ,  96.  ,   7.86],\n",
       "       [  1.  ,  95.  ,   7.64],\n",
       "       [  1.  , 100.  ,   7.95],\n",
       "       [  1.  , 101.  ,   8.62],\n",
       "       [  1.  , 103.  ,   8.49],\n",
       "       [  1.  , 102.  ,   8.73],\n",
       "       [  1.  , 104.  ,   9.02],\n",
       "       [  1.  , 109.  ,   9.  ],\n",
       "       [  1.  , 105.  ,   7.65],\n",
       "       [  1.  , 102.  ,   7.87],\n",
       "       [  1.  ,  99.  ,   7.97],\n",
       "       [  1.  , 100.  ,   8.57],\n",
       "       [  1.  , 107.  ,   8.67],\n",
       "       [  1.  , 120.  ,   9.11],\n",
       "       [  1.  , 112.  ,   8.65],\n",
       "       [  1.  , 106.  ,   8.  ],\n",
       "       [  1.  , 108.  ,   8.76],\n",
       "       [  1.  , 106.  ,   8.43],\n",
       "       [  1.  , 108.  ,   8.53],\n",
       "       [  1.  , 110.  ,   8.6 ],\n",
       "       [  1.  , 100.  ,   8.04],\n",
       "       [  1.  , 105.  ,   8.13],\n",
       "       [  1.  , 104.  ,   8.07],\n",
       "       [  1.  , 101.  ,   7.86],\n",
       "       [  1.  ,  99.  ,   8.01],\n",
       "       [  1.  , 107.  ,   8.27],\n",
       "       [  1.  , 102.  ,   8.18],\n",
       "       [  1.  , 104.  ,   8.33],\n",
       "       [  1.  , 100.  ,   8.02],\n",
       "       [  1.  , 101.  ,   7.86],\n",
       "       [  1.  ,  96.  ,   7.89],\n",
       "       [  1.  , 110.  ,   8.79],\n",
       "       [  1.  , 106.  ,   8.24],\n",
       "       [  1.  , 103.  ,   8.13],\n",
       "       [  1.  ,  96.  ,   7.34],\n",
       "       [  1.  ,  98.  ,   7.43],\n",
       "       [  1.  ,  97.  ,   7.64],\n",
       "       [  1.  ,  94.  ,   7.34],\n",
       "       [  1.  ,  99.  ,   7.25],\n",
       "       [  1.  , 101.  ,   8.04],\n",
       "       [  1.  , 102.  ,   8.17],\n",
       "       [  1.  ,  98.  ,   7.67],\n",
       "       [  1.  , 106.  ,   8.12],\n",
       "       [  1.  , 105.  ,   7.64],\n",
       "       [  1.  , 107.  ,   8.44],\n",
       "       [  1.  , 103.  ,   8.36],\n",
       "       [  1.  ,  98.  ,   7.46],\n",
       "       [  1.  ,  92.  ,   7.88],\n",
       "       [  1.  , 103.  ,   8.24],\n",
       "       [  1.  , 105.  ,   7.65],\n",
       "       [  1.  , 101.  ,   7.66],\n",
       "       [  1.  ,  96.  ,   7.43],\n",
       "       [  1.  , 100.  ,   7.56],\n",
       "       [  1.  ,  98.  ,   7.65],\n",
       "       [  1.  , 100.  ,   8.26],\n",
       "       [  1.  , 101.  ,   7.96],\n",
       "       [  1.  , 105.  ,   8.1 ],\n",
       "       [  1.  ,  97.  ,   7.8 ],\n",
       "       [  1.  , 102.  ,   8.24],\n",
       "       [  1.  , 106.  ,   8.65],\n",
       "       [  1.  , 104.  ,   8.76],\n",
       "       [  1.  , 103.  ,   8.78],\n",
       "       [  1.  , 100.  ,   8.22],\n",
       "       [  1.  , 105.  ,   8.34],\n",
       "       [  1.  ,  99.  ,   7.45],\n",
       "       [  1.  ,  98.  ,   8.02],\n",
       "       [  1.  ,  96.  ,   7.56],\n",
       "       [  1.  ,  94.  ,   8.13],\n",
       "       [  1.  , 104.  ,   8.1 ],\n",
       "       [  1.  , 103.  ,   7.68],\n",
       "       [  1.  , 111.  ,   8.03],\n",
       "       [  1.  , 100.  ,   7.42],\n",
       "       [  1.  , 106.  ,   8.57],\n",
       "       [  1.  , 103.  ,   8.74],\n",
       "       [  1.  , 111.  ,   8.54],\n",
       "       [  1.  , 103.  ,   8.21],\n",
       "       [  1.  , 105.  ,   7.68],\n",
       "       [  1.  , 105.  ,   8.46],\n",
       "       [  1.  , 104.  ,   7.79],\n",
       "       [  1.  , 109.  ,   9.02],\n",
       "       [  1.  , 101.  ,   9.13],\n",
       "       [  1.  , 105.  ,   8.01],\n",
       "       [  1.  , 102.  ,   7.64],\n",
       "       [  1.  , 100.  ,   7.88],\n",
       "       [  1.  ,  99.  ,   7.57],\n",
       "       [  1.  , 105.  ,   7.94],\n",
       "       [  1.  , 107.  ,   7.86],\n",
       "       [  1.  ,  97.  ,   7.21],\n",
       "       [  1.  ,  96.  ,   8.26],\n",
       "       [  1.  , 103.  ,   8.09],\n",
       "       [  1.  , 102.  ,   8.15],\n",
       "       [  1.  , 101.  ,   7.88],\n",
       "       [  1.  , 104.  ,   8.12],\n",
       "       [  1.  , 105.  ,   8.18],\n",
       "       [  1.  , 103.  ,   7.92],\n",
       "       [  1.  , 102.  ,   8.37],\n",
       "       [  1.  , 115.  ,   9.14],\n",
       "       [  1.  , 110.  ,   8.5 ],\n",
       "       [  1.  ,  99.  ,   7.81],\n",
       "       [  1.  , 103.  ,   8.43],\n",
       "       [  1.  , 113.  ,   9.04]])"
      ]
     },
     "execution_count": 135,
     "metadata": {},
     "output_type": "execute_result"
    }
   ],
   "source": [
    "# Создаем вектор из единиц для коэффициента w_0 и записываем все векторы в СТОЛБЦЫ матрицы признаков А\n",
    "TOEFL_Score = Data['TOEFL Score']\n",
    "CGPA = Data['CGPA']\n",
    "A = np.column_stack((np.ones(220), TOEFL_Score, CGPA))\n",
    "A"
   ]
  },
  {
   "cell_type": "code",
   "execution_count": 136,
   "metadata": {},
   "outputs": [
    {
     "data": {
      "text/plain": [
       "array([[  1.  , 103.  ,   8.21],\n",
       "       [  1.  , 101.  ,   7.9 ],\n",
       "       [  1.  , 102.  ,   8.  ],\n",
       "       [  1.  , 108.  ,   8.6 ],\n",
       "       [  1.  , 105.  ,   8.3 ],\n",
       "       [  1.  , 107.  ,   8.7 ],\n",
       "       [  1.  , 110.  ,   8.8 ],\n",
       "       [  1.  , 102.  ,   8.5 ],\n",
       "       [  1.  , 114.  ,   8.4 ],\n",
       "       [  1.  , 109.  ,   8.8 ],\n",
       "       [  1.  ,  93.  ,   7.2 ],\n",
       "       [  1.  ,  99.  ,   7.3 ],\n",
       "       [  1.  , 106.  ,   8.4 ],\n",
       "       [  1.  , 105.  ,   7.8 ],\n",
       "       [  1.  , 105.  ,   7.5 ],\n",
       "       [  1.  , 108.  ,   7.7 ],\n",
       "       [  1.  , 117.  ,   9.1 ],\n",
       "       [  1.  , 119.  ,   9.7 ],\n",
       "       [  1.  , 110.  ,   8.  ],\n",
       "       [  1.  , 103.  ,   7.7 ],\n",
       "       [  1.  , 102.  ,   7.4 ],\n",
       "       [  1.  ,  99.  ,   7.6 ],\n",
       "       [  1.  , 104.  ,   8.3 ],\n",
       "       [  1.  , 100.  ,   8.1 ],\n",
       "       [  1.  , 101.  ,   8.2 ],\n",
       "       [  1.  , 111.  ,   8.7 ],\n",
       "       [  1.  , 112.  ,   8.92],\n",
       "       [  1.  , 114.  ,   9.02],\n",
       "       [  1.  , 106.  ,   8.9 ],\n",
       "       [  1.  ,  99.  ,   8.22],\n",
       "       [  1.  ,  93.  ,   7.36],\n",
       "       [  1.  , 103.  ,   8.66],\n",
       "       [  1.  , 106.  ,   8.42],\n",
       "       [  1.  , 107.  ,   8.28],\n",
       "       [  1.  , 108.  ,   8.14],\n",
       "       [  1.  ,  97.  ,   7.66],\n",
       "       [  1.  ,  98.  ,   8.03],\n",
       "       [  1.  ,  99.  ,   7.66],\n",
       "       [  1.  , 100.  ,   7.84],\n",
       "       [  1.  , 100.  ,   8.  ],\n",
       "       [  1.  , 105.  ,   8.12],\n",
       "       [  1.  , 106.  ,   8.25],\n",
       "       [  1.  , 104.  ,   8.47],\n",
       "       [  1.  , 103.  ,   8.64],\n",
       "       [  1.  , 108.  ,   8.48],\n",
       "       [  1.  , 110.  ,   8.56],\n",
       "       [  1.  , 102.  ,   8.62],\n",
       "       [  1.  , 104.  ,   7.46],\n",
       "       [  1.  ,  99.  ,   7.28],\n",
       "       [  1.  , 106.  ,   8.36],\n",
       "       [  1.  , 108.  ,   8.22],\n",
       "       [  1.  , 106.  ,   8.47],\n",
       "       [  1.  , 105.  ,   8.65],\n",
       "       [  1.  , 105.  ,   8.56],\n",
       "       [  1.  , 112.  ,   8.78],\n",
       "       [  1.  , 103.  ,   8.45],\n",
       "       [  1.  , 109.  ,   9.12],\n",
       "       [  1.  , 105.  ,   8.48],\n",
       "       [  1.  , 105.  ,   8.75],\n",
       "       [  1.  , 108.  ,   8.89],\n",
       "       [  1.  , 109.  ,   8.69],\n",
       "       [  1.  , 105.  ,   8.34],\n",
       "       [  1.  , 104.  ,   8.26],\n",
       "       [  1.  , 106.  ,   8.14],\n",
       "       [  1.  , 100.  ,   7.9 ],\n",
       "       [  1.  , 103.  ,   7.86],\n",
       "       [  1.  ,  99.  ,   7.46],\n",
       "       [  1.  , 109.  ,   8.5 ],\n",
       "       [  1.  , 105.  ,   8.56],\n",
       "       [  1.  , 110.  ,   8.97],\n",
       "       [  1.  , 102.  ,   8.33],\n",
       "       [  1.  , 102.  ,   8.27],\n",
       "       [  1.  ,  99.  ,   7.98],\n",
       "       [  1.  , 110.  ,   9.04],\n",
       "       [  1.  , 108.  ,   8.12],\n",
       "       [  1.  , 102.  ,   8.27],\n",
       "       [  1.  , 104.  ,   8.16],\n",
       "       [  1.  , 107.  ,   8.42],\n",
       "       [  1.  , 100.  ,   7.88],\n",
       "       [  1.  , 110.  ,   8.8 ],\n",
       "       [  1.  , 106.  ,   8.32],\n",
       "       [  1.  , 109.  ,   8.76],\n",
       "       [  1.  , 105.  ,   8.26],\n",
       "       [  1.  , 106.  ,   8.33],\n",
       "       [  1.  , 104.  ,   8.43],\n",
       "       [  1.  , 107.  ,   8.69],\n",
       "       [  1.  , 105.  ,   8.54],\n",
       "       [  1.  ,  99.  ,   7.65],\n",
       "       [  1.  ,  99.  ,   7.89],\n",
       "       [  1.  , 106.  ,   8.16],\n",
       "       [  1.  , 104.  ,   8.42],\n",
       "       [  1.  , 103.  ,   8.75],\n",
       "       [  1.  , 110.  ,   8.56],\n",
       "       [  1.  , 113.  ,   8.79],\n",
       "       [  1.  , 109.  ,   8.45],\n",
       "       [  1.  , 105.  ,   8.23],\n",
       "       [  1.  ,  99.  ,   8.03],\n",
       "       [  1.  , 110.  ,   8.45],\n",
       "       [  1.  , 110.  ,   8.53],\n",
       "       [  1.  , 112.  ,   8.67],\n",
       "       [  1.  , 104.  ,   8.65],\n",
       "       [  1.  , 107.  ,   8.27],\n",
       "       [  1.  , 100.  ,   8.07],\n",
       "       [  1.  , 104.  ,   8.37],\n",
       "       [  1.  , 100.  ,   7.89],\n",
       "       [  1.  , 101.  ,   7.68],\n",
       "       [  1.  , 103.  ,   8.15],\n",
       "       [  1.  , 107.  ,   8.56],\n",
       "       [  1.  , 105.  ,   8.73],\n",
       "       [  1.  , 104.  ,   8.48],\n",
       "       [  1.  ,  99.  ,   9.  ],\n",
       "       [  1.  , 114.  ,   9.12],\n",
       "       [  1.  , 110.  ,   8.37],\n",
       "       [  1.  ,  99.  ,   8.56],\n",
       "       [  1.  , 104.  ,   8.09],\n",
       "       [  1.  , 102.  ,   8.68],\n",
       "       [  1.  , 105.  ,   8.45],\n",
       "       [  1.  , 113.  ,   9.14],\n",
       "       [  1.  , 108.  ,   8.34],\n",
       "       [  1.  ,  96.  ,   7.86],\n",
       "       [  1.  ,  95.  ,   7.64],\n",
       "       [  1.  , 100.  ,   7.95],\n",
       "       [  1.  , 101.  ,   8.62],\n",
       "       [  1.  , 103.  ,   8.49],\n",
       "       [  1.  , 102.  ,   8.73],\n",
       "       [  1.  , 104.  ,   9.02],\n",
       "       [  1.  , 109.  ,   9.  ],\n",
       "       [  1.  , 105.  ,   7.65],\n",
       "       [  1.  , 102.  ,   7.87],\n",
       "       [  1.  ,  99.  ,   7.97],\n",
       "       [  1.  , 100.  ,   8.57],\n",
       "       [  1.  , 107.  ,   8.67],\n",
       "       [  1.  , 120.  ,   9.11],\n",
       "       [  1.  , 112.  ,   8.65],\n",
       "       [  1.  , 106.  ,   8.  ],\n",
       "       [  1.  , 108.  ,   8.76],\n",
       "       [  1.  , 106.  ,   8.43],\n",
       "       [  1.  , 108.  ,   8.53],\n",
       "       [  1.  , 110.  ,   8.6 ],\n",
       "       [  1.  , 100.  ,   8.04],\n",
       "       [  1.  , 105.  ,   8.13],\n",
       "       [  1.  , 104.  ,   8.07],\n",
       "       [  1.  , 101.  ,   7.86],\n",
       "       [  1.  ,  99.  ,   8.01],\n",
       "       [  1.  , 107.  ,   8.27],\n",
       "       [  1.  , 102.  ,   8.18],\n",
       "       [  1.  , 104.  ,   8.33],\n",
       "       [  1.  , 100.  ,   8.02],\n",
       "       [  1.  , 101.  ,   7.86],\n",
       "       [  1.  ,  96.  ,   7.89],\n",
       "       [  1.  , 110.  ,   8.79],\n",
       "       [  1.  , 106.  ,   8.24],\n",
       "       [  1.  , 103.  ,   8.13],\n",
       "       [  1.  ,  96.  ,   7.34],\n",
       "       [  1.  ,  98.  ,   7.43],\n",
       "       [  1.  ,  97.  ,   7.64],\n",
       "       [  1.  ,  94.  ,   7.34],\n",
       "       [  1.  ,  99.  ,   7.25],\n",
       "       [  1.  , 101.  ,   8.04],\n",
       "       [  1.  , 102.  ,   8.17],\n",
       "       [  1.  ,  98.  ,   7.67],\n",
       "       [  1.  , 106.  ,   8.12],\n",
       "       [  1.  , 105.  ,   7.64],\n",
       "       [  1.  , 107.  ,   8.44],\n",
       "       [  1.  , 103.  ,   8.36],\n",
       "       [  1.  ,  98.  ,   7.46],\n",
       "       [  1.  ,  92.  ,   7.88],\n",
       "       [  1.  , 103.  ,   8.24],\n",
       "       [  1.  , 105.  ,   7.65],\n",
       "       [  1.  , 101.  ,   7.66],\n",
       "       [  1.  ,  96.  ,   7.43],\n",
       "       [  1.  , 100.  ,   7.56],\n",
       "       [  1.  ,  98.  ,   7.65],\n",
       "       [  1.  , 100.  ,   8.26],\n",
       "       [  1.  , 101.  ,   7.96],\n",
       "       [  1.  , 105.  ,   8.1 ],\n",
       "       [  1.  ,  97.  ,   7.8 ],\n",
       "       [  1.  , 102.  ,   8.24],\n",
       "       [  1.  , 106.  ,   8.65],\n",
       "       [  1.  , 104.  ,   8.76],\n",
       "       [  1.  , 103.  ,   8.78],\n",
       "       [  1.  , 100.  ,   8.22],\n",
       "       [  1.  , 105.  ,   8.34],\n",
       "       [  1.  ,  99.  ,   7.45],\n",
       "       [  1.  ,  98.  ,   8.02],\n",
       "       [  1.  ,  96.  ,   7.56],\n",
       "       [  1.  ,  94.  ,   8.13],\n",
       "       [  1.  , 104.  ,   8.1 ],\n",
       "       [  1.  , 103.  ,   7.68],\n",
       "       [  1.  , 111.  ,   8.03],\n",
       "       [  1.  , 100.  ,   7.42],\n",
       "       [  1.  , 106.  ,   8.57],\n",
       "       [  1.  , 103.  ,   8.74],\n",
       "       [  1.  , 111.  ,   8.54],\n",
       "       [  1.  , 103.  ,   8.21],\n",
       "       [  1.  , 105.  ,   7.68],\n",
       "       [  1.  , 105.  ,   8.46],\n",
       "       [  1.  , 104.  ,   7.79],\n",
       "       [  1.  , 109.  ,   9.02],\n",
       "       [  1.  , 101.  ,   9.13],\n",
       "       [  1.  , 105.  ,   8.01],\n",
       "       [  1.  , 102.  ,   7.64],\n",
       "       [  1.  , 100.  ,   7.88],\n",
       "       [  1.  ,  99.  ,   7.57],\n",
       "       [  1.  , 105.  ,   7.94],\n",
       "       [  1.  , 107.  ,   7.86],\n",
       "       [  1.  ,  97.  ,   7.21],\n",
       "       [  1.  ,  96.  ,   8.26],\n",
       "       [  1.  , 103.  ,   8.09],\n",
       "       [  1.  , 102.  ,   8.15],\n",
       "       [  1.  , 101.  ,   7.88],\n",
       "       [  1.  , 104.  ,   8.12],\n",
       "       [  1.  , 105.  ,   8.18],\n",
       "       [  1.  , 103.  ,   7.92],\n",
       "       [  1.  , 102.  ,   8.37],\n",
       "       [  1.  , 115.  ,   9.14],\n",
       "       [  1.  , 110.  ,   8.5 ],\n",
       "       [  1.  ,  99.  ,   7.81],\n",
       "       [  1.  , 103.  ,   8.43],\n",
       "       [  1.  , 113.  ,   9.04]])"
      ]
     },
     "execution_count": 136,
     "metadata": {},
     "output_type": "execute_result"
    }
   ],
   "source": [
    "# Добавим настройку для удобного чтения значений А\n",
    "np.set_printoptions(suppress=True)\n",
    "A"
   ]
  },
  {
   "cell_type": "code",
   "execution_count": 147,
   "metadata": {},
   "outputs": [],
   "source": [
    "# Создаем целевой вектор\n",
    "y = Adm_DF_R_None[['Chance of Admit ']] # объект типа dataframe - то, что нужно\n",
    "# Adm_DF_R_None.columns"
   ]
  },
  {
   "cell_type": "code",
   "execution_count": 148,
   "metadata": {},
   "outputs": [
    {
     "data": {
      "text/plain": [
       "pandas.core.frame.DataFrame"
      ]
     },
     "execution_count": 148,
     "metadata": {},
     "output_type": "execute_result"
    }
   ],
   "source": [
    "type(y)"
   ]
  },
  {
   "cell_type": "code",
   "execution_count": 149,
   "metadata": {},
   "outputs": [
    {
     "data": {
      "text/html": [
       "<div>\n",
       "<style scoped>\n",
       "    .dataframe tbody tr th:only-of-type {\n",
       "        vertical-align: middle;\n",
       "    }\n",
       "\n",
       "    .dataframe tbody tr th {\n",
       "        vertical-align: top;\n",
       "    }\n",
       "\n",
       "    .dataframe thead th {\n",
       "        text-align: right;\n",
       "    }\n",
       "</style>\n",
       "<table border=\"1\" class=\"dataframe\">\n",
       "  <thead>\n",
       "    <tr style=\"text-align: right;\">\n",
       "      <th></th>\n",
       "      <th>Chance of Admit</th>\n",
       "    </tr>\n",
       "  </thead>\n",
       "  <tbody>\n",
       "    <tr>\n",
       "      <th>0</th>\n",
       "      <td>-1.044864</td>\n",
       "    </tr>\n",
       "    <tr>\n",
       "      <th>1</th>\n",
       "      <td>0.004427</td>\n",
       "    </tr>\n",
       "    <tr>\n",
       "      <th>2</th>\n",
       "      <td>0.148077</td>\n",
       "    </tr>\n",
       "  </tbody>\n",
       "</table>\n",
       "</div>"
      ],
      "text/plain": [
       "   Chance of Admit \n",
       "0         -1.044864\n",
       "1          0.004427\n",
       "2          0.148077"
      ]
     },
     "execution_count": 149,
     "metadata": {},
     "output_type": "execute_result"
    }
   ],
   "source": [
    "# вычислим OLS оценку для коэффициентов\n",
    "ols_chance = np.linalg.inv(A.T@A)@A.T@y\n",
    "ols_chance"
   ]
  },
  {
   "cell_type": "code",
   "execution_count": 152,
   "metadata": {},
   "outputs": [
    {
     "data": {
      "text/plain": [
       "Chance of Admit     0.7298\n",
       "dtype: float64"
      ]
     },
     "execution_count": 152,
     "metadata": {},
     "output_type": "execute_result"
    }
   ],
   "source": [
    "# прогноз  TOEFL Score=107, CGPA=9.1\n",
    "# добавились данные по новому городку:\n",
    "TOEFL_Score_new = 107\n",
    "CGPA_new = 9.1\n",
    "# делаем прогноз типичной соимости дома\n",
    "Chance_new = round(ols_chance.iloc[0], 3)+round(ols_chance.iloc[1], 3)*TOEFL_Score_new+round(ols_chance.iloc[2], 3)*CGPA_new\n",
    "Chance_new"
   ]
  },
  {
   "cell_type": "code",
   "execution_count": 154,
   "metadata": {},
   "outputs": [
    {
     "data": {
      "text/plain": [
       "Chance of Admit     0.7298\n",
       "dtype: float64"
      ]
     },
     "execution_count": 154,
     "metadata": {},
     "output_type": "execute_result"
    }
   ],
   "source": [
    "# короткий способ сделать прогноз\n",
    "new = np.array([1,TOEFL_Score_new,CGPA_new])\n",
    "new@round(ols_chance, 3)"
   ]
  },
  {
   "cell_type": "markdown",
   "metadata": {},
   "source": [
    "# Стандартизация данных"
   ]
  },
  {
   "cell_type": "code",
   "execution_count": 155,
   "metadata": {},
   "outputs": [
    {
     "data": {
      "text/html": [
       "<div>\n",
       "<style scoped>\n",
       "    .dataframe tbody tr th:only-of-type {\n",
       "        vertical-align: middle;\n",
       "    }\n",
       "\n",
       "    .dataframe tbody tr th {\n",
       "        vertical-align: top;\n",
       "    }\n",
       "\n",
       "    .dataframe thead th {\n",
       "        text-align: right;\n",
       "    }\n",
       "</style>\n",
       "<table border=\"1\" class=\"dataframe\">\n",
       "  <thead>\n",
       "    <tr style=\"text-align: right;\">\n",
       "      <th></th>\n",
       "      <th>TOEFL Score</th>\n",
       "      <th>CGPA</th>\n",
       "    </tr>\n",
       "  </thead>\n",
       "  <tbody>\n",
       "    <tr>\n",
       "      <th>4</th>\n",
       "      <td>103</td>\n",
       "      <td>8.21</td>\n",
       "    </tr>\n",
       "    <tr>\n",
       "      <th>7</th>\n",
       "      <td>101</td>\n",
       "      <td>7.90</td>\n",
       "    </tr>\n",
       "    <tr>\n",
       "      <th>8</th>\n",
       "      <td>102</td>\n",
       "      <td>8.00</td>\n",
       "    </tr>\n",
       "    <tr>\n",
       "      <th>9</th>\n",
       "      <td>108</td>\n",
       "      <td>8.60</td>\n",
       "    </tr>\n",
       "    <tr>\n",
       "      <th>15</th>\n",
       "      <td>105</td>\n",
       "      <td>8.30</td>\n",
       "    </tr>\n",
       "  </tbody>\n",
       "</table>\n",
       "</div>"
      ],
      "text/plain": [
       "    TOEFL Score  CGPA\n",
       "4           103  8.21\n",
       "7           101  7.90\n",
       "8           102  8.00\n",
       "9           108  8.60\n",
       "15          105  8.30"
      ]
     },
     "execution_count": 155,
     "metadata": {},
     "output_type": "execute_result"
    }
   ],
   "source": [
    "Data.head()"
   ]
  },
  {
   "cell_type": "code",
   "execution_count": 159,
   "metadata": {},
   "outputs": [
    {
     "name": "stdout",
     "output_type": "stream",
     "text": [
      "mean value of TOEFL: 103.99090909090908\n",
      "mean value of CGPE: 8.234727272727275\n",
      "mean value of  Chance of Admit     0.634909\n",
      "dtype: float64\n"
     ]
    }
   ],
   "source": [
    "# метод .mean() позволяет вычислить арифметическое среднее значение вектора\n",
    "meanTOEFL = Data['TOEFL Score'].mean()\n",
    "meanCGPA  = Data['CGPA'].mean()\n",
    "mean_y = y.mean()\n",
    "print('mean value of TOEFL:', meanTOEFL)\n",
    "print('mean value of CGPE:', meanCGPA)\n",
    "print('mean value of ', mean_y)"
   ]
  },
  {
   "cell_type": "code",
   "execution_count": 162,
   "metadata": {},
   "outputs": [
    {
     "name": "stdout",
     "output_type": "stream",
     "text": [
      "TOEFL до центрирования:\n",
      " 4    103\n",
      "7    101\n",
      "8    102\n",
      "9    108\n",
      "Name: TOEFL Score, dtype: int64\n",
      "TOEFL после центрирования:\n",
      " 4   -0.990909\n",
      "7   -2.990909\n",
      "8   -1.990909\n",
      "9    4.009091\n",
      "Name: TOEFL Score, dtype: float64\n"
     ]
    }
   ],
   "source": [
    "# Центрирование\n",
    "TOEFL_c = Data['TOEFL Score'] - meanTOEFL\n",
    "CGPA_c = Data['CGPA'] - meanCGPA\n",
    "y_c = y - mean_y\n",
    "print('TOEFL до центрирования:\\n', TOEFL_Score.head(4))\n",
    "print('TOEFL после центрирования:\\n', TOEFL_c.head(4))"
   ]
  },
  {
   "cell_type": "code",
   "execution_count": 163,
   "metadata": {},
   "outputs": [
    {
     "name": "stdout",
     "output_type": "stream",
     "text": [
      "среднее арифметическое вектора CGPA после центрирования: -2.220446049250313e-15\n"
     ]
    }
   ],
   "source": [
    "print('среднее арифметическое вектора CGPA после центрирования:',CGPA_c.mean())"
   ]
  },
  {
   "cell_type": "code",
   "execution_count": 164,
   "metadata": {},
   "outputs": [
    {
     "name": "stdout",
     "output_type": "stream",
     "text": [
      "norm of TOEFL:\n",
      " 71.24592492333733\n"
     ]
    }
   ],
   "source": [
    "# вычисляем длины векторов для нормирования\n",
    "TOEFL_c_norm = np.linalg.norm(TOEFL_c)\n",
    "CGPA_c_norm = np.linalg.norm(CGPA_c)\n",
    "y_c_norm = np.linalg.norm(y_c)\n",
    "print('norm of TOEFL:\\n', TOEFL_c_norm)"
   ]
  },
  {
   "cell_type": "code",
   "execution_count": 168,
   "metadata": {},
   "outputs": [
    {
     "name": "stdout",
     "output_type": "stream",
     "text": [
      "TOEFL до центрирования:\n",
      " 4    103\n",
      "7    101\n",
      "8    102\n",
      "9    108\n",
      "Name: TOEFL Score, dtype: int64\n",
      "TOEFL после центрирования:\n",
      " 4   -0.990909\n",
      "7   -2.990909\n",
      "8   -1.990909\n",
      "9    4.009091\n",
      "Name: TOEFL Score, dtype: float64\n",
      "TOEFL после нормирования:\n",
      " 4   -0.013908\n",
      "7   -0.041980\n",
      "8   -0.027944\n",
      "9    0.056271\n",
      "Name: TOEFL Score, dtype: float64\n"
     ]
    }
   ],
   "source": [
    "# Нормирование: делим каждый центрированный вектор на его длину\n",
    "TOEFL_st=TOEFL_c / TOEFL_c_norm\n",
    "CGPA_st=CGPA_c / CGPA_c_norm\n",
    "y_st=y_c / y_c_norm\n",
    "print('TOEFL до центрирования:\\n', TOEFL_Score.head(4))\n",
    "print('TOEFL после центрирования:\\n', TOEFL_c.head(4))\n",
    "print('TOEFL после нормирования:\\n', TOEFL_st.head(4))"
   ]
  },
  {
   "cell_type": "code",
   "execution_count": 169,
   "metadata": {},
   "outputs": [
    {
     "data": {
      "text/plain": [
       "array([[-0.01390829, -0.00356568],\n",
       "       [-0.04198007, -0.04826775],\n",
       "       [-0.02794418, -0.03384772],\n",
       "       [ 0.05627116,  0.05267241],\n",
       "       [ 0.01416349,  0.00941234],\n",
       "       [ 0.04223527,  0.06709243],\n",
       "       [ 0.08434294,  0.08151245],\n",
       "       [-0.02794418,  0.03825238],\n",
       "       [ 0.1404865 ,  0.02383236],\n",
       "       [ 0.07030705,  0.08151245],\n",
       "       [-0.1542672 , -0.1492079 ],\n",
       "       [-0.07005185, -0.13478788],\n",
       "       [ 0.02819938,  0.02383236],\n",
       "       [ 0.01416349, -0.06268777],\n",
       "       [ 0.01416349, -0.10594783],\n",
       "       [ 0.05627116, -0.07710779],\n",
       "       [ 0.18259418,  0.12477251],\n",
       "       [ 0.21066596,  0.21129264],\n",
       "       [ 0.08434294, -0.03384772],\n",
       "       [-0.01390829, -0.07710779],\n",
       "       [-0.02794418, -0.12036785],\n",
       "       [-0.07005185, -0.09152781],\n",
       "       [ 0.0001276 ,  0.00941234],\n",
       "       [-0.05601596, -0.0194277 ],\n",
       "       [-0.04198007, -0.00500768],\n",
       "       [ 0.09837883,  0.06709243],\n",
       "       [ 0.11241472,  0.09881648],\n",
       "       [ 0.1404865 ,  0.1132365 ],\n",
       "       [ 0.02819938,  0.09593247],\n",
       "       [-0.07005185, -0.00212368],\n",
       "       [-0.1542672 , -0.12613586],\n",
       "       [-0.01390829,  0.06132442],\n",
       "       [ 0.02819938,  0.02671637],\n",
       "       [ 0.04223527,  0.00652834],\n",
       "       [ 0.05627116, -0.01365969],\n",
       "       [-0.09812363, -0.0828758 ],\n",
       "       [-0.08408774, -0.02952172],\n",
       "       [-0.07005185, -0.0828758 ],\n",
       "       [-0.05601596, -0.05691976],\n",
       "       [-0.05601596, -0.03384772],\n",
       "       [ 0.01416349, -0.0165437 ],\n",
       "       [ 0.02819938,  0.00220233],\n",
       "       [ 0.0001276 ,  0.03392638],\n",
       "       [-0.01390829,  0.05844041],\n",
       "       [ 0.05627116,  0.03536838],\n",
       "       [ 0.08434294,  0.0469044 ],\n",
       "       [-0.02794418,  0.05555641],\n",
       "       [ 0.0001276 , -0.11171584],\n",
       "       [-0.07005185, -0.13767188],\n",
       "       [ 0.02819938,  0.01806435],\n",
       "       [ 0.05627116, -0.00212368],\n",
       "       [ 0.02819938,  0.03392638],\n",
       "       [ 0.01416349,  0.05988242],\n",
       "       [ 0.01416349,  0.0469044 ],\n",
       "       [ 0.11241472,  0.07862845],\n",
       "       [-0.01390829,  0.03104237],\n",
       "       [ 0.07030705,  0.12765652],\n",
       "       [ 0.01416349,  0.03536838],\n",
       "       [ 0.01416349,  0.07430244],\n",
       "       [ 0.05627116,  0.09449047],\n",
       "       [ 0.07030705,  0.06565043],\n",
       "       [ 0.01416349,  0.01518035],\n",
       "       [ 0.0001276 ,  0.00364433],\n",
       "       [ 0.02819938, -0.01365969],\n",
       "       [-0.05601596, -0.04826775],\n",
       "       [-0.01390829, -0.05403575],\n",
       "       [-0.07005185, -0.11171584],\n",
       "       [ 0.07030705,  0.03825238],\n",
       "       [ 0.01416349,  0.0469044 ],\n",
       "       [ 0.08434294,  0.10602649],\n",
       "       [-0.02794418,  0.01373835],\n",
       "       [-0.02794418,  0.00508633],\n",
       "       [-0.07005185, -0.03673173],\n",
       "       [ 0.08434294,  0.1161205 ],\n",
       "       [ 0.05627116, -0.0165437 ],\n",
       "       [-0.02794418,  0.00508633],\n",
       "       [ 0.0001276 , -0.01077569],\n",
       "       [ 0.04223527,  0.02671637],\n",
       "       [-0.05601596, -0.05115175],\n",
       "       [ 0.08434294,  0.08151245],\n",
       "       [ 0.02819938,  0.01229635],\n",
       "       [ 0.07030705,  0.07574444],\n",
       "       [ 0.01416349,  0.00364433],\n",
       "       [ 0.02819938,  0.01373835],\n",
       "       [ 0.0001276 ,  0.02815837],\n",
       "       [ 0.04223527,  0.06565043],\n",
       "       [ 0.01416349,  0.04402039],\n",
       "       [-0.07005185, -0.0843178 ],\n",
       "       [-0.07005185, -0.04970975],\n",
       "       [ 0.02819938, -0.01077569],\n",
       "       [ 0.0001276 ,  0.02671637],\n",
       "       [-0.01390829,  0.07430244],\n",
       "       [ 0.08434294,  0.0469044 ],\n",
       "       [ 0.12645061,  0.08007045],\n",
       "       [ 0.07030705,  0.03104237],\n",
       "       [ 0.01416349, -0.00068167],\n",
       "       [-0.07005185, -0.02952172],\n",
       "       [ 0.08434294,  0.03104237],\n",
       "       [ 0.08434294,  0.04257839],\n",
       "       [ 0.11241472,  0.06276642],\n",
       "       [ 0.0001276 ,  0.05988242],\n",
       "       [ 0.04223527,  0.00508633],\n",
       "       [-0.05601596, -0.02375371],\n",
       "       [ 0.0001276 ,  0.01950636],\n",
       "       [-0.05601596, -0.04970975],\n",
       "       [-0.04198007, -0.07999179],\n",
       "       [-0.01390829, -0.01221769],\n",
       "       [ 0.04223527,  0.0469044 ],\n",
       "       [ 0.01416349,  0.07141843],\n",
       "       [ 0.0001276 ,  0.03536838],\n",
       "       [-0.07005185,  0.11035249],\n",
       "       [ 0.1404865 ,  0.12765652],\n",
       "       [ 0.08434294,  0.01950636],\n",
       "       [-0.07005185,  0.0469044 ],\n",
       "       [ 0.0001276 , -0.0208697 ],\n",
       "       [-0.02794418,  0.06420842],\n",
       "       [ 0.01416349,  0.03104237],\n",
       "       [ 0.12645061,  0.13054052],\n",
       "       [ 0.05627116,  0.01518035],\n",
       "       [-0.11215952, -0.05403575],\n",
       "       [-0.12619542, -0.0857598 ],\n",
       "       [-0.05601596, -0.04105773],\n",
       "       [-0.04198007,  0.05555641],\n",
       "       [-0.01390829,  0.03681038],\n",
       "       [-0.02794418,  0.07141843],\n",
       "       [ 0.0001276 ,  0.1132365 ],\n",
       "       [ 0.07030705,  0.11035249],\n",
       "       [ 0.01416349, -0.0843178 ],\n",
       "       [-0.02794418, -0.05259375],\n",
       "       [-0.07005185, -0.03817373],\n",
       "       [-0.05601596,  0.0483464 ],\n",
       "       [ 0.04223527,  0.06276642],\n",
       "       [ 0.22470185,  0.12621452],\n",
       "       [ 0.11241472,  0.05988242],\n",
       "       [ 0.02819938, -0.03384772],\n",
       "       [ 0.05627116,  0.07574444],\n",
       "       [ 0.02819938,  0.02815837],\n",
       "       [ 0.05627116,  0.04257839],\n",
       "       [ 0.08434294,  0.05267241],\n",
       "       [-0.05601596, -0.02807971],\n",
       "       [ 0.01416349, -0.0151017 ],\n",
       "       [ 0.0001276 , -0.02375371],\n",
       "       [-0.04198007, -0.05403575],\n",
       "       [-0.07005185, -0.03240572],\n",
       "       [ 0.04223527,  0.00508633],\n",
       "       [-0.02794418, -0.00789168],\n",
       "       [ 0.0001276 ,  0.01373835],\n",
       "       [-0.05601596, -0.03096372],\n",
       "       [-0.04198007, -0.05403575],\n",
       "       [-0.11215952, -0.04970975],\n",
       "       [ 0.08434294,  0.08007045],\n",
       "       [ 0.02819938,  0.00076033],\n",
       "       [-0.01390829, -0.0151017 ],\n",
       "       [-0.11215952, -0.12901987],\n",
       "       [-0.08408774, -0.11604185],\n",
       "       [-0.09812363, -0.0857598 ],\n",
       "       [-0.14023131, -0.12901987],\n",
       "       [-0.07005185, -0.14199789],\n",
       "       [-0.04198007, -0.02807971],\n",
       "       [-0.02794418, -0.00933369],\n",
       "       [-0.08408774, -0.08143379],\n",
       "       [ 0.02819938, -0.0165437 ],\n",
       "       [ 0.01416349, -0.0857598 ],\n",
       "       [ 0.04223527,  0.02960037],\n",
       "       [-0.01390829,  0.01806435],\n",
       "       [-0.08408774, -0.11171584],\n",
       "       [-0.16830309, -0.05115175],\n",
       "       [-0.01390829,  0.00076033],\n",
       "       [ 0.01416349, -0.0843178 ],\n",
       "       [-0.04198007, -0.0828758 ],\n",
       "       [-0.11215952, -0.11604185],\n",
       "       [-0.05601596, -0.09729582],\n",
       "       [-0.08408774, -0.0843178 ],\n",
       "       [-0.05601596,  0.00364433],\n",
       "       [-0.04198007, -0.03961573],\n",
       "       [ 0.01416349, -0.0194277 ],\n",
       "       [-0.09812363, -0.06268777],\n",
       "       [-0.02794418,  0.00076033],\n",
       "       [ 0.02819938,  0.05988242],\n",
       "       [ 0.0001276 ,  0.07574444],\n",
       "       [-0.01390829,  0.07862845],\n",
       "       [-0.05601596, -0.00212368],\n",
       "       [ 0.01416349,  0.01518035],\n",
       "       [-0.07005185, -0.11315784],\n",
       "       [-0.08408774, -0.03096372],\n",
       "       [-0.11215952, -0.09729582],\n",
       "       [-0.14023131, -0.0151017 ],\n",
       "       [ 0.0001276 , -0.0194277 ],\n",
       "       [-0.01390829, -0.07999179],\n",
       "       [ 0.09837883, -0.02952172],\n",
       "       [-0.05601596, -0.11748385],\n",
       "       [ 0.02819938,  0.0483464 ],\n",
       "       [-0.01390829,  0.07286044],\n",
       "       [ 0.09837883,  0.04402039],\n",
       "       [-0.01390829, -0.00356568],\n",
       "       [ 0.01416349, -0.07999179],\n",
       "       [ 0.01416349,  0.03248438],\n",
       "       [ 0.0001276 , -0.06412977],\n",
       "       [ 0.07030705,  0.1132365 ],\n",
       "       [-0.04198007,  0.12909852],\n",
       "       [ 0.01416349, -0.03240572],\n",
       "       [-0.02794418, -0.0857598 ],\n",
       "       [-0.05601596, -0.05115175],\n",
       "       [-0.07005185, -0.09585382],\n",
       "       [ 0.01416349, -0.04249974],\n",
       "       [ 0.04223527, -0.05403575],\n",
       "       [-0.09812363, -0.14776589],\n",
       "       [-0.11215952,  0.00364433],\n",
       "       [-0.01390829, -0.0208697 ],\n",
       "       [-0.02794418, -0.01221769],\n",
       "       [-0.04198007, -0.05115175],\n",
       "       [ 0.0001276 , -0.0165437 ],\n",
       "       [ 0.01416349, -0.00789168],\n",
       "       [-0.01390829, -0.04538374],\n",
       "       [-0.02794418,  0.01950636],\n",
       "       [ 0.15452239,  0.13054052],\n",
       "       [ 0.08434294,  0.03825238],\n",
       "       [-0.07005185, -0.06124576],\n",
       "       [-0.01390829,  0.02815837],\n",
       "       [ 0.12645061,  0.1161205 ]])"
      ]
     },
     "execution_count": 169,
     "metadata": {},
     "output_type": "execute_result"
    }
   ],
   "source": [
    "# Матрица центрированных признаков - БЕЗ константы!\n",
    "A_st=np.column_stack((TOEFL_st, CGPA_st))\n",
    "A_st"
   ]
  },
  {
   "cell_type": "code",
   "execution_count": 172,
   "metadata": {},
   "outputs": [
    {
     "data": {
      "text/plain": [
       "array([[0.19044768],\n",
       "       [0.62001517]])"
      ]
     },
     "execution_count": 172,
     "metadata": {},
     "output_type": "execute_result"
    }
   ],
   "source": [
    "# OLS оценка коэффициентов центрированной регрессии\n",
    "chance_st=np.linalg.inv(A_st.T@A_st)@A_st.T@y_st.values\n",
    "chance_st"
   ]
  },
  {
   "cell_type": "code",
   "execution_count": 173,
   "metadata": {},
   "outputs": [
    {
     "data": {
      "text/plain": [
       "array([-0.24396044,  0.86433557, -0.28811186, -0.33226327])"
      ]
     },
     "execution_count": 173,
     "metadata": {},
     "output_type": "execute_result"
    }
   ],
   "source": [
    "import numpy as np\n",
    "x1=np.array([1,2,1,1])\n",
    "x2=np.array([70,130,65,60])\n",
    "x1mean=x1.mean()\n",
    "x2mean=x2.mean()\n",
    "x1_c=x1-x1mean\n",
    "x2_c=x2-x2mean\n",
    "x1n=np.linalg.norm(x1_c)\n",
    "x2n=np.linalg.norm(x2_c)\n",
    "x1_st=x1_c/x1n\n",
    "x2_st=x2_c/x2n\n",
    "(x1_st+x2_st)/np.linalg.norm(x1_st+x2_st)"
   ]
  },
  {
   "cell_type": "code",
   "execution_count": null,
   "metadata": {},
   "outputs": [],
   "source": []
  }
 ],
 "metadata": {
  "kernelspec": {
   "display_name": "Python 3",
   "language": "python",
   "name": "python3"
  },
  "language_info": {
   "codemirror_mode": {
    "name": "ipython",
    "version": 3
   },
   "file_extension": ".py",
   "mimetype": "text/x-python",
   "name": "python",
   "nbconvert_exporter": "python",
   "pygments_lexer": "ipython3",
   "version": "3.8.3"
  }
 },
 "nbformat": 4,
 "nbformat_minor": 4
}
