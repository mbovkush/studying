{
 "cells": [
  {
   "cell_type": "markdown",
   "metadata": {},
   "source": [
    "Допустим, у нас есть $n$ товаров с заданными стоимостями $v_i$ и массой $w_i$. В сумку убирается $С$ кг. Сколько какого товара взять, чтобы сумма всех стоимостей товаров была наибольшей?"
   ]
  },
  {
   "cell_type": "code",
   "execution_count": 1,
   "metadata": {},
   "outputs": [],
   "source": [
    "values = [4, 2, 1, 7, 3, 6]\n",
    "weights = [5, 9, 8, 2, 6, 5]\n",
    "C = 15\n",
    "n = 6"
   ]
  },
  {
   "cell_type": "markdown",
   "metadata": {},
   "source": [
    "Сформулируем задачу:\n",
    "$$\\max\\sum v_i x_i$$\n",
    "$$\\sum w_i x_i \\leq C $$"
   ]
  },
  {
   "cell_type": "markdown",
   "metadata": {},
   "source": [
    "Как должна выглядеть задача:\n",
    "$$\\min c^T x$$\n",
    "$$A x \\leq b $$"
   ]
  },
  {
   "cell_type": "markdown",
   "metadata": {},
   "source": [
    "Получается, что $c=-v$, $A=w^T$, $b=(C)$"
   ]
  },
  {
   "cell_type": "code",
   "execution_count": 2,
   "metadata": {},
   "outputs": [],
   "source": [
    "import numpy as np"
   ]
  },
  {
   "cell_type": "code",
   "execution_count": 3,
   "metadata": {},
   "outputs": [],
   "source": [
    "c = - np.array(values)\n",
    "A = np.array(weights)         #shape = (6,)\n",
    "A = np.expand_dims(A, 0)      #shape = (1,6)\n",
    "b = np.array([C])"
   ]
  },
  {
   "cell_type": "code",
   "execution_count": 4,
   "metadata": {},
   "outputs": [],
   "source": [
    "from scipy.optimize import linprog"
   ]
  },
  {
   "cell_type": "code",
   "execution_count": 5,
   "metadata": {},
   "outputs": [
    {
     "data": {
      "text/plain": [
       "     con: array([], dtype=float64)\n",
       "     fun: -52.50000000003077\n",
       " message: 'Optimization terminated successfully.'\n",
       "     nit: 5\n",
       "   slack: array([-2.2495783e-11])\n",
       "  status: 0\n",
       " success: True\n",
       "       x: array([6.18738529e-14, 1.05853305e-12, 1.21475943e-13, 7.50000000e+00,\n",
       "       4.00246690e-13, 4.71394160e-13])"
      ]
     },
     "execution_count": 5,
     "metadata": {},
     "output_type": "execute_result"
    }
   ],
   "source": [
    "linprog(c=c, A_ub=A, b_ub=b)"
   ]
  },
  {
   "cell_type": "code",
   "execution_count": 6,
   "metadata": {
    "scrolled": true
   },
   "outputs": [
    {
     "name": "stdout",
     "output_type": "stream",
     "text": [
      "Requirement already satisfied: cvxpy in /Users/Ivan/opt/anaconda3/lib/python3.8/site-packages (1.1.12)\n",
      "Requirement already satisfied: osqp>=0.4.1 in /Users/Ivan/opt/anaconda3/lib/python3.8/site-packages (from cvxpy) (0.6.2.post0)\n",
      "Requirement already satisfied: scipy>=1.1.0 in /Users/Ivan/opt/anaconda3/lib/python3.8/site-packages (from cvxpy) (1.5.0)\n",
      "Requirement already satisfied: scs>=1.1.6 in /Users/Ivan/opt/anaconda3/lib/python3.8/site-packages (from cvxpy) (2.1.3)\n",
      "Requirement already satisfied: ecos>=2 in /Users/Ivan/opt/anaconda3/lib/python3.8/site-packages (from cvxpy) (2.0.7.post1)\n",
      "Requirement already satisfied: numpy>=1.15 in /Users/Ivan/opt/anaconda3/lib/python3.8/site-packages (from cvxpy) (1.18.5)\n",
      "Requirement already satisfied: qdldl in /Users/Ivan/opt/anaconda3/lib/python3.8/site-packages (from osqp>=0.4.1->cvxpy) (0.1.5.post0)\n"
     ]
    }
   ],
   "source": [
    "!pip install cvxpy"
   ]
  },
  {
   "cell_type": "code",
   "execution_count": 7,
   "metadata": {},
   "outputs": [
    {
     "name": "stdout",
     "output_type": "stream",
     "text": [
      "Requirement already satisfied: cvxopt in /Users/Ivan/opt/anaconda3/lib/python3.8/site-packages (1.2.6)\r\n"
     ]
    }
   ],
   "source": [
    "!pip install cvxopt"
   ]
  },
  {
   "cell_type": "code",
   "execution_count": 6,
   "metadata": {},
   "outputs": [],
   "source": [
    "import cvxpy"
   ]
  },
  {
   "cell_type": "code",
   "execution_count": 7,
   "metadata": {},
   "outputs": [],
   "source": [
    "x = cvxpy.Variable(shape=n, integer = True)"
   ]
  },
  {
   "cell_type": "code",
   "execution_count": 8,
   "metadata": {},
   "outputs": [],
   "source": [
    "constraint = (A @ x <= b)\n",
    "total_value = c @ x"
   ]
  },
  {
   "cell_type": "code",
   "execution_count": 9,
   "metadata": {},
   "outputs": [],
   "source": [
    "problem = cvxpy.Problem(cvxpy.Minimize(total_value), constraints=[constraint])"
   ]
  },
  {
   "cell_type": "code",
   "execution_count": 10,
   "metadata": {},
   "outputs": [
    {
     "data": {
      "text/plain": [
       "-138412039.00000018"
      ]
     },
     "execution_count": 10,
     "metadata": {},
     "output_type": "execute_result"
    }
   ],
   "source": [
    "problem.solve(solver='ECOS_BB')"
   ]
  },
  {
   "cell_type": "code",
   "execution_count": 11,
   "metadata": {},
   "outputs": [
    {
     "data": {
      "text/plain": [
       "array([ 8388608.00000001, -8388608.00000001, -8388608.00000001,\n",
       "        8388608.00000001,  6990509.00000001,  8388608.00000001])"
      ]
     },
     "execution_count": 11,
     "metadata": {},
     "output_type": "execute_result"
    }
   ],
   "source": [
    "x.value"
   ]
  },
  {
   "cell_type": "markdown",
   "metadata": {},
   "source": [
    "Теперь положительные $x$"
   ]
  },
  {
   "cell_type": "code",
   "execution_count": 12,
   "metadata": {},
   "outputs": [
    {
     "name": "stderr",
     "output_type": "stream",
     "text": [
      "/Users/Ivan/opt/anaconda3/lib/python3.8/site-packages/cvxpy/problems/problem.py:1267: UserWarning: Solution may be inaccurate. Try another solver, adjusting the solver settings, or solve with verbose=True for more information.\n",
      "  warnings.warn(\n"
     ]
    },
    {
     "data": {
      "text/plain": [
       "-49.00000001590603"
      ]
     },
     "execution_count": 12,
     "metadata": {},
     "output_type": "execute_result"
    }
   ],
   "source": [
    "x = cvxpy.Variable(shape=n, integer=True)\n",
    "constraint = (A @ x <= b)\n",
    "x_positive = (x >= 0)\n",
    "total_value = c @ x\n",
    "problem = cvxpy.Problem(cvxpy.Minimize(total_value), constraints=[constraint, x_positive])\n",
    "problem.solve(solver='ECOS_BB')"
   ]
  },
  {
   "cell_type": "code",
   "execution_count": 13,
   "metadata": {},
   "outputs": [
    {
     "data": {
      "text/plain": [
       "array([7.01265807e-10, 7.99333027e-10, 3.58703130e-10, 7.00000000e+00,\n",
       "       4.67143021e-10, 9.34955115e-10])"
      ]
     },
     "execution_count": 13,
     "metadata": {},
     "output_type": "execute_result"
    }
   ],
   "source": [
    "x.value"
   ]
  },
  {
   "cell_type": "markdown",
   "metadata": {},
   "source": [
    "Теперь $x = 0$ или $1$"
   ]
  },
  {
   "cell_type": "code",
   "execution_count": 14,
   "metadata": {},
   "outputs": [
    {
     "data": {
      "text/plain": [
       "-17.00000000382157"
      ]
     },
     "execution_count": 14,
     "metadata": {},
     "output_type": "execute_result"
    }
   ],
   "source": [
    "x = cvxpy.Variable(shape=n, boolean=True)\n",
    "constraint = A @ x <= b\n",
    "x_positive = x >= 0\n",
    "total_value = c @ x\n",
    "problem = cvxpy.Problem(cvxpy.Minimize(total_value), constraints=[constraint, x_positive])\n",
    "problem.solve(solver='ECOS_BB')"
   ]
  },
  {
   "cell_type": "code",
   "execution_count": 15,
   "metadata": {},
   "outputs": [
    {
     "data": {
      "text/plain": [
       "array([1.00000000e+00, 2.25474413e-10, 2.07396078e-10, 1.00000000e+00,\n",
       "       2.24003299e-10, 1.00000000e+00])"
      ]
     },
     "execution_count": 15,
     "metadata": {},
     "output_type": "execute_result"
    }
   ],
   "source": [
    "x.value"
   ]
  },
  {
   "cell_type": "markdown",
   "metadata": {},
   "source": [
    "Составьте оптимальный план перевозок, со Склада № 1 и Склада № 2, в три торговых центра, с учётом тарифов, запасов и потребностей, которые указаны в таблице:"
   ]
  },
  {
   "cell_type": "code",
   "execution_count": 16,
   "metadata": {},
   "outputs": [
    {
     "data": {
      "text/plain": [
       "1900.0000000102357"
      ]
     },
     "execution_count": 16,
     "metadata": {},
     "output_type": "execute_result"
    }
   ],
   "source": [
    "import numpy as np\n",
    "import cvxpy\n",
    "c = np.array([[2, 5, 3], [7, 7, 6]])\n",
    "x = cvxpy.Variable(shape=(2, 3), integer=True)\n",
    "constraint = [cvxpy.sum(x[0]) <= 180, \n",
    "              cvxpy.sum(x[1]) <= 220, \n",
    "              cvxpy.sum(x[:, 0]) == 110, \n",
    "              cvxpy.sum(x[:, 1]) == 150, \n",
    "              cvxpy.sum(x[:, 2]) == 140, \n",
    "              x >= 0]\n",
    "total_value = cvxpy.sum(cvxpy.multiply(c, x))\n",
    "problem = cvxpy.Problem(cvxpy.Minimize(total_value), constraints=constraint)\n",
    "problem.solve(solver='ECOS_BB')"
   ]
  },
  {
   "cell_type": "markdown",
   "metadata": {},
   "source": [
    "Задача о назначениях"
   ]
  },
  {
   "cell_type": "code",
   "execution_count": 17,
   "metadata": {},
   "outputs": [
    {
     "data": {
      "text/plain": [
       "31.999999999961712"
      ]
     },
     "execution_count": 17,
     "metadata": {},
     "output_type": "execute_result"
    }
   ],
   "source": [
    "c = np.array([[1000, 12, 10, 19, 8],\n",
    "              [12, 1000, 3, 7, 2],\n",
    "              [10, 3, 1000, 6, 20],\n",
    "              [19, 7, 6, 1000, 4],\n",
    "              [8, 2, 20, 4, 1000]])\n",
    "x = cvxpy.Variable(shape=(5,5), boolean=True)\n",
    "constraint1 = [cvxpy.sum(x, axis=1) == np.ones(5),\n",
    "               cvxpy.sum(x, axis=0) == np.ones(5)]\n",
    "func = cvxpy.sum(cvxpy.multiply(x, c))\n",
    "problem = cvxpy.Problem(cvxpy.Minimize(func), constraints=constraint1)\n",
    "problem.solve(solver='ECOS_BB')"
   ]
  },
  {
   "cell_type": "code",
   "execution_count": 18,
   "metadata": {},
   "outputs": [],
   "source": [
    "a = np.ones(5)"
   ]
  },
  {
   "cell_type": "code",
   "execution_count": 19,
   "metadata": {},
   "outputs": [
    {
     "data": {
      "text/plain": [
       "array([1., 1., 1., 1., 1.])"
      ]
     },
     "execution_count": 19,
     "metadata": {},
     "output_type": "execute_result"
    }
   ],
   "source": [
    "a"
   ]
  },
  {
   "cell_type": "markdown",
   "metadata": {},
   "source": [
    "Коммивояжер, топология звезда, вернуться в первую точку."
   ]
  },
  {
   "cell_type": "code",
   "execution_count": 25,
   "metadata": {},
   "outputs": [
    {
     "data": {
      "text/plain": [
       "31.99999994152333"
      ]
     },
     "execution_count": 25,
     "metadata": {},
     "output_type": "execute_result"
    }
   ],
   "source": [
    "c = np.array([[0, 12, 10, 19, 8],\n",
    "              [12, 0, 3, 7, 2],\n",
    "              [10, 3, 0, 6, 20],\n",
    "              [19, 7, 6, 0, 4],\n",
    "              [8, 2, 20, 4, 0]])\n",
    "x = cvxpy.Variable(shape=(5,5), boolean=True)\n",
    "u = cvxpy.Variable(shape=5, integer=True)\n",
    "from itertools import product\n",
    "constraints1 = [\n",
    "    cvxpy.sum(x, axis=0) == np.ones(5),\n",
    "    cvxpy.sum(x, axis=1) == np.ones(5),\n",
    "    u >= 0,\n",
    "    u <= 4,\n",
    "    cvxpy.sum(cvxpy.diag(x)) == 0\n",
    "]\n",
    "for i, j in product(range(5), range(5)):\n",
    "    if i >= 0 and j >= 1 and i != j:\n",
    "        constraints1.append(u[i] - u[j] + 5 * x[i,j] <= 4)\n",
    "\n",
    "func = cvxpy.sum(cvxpy.multiply(x, c))\n",
    "problem = cvxpy.Problem(cvxpy.Minimize(func), constraints=constraints1)\n",
    "problem.solve(solver='ECOS_BB')"
   ]
  },
  {
   "cell_type": "code",
   "execution_count": 4,
   "metadata": {},
   "outputs": [
    {
     "data": {
      "text/plain": [
       "LinregressResult(slope=-1.0003628447024673, intercept=93.86865021770683, rvalue=-0.7694801436457975, pvalue=0.043089522157709934, stderr=0.3713232562153024)"
      ]
     },
     "execution_count": 4,
     "metadata": {},
     "output_type": "execute_result"
    }
   ],
   "source": [
    "a = [20, 23, 29, 22, 50, 43, 35] \n",
    "b = [70, 65, 58, 90, 45, 57, 50]\n",
    "from scipy.stats import linregress \n",
    "linregress(a, b)"
   ]
  },
  {
   "cell_type": "code",
   "execution_count": 7,
   "metadata": {},
   "outputs": [
    {
     "data": {
      "text/plain": [
       "0.3138446778421647"
      ]
     },
     "execution_count": 7,
     "metadata": {},
     "output_type": "execute_result"
    }
   ],
   "source": [
    "import pandas as pd \n",
    "a = pd.Series([20, 23, 29, 22, 50, 43, 35, 98, 28]) \n",
    "b = pd.Series([70, 65, 58, 90, 45, 57, 50, 90, 38]) \n",
    "a.corr(b)"
   ]
  },
  {
   "cell_type": "code",
   "execution_count": null,
   "metadata": {},
   "outputs": [],
   "source": []
  }
 ],
 "metadata": {
  "kernelspec": {
   "display_name": "Python 3",
   "language": "python",
   "name": "python3"
  },
  "language_info": {
   "codemirror_mode": {
    "name": "ipython",
    "version": 3
   },
   "file_extension": ".py",
   "mimetype": "text/x-python",
   "name": "python",
   "nbconvert_exporter": "python",
   "pygments_lexer": "ipython3",
   "version": "3.8.3"
  }
 },
 "nbformat": 4,
 "nbformat_minor": 2
}
