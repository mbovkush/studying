{
 "cells": [
  {
   "cell_type": "code",
   "execution_count": 1,
   "metadata": {},
   "outputs": [],
   "source": [
    "import numpy as np\n",
    "import pandas as pd"
   ]
  },
  {
   "cell_type": "code",
   "execution_count": 2,
   "metadata": {},
   "outputs": [
    {
     "data": {
      "text/plain": [
       "array([ 3.10503618e+231, -1.29074495e-231,  1.48219694e-323,\n",
       "        0.00000000e+000,  0.00000000e+000])"
      ]
     },
     "execution_count": 2,
     "metadata": {},
     "output_type": "execute_result"
    }
   ],
   "source": [
    "np.empty(5)"
   ]
  },
  {
   "cell_type": "code",
   "execution_count": 3,
   "metadata": {},
   "outputs": [
    {
     "data": {
      "text/plain": [
       "array([[0., 0., 0., 0., 0., 0., 0.],\n",
       "       [0., 0., 0., 0., 0., 0., 0.],\n",
       "       [0., 0., 0., 0., 0., 0., 0.],\n",
       "       [0., 0., 0., 0., 0., 0., 0.],\n",
       "       [0., 0., 0., 0., 0., 0., 0.],\n",
       "       [0., 0., 0., 0., 0., 0., 0.],\n",
       "       [0., 0., 0., 0., 0., 0., 0.],\n",
       "       [0., 0., 0., 0., 0., 0., 0.],\n",
       "       [0., 0., 0., 0., 0., 0., 0.],\n",
       "       [0., 0., 0., 0., 0., 0., 0.]])"
      ]
     },
     "execution_count": 3,
     "metadata": {},
     "output_type": "execute_result"
    }
   ],
   "source": [
    "np.zeros((10, 7)) "
   ]
  },
  {
   "cell_type": "code",
   "execution_count": 4,
   "metadata": {},
   "outputs": [
    {
     "data": {
      "text/plain": [
       "array([[[1., 1., 1.],\n",
       "        [1., 1., 1.],\n",
       "        [1., 1., 1.]],\n",
       "\n",
       "       [[1., 1., 1.],\n",
       "        [1., 1., 1.],\n",
       "        [1., 1., 1.]],\n",
       "\n",
       "       [[1., 1., 1.],\n",
       "        [1., 1., 1.],\n",
       "        [1., 1., 1.]]])"
      ]
     },
     "execution_count": 4,
     "metadata": {},
     "output_type": "execute_result"
    }
   ],
   "source": [
    "np.ones((3,3,3))"
   ]
  },
  {
   "cell_type": "code",
   "execution_count": 5,
   "metadata": {},
   "outputs": [
    {
     "data": {
      "text/plain": [
       "array([[1., 0., 0.],\n",
       "       [0., 1., 0.],\n",
       "       [0., 0., 1.]])"
      ]
     },
     "execution_count": 5,
     "metadata": {},
     "output_type": "execute_result"
    }
   ],
   "source": [
    "np.eye(3)"
   ]
  },
  {
   "cell_type": "code",
   "execution_count": 6,
   "metadata": {},
   "outputs": [
    {
     "data": {
      "text/plain": [
       "array([[3.14, 3.14, 3.14, 3.14, 3.14],\n",
       "       [3.14, 3.14, 3.14, 3.14, 3.14],\n",
       "       [3.14, 3.14, 3.14, 3.14, 3.14]])"
      ]
     },
     "execution_count": 6,
     "metadata": {},
     "output_type": "execute_result"
    }
   ],
   "source": [
    "np.full((3, 5), 3.14) "
   ]
  },
  {
   "cell_type": "code",
   "execution_count": 7,
   "metadata": {},
   "outputs": [
    {
     "data": {
      "text/plain": [
       "array([ 0,  7, 14])"
      ]
     },
     "execution_count": 7,
     "metadata": {},
     "output_type": "execute_result"
    }
   ],
   "source": [
    "np.arange(0, 21, 7)"
   ]
  },
  {
   "cell_type": "code",
   "execution_count": 8,
   "metadata": {},
   "outputs": [
    {
     "data": {
      "text/plain": [
       "array([0.  , 0.25, 0.5 , 0.75, 1.  ])"
      ]
     },
     "execution_count": 8,
     "metadata": {},
     "output_type": "execute_result"
    }
   ],
   "source": [
    "np.linspace(0, 1, 5)"
   ]
  },
  {
   "cell_type": "code",
   "execution_count": 9,
   "metadata": {},
   "outputs": [
    {
     "data": {
      "text/plain": [
       "array([[1, 3, 4],\n",
       "       [1, 8, 3],\n",
       "       [7, 1, 2]])"
      ]
     },
     "execution_count": 9,
     "metadata": {},
     "output_type": "execute_result"
    }
   ],
   "source": [
    "np.random.randint(0, 10, (3, 3))"
   ]
  },
  {
   "cell_type": "code",
   "execution_count": 10,
   "metadata": {},
   "outputs": [
    {
     "data": {
      "text/plain": [
       "array([[  1. ,  57. ,  71. , 127. , 141. , 197. , 211. , 267. , 281. ],\n",
       "       [  0.5,  28.5,  35.5,  63.5,  70.5,  98.5, 105.5, 133.5, 140.5],\n",
       "       [-99. , -43. , -29. ,  27. ,  41. ,  97. , 111. , 167. , 181. ]])"
      ]
     },
     "execution_count": 10,
     "metadata": {},
     "output_type": "execute_result"
    }
   ],
   "source": [
    "my_secret = [x for x in range(1, 301, 7) if x%10 == 7 or x%10 == 1]\n",
    "np.array([my_secret, [x/2 for x in my_secret], [x-100 for x in my_secret]])"
   ]
  },
  {
   "cell_type": "code",
   "execution_count": 11,
   "metadata": {},
   "outputs": [
    {
     "data": {
      "text/plain": [
       "[1, 57, 71, 127, 141, 197, 211, 267, 281]"
      ]
     },
     "execution_count": 11,
     "metadata": {},
     "output_type": "execute_result"
    }
   ],
   "source": [
    "my_secret"
   ]
  },
  {
   "cell_type": "code",
   "execution_count": 12,
   "metadata": {},
   "outputs": [
    {
     "data": {
      "text/plain": [
       "array([1, 3, 5, 7, 9])"
      ]
     },
     "execution_count": 12,
     "metadata": {},
     "output_type": "execute_result"
    }
   ],
   "source": [
    "np.array([i for i in range(11) if i%2])"
   ]
  },
  {
   "cell_type": "code",
   "execution_count": 13,
   "metadata": {},
   "outputs": [
    {
     "data": {
      "text/plain": [
       "[1,\n",
       " 8,\n",
       " 15,\n",
       " 22,\n",
       " 29,\n",
       " 36,\n",
       " 43,\n",
       " 50,\n",
       " 57,\n",
       " 64,\n",
       " 71,\n",
       " 78,\n",
       " 85,\n",
       " 92,\n",
       " 99,\n",
       " 106,\n",
       " 113,\n",
       " 120,\n",
       " 127,\n",
       " 134,\n",
       " 141,\n",
       " 148,\n",
       " 155,\n",
       " 162,\n",
       " 169,\n",
       " 176,\n",
       " 183,\n",
       " 190,\n",
       " 197,\n",
       " 204,\n",
       " 211,\n",
       " 218,\n",
       " 225,\n",
       " 232,\n",
       " 239,\n",
       " 246,\n",
       " 253,\n",
       " 260,\n",
       " 267,\n",
       " 274,\n",
       " 281,\n",
       " 288,\n",
       " 295]"
      ]
     },
     "execution_count": 13,
     "metadata": {},
     "output_type": "execute_result"
    }
   ],
   "source": [
    "[x for x in range(1, 301, 7)] "
   ]
  },
  {
   "cell_type": "code",
   "execution_count": 53,
   "metadata": {},
   "outputs": [],
   "source": [
    "first_line = [x*y for x in range(2, 100, 6) for y in range (7, 1, -2)]\n",
    "second_line = [x ** 0.5 for x in range(1000, 1101, 2)]\n",
    "third_line = [x**2 for x in range(51)]\n",
    "\n",
    "big_secret = np.array([first_line, second_line, third_line, second_line, first_line])"
   ]
  },
  {
   "cell_type": "code",
   "execution_count": 15,
   "metadata": {},
   "outputs": [
    {
     "data": {
      "text/plain": [
       "array([[1.40000000e+01, 1.00000000e+01, 6.00000000e+00, 5.60000000e+01,\n",
       "        4.00000000e+01, 2.40000000e+01, 9.80000000e+01, 7.00000000e+01,\n",
       "        4.20000000e+01, 1.40000000e+02, 1.00000000e+02, 6.00000000e+01,\n",
       "        1.82000000e+02, 1.30000000e+02, 7.80000000e+01, 2.24000000e+02,\n",
       "        1.60000000e+02, 9.60000000e+01, 2.66000000e+02, 1.90000000e+02,\n",
       "        1.14000000e+02, 3.08000000e+02, 2.20000000e+02, 1.32000000e+02,\n",
       "        3.50000000e+02, 2.50000000e+02, 1.50000000e+02, 3.92000000e+02,\n",
       "        2.80000000e+02, 1.68000000e+02, 4.34000000e+02, 3.10000000e+02,\n",
       "        1.86000000e+02, 4.76000000e+02, 3.40000000e+02, 2.04000000e+02,\n",
       "        5.18000000e+02, 3.70000000e+02, 2.22000000e+02, 5.60000000e+02,\n",
       "        4.00000000e+02, 2.40000000e+02, 6.02000000e+02, 4.30000000e+02,\n",
       "        2.58000000e+02, 6.44000000e+02, 4.60000000e+02, 2.76000000e+02,\n",
       "        6.86000000e+02, 4.90000000e+02, 2.94000000e+02],\n",
       "       [3.16227766e+01, 3.16543836e+01, 3.16859590e+01, 3.17175031e+01,\n",
       "        3.17490157e+01, 3.17804972e+01, 3.18119474e+01, 3.18433667e+01,\n",
       "        3.18747549e+01, 3.19061123e+01, 3.19374388e+01, 3.19687347e+01,\n",
       "        3.20000000e+01, 3.20312348e+01, 3.20624391e+01, 3.20936131e+01,\n",
       "        3.21247568e+01, 3.21558704e+01, 3.21869539e+01, 3.22180074e+01,\n",
       "        3.22490310e+01, 3.22800248e+01, 3.23109888e+01, 3.23419233e+01,\n",
       "        3.23728281e+01, 3.24037035e+01, 3.24345495e+01, 3.24653662e+01,\n",
       "        3.24961536e+01, 3.25269119e+01, 3.25576412e+01, 3.25883415e+01,\n",
       "        3.26190129e+01, 3.26496554e+01, 3.26802693e+01, 3.27108545e+01,\n",
       "        3.27414111e+01, 3.27719392e+01, 3.28024389e+01, 3.28329103e+01,\n",
       "        3.28633535e+01, 3.28937684e+01, 3.29241553e+01, 3.29545141e+01,\n",
       "        3.29848450e+01, 3.30151480e+01, 3.30454233e+01, 3.30756708e+01,\n",
       "        3.31058907e+01, 3.31360831e+01, 3.31662479e+01],\n",
       "       [0.00000000e+00, 1.00000000e+00, 4.00000000e+00, 9.00000000e+00,\n",
       "        1.60000000e+01, 2.50000000e+01, 3.60000000e+01, 4.90000000e+01,\n",
       "        6.40000000e+01, 8.10000000e+01, 1.00000000e+02, 1.21000000e+02,\n",
       "        1.44000000e+02, 1.69000000e+02, 1.96000000e+02, 2.25000000e+02,\n",
       "        2.56000000e+02, 2.89000000e+02, 3.24000000e+02, 3.61000000e+02,\n",
       "        4.00000000e+02, 4.41000000e+02, 4.84000000e+02, 5.29000000e+02,\n",
       "        5.76000000e+02, 6.25000000e+02, 6.76000000e+02, 7.29000000e+02,\n",
       "        7.84000000e+02, 8.41000000e+02, 9.00000000e+02, 9.61000000e+02,\n",
       "        1.02400000e+03, 1.08900000e+03, 1.15600000e+03, 1.22500000e+03,\n",
       "        1.29600000e+03, 1.36900000e+03, 1.44400000e+03, 1.52100000e+03,\n",
       "        1.60000000e+03, 1.68100000e+03, 1.76400000e+03, 1.84900000e+03,\n",
       "        1.93600000e+03, 2.02500000e+03, 2.11600000e+03, 2.20900000e+03,\n",
       "        2.30400000e+03, 2.40100000e+03, 2.50000000e+03],\n",
       "       [3.16227766e+01, 3.16543836e+01, 3.16859590e+01, 3.17175031e+01,\n",
       "        3.17490157e+01, 3.17804972e+01, 3.18119474e+01, 3.18433667e+01,\n",
       "        3.18747549e+01, 3.19061123e+01, 3.19374388e+01, 3.19687347e+01,\n",
       "        3.20000000e+01, 3.20312348e+01, 3.20624391e+01, 3.20936131e+01,\n",
       "        3.21247568e+01, 3.21558704e+01, 3.21869539e+01, 3.22180074e+01,\n",
       "        3.22490310e+01, 3.22800248e+01, 3.23109888e+01, 3.23419233e+01,\n",
       "        3.23728281e+01, 3.24037035e+01, 3.24345495e+01, 3.24653662e+01,\n",
       "        3.24961536e+01, 3.25269119e+01, 3.25576412e+01, 3.25883415e+01,\n",
       "        3.26190129e+01, 3.26496554e+01, 3.26802693e+01, 3.27108545e+01,\n",
       "        3.27414111e+01, 3.27719392e+01, 3.28024389e+01, 3.28329103e+01,\n",
       "        3.28633535e+01, 3.28937684e+01, 3.29241553e+01, 3.29545141e+01,\n",
       "        3.29848450e+01, 3.30151480e+01, 3.30454233e+01, 3.30756708e+01,\n",
       "        3.31058907e+01, 3.31360831e+01, 3.31662479e+01],\n",
       "       [1.40000000e+01, 1.00000000e+01, 6.00000000e+00, 5.60000000e+01,\n",
       "        4.00000000e+01, 2.40000000e+01, 9.80000000e+01, 7.00000000e+01,\n",
       "        4.20000000e+01, 1.40000000e+02, 1.00000000e+02, 6.00000000e+01,\n",
       "        1.82000000e+02, 1.30000000e+02, 7.80000000e+01, 2.24000000e+02,\n",
       "        1.60000000e+02, 9.60000000e+01, 2.66000000e+02, 1.90000000e+02,\n",
       "        1.14000000e+02, 3.08000000e+02, 2.20000000e+02, 1.32000000e+02,\n",
       "        3.50000000e+02, 2.50000000e+02, 1.50000000e+02, 3.92000000e+02,\n",
       "        2.80000000e+02, 1.68000000e+02, 4.34000000e+02, 3.10000000e+02,\n",
       "        1.86000000e+02, 4.76000000e+02, 3.40000000e+02, 2.04000000e+02,\n",
       "        5.18000000e+02, 3.70000000e+02, 2.22000000e+02, 5.60000000e+02,\n",
       "        4.00000000e+02, 2.40000000e+02, 6.02000000e+02, 4.30000000e+02,\n",
       "        2.58000000e+02, 6.44000000e+02, 4.60000000e+02, 2.76000000e+02,\n",
       "        6.86000000e+02, 4.90000000e+02, 2.94000000e+02]])"
      ]
     },
     "execution_count": 15,
     "metadata": {},
     "output_type": "execute_result"
    }
   ],
   "source": [
    "big_secret"
   ]
  },
  {
   "cell_type": "code",
   "execution_count": 16,
   "metadata": {},
   "outputs": [
    {
     "data": {
      "text/plain": [
       "(5, 51)"
      ]
     },
     "execution_count": 16,
     "metadata": {},
     "output_type": "execute_result"
    }
   ],
   "source": [
    "np.shape(big_secret)"
   ]
  },
  {
   "cell_type": "code",
   "execution_count": 20,
   "metadata": {},
   "outputs": [
    {
     "name": "stdout",
     "output_type": "stream",
     "text": [
      "3154.33\n"
     ]
    }
   ],
   "source": [
    "element_sum = 0\n",
    "for x in range(0, 5):\n",
    "    element_sum += big_secret[x][50]\n",
    "print(round(element_sum, 2))"
   ]
  },
  {
   "cell_type": "code",
   "execution_count": 22,
   "metadata": {},
   "outputs": [
    {
     "data": {
      "text/plain": [
       "array([[14.        , 10.        ,  6.        , 56.        , 40.        ],\n",
       "       [31.6227766 , 31.65438358, 31.68595904, 31.71750305, 31.74901573],\n",
       "       [ 0.        ,  1.        ,  4.        ,  9.        , 16.        ],\n",
       "       [31.6227766 , 31.65438358, 31.68595904, 31.71750305, 31.74901573],\n",
       "       [14.        , 10.        ,  6.        , 56.        , 40.        ]])"
      ]
     },
     "execution_count": 22,
     "metadata": {},
     "output_type": "execute_result"
    }
   ],
   "source": [
    "new_secret = np.array([big_secret[0][:5], big_secret[1][:5],  big_secret[2][:5], big_secret[3][:5],  big_secret[4][:5]])\n",
    "new_secret"
   ]
  },
  {
   "cell_type": "code",
   "execution_count": 23,
   "metadata": {},
   "outputs": [
    {
     "data": {
      "text/plain": [
       "array([[14.        , 10.        ,  6.        , 56.        , 40.        ],\n",
       "       [31.6227766 , 31.65438358, 31.68595904, 31.71750305, 31.74901573],\n",
       "       [ 0.        ,  1.        ,  4.        ,  9.        , 16.        ],\n",
       "       [31.6227766 , 31.65438358, 31.68595904, 31.71750305, 31.74901573],\n",
       "       [14.        , 10.        ,  6.        , 56.        , 40.        ]])"
      ]
     },
     "execution_count": 23,
     "metadata": {},
     "output_type": "execute_result"
    }
   ],
   "source": [
    "new_secret1 = big_secret[:, :5]\n",
    "new_secret1"
   ]
  },
  {
   "cell_type": "code",
   "execution_count": 38,
   "metadata": {},
   "outputs": [
    {
     "name": "stdout",
     "output_type": "stream",
     "text": [
      "121.37\n"
     ]
    }
   ],
   "source": [
    "diag_sum = 0\n",
    "y = 0\n",
    "for x in range(0, 5):\n",
    "    diag_sum += new_secret1[x][y]\n",
    "    y += 1\n",
    "print(round(diag_sum, 2))"
   ]
  },
  {
   "cell_type": "code",
   "execution_count": 40,
   "metadata": {},
   "outputs": [
    {
     "data": {
      "text/plain": [
       "array([[ 460.        ,  276.        ,  686.        ,  490.        ,\n",
       "         294.        ],\n",
       "       [  33.04542328,   33.07567082,   33.10589071,   33.13608305,\n",
       "          33.1662479 ],\n",
       "       [2116.        , 2209.        , 2304.        , 2401.        ,\n",
       "        2500.        ],\n",
       "       [  33.04542328,   33.07567082,   33.10589071,   33.13608305,\n",
       "          33.1662479 ],\n",
       "       [ 460.        ,  276.        ,  686.        ,  490.        ,\n",
       "         294.        ]])"
      ]
     },
     "execution_count": 40,
     "metadata": {},
     "output_type": "execute_result"
    }
   ],
   "source": [
    "new_secret2 = big_secret[:, -5:]\n",
    "new_secret2"
   ]
  },
  {
   "cell_type": "code",
   "execution_count": 43,
   "metadata": {},
   "outputs": [
    {
     "name": "stdout",
     "output_type": "stream",
     "text": [
      "341505315559.2347\n"
     ]
    }
   ],
   "source": [
    "diag_mult = 1\n",
    "y = 0\n",
    "for x in range(0, 5):\n",
    "    diag_mult *= new_secret2[x][y]\n",
    "    y += 1\n",
    "print(diag_mult)"
   ]
  },
  {
   "cell_type": "code",
   "execution_count": 44,
   "metadata": {},
   "outputs": [],
   "source": [
    "my_array = np.random.randint(1, 100, (4, 6)) "
   ]
  },
  {
   "cell_type": "code",
   "execution_count": 45,
   "metadata": {},
   "outputs": [
    {
     "data": {
      "text/plain": [
       "array([[27, 87, 30, 24, 11, 73],\n",
       "       [45, 25, 84, 36, 25, 83],\n",
       "       [25, 46, 34, 43, 19, 78],\n",
       "       [62, 10, 51, 97, 25, 77]])"
      ]
     },
     "execution_count": 45,
     "metadata": {},
     "output_type": "execute_result"
    }
   ],
   "source": [
    "my_array"
   ]
  },
  {
   "cell_type": "code",
   "execution_count": 46,
   "metadata": {},
   "outputs": [],
   "source": [
    "my_slice = my_array[1:3, 2:4]"
   ]
  },
  {
   "cell_type": "code",
   "execution_count": 47,
   "metadata": {},
   "outputs": [
    {
     "data": {
      "text/plain": [
       "array([[84, 36],\n",
       "       [34, 43]])"
      ]
     },
     "execution_count": 47,
     "metadata": {},
     "output_type": "execute_result"
    }
   ],
   "source": [
    "my_slice"
   ]
  },
  {
   "cell_type": "code",
   "execution_count": 48,
   "metadata": {},
   "outputs": [],
   "source": [
    "my_slice[:] = 0"
   ]
  },
  {
   "cell_type": "code",
   "execution_count": 49,
   "metadata": {},
   "outputs": [
    {
     "data": {
      "text/plain": [
       "array([[27, 87, 30, 24, 11, 73],\n",
       "       [45, 25,  0,  0, 25, 83],\n",
       "       [25, 46,  0,  0, 19, 78],\n",
       "       [62, 10, 51, 97, 25, 77]])"
      ]
     },
     "execution_count": 49,
     "metadata": {},
     "output_type": "execute_result"
    }
   ],
   "source": [
    "my_array"
   ]
  },
  {
   "cell_type": "code",
   "execution_count": 54,
   "metadata": {},
   "outputs": [
    {
     "data": {
      "text/plain": [
       "array([[-1.00000000e+00,  1.00000000e+01, -1.00000000e+00,\n",
       "         5.60000000e+01, -1.00000000e+00,  2.40000000e+01,\n",
       "        -1.00000000e+00,  7.00000000e+01, -1.00000000e+00,\n",
       "         1.40000000e+02, -1.00000000e+00,  6.00000000e+01,\n",
       "        -1.00000000e+00,  1.30000000e+02, -1.00000000e+00,\n",
       "         2.24000000e+02, -1.00000000e+00,  9.60000000e+01,\n",
       "        -1.00000000e+00,  1.90000000e+02, -1.00000000e+00,\n",
       "         3.08000000e+02, -1.00000000e+00,  1.32000000e+02,\n",
       "        -1.00000000e+00,  2.50000000e+02, -1.00000000e+00,\n",
       "         3.92000000e+02, -1.00000000e+00,  1.68000000e+02,\n",
       "        -1.00000000e+00,  3.10000000e+02, -1.00000000e+00,\n",
       "         4.76000000e+02, -1.00000000e+00,  2.04000000e+02,\n",
       "        -1.00000000e+00,  3.70000000e+02, -1.00000000e+00,\n",
       "         5.60000000e+02, -1.00000000e+00,  2.40000000e+02,\n",
       "        -1.00000000e+00,  4.30000000e+02, -1.00000000e+00,\n",
       "         6.44000000e+02, -1.00000000e+00,  2.76000000e+02,\n",
       "        -1.00000000e+00,  4.90000000e+02, -1.00000000e+00],\n",
       "       [ 3.16227766e+01,  1.00000000e+00,  3.16859590e+01,\n",
       "         1.00000000e+00,  3.17490157e+01,  1.00000000e+00,\n",
       "         3.18119474e+01,  1.00000000e+00,  3.18747549e+01,\n",
       "         1.00000000e+00,  3.19374388e+01,  1.00000000e+00,\n",
       "         3.20000000e+01,  1.00000000e+00,  3.20624391e+01,\n",
       "         1.00000000e+00,  3.21247568e+01,  1.00000000e+00,\n",
       "         3.21869539e+01,  1.00000000e+00,  3.22490310e+01,\n",
       "         1.00000000e+00,  3.23109888e+01,  1.00000000e+00,\n",
       "         3.23728281e+01,  1.00000000e+00,  3.24345495e+01,\n",
       "         1.00000000e+00,  3.24961536e+01,  1.00000000e+00,\n",
       "         3.25576412e+01,  1.00000000e+00,  3.26190129e+01,\n",
       "         1.00000000e+00,  3.26802693e+01,  1.00000000e+00,\n",
       "         3.27414111e+01,  1.00000000e+00,  3.28024389e+01,\n",
       "         1.00000000e+00,  3.28633535e+01,  1.00000000e+00,\n",
       "         3.29241553e+01,  1.00000000e+00,  3.29848450e+01,\n",
       "         1.00000000e+00,  3.30454233e+01,  1.00000000e+00,\n",
       "         3.31058907e+01,  1.00000000e+00,  3.31662479e+01],\n",
       "       [-1.00000000e+00,  1.00000000e+00, -1.00000000e+00,\n",
       "         9.00000000e+00, -1.00000000e+00,  2.50000000e+01,\n",
       "        -1.00000000e+00,  4.90000000e+01, -1.00000000e+00,\n",
       "         8.10000000e+01, -1.00000000e+00,  1.21000000e+02,\n",
       "        -1.00000000e+00,  1.69000000e+02, -1.00000000e+00,\n",
       "         2.25000000e+02, -1.00000000e+00,  2.89000000e+02,\n",
       "        -1.00000000e+00,  3.61000000e+02, -1.00000000e+00,\n",
       "         4.41000000e+02, -1.00000000e+00,  5.29000000e+02,\n",
       "        -1.00000000e+00,  6.25000000e+02, -1.00000000e+00,\n",
       "         7.29000000e+02, -1.00000000e+00,  8.41000000e+02,\n",
       "        -1.00000000e+00,  9.61000000e+02, -1.00000000e+00,\n",
       "         1.08900000e+03, -1.00000000e+00,  1.22500000e+03,\n",
       "        -1.00000000e+00,  1.36900000e+03, -1.00000000e+00,\n",
       "         1.52100000e+03, -1.00000000e+00,  1.68100000e+03,\n",
       "        -1.00000000e+00,  1.84900000e+03, -1.00000000e+00,\n",
       "         2.02500000e+03, -1.00000000e+00,  2.20900000e+03,\n",
       "        -1.00000000e+00,  2.40100000e+03, -1.00000000e+00],\n",
       "       [ 3.16227766e+01,  1.00000000e+00,  3.16859590e+01,\n",
       "         1.00000000e+00,  3.17490157e+01,  1.00000000e+00,\n",
       "         3.18119474e+01,  1.00000000e+00,  3.18747549e+01,\n",
       "         1.00000000e+00,  3.19374388e+01,  1.00000000e+00,\n",
       "         3.20000000e+01,  1.00000000e+00,  3.20624391e+01,\n",
       "         1.00000000e+00,  3.21247568e+01,  1.00000000e+00,\n",
       "         3.21869539e+01,  1.00000000e+00,  3.22490310e+01,\n",
       "         1.00000000e+00,  3.23109888e+01,  1.00000000e+00,\n",
       "         3.23728281e+01,  1.00000000e+00,  3.24345495e+01,\n",
       "         1.00000000e+00,  3.24961536e+01,  1.00000000e+00,\n",
       "         3.25576412e+01,  1.00000000e+00,  3.26190129e+01,\n",
       "         1.00000000e+00,  3.26802693e+01,  1.00000000e+00,\n",
       "         3.27414111e+01,  1.00000000e+00,  3.28024389e+01,\n",
       "         1.00000000e+00,  3.28633535e+01,  1.00000000e+00,\n",
       "         3.29241553e+01,  1.00000000e+00,  3.29848450e+01,\n",
       "         1.00000000e+00,  3.30454233e+01,  1.00000000e+00,\n",
       "         3.31058907e+01,  1.00000000e+00,  3.31662479e+01],\n",
       "       [-1.00000000e+00,  1.00000000e+01, -1.00000000e+00,\n",
       "         5.60000000e+01, -1.00000000e+00,  2.40000000e+01,\n",
       "        -1.00000000e+00,  7.00000000e+01, -1.00000000e+00,\n",
       "         1.40000000e+02, -1.00000000e+00,  6.00000000e+01,\n",
       "        -1.00000000e+00,  1.30000000e+02, -1.00000000e+00,\n",
       "         2.24000000e+02, -1.00000000e+00,  9.60000000e+01,\n",
       "        -1.00000000e+00,  1.90000000e+02, -1.00000000e+00,\n",
       "         3.08000000e+02, -1.00000000e+00,  1.32000000e+02,\n",
       "        -1.00000000e+00,  2.50000000e+02, -1.00000000e+00,\n",
       "         3.92000000e+02, -1.00000000e+00,  1.68000000e+02,\n",
       "        -1.00000000e+00,  3.10000000e+02, -1.00000000e+00,\n",
       "         4.76000000e+02, -1.00000000e+00,  2.04000000e+02,\n",
       "        -1.00000000e+00,  3.70000000e+02, -1.00000000e+00,\n",
       "         5.60000000e+02, -1.00000000e+00,  2.40000000e+02,\n",
       "        -1.00000000e+00,  4.30000000e+02, -1.00000000e+00,\n",
       "         6.44000000e+02, -1.00000000e+00,  2.76000000e+02,\n",
       "        -1.00000000e+00,  4.90000000e+02, -1.00000000e+00]])"
      ]
     },
     "execution_count": 54,
     "metadata": {},
     "output_type": "execute_result"
    }
   ],
   "source": [
    "for x in range(0, 5):\n",
    "    for y in range(0, 51):\n",
    "        if x%2 == 0 and y%2 == 0:\n",
    "            big_secret[x][y] = -1\n",
    "        elif x%2 != 0 and y%2 != 0:\n",
    "            big_secret[x][y] = 1\n",
    "            \n",
    "big_secret"
   ]
  },
  {
   "cell_type": "code",
   "execution_count": 55,
   "metadata": {},
   "outputs": [
    {
     "data": {
      "text/plain": [
       "array([[-1.        , 10.        , -1.        , 56.        , -1.        ],\n",
       "       [31.6227766 ,  1.        , 31.68595904,  1.        , 31.74901573],\n",
       "       [-1.        ,  1.        , -1.        ,  9.        , -1.        ],\n",
       "       [31.6227766 ,  1.        , 31.68595904,  1.        , 31.74901573],\n",
       "       [-1.        , 10.        , -1.        , 56.        , -1.        ]])"
      ]
     },
     "execution_count": 55,
     "metadata": {},
     "output_type": "execute_result"
    }
   ],
   "source": [
    "new_secret3 = big_secret[:, :5]\n",
    "new_secret3"
   ]
  },
  {
   "cell_type": "code",
   "execution_count": 56,
   "metadata": {},
   "outputs": [
    {
     "name": "stdout",
     "output_type": "stream",
     "text": [
      "-1.0\n"
     ]
    }
   ],
   "source": [
    "diag_sum = 0\n",
    "y = 0\n",
    "for x in range(0, 5):\n",
    "    diag_sum += new_secret1[x][y]\n",
    "    y += 1\n",
    "print(diag_sum)"
   ]
  },
  {
   "cell_type": "code",
   "execution_count": 57,
   "metadata": {},
   "outputs": [
    {
     "data": {
      "text/plain": [
       "array([[-1.00000000e+00,  2.76000000e+02, -1.00000000e+00,\n",
       "         4.90000000e+02, -1.00000000e+00],\n",
       "       [ 3.30454233e+01,  1.00000000e+00,  3.31058907e+01,\n",
       "         1.00000000e+00,  3.31662479e+01],\n",
       "       [-1.00000000e+00,  2.20900000e+03, -1.00000000e+00,\n",
       "         2.40100000e+03, -1.00000000e+00],\n",
       "       [ 3.30454233e+01,  1.00000000e+00,  3.31058907e+01,\n",
       "         1.00000000e+00,  3.31662479e+01],\n",
       "       [-1.00000000e+00,  2.76000000e+02, -1.00000000e+00,\n",
       "         4.90000000e+02, -1.00000000e+00]])"
      ]
     },
     "execution_count": 57,
     "metadata": {},
     "output_type": "execute_result"
    }
   ],
   "source": [
    "new_secret4 = big_secret[:, -5:]\n",
    "new_secret4"
   ]
  },
  {
   "cell_type": "code",
   "execution_count": 58,
   "metadata": {},
   "outputs": [
    {
     "name": "stdout",
     "output_type": "stream",
     "text": [
      "-1.0\n"
     ]
    }
   ],
   "source": [
    "diag_mult = 1\n",
    "y = 0\n",
    "for x in range(0, 5):\n",
    "    diag_mult *= new_secret4[x][y]\n",
    "    y += 1\n",
    "print(diag_mult)"
   ]
  },
  {
   "cell_type": "code",
   "execution_count": 59,
   "metadata": {},
   "outputs": [
    {
     "name": "stdout",
     "output_type": "stream",
     "text": [
      "Сумма: [15 21 27]\n",
      "Разность: [9 9 9]\n",
      "Произведение: [ 36  90 162]\n",
      "Частное: [0.25 0.4  0.5 ]\n",
      "Умножение на число: [ 6 12 18]\n"
     ]
    }
   ],
   "source": [
    "a = np.array([3,6,9])\n",
    "b = np.array([12,15,18])\n",
    "\n",
    "result1 = a+b\n",
    "result2 = b-a\n",
    "result3 = a*b\n",
    "result4 = a/b\n",
    "result5 = a*2\n",
    "print('Сумма: {}\\nРазность: {}\\nПроизведение: {}\\nЧастное: {}\\nУмножение на число: {}'.format(result1, result2, result3, result4, result5))"
   ]
  },
  {
   "cell_type": "code",
   "execution_count": 60,
   "metadata": {},
   "outputs": [
    {
     "data": {
      "text/plain": [
       "array([[ 1,  6],\n",
       "       [ 2,  7],\n",
       "       [ 3,  8],\n",
       "       [ 4,  9],\n",
       "       [ 5, 10]])"
      ]
     },
     "execution_count": 60,
     "metadata": {},
     "output_type": "execute_result"
    }
   ],
   "source": [
    "my_array = np.array([[1,2,3,4,5], [6,7,8,9,10]])\n",
    "my_array.T"
   ]
  },
  {
   "cell_type": "code",
   "execution_count": 61,
   "metadata": {},
   "outputs": [
    {
     "data": {
      "text/plain": [
       "array([[2, 1, 3, 2, 8],\n",
       "       [4, 7, 9, 7, 5],\n",
       "       [3, 1, 0, 9, 8],\n",
       "       [3, 9, 0, 7, 6]])"
      ]
     },
     "execution_count": 61,
     "metadata": {},
     "output_type": "execute_result"
    }
   ],
   "source": [
    "my_array = np.random.randint(0, 10, 20)\n",
    "my_array.reshape((4,5))"
   ]
  },
  {
   "cell_type": "code",
   "execution_count": 62,
   "metadata": {},
   "outputs": [],
   "source": [
    "my_array = np.array([[1,2,3], [11,22,33], [111,222,333]])"
   ]
  },
  {
   "cell_type": "code",
   "execution_count": 63,
   "metadata": {},
   "outputs": [
    {
     "data": {
      "text/plain": [
       "array([[  1,   2,   3],\n",
       "       [ 11,  22,  33],\n",
       "       [111, 222, 333]])"
      ]
     },
     "execution_count": 63,
     "metadata": {},
     "output_type": "execute_result"
    }
   ],
   "source": [
    "my_array"
   ]
  },
  {
   "cell_type": "code",
   "execution_count": 64,
   "metadata": {},
   "outputs": [
    {
     "data": {
      "text/plain": [
       "array([  1,   2,   3,  11,  22,  33, 111, 222, 333])"
      ]
     },
     "execution_count": 64,
     "metadata": {},
     "output_type": "execute_result"
    }
   ],
   "source": [
    "my_array.flatten()"
   ]
  },
  {
   "cell_type": "code",
   "execution_count": 65,
   "metadata": {},
   "outputs": [],
   "source": [
    "my_array = np.random.randint(0, 10, (3,4))"
   ]
  },
  {
   "cell_type": "code",
   "execution_count": 66,
   "metadata": {},
   "outputs": [
    {
     "data": {
      "text/plain": [
       "array([[1, 4, 8, 2],\n",
       "       [7, 7, 7, 6],\n",
       "       [9, 4, 9, 9]])"
      ]
     },
     "execution_count": 66,
     "metadata": {},
     "output_type": "execute_result"
    }
   ],
   "source": [
    "my_array"
   ]
  },
  {
   "cell_type": "code",
   "execution_count": 67,
   "metadata": {},
   "outputs": [
    {
     "data": {
      "text/plain": [
       "array([[ True,  True, False,  True],\n",
       "       [False, False, False, False],\n",
       "       [False,  True, False, False]])"
      ]
     },
     "execution_count": 67,
     "metadata": {},
     "output_type": "execute_result"
    }
   ],
   "source": [
    "my_array<5"
   ]
  },
  {
   "cell_type": "code",
   "execution_count": 68,
   "metadata": {},
   "outputs": [
    {
     "data": {
      "text/plain": [
       "array([1, 4, 2, 4])"
      ]
     },
     "execution_count": 68,
     "metadata": {},
     "output_type": "execute_result"
    }
   ],
   "source": [
    "my_array[my_array<5]"
   ]
  },
  {
   "cell_type": "code",
   "execution_count": 69,
   "metadata": {},
   "outputs": [
    {
     "data": {
      "text/plain": [
       "array([[1, 8],\n",
       "       [7, 7],\n",
       "       [9, 9]])"
      ]
     },
     "execution_count": 69,
     "metadata": {},
     "output_type": "execute_result"
    }
   ],
   "source": [
    "mask = np.array([1, 0, 1, 0], dtype=bool)\n",
    "my_array[:, mask]"
   ]
  },
  {
   "cell_type": "code",
   "execution_count": 70,
   "metadata": {},
   "outputs": [],
   "source": [
    "my_array = np.random.randint(0, 10, (4, 6))"
   ]
  },
  {
   "cell_type": "code",
   "execution_count": 71,
   "metadata": {},
   "outputs": [
    {
     "data": {
      "text/plain": [
       "array([[8, 8, 5, 3, 1, 8],\n",
       "       [6, 6, 9, 3, 3, 2],\n",
       "       [6, 6, 4, 7, 6, 6],\n",
       "       [2, 3, 9, 0, 2, 8]])"
      ]
     },
     "execution_count": 71,
     "metadata": {},
     "output_type": "execute_result"
    }
   ],
   "source": [
    "my_array"
   ]
  },
  {
   "cell_type": "code",
   "execution_count": 72,
   "metadata": {},
   "outputs": [
    {
     "data": {
      "text/plain": [
       "array([[1, 3, 5, 8, 8, 8],\n",
       "       [2, 3, 3, 6, 6, 9],\n",
       "       [4, 6, 6, 6, 6, 7],\n",
       "       [0, 2, 2, 3, 8, 9]])"
      ]
     },
     "execution_count": 72,
     "metadata": {},
     "output_type": "execute_result"
    }
   ],
   "source": [
    "np.sort(my_array, axis=1)"
   ]
  },
  {
   "cell_type": "code",
   "execution_count": 73,
   "metadata": {},
   "outputs": [
    {
     "data": {
      "text/plain": [
       "array([[2, 3, 4, 0, 1, 2],\n",
       "       [6, 6, 5, 3, 2, 6],\n",
       "       [6, 6, 9, 3, 3, 8],\n",
       "       [8, 8, 9, 7, 6, 8]])"
      ]
     },
     "execution_count": 73,
     "metadata": {},
     "output_type": "execute_result"
    }
   ],
   "source": [
    "np.sort(my_array, axis=0)"
   ]
  },
  {
   "cell_type": "code",
   "execution_count": 95,
   "metadata": {},
   "outputs": [],
   "source": [
    "first = [x**(1/2) for x in range(100)]\n",
    "second = [x**(1/3) for x in range(100, 200)]\n",
    "third = [x/y for x in range(200,300,2) for y in [3,5]]\n",
    "\n",
    "great_secret = np.array([first, second, third]).T"
   ]
  },
  {
   "cell_type": "code",
   "execution_count": 75,
   "metadata": {},
   "outputs": [
    {
     "data": {
      "text/plain": [
       "(100, 3)"
      ]
     },
     "execution_count": 75,
     "metadata": {},
     "output_type": "execute_result"
    }
   ],
   "source": [
    "np.shape(great_secret)"
   ]
  },
  {
   "cell_type": "code",
   "execution_count": 77,
   "metadata": {},
   "outputs": [],
   "source": [
    "row = great_secret[0, :]"
   ]
  },
  {
   "cell_type": "code",
   "execution_count": 78,
   "metadata": {},
   "outputs": [
    {
     "data": {
      "text/plain": [
       "array([ 0.        ,  4.64158883, 66.66666667])"
      ]
     },
     "execution_count": 78,
     "metadata": {},
     "output_type": "execute_result"
    }
   ],
   "source": [
    "row"
   ]
  },
  {
   "cell_type": "code",
   "execution_count": 79,
   "metadata": {},
   "outputs": [
    {
     "data": {
      "text/plain": [
       "array([ 1.        , -0.07074101, -0.76919177])"
      ]
     },
     "execution_count": 79,
     "metadata": {},
     "output_type": "execute_result"
    }
   ],
   "source": [
    "cos_row = np.cos(row)\n",
    "cos_row"
   ]
  },
  {
   "cell_type": "code",
   "execution_count": 82,
   "metadata": {},
   "outputs": [
    {
     "name": "stdout",
     "output_type": "stream",
     "text": [
      "0.16\n"
     ]
    }
   ],
   "source": [
    "sum = 0\n",
    "for x in range(0, 3):\n",
    "    sum += cos_row[x]\n",
    "print(round(sum, 2))"
   ]
  },
  {
   "cell_type": "code",
   "execution_count": 84,
   "metadata": {},
   "outputs": [],
   "source": [
    "great_secret1 = great_secret[great_secret > 50]"
   ]
  },
  {
   "cell_type": "code",
   "execution_count": 85,
   "metadata": {},
   "outputs": [
    {
     "data": {
      "text/plain": [
       "array([66.66666667, 67.33333333, 68.        , 68.66666667, 69.33333333,\n",
       "       70.        , 70.66666667, 71.33333333, 72.        , 72.66666667,\n",
       "       73.33333333, 74.        , 74.66666667, 75.33333333, 76.        ,\n",
       "       76.66666667, 77.33333333, 78.        , 78.66666667, 79.33333333,\n",
       "       80.        , 80.66666667, 81.33333333, 82.        , 82.66666667,\n",
       "       83.33333333, 84.        , 50.4       , 84.66666667, 50.8       ,\n",
       "       85.33333333, 51.2       , 86.        , 51.6       , 86.66666667,\n",
       "       52.        , 87.33333333, 52.4       , 88.        , 52.8       ,\n",
       "       88.66666667, 53.2       , 89.33333333, 53.6       , 90.        ,\n",
       "       54.        , 90.66666667, 54.4       , 91.33333333, 54.8       ,\n",
       "       92.        , 55.2       , 92.66666667, 55.6       , 93.33333333,\n",
       "       56.        , 94.        , 56.4       , 94.66666667, 56.8       ,\n",
       "       95.33333333, 57.2       , 96.        , 57.6       , 96.66666667,\n",
       "       58.        , 97.33333333, 58.4       , 98.        , 58.8       ,\n",
       "       98.66666667, 59.2       , 99.33333333, 59.6       ])"
      ]
     },
     "execution_count": 85,
     "metadata": {},
     "output_type": "execute_result"
    }
   ],
   "source": [
    "great_secret1"
   ]
  },
  {
   "cell_type": "code",
   "execution_count": 86,
   "metadata": {},
   "outputs": [
    {
     "data": {
      "text/plain": [
       "(74,)"
      ]
     },
     "execution_count": 86,
     "metadata": {},
     "output_type": "execute_result"
    }
   ],
   "source": [
    "np.shape(great_secret1)"
   ]
  },
  {
   "cell_type": "code",
   "execution_count": 87,
   "metadata": {},
   "outputs": [
    {
     "name": "stdout",
     "output_type": "stream",
     "text": [
      "5470.0\n"
     ]
    }
   ],
   "source": [
    "sum1 = 0\n",
    "for x in range(0, len(great_secret1)):\n",
    "    sum1 += great_secret1[x]\n",
    "print(sum1)"
   ]
  },
  {
   "cell_type": "code",
   "execution_count": 93,
   "metadata": {},
   "outputs": [],
   "source": [
    "great_secret = great_secret.flatten()"
   ]
  },
  {
   "cell_type": "code",
   "execution_count": 94,
   "metadata": {},
   "outputs": [
    {
     "data": {
      "text/plain": [
       "7.0710678118654755"
      ]
     },
     "execution_count": 94,
     "metadata": {},
     "output_type": "execute_result"
    }
   ],
   "source": [
    "great_secret[150]"
   ]
  },
  {
   "cell_type": "code",
   "execution_count": 99,
   "metadata": {},
   "outputs": [],
   "source": [
    "great_secret = np.sort(great_secret, axis = 0)"
   ]
  },
  {
   "cell_type": "code",
   "execution_count": 100,
   "metadata": {},
   "outputs": [
    {
     "data": {
      "text/plain": [
       "(100, 3)"
      ]
     },
     "execution_count": 100,
     "metadata": {},
     "output_type": "execute_result"
    }
   ],
   "source": [
    "np.shape(great_secret)"
   ]
  },
  {
   "cell_type": "code",
   "execution_count": 101,
   "metadata": {},
   "outputs": [
    {
     "name": "stdout",
     "output_type": "stream",
     "text": [
      "115.12\n"
     ]
    }
   ],
   "source": [
    "last_row = great_secret[99, :]\n",
    "sum_last = 0\n",
    "for x in range(0, 3):\n",
    "    sum_last += last_row[x]\n",
    "print(round(sum_last, 2))"
   ]
  },
  {
   "cell_type": "code",
   "execution_count": 102,
   "metadata": {},
   "outputs": [],
   "source": [
    "my_array = np.array([[1,2,3,4,5],\n",
    "                     [6,7,8,9,10],\n",
    "                     [11,12,13,14,15],\n",
    "                     [16,17,18,19,20],\n",
    "                     [21,22,23,24,25]])"
   ]
  },
  {
   "cell_type": "code",
   "execution_count": 103,
   "metadata": {},
   "outputs": [
    {
     "data": {
      "text/plain": [
       "array([[ 1,  2,  3,  4,  5],\n",
       "       [ 6,  7,  8,  9, 10],\n",
       "       [11, 12, 13, 14, 15],\n",
       "       [16, 17, 18, 19, 20],\n",
       "       [21, 22, 23, 24, 25]])"
      ]
     },
     "execution_count": 103,
     "metadata": {},
     "output_type": "execute_result"
    }
   ],
   "source": [
    "my_array"
   ]
  },
  {
   "cell_type": "code",
   "execution_count": 105,
   "metadata": {},
   "outputs": [
    {
     "data": {
      "text/plain": [
       "array([[ 7,  8,  9],\n",
       "       [12, 13, 14],\n",
       "       [17, 18, 19]])"
      ]
     },
     "execution_count": 105,
     "metadata": {},
     "output_type": "execute_result"
    }
   ],
   "source": [
    "my_array[1:4, 1:4]"
   ]
  },
  {
   "cell_type": "code",
   "execution_count": 112,
   "metadata": {},
   "outputs": [],
   "source": [
    "students = np.array([[1, 135, 34, 4],\n",
    "                    [2, 160, 43, 5],\n",
    "                    [3, 163, 40, 4.3],\n",
    "                    [4, 147, 44, 5],\n",
    "                    [5, 138, 41, 4.7],\n",
    "                    [6, 149, 54, 3.9],\n",
    "                    [7, 136, 39, 4.2],\n",
    "                    [8, 154, 48, 4.9],\n",
    "                    [9, 137, 35, 3.7],\n",
    "                    [10, 164, 60, 4.6]])"
   ]
  },
  {
   "cell_type": "code",
   "execution_count": 113,
   "metadata": {},
   "outputs": [
    {
     "data": {
      "text/plain": [
       "array([[  1. , 135. ,  34. ,   4. ],\n",
       "       [  2. , 160. ,  43. ,   5. ],\n",
       "       [  3. , 163. ,  40. ,   4.3],\n",
       "       [  4. , 147. ,  44. ,   5. ],\n",
       "       [  5. , 138. ,  41. ,   4.7],\n",
       "       [  6. , 149. ,  54. ,   3.9],\n",
       "       [  7. , 136. ,  39. ,   4.2],\n",
       "       [  8. , 154. ,  48. ,   4.9],\n",
       "       [  9. , 137. ,  35. ,   3.7],\n",
       "       [ 10. , 164. ,  60. ,   4.6]])"
      ]
     },
     "execution_count": 113,
     "metadata": {},
     "output_type": "execute_result"
    }
   ],
   "source": [
    "students"
   ]
  },
  {
   "cell_type": "code",
   "execution_count": 114,
   "metadata": {},
   "outputs": [
    {
     "data": {
      "text/plain": [
       "4.430000000000001"
      ]
     },
     "execution_count": 114,
     "metadata": {},
     "output_type": "execute_result"
    }
   ],
   "source": [
    "mean = np.mean(students[:,-1])\n",
    "mean"
   ]
  },
  {
   "cell_type": "code",
   "execution_count": 115,
   "metadata": {},
   "outputs": [
    {
     "data": {
      "text/plain": [
       "4.449999999999999"
      ]
     },
     "execution_count": 115,
     "metadata": {},
     "output_type": "execute_result"
    }
   ],
   "source": [
    "median = np.median(students[:,-1])\n",
    "median"
   ]
  },
  {
   "cell_type": "code",
   "execution_count": 116,
   "metadata": {},
   "outputs": [
    {
     "data": {
      "text/plain": [
       "4.449999999999999"
      ]
     },
     "execution_count": 116,
     "metadata": {},
     "output_type": "execute_result"
    }
   ],
   "source": [
    "sort = np.sort(students[:,-1])\n",
    "(sort[4]+sort[5])/2"
   ]
  },
  {
   "cell_type": "code",
   "execution_count": 117,
   "metadata": {},
   "outputs": [
    {
     "data": {
      "text/plain": [
       "42.0"
      ]
     },
     "execution_count": 117,
     "metadata": {},
     "output_type": "execute_result"
    }
   ],
   "source": [
    "median_mass = np.median(students[:, 2])\n",
    "median_mass"
   ]
  },
  {
   "cell_type": "code",
   "execution_count": 118,
   "metadata": {},
   "outputs": [
    {
     "name": "stdout",
     "output_type": "stream",
     "text": [
      "1.7999999999999972\n"
     ]
    }
   ],
   "source": [
    "mean_mass = np.mean(students[:, 2])\n",
    "mean_mass\n",
    "print(mean_mass - median_mass)"
   ]
  },
  {
   "cell_type": "code",
   "execution_count": 119,
   "metadata": {},
   "outputs": [
    {
     "data": {
      "text/plain": [
       "43.8"
      ]
     },
     "execution_count": 119,
     "metadata": {},
     "output_type": "execute_result"
    }
   ],
   "source": [
    "mean_mass"
   ]
  },
  {
   "cell_type": "code",
   "execution_count": 120,
   "metadata": {},
   "outputs": [
    {
     "data": {
      "text/plain": [
       "array([[1.        , 0.63270447],\n",
       "       [0.63270447, 1.        ]])"
      ]
     },
     "execution_count": 120,
     "metadata": {},
     "output_type": "execute_result"
    }
   ],
   "source": [
    "corr = np.corrcoef(students[:,1], students[:,2])\n",
    "corr"
   ]
  },
  {
   "cell_type": "code",
   "execution_count": 121,
   "metadata": {},
   "outputs": [
    {
     "data": {
      "text/plain": [
       "array([[1.       , 0.4657055],\n",
       "       [0.4657055, 1.       ]])"
      ]
     },
     "execution_count": 121,
     "metadata": {},
     "output_type": "execute_result"
    }
   ],
   "source": [
    "corr1 = np.corrcoef(students[:, 1], students[:, 3])\n",
    "corr1"
   ]
  },
  {
   "cell_type": "code",
   "execution_count": 122,
   "metadata": {},
   "outputs": [
    {
     "data": {
      "text/plain": [
       "array([[1.        , 0.29801325],\n",
       "       [0.29801325, 1.        ]])"
      ]
     },
     "execution_count": 122,
     "metadata": {},
     "output_type": "execute_result"
    }
   ],
   "source": [
    "corr2 = np.corrcoef(students[:, 2], students[:, 3])\n",
    "corr2"
   ]
  },
  {
   "cell_type": "code",
   "execution_count": 123,
   "metadata": {},
   "outputs": [
    {
     "data": {
      "text/plain": [
       "10.93663568013491"
      ]
     },
     "execution_count": 123,
     "metadata": {},
     "output_type": "execute_result"
    }
   ],
   "source": [
    "std = np.std(students[:,1])\n",
    "std"
   ]
  },
  {
   "cell_type": "code",
   "execution_count": 124,
   "metadata": {},
   "outputs": [
    {
     "data": {
      "text/plain": [
       "0.4517742799230607"
      ]
     },
     "execution_count": 124,
     "metadata": {},
     "output_type": "execute_result"
    }
   ],
   "source": [
    "std_score = np.std(students[:,3])\n",
    "std_score"
   ]
  },
  {
   "cell_type": "code",
   "execution_count": 125,
   "metadata": {},
   "outputs": [
    {
     "data": {
      "text/plain": [
       "60.36"
      ]
     },
     "execution_count": 125,
     "metadata": {},
     "output_type": "execute_result"
    }
   ],
   "source": [
    "std_weight = np.std(students[:,2])\n",
    "std_weight**2"
   ]
  },
  {
   "cell_type": "code",
   "execution_count": 126,
   "metadata": {},
   "outputs": [
    {
     "data": {
      "text/plain": [
       "array([[ 0.84147098,  0.90929743,  0.14112001, -0.7568025 , -0.95892427],\n",
       "       [-0.2794155 ,  0.6569866 ,  0.98935825,  0.41211849, -0.54402111],\n",
       "       [-0.99999021, -0.53657292,  0.42016704,  0.99060736,  0.65028784],\n",
       "       [-0.28790332, -0.96139749, -0.75098725,  0.14987721,  0.91294525],\n",
       "       [ 0.83665564, -0.00885131, -0.8462204 , -0.90557836, -0.13235175]])"
      ]
     },
     "execution_count": 126,
     "metadata": {},
     "output_type": "execute_result"
    }
   ],
   "source": [
    "my_array = np.array([[1,2,3,4,5],\n",
    "                     [6,7,8,9,10],\n",
    "                     [11,12,13,14,15],\n",
    "                     [16,17,18,19,20],\n",
    "                     [21,22,23,24,25]])\n",
    "my_sin = np.sin(my_array)\n",
    "my_sin"
   ]
  },
  {
   "cell_type": "code",
   "execution_count": 133,
   "metadata": {
    "scrolled": true
   },
   "outputs": [
    {
     "name": "stdout",
     "output_type": "stream",
     "text": [
      "7.572\n"
     ]
    }
   ],
   "source": [
    "sum_sin = 0\n",
    "for x in range(0, 5):\n",
    "    for y in range(0, 5):\n",
    "        sum_sin += my_sin[x, y]\n",
    "print(round(sum_sin, 3))"
   ]
  },
  {
   "cell_type": "code",
   "execution_count": 128,
   "metadata": {},
   "outputs": [
    {
     "data": {
      "text/plain": [
       "(5, 5)"
      ]
     },
     "execution_count": 128,
     "metadata": {},
     "output_type": "execute_result"
    }
   ],
   "source": [
    "np.shape(my_sin)"
   ]
  },
  {
   "cell_type": "code",
   "execution_count": 130,
   "metadata": {},
   "outputs": [],
   "source": [
    "my_sin[1:4, 1:4] = 1"
   ]
  },
  {
   "cell_type": "code",
   "execution_count": 132,
   "metadata": {},
   "outputs": [
    {
     "data": {
      "text/plain": [
       "array([[ 0.84147098,  0.90929743,  0.14112001, -0.7568025 , -0.95892427],\n",
       "       [-0.2794155 ,  1.        ,  1.        ,  1.        , -0.54402111],\n",
       "       [-0.99999021,  1.        ,  1.        ,  1.        ,  0.65028784],\n",
       "       [-0.28790332,  1.        ,  1.        ,  1.        ,  0.91294525],\n",
       "       [ 0.83665564, -0.00885131, -0.8462204 , -0.90557836, -0.13235175]])"
      ]
     },
     "execution_count": 132,
     "metadata": {},
     "output_type": "execute_result"
    }
   ],
   "source": [
    "my_sin"
   ]
  },
  {
   "cell_type": "code",
   "execution_count": 134,
   "metadata": {},
   "outputs": [
    {
     "data": {
      "text/plain": [
       "array([[ 0.84147098,  0.90929743,  0.14112001, -0.7568025 ],\n",
       "       [-0.2794155 ,  1.        ,  1.        ,  1.        ],\n",
       "       [-0.99999021,  1.        ,  1.        ,  1.        ],\n",
       "       [-0.28790332,  1.        ,  1.        ,  1.        ],\n",
       "       [ 0.83665564, -0.00885131, -0.8462204 , -0.90557836]])"
      ]
     },
     "execution_count": 134,
     "metadata": {},
     "output_type": "execute_result"
    }
   ],
   "source": [
    "my_sin_new = my_sin[:, :4]\n",
    "my_sin_new"
   ]
  },
  {
   "cell_type": "code",
   "execution_count": 135,
   "metadata": {},
   "outputs": [
    {
     "data": {
      "text/plain": [
       "array([[ 0.84147098,  0.90929743,  0.14112001, -0.7568025 , -0.95892427],\n",
       "       [-0.2794155 ,  1.        ,  1.        ,  1.        , -0.54402111],\n",
       "       [-0.99999021,  1.        ,  1.        ,  1.        ,  0.65028784],\n",
       "       [-0.28790332,  1.        ,  1.        ,  1.        ,  0.91294525],\n",
       "       [ 0.83665564, -0.00885131, -0.8462204 , -0.90557836, -0.13235175]])"
      ]
     },
     "execution_count": 135,
     "metadata": {},
     "output_type": "execute_result"
    }
   ],
   "source": [
    "my_sin"
   ]
  },
  {
   "cell_type": "code",
   "execution_count": 138,
   "metadata": {},
   "outputs": [],
   "source": [
    "my_sin_new = my_sin_new.reshape((10, 2))"
   ]
  },
  {
   "cell_type": "code",
   "execution_count": 139,
   "metadata": {},
   "outputs": [
    {
     "data": {
      "text/plain": [
       "array([[ 0.84147098,  0.90929743],\n",
       "       [ 0.14112001, -0.7568025 ],\n",
       "       [-0.2794155 ,  1.        ],\n",
       "       [ 1.        ,  1.        ],\n",
       "       [-0.99999021,  1.        ],\n",
       "       [ 1.        ,  1.        ],\n",
       "       [-0.28790332,  1.        ],\n",
       "       [ 1.        ,  1.        ],\n",
       "       [ 0.83665564, -0.00885131],\n",
       "       [-0.8462204 , -0.90557836]])"
      ]
     },
     "execution_count": 139,
     "metadata": {},
     "output_type": "execute_result"
    }
   ],
   "source": [
    "my_sin_new"
   ]
  },
  {
   "cell_type": "raw",
   "metadata": {},
   "source": [
    "sum_row = 0\n",
    "for x in range(0, 10):\n",
    "    sum_row += my_sin_new[x, 0]\n",
    "print(round(sum_row, 3))"
   ]
  },
  {
   "cell_type": "code",
   "execution_count": 145,
   "metadata": {},
   "outputs": [
    {
     "name": "stdout",
     "output_type": "stream",
     "text": [
      "2.406\n"
     ]
    }
   ],
   "source": [
    "sum_row = 0\n",
    "for x in range(0, 10):\n",
    "    sum_row += my_sin_new[x, 0]\n",
    "print(round(sum_row, 3))"
   ]
  },
  {
   "cell_type": "code",
   "execution_count": 147,
   "metadata": {},
   "outputs": [
    {
     "data": {
      "text/plain": [
       "array([ 10201,  10609,  11025,  11449,  11881,  12321,  12769,  13225,\n",
       "        13689,  14161,  14641,  15129,  15625,  16129,  16641,  17161,\n",
       "        17689,  18225,  18769,  19321,  19881,  20449,  21025,  21609,\n",
       "        22201,  22801,  23409,  24025,  24649,  25281,  25921,  26569,\n",
       "        27225,  27889,  28561,  29241,  29929,  30625,  31329,  32041,\n",
       "        32761,  33489,  34225,  34969,  35721,  36481,  37249,  38025,\n",
       "        38809,  39601,  40401,  41209,  42025,  42849,  43681,  44521,\n",
       "        45369,  46225,  47089,  47961,  48841,  49729,  50625,  51529,\n",
       "        52441,  53361,  54289,  55225,  56169,  57121,  58081,  59049,\n",
       "        60025,  61009,  62001,  63001,  64009,  65025,  66049,  67081,\n",
       "        68121,  69169,  70225,  71289,  72361,  73441,  74529,  75625,\n",
       "        76729,  77841,  78961,  80089,  81225,  82369,  83521,  84681,\n",
       "        85849,  87025,  88209,  89401,  90601,  91809,  93025,  94249,\n",
       "        95481,  96721,  97969,  99225, 100489, 101761, 103041, 104329,\n",
       "       105625, 106929, 108241, 109561, 110889, 112225, 113569, 114921,\n",
       "       116281, 117649, 119025, 120409, 121801, 123201, 124609, 126025,\n",
       "       127449, 128881, 130321, 131769, 133225, 134689, 136161, 137641,\n",
       "       139129, 140625, 142129, 143641, 145161, 146689, 148225, 149769,\n",
       "       151321, 152881, 154449, 156025, 157609, 159201, 160801, 162409,\n",
       "       164025, 165649, 167281, 168921, 170569, 172225, 173889, 175561,\n",
       "       177241, 178929, 180625, 182329, 184041, 185761, 187489, 189225,\n",
       "       190969, 192721, 194481, 196249, 198025, 199809, 201601, 203401,\n",
       "       205209, 207025, 208849, 210681, 212521, 214369, 216225, 218089,\n",
       "       219961, 221841, 223729, 225625, 227529, 229441, 231361, 233289,\n",
       "       235225, 237169, 239121, 241081, 243049, 245025, 247009, 249001,\n",
       "       251001, 253009, 255025, 257049, 259081, 261121, 263169, 265225,\n",
       "       267289, 269361, 271441, 273529, 275625, 277729, 279841, 281961,\n",
       "       284089, 286225, 288369, 290521, 292681, 294849, 297025, 299209,\n",
       "       301401, 303601, 305809, 308025, 310249, 312481, 314721, 316969,\n",
       "       319225, 321489, 323761, 326041, 328329, 330625, 332929, 335241,\n",
       "       337561, 339889, 342225, 344569, 346921, 349281, 351649, 354025,\n",
       "       356409, 358801, 361201, 363609, 366025, 368449, 370881, 373321,\n",
       "       375769, 378225, 380689, 383161, 385641, 388129, 390625, 393129,\n",
       "       395641, 398161, 400689, 403225, 405769, 408321, 410881, 413449,\n",
       "       416025, 418609, 421201, 423801, 426409, 429025, 431649, 434281,\n",
       "       436921, 439569, 442225, 444889, 447561, 450241, 452929, 455625,\n",
       "       458329, 461041, 463761, 466489, 469225, 471969, 474721, 477481,\n",
       "       480249, 483025, 485809, 488601, 491401, 494209, 497025, 499849,\n",
       "       502681, 505521, 508369, 511225, 514089, 516961, 519841, 522729,\n",
       "       525625, 528529, 531441, 534361, 537289, 540225, 543169, 546121,\n",
       "       549081, 552049, 555025, 558009, 561001, 564001, 567009, 570025,\n",
       "       573049, 576081, 579121, 582169, 585225, 588289, 591361, 594441,\n",
       "       597529, 600625, 603729, 606841, 609961, 613089, 616225, 619369,\n",
       "       622521, 625681, 628849, 632025, 635209, 638401, 641601, 644809,\n",
       "       648025, 651249, 654481, 657721, 660969, 664225, 667489, 670761,\n",
       "       674041, 677329, 680625, 683929, 687241, 690561, 693889, 697225,\n",
       "       700569, 703921, 707281, 710649, 714025, 717409, 720801, 724201,\n",
       "       727609, 731025, 734449, 737881, 741321, 744769, 748225, 751689,\n",
       "       755161, 758641, 762129, 765625, 769129, 772641, 776161, 779689,\n",
       "       783225, 786769, 790321, 793881, 797449, 801025, 804609, 808201,\n",
       "       811801, 815409, 819025, 822649, 826281, 829921, 833569, 837225,\n",
       "       840889, 844561, 848241, 851929, 855625, 859329, 863041, 866761,\n",
       "       870489, 874225, 877969, 881721, 885481, 889249, 893025, 896809,\n",
       "       900601, 904401, 908209, 912025, 915849, 919681, 923521, 927369,\n",
       "       931225, 935089, 938961, 942841, 946729, 950625, 954529, 958441,\n",
       "       962361, 966289, 970225, 974169, 978121, 982081, 986049, 990025,\n",
       "       994009, 998001])"
      ]
     },
     "execution_count": 147,
     "metadata": {},
     "output_type": "execute_result"
    }
   ],
   "source": [
    "bigdata = np.array([x**2 for x in range(100, 1001) if x%2 != 0])\n",
    "bigdata"
   ]
  },
  {
   "cell_type": "code",
   "execution_count": 148,
   "metadata": {},
   "outputs": [],
   "source": [
    "bigdata_med = np.median(bigdata)"
   ]
  },
  {
   "cell_type": "code",
   "execution_count": 149,
   "metadata": {},
   "outputs": [
    {
     "data": {
      "text/plain": [
       "302501.0"
      ]
     },
     "execution_count": 149,
     "metadata": {},
     "output_type": "execute_result"
    }
   ],
   "source": [
    "bigdata_med"
   ]
  },
  {
   "cell_type": "code",
   "execution_count": 150,
   "metadata": {},
   "outputs": [
    {
     "name": "stdout",
     "output_type": "stream",
     "text": [
      "292095.0\n"
     ]
    }
   ],
   "source": [
    "bigdata_std = np.std(bigdata)\n",
    "print(round(bigdata_std))"
   ]
  },
  {
   "cell_type": "code",
   "execution_count": 154,
   "metadata": {},
   "outputs": [
    {
     "data": {
      "text/plain": [
       "array([[1.        , 0.99999973],\n",
       "       [0.99999973, 1.        ]])"
      ]
     },
     "execution_count": 154,
     "metadata": {},
     "output_type": "execute_result"
    }
   ],
   "source": [
    "bigdata_corr = np.corrcoef(bigdata[0:450:2], bigdata[1:451:2])\n",
    "bigdata_corr"
   ]
  },
  {
   "cell_type": "code",
   "execution_count": null,
   "metadata": {},
   "outputs": [],
   "source": []
  }
 ],
 "metadata": {
  "kernelspec": {
   "display_name": "Python 3",
   "language": "python",
   "name": "python3"
  },
  "language_info": {
   "codemirror_mode": {
    "name": "ipython",
    "version": 3
   },
   "file_extension": ".py",
   "mimetype": "text/x-python",
   "name": "python",
   "nbconvert_exporter": "python",
   "pygments_lexer": "ipython3",
   "version": "3.8.3"
  }
 },
 "nbformat": 4,
 "nbformat_minor": 4
}
